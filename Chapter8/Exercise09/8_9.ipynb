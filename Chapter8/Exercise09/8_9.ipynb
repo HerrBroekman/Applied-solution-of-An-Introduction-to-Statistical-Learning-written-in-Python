{
 "cells": [
  {
   "cell_type": "markdown",
   "metadata": {},
   "source": [
    "<blockquote>\n",
    "    <h1>Exercise 8.9</h1>\n",
    "    <p>This problem involves the <code>OJ</code> data set which is part of the <code>ISLR</code> package.</p>\n",
    "    <ol>\n",
    "        <li>Create a training set containing a random sample of 800 observations, and a test set containing the remaining observations.</li>\n",
    "        <li>Fit a tree to the training data, with $\\mathrm{Purchase}$ as the response and the other variables as predictors. Use the <code>summary()</code> function to produce summary statistics about the tree, and describe the results obtained. What is the training error rate? How many terminal nodes does the tree have?</li>\n",
    "        <li>Type in the name of the tree object in order to get a detailed text output. Pick one of the terminal nodes, and interpret the information displayed.</li>\n",
    "        <li>Create a plot of the tree, and interpret the results.</li>\n",
    "        <li>Predict the response on the test data, and produce a confusion matrix comparing the test labels to the predicted test labels. What is the test error rate?</li>\n",
    "        <li>Apply the <code>cv.tree()</code> function to the training set in order to determine the optimal tree size.</li>\n",
    "        <li>Produce a plot with tree size on the $x$-axis and cross-validated classification error rate on the $y$-axis.</li>\n",
    "        <li>Which tree size corresponds to the lowest cross-validated classification error rate?</li>\n",
    "        <li>Produce a pruned tree corresponding to the optimal tree size obtained using cross-validation. If cross-validation does not lead to selection of a pruned tree, then create a pruned tree with five terminal nodes.</li>\n",
    "        <li>Compare the training error rates between the pruned and unpruned trees. Which is higher?</li>\n",
    "        <li>Compare the test error rates between the pruned and unpruned trees. Which is higher?</li>\n",
    "    </ol>\n",
    "</blockquote>"
   ]
  },
  {
   "cell_type": "code",
   "execution_count": 1,
   "metadata": {
    "ExecuteTime": {
     "end_time": "2020-02-29T19:35:18.663016Z",
     "start_time": "2020-02-29T19:35:18.156458Z"
    }
   },
   "outputs": [],
   "source": [
    "import numpy as np\n",
    "import pandas as pd\n",
    "import matplotlib.pyplot as plt\n",
    "\n",
    "# https://stackoverflow.com/questions/34398054/ipython-notebook-cell-multiple-outputs\n",
    "from IPython.core.interactiveshell import InteractiveShell\n",
    "InteractiveShell.ast_node_interactivity = \"all\"\n",
    "\n",
    "from ipywidgets import interactive  # https://towardsdatascience.com/interactive-visualization-of-decision-trees-with-jupyter-widgets-ca15dd312084\n",
    "from IPython.display import display\n",
    "from IPython.display import SVG\n",
    "from graphviz import Source\n",
    "from sklearn.preprocessing import OneHotEncoder  # https://medium.com/@contactsunny/label-encoder-vs-one-hot-encoder-in-machine-learning-3fc273365621\n",
    "from sklearn.model_selection import train_test_split, GridSearchCV\n",
    "from sklearn.tree import DecisionTreeClassifier, export_graphviz\n",
    "from sklearn.metrics import classification_report, confusion_matrix"
   ]
  },
  {
   "cell_type": "code",
   "execution_count": 2,
   "metadata": {
    "ExecuteTime": {
     "end_time": "2020-02-29T19:35:18.680363Z",
     "start_time": "2020-02-29T19:35:18.664417Z"
    }
   },
   "outputs": [
    {
     "data": {
      "text/html": [
       "<div>\n",
       "<style scoped>\n",
       "    .dataframe tbody tr th:only-of-type {\n",
       "        vertical-align: middle;\n",
       "    }\n",
       "\n",
       "    .dataframe tbody tr th {\n",
       "        vertical-align: top;\n",
       "    }\n",
       "\n",
       "    .dataframe thead th {\n",
       "        text-align: right;\n",
       "    }\n",
       "</style>\n",
       "<table border=\"1\" class=\"dataframe\">\n",
       "  <thead>\n",
       "    <tr style=\"text-align: right;\">\n",
       "      <th></th>\n",
       "      <th>Purchase</th>\n",
       "      <th>WeekofPurchase</th>\n",
       "      <th>StoreID</th>\n",
       "      <th>PriceCH</th>\n",
       "      <th>PriceMM</th>\n",
       "      <th>DiscCH</th>\n",
       "      <th>DiscMM</th>\n",
       "      <th>SpecialCH</th>\n",
       "      <th>SpecialMM</th>\n",
       "      <th>LoyalCH</th>\n",
       "      <th>SalePriceMM</th>\n",
       "      <th>SalePriceCH</th>\n",
       "      <th>PriceDiff</th>\n",
       "      <th>Store7</th>\n",
       "      <th>PctDiscMM</th>\n",
       "      <th>PctDiscCH</th>\n",
       "      <th>ListPriceDiff</th>\n",
       "      <th>STORE</th>\n",
       "    </tr>\n",
       "  </thead>\n",
       "  <tbody>\n",
       "    <tr>\n",
       "      <th>0</th>\n",
       "      <td>CH</td>\n",
       "      <td>237</td>\n",
       "      <td>1</td>\n",
       "      <td>1.75</td>\n",
       "      <td>1.99</td>\n",
       "      <td>0.00</td>\n",
       "      <td>0.0</td>\n",
       "      <td>0</td>\n",
       "      <td>0</td>\n",
       "      <td>0.500000</td>\n",
       "      <td>1.99</td>\n",
       "      <td>1.75</td>\n",
       "      <td>0.24</td>\n",
       "      <td>No</td>\n",
       "      <td>0.000000</td>\n",
       "      <td>0.000000</td>\n",
       "      <td>0.24</td>\n",
       "      <td>1</td>\n",
       "    </tr>\n",
       "    <tr>\n",
       "      <th>1</th>\n",
       "      <td>CH</td>\n",
       "      <td>239</td>\n",
       "      <td>1</td>\n",
       "      <td>1.75</td>\n",
       "      <td>1.99</td>\n",
       "      <td>0.00</td>\n",
       "      <td>0.3</td>\n",
       "      <td>0</td>\n",
       "      <td>1</td>\n",
       "      <td>0.600000</td>\n",
       "      <td>1.69</td>\n",
       "      <td>1.75</td>\n",
       "      <td>-0.06</td>\n",
       "      <td>No</td>\n",
       "      <td>0.150754</td>\n",
       "      <td>0.000000</td>\n",
       "      <td>0.24</td>\n",
       "      <td>1</td>\n",
       "    </tr>\n",
       "    <tr>\n",
       "      <th>2</th>\n",
       "      <td>CH</td>\n",
       "      <td>245</td>\n",
       "      <td>1</td>\n",
       "      <td>1.86</td>\n",
       "      <td>2.09</td>\n",
       "      <td>0.17</td>\n",
       "      <td>0.0</td>\n",
       "      <td>0</td>\n",
       "      <td>0</td>\n",
       "      <td>0.680000</td>\n",
       "      <td>2.09</td>\n",
       "      <td>1.69</td>\n",
       "      <td>0.40</td>\n",
       "      <td>No</td>\n",
       "      <td>0.000000</td>\n",
       "      <td>0.091398</td>\n",
       "      <td>0.23</td>\n",
       "      <td>1</td>\n",
       "    </tr>\n",
       "    <tr>\n",
       "      <th>3</th>\n",
       "      <td>MM</td>\n",
       "      <td>227</td>\n",
       "      <td>1</td>\n",
       "      <td>1.69</td>\n",
       "      <td>1.69</td>\n",
       "      <td>0.00</td>\n",
       "      <td>0.0</td>\n",
       "      <td>0</td>\n",
       "      <td>0</td>\n",
       "      <td>0.400000</td>\n",
       "      <td>1.69</td>\n",
       "      <td>1.69</td>\n",
       "      <td>0.00</td>\n",
       "      <td>No</td>\n",
       "      <td>0.000000</td>\n",
       "      <td>0.000000</td>\n",
       "      <td>0.00</td>\n",
       "      <td>1</td>\n",
       "    </tr>\n",
       "    <tr>\n",
       "      <th>4</th>\n",
       "      <td>CH</td>\n",
       "      <td>228</td>\n",
       "      <td>7</td>\n",
       "      <td>1.69</td>\n",
       "      <td>1.69</td>\n",
       "      <td>0.00</td>\n",
       "      <td>0.0</td>\n",
       "      <td>0</td>\n",
       "      <td>0</td>\n",
       "      <td>0.956535</td>\n",
       "      <td>1.69</td>\n",
       "      <td>1.69</td>\n",
       "      <td>0.00</td>\n",
       "      <td>Yes</td>\n",
       "      <td>0.000000</td>\n",
       "      <td>0.000000</td>\n",
       "      <td>0.00</td>\n",
       "      <td>0</td>\n",
       "    </tr>\n",
       "  </tbody>\n",
       "</table>\n",
       "</div>"
      ],
      "text/plain": [
       "  Purchase  WeekofPurchase  StoreID  PriceCH  PriceMM  DiscCH  DiscMM  \\\n",
       "0       CH             237        1     1.75     1.99    0.00     0.0   \n",
       "1       CH             239        1     1.75     1.99    0.00     0.3   \n",
       "2       CH             245        1     1.86     2.09    0.17     0.0   \n",
       "3       MM             227        1     1.69     1.69    0.00     0.0   \n",
       "4       CH             228        7     1.69     1.69    0.00     0.0   \n",
       "\n",
       "   SpecialCH  SpecialMM   LoyalCH  SalePriceMM  SalePriceCH  PriceDiff Store7  \\\n",
       "0          0          0  0.500000         1.99         1.75       0.24     No   \n",
       "1          0          1  0.600000         1.69         1.75      -0.06     No   \n",
       "2          0          0  0.680000         2.09         1.69       0.40     No   \n",
       "3          0          0  0.400000         1.69         1.69       0.00     No   \n",
       "4          0          0  0.956535         1.69         1.69       0.00    Yes   \n",
       "\n",
       "   PctDiscMM  PctDiscCH  ListPriceDiff  STORE  \n",
       "0   0.000000   0.000000           0.24      1  \n",
       "1   0.150754   0.000000           0.24      1  \n",
       "2   0.000000   0.091398           0.23      1  \n",
       "3   0.000000   0.000000           0.00      1  \n",
       "4   0.000000   0.000000           0.00      0  "
      ]
     },
     "execution_count": 2,
     "metadata": {},
     "output_type": "execute_result"
    }
   ],
   "source": [
    "df = pd.read_csv(\"../../DataSets/OJ/OJ.csv\")\n",
    "df.head()"
   ]
  },
  {
   "cell_type": "code",
   "execution_count": 3,
   "metadata": {
    "ExecuteTime": {
     "end_time": "2020-02-29T19:35:18.799925Z",
     "start_time": "2020-02-29T19:35:18.682014Z"
    }
   },
   "outputs": [
    {
     "data": {
      "text/html": [
       "<div>\n",
       "<style scoped>\n",
       "    .dataframe tbody tr th:only-of-type {\n",
       "        vertical-align: middle;\n",
       "    }\n",
       "\n",
       "    .dataframe tbody tr th {\n",
       "        vertical-align: top;\n",
       "    }\n",
       "\n",
       "    .dataframe thead th {\n",
       "        text-align: right;\n",
       "    }\n",
       "</style>\n",
       "<table border=\"1\" class=\"dataframe\">\n",
       "  <thead>\n",
       "    <tr style=\"text-align: right;\">\n",
       "      <th></th>\n",
       "      <th>Purchase</th>\n",
       "      <th>WeekofPurchase</th>\n",
       "      <th>PriceCH</th>\n",
       "      <th>PriceMM</th>\n",
       "      <th>DiscCH</th>\n",
       "      <th>DiscMM</th>\n",
       "      <th>LoyalCH</th>\n",
       "      <th>SalePriceMM</th>\n",
       "      <th>SalePriceCH</th>\n",
       "      <th>PriceDiff</th>\n",
       "      <th>...</th>\n",
       "      <th>SpecialCH (1)</th>\n",
       "      <th>SpecialMM (0)</th>\n",
       "      <th>SpecialMM (1)</th>\n",
       "      <th>Store7 (No)</th>\n",
       "      <th>Store7 (Yes)</th>\n",
       "      <th>StoreID (1)</th>\n",
       "      <th>StoreID (2)</th>\n",
       "      <th>StoreID (3)</th>\n",
       "      <th>StoreID (4)</th>\n",
       "      <th>StoreID (7)</th>\n",
       "    </tr>\n",
       "  </thead>\n",
       "  <tbody>\n",
       "    <tr>\n",
       "      <th>0</th>\n",
       "      <td>CH</td>\n",
       "      <td>237</td>\n",
       "      <td>1.75</td>\n",
       "      <td>1.99</td>\n",
       "      <td>0.00</td>\n",
       "      <td>0.0</td>\n",
       "      <td>0.500000</td>\n",
       "      <td>1.99</td>\n",
       "      <td>1.75</td>\n",
       "      <td>0.24</td>\n",
       "      <td>...</td>\n",
       "      <td>0</td>\n",
       "      <td>1</td>\n",
       "      <td>0</td>\n",
       "      <td>1</td>\n",
       "      <td>0</td>\n",
       "      <td>1</td>\n",
       "      <td>0</td>\n",
       "      <td>0</td>\n",
       "      <td>0</td>\n",
       "      <td>0</td>\n",
       "    </tr>\n",
       "    <tr>\n",
       "      <th>1</th>\n",
       "      <td>CH</td>\n",
       "      <td>239</td>\n",
       "      <td>1.75</td>\n",
       "      <td>1.99</td>\n",
       "      <td>0.00</td>\n",
       "      <td>0.3</td>\n",
       "      <td>0.600000</td>\n",
       "      <td>1.69</td>\n",
       "      <td>1.75</td>\n",
       "      <td>-0.06</td>\n",
       "      <td>...</td>\n",
       "      <td>0</td>\n",
       "      <td>0</td>\n",
       "      <td>1</td>\n",
       "      <td>1</td>\n",
       "      <td>0</td>\n",
       "      <td>1</td>\n",
       "      <td>0</td>\n",
       "      <td>0</td>\n",
       "      <td>0</td>\n",
       "      <td>0</td>\n",
       "    </tr>\n",
       "    <tr>\n",
       "      <th>2</th>\n",
       "      <td>CH</td>\n",
       "      <td>245</td>\n",
       "      <td>1.86</td>\n",
       "      <td>2.09</td>\n",
       "      <td>0.17</td>\n",
       "      <td>0.0</td>\n",
       "      <td>0.680000</td>\n",
       "      <td>2.09</td>\n",
       "      <td>1.69</td>\n",
       "      <td>0.40</td>\n",
       "      <td>...</td>\n",
       "      <td>0</td>\n",
       "      <td>1</td>\n",
       "      <td>0</td>\n",
       "      <td>1</td>\n",
       "      <td>0</td>\n",
       "      <td>1</td>\n",
       "      <td>0</td>\n",
       "      <td>0</td>\n",
       "      <td>0</td>\n",
       "      <td>0</td>\n",
       "    </tr>\n",
       "    <tr>\n",
       "      <th>3</th>\n",
       "      <td>MM</td>\n",
       "      <td>227</td>\n",
       "      <td>1.69</td>\n",
       "      <td>1.69</td>\n",
       "      <td>0.00</td>\n",
       "      <td>0.0</td>\n",
       "      <td>0.400000</td>\n",
       "      <td>1.69</td>\n",
       "      <td>1.69</td>\n",
       "      <td>0.00</td>\n",
       "      <td>...</td>\n",
       "      <td>0</td>\n",
       "      <td>1</td>\n",
       "      <td>0</td>\n",
       "      <td>1</td>\n",
       "      <td>0</td>\n",
       "      <td>1</td>\n",
       "      <td>0</td>\n",
       "      <td>0</td>\n",
       "      <td>0</td>\n",
       "      <td>0</td>\n",
       "    </tr>\n",
       "    <tr>\n",
       "      <th>4</th>\n",
       "      <td>CH</td>\n",
       "      <td>228</td>\n",
       "      <td>1.69</td>\n",
       "      <td>1.69</td>\n",
       "      <td>0.00</td>\n",
       "      <td>0.0</td>\n",
       "      <td>0.956535</td>\n",
       "      <td>1.69</td>\n",
       "      <td>1.69</td>\n",
       "      <td>0.00</td>\n",
       "      <td>...</td>\n",
       "      <td>0</td>\n",
       "      <td>1</td>\n",
       "      <td>0</td>\n",
       "      <td>0</td>\n",
       "      <td>1</td>\n",
       "      <td>0</td>\n",
       "      <td>0</td>\n",
       "      <td>0</td>\n",
       "      <td>0</td>\n",
       "      <td>1</td>\n",
       "    </tr>\n",
       "  </tbody>\n",
       "</table>\n",
       "<p>5 rows × 29 columns</p>\n",
       "</div>"
      ],
      "text/plain": [
       "  Purchase  WeekofPurchase  PriceCH  PriceMM  DiscCH  DiscMM   LoyalCH  \\\n",
       "0       CH             237     1.75     1.99    0.00     0.0  0.500000   \n",
       "1       CH             239     1.75     1.99    0.00     0.3  0.600000   \n",
       "2       CH             245     1.86     2.09    0.17     0.0  0.680000   \n",
       "3       MM             227     1.69     1.69    0.00     0.0  0.400000   \n",
       "4       CH             228     1.69     1.69    0.00     0.0  0.956535   \n",
       "\n",
       "   SalePriceMM  SalePriceCH  PriceDiff  ...  SpecialCH (1)  SpecialMM (0)  \\\n",
       "0         1.99         1.75       0.24  ...              0              1   \n",
       "1         1.69         1.75      -0.06  ...              0              0   \n",
       "2         2.09         1.69       0.40  ...              0              1   \n",
       "3         1.69         1.69       0.00  ...              0              1   \n",
       "4         1.69         1.69       0.00  ...              0              1   \n",
       "\n",
       "   SpecialMM (1) Store7 (No) Store7 (Yes) StoreID (1) StoreID (2) StoreID (3)  \\\n",
       "0              0           1            0           1           0           0   \n",
       "1              1           1            0           1           0           0   \n",
       "2              0           1            0           1           0           0   \n",
       "3              0           1            0           1           0           0   \n",
       "4              0           0            1           0           0           0   \n",
       "\n",
       "  StoreID (4) StoreID (7)  \n",
       "0           0           0  \n",
       "1           0           0  \n",
       "2           0           0  \n",
       "3           0           0  \n",
       "4           0           1  \n",
       "\n",
       "[5 rows x 29 columns]"
      ]
     },
     "execution_count": 3,
     "metadata": {},
     "output_type": "execute_result"
    }
   ],
   "source": [
    "# Convert categorical independent data using one hot encoding:\n",
    "# which takes a column with categorical data and \n",
    "# then splits the column into multiple columns. \n",
    "# The numbers are replaced by 1s and 0s, depending \n",
    "# on which column has what value. \n",
    "categorical_lst = ['STORE', 'SpecialCH', 'SpecialMM', 'Store7', 'StoreID']\n",
    "columns = df.columns.tolist()\n",
    "indices = [index for index, column in enumerate(columns) if column in categorical_lst]\n",
    "\n",
    "onehotencoder = OneHotEncoder()\n",
    "categorical_transformed = onehotencoder.fit_transform(df[categorical_lst]).toarray()\n",
    "    \n",
    "new_categorical_lst = []\n",
    "for categorical_name, np_arr in zip(categorical_lst, onehotencoder.categories_):\n",
    "    temp_lst = [f'{categorical_name} ({category})' for category in np_arr]\n",
    "    new_categorical_lst.extend(temp_lst)\n",
    "    \n",
    "df_categorical_transformed = pd.DataFrame(categorical_transformed, columns=new_categorical_lst, dtype='int64')\n",
    "for column in new_categorical_lst:\n",
    "    df_categorical_transformed[column] = df_categorical_transformed[column].astype('category')\n",
    "\n",
    "df_transformed = pd.concat([df.drop(categorical_lst, 1), df_categorical_transformed], axis=1)\n",
    "df_transformed.head()"
   ]
  },
  {
   "cell_type": "code",
   "execution_count": 4,
   "metadata": {
    "ExecuteTime": {
     "end_time": "2020-02-29T19:35:18.960267Z",
     "start_time": "2020-02-29T19:35:18.801467Z"
    }
   },
   "outputs": [
    {
     "data": {
      "application/vnd.jupyter.widget-view+json": {
       "model_id": "7d83cee5cc5b40babcf3653c1048d6d2",
       "version_major": 2,
       "version_minor": 0
      },
      "text/plain": [
       "interactive(children=(Dropdown(description='splitter', options=('best', 'random'), value='best'), Dropdown(des…"
      ]
     },
     "metadata": {},
     "output_type": "display_data"
    }
   ],
   "source": [
    "# https://towardsdatascience.com/interactive-visualization-of-decision-trees-with-jupyter-widgets-ca15dd312084\n",
    "# Interactive Visualization of Decision Trees with Jupyter Widgets\n",
    "\n",
    "def plot_tree(splitter, criterion, max_depth, min_samples_split, min_samples_leaf=0.2):\n",
    "    tree_class = DecisionTreeClassifier(\n",
    "        criterion=criterion,\n",
    "        splitter=splitter,\n",
    "        max_depth=max_depth,\n",
    "        min_samples_split=min_samples_split,\n",
    "        min_samples_leaf=min_samples_leaf,\n",
    "        random_state=42\n",
    "    )\n",
    "    tree_class.fit(df_transformed.drop('Purchase', 1), df_transformed[['Purchase']])\n",
    "    \n",
    "    graph = Source(export_graphviz(\n",
    "        tree_class,\n",
    "        out_file=None,\n",
    "        feature_names=df_transformed.drop('Purchase', 1).columns.tolist(),\n",
    "        class_names=tree_class.classes_,\n",
    "        rounded=True,\n",
    "        filled=True\n",
    "    ))\n",
    "   \n",
    "    display(SVG(graph.pipe(format='svg')))\n",
    "    return tree_class\n",
    "\n",
    "inter = interactive(\n",
    "    plot_tree,\n",
    "    criterion=['gini', 'entropy'],\n",
    "    splitter=['best', 'random'],\n",
    "    max_depth=[1, 2, 3, 4],\n",
    "    min_samples_split=(0.1, 1),\n",
    "    min_samples_leaf=(0.1, 0.5)\n",
    ")\n",
    "\n",
    "display(inter)"
   ]
  },
  {
   "cell_type": "markdown",
   "metadata": {},
   "source": [
    "<h3>Exercise 8.9.1</h3>\n",
    "<blockquote>\n",
    "    <i>Create a training set containing a random sample of 800 observations, and a test set containing the remaining observations.</i>\n",
    "</blockquote>"
   ]
  },
  {
   "cell_type": "code",
   "execution_count": 5,
   "metadata": {
    "ExecuteTime": {
     "end_time": "2020-02-29T19:35:18.985161Z",
     "start_time": "2020-02-29T19:35:18.962423Z"
    }
   },
   "outputs": [],
   "source": [
    "df_y = df_transformed[['Purchase']]\n",
    "df_x = df_transformed.drop('Purchase', 1)\n",
    "df_x_train, df_x_test, df_y_train, df_y_test = train_test_split(\n",
    "    df_x, \n",
    "    df_y, \n",
    "    train_size=800, \n",
    "    random_state=42\n",
    ")"
   ]
  },
  {
   "cell_type": "markdown",
   "metadata": {},
   "source": [
    "<h3>Exercise 8.9.2</h3>\n",
    "<blockquote>\n",
    "    <i>Fit a tree to the training data, with $\\mathrm{Purchase}$ as the response and the other variables as predictors. Use the <code>summary()</code> function to produce summary statistics about the tree, and describe the results obtained. What is the training error rate? How many terminal nodes does the tree have?</i>\n",
    "</blockquote>"
   ]
  },
  {
   "cell_type": "code",
   "execution_count": 6,
   "metadata": {
    "ExecuteTime": {
     "end_time": "2020-02-29T19:35:19.098074Z",
     "start_time": "2020-02-29T19:35:18.986489Z"
    }
   },
   "outputs": [
    {
     "data": {
      "text/html": [
       "<div>\n",
       "<style scoped>\n",
       "    .dataframe tbody tr th:only-of-type {\n",
       "        vertical-align: middle;\n",
       "    }\n",
       "\n",
       "    .dataframe tbody tr th {\n",
       "        vertical-align: top;\n",
       "    }\n",
       "\n",
       "    .dataframe thead tr th {\n",
       "        text-align: left;\n",
       "    }\n",
       "</style>\n",
       "<table border=\"1\" class=\"dataframe\">\n",
       "  <thead>\n",
       "    <tr>\n",
       "      <th></th>\n",
       "      <th></th>\n",
       "      <th colspan=\"2\" halign=\"left\">predicted</th>\n",
       "    </tr>\n",
       "    <tr>\n",
       "      <th></th>\n",
       "      <th></th>\n",
       "      <th>CH</th>\n",
       "      <th>MM</th>\n",
       "    </tr>\n",
       "  </thead>\n",
       "  <tbody>\n",
       "    <tr>\n",
       "      <th rowspan=\"2\" valign=\"top\">actual</th>\n",
       "      <th>CH</th>\n",
       "      <td>391</td>\n",
       "      <td>103</td>\n",
       "    </tr>\n",
       "    <tr>\n",
       "      <th>MM</th>\n",
       "      <td>55</td>\n",
       "      <td>251</td>\n",
       "    </tr>\n",
       "  </tbody>\n",
       "</table>\n",
       "</div>"
      ],
      "text/plain": [
       "          predicted     \n",
       "                 CH   MM\n",
       "actual CH       391  103\n",
       "       MM        55  251"
      ]
     },
     "execution_count": 6,
     "metadata": {},
     "output_type": "execute_result"
    }
   ],
   "source": [
    "tree_class = DecisionTreeClassifier(\n",
    "    criterion='entropy',\n",
    "    splitter='best',\n",
    "    max_depth=2,\n",
    "    random_state=42\n",
    ")\n",
    "_ = tree_class.fit(df_x_train, df_y_train)\n",
    "\n",
    "y_pred_train = tree_class.predict(df_x_train)\n",
    "cm = confusion_matrix(y_true=df_y_train, y_pred=y_pred_train)\n",
    "index = pd.MultiIndex.from_tuples([('actual', 'CH'), ('actual', 'MM')])\n",
    "columns = pd.MultiIndex.from_tuples([('predicted', 'CH'), ('predicted', 'MM')])\n",
    "cm = pd.DataFrame(cm, columns=columns, index=index)\n",
    "cm"
   ]
  },
  {
   "cell_type": "code",
   "execution_count": 7,
   "metadata": {
    "ExecuteTime": {
     "end_time": "2020-02-29T19:35:19.178533Z",
     "start_time": "2020-02-29T19:35:19.099957Z"
    }
   },
   "outputs": [
    {
     "name": "stdout",
     "output_type": "stream",
     "text": [
      "              precision    recall  f1-score   support\n",
      "\n",
      "          CH       0.88      0.79      0.83       494\n",
      "          MM       0.71      0.82      0.76       306\n",
      "\n",
      "    accuracy                           0.80       800\n",
      "   macro avg       0.79      0.81      0.80       800\n",
      "weighted avg       0.81      0.80      0.80       800\n",
      "\n"
     ]
    }
   ],
   "source": [
    "print(classification_report(df_y_train, y_pred_train))"
   ]
  },
  {
   "cell_type": "markdown",
   "metadata": {},
   "source": [
    "<h3>Exercise 8.9.3</h3>\n",
    "<blockquote>\n",
    "    <i>Type in the name of the tree object in order to get a detailed text output. Pick one of the terminal nodes, and interpret the information displayed.</i>\n",
    "</blockquote>\n",
    "\n",
    "<h3>Exercise 8.9.4</h3>\n",
    "<blockquote>\n",
    "    <i>Create a plot of the tree, and interpret the results.</i>\n",
    "</blockquote>"
   ]
  },
  {
   "cell_type": "code",
   "execution_count": 8,
   "metadata": {
    "ExecuteTime": {
     "end_time": "2020-02-29T19:35:19.280595Z",
     "start_time": "2020-02-29T19:35:19.180923Z"
    }
   },
   "outputs": [
    {
     "data": {
      "image/svg+xml": [
       "<svg height=\"314pt\" viewBox=\"0.00 0.00 534.00 314.00\" width=\"534pt\" xmlns=\"http://www.w3.org/2000/svg\" xmlns:xlink=\"http://www.w3.org/1999/xlink\">\n",
       "<g class=\"graph\" id=\"graph0\" transform=\"scale(1 1) rotate(0) translate(4 310)\">\n",
       "<title>Tree</title>\n",
       "<polygon fill=\"#ffffff\" points=\"-4,4 -4,-310 530,-310 530,4 -4,4\" stroke=\"transparent\"/>\n",
       "<!-- 0 -->\n",
       "<g class=\"node\" id=\"node1\">\n",
       "<title>0</title>\n",
       "<path d=\"M313.5,-306C313.5,-306 211.5,-306 211.5,-306 205.5,-306 199.5,-300 199.5,-294 199.5,-294 199.5,-235 199.5,-235 199.5,-229 205.5,-223 211.5,-223 211.5,-223 313.5,-223 313.5,-223 319.5,-223 325.5,-229 325.5,-235 325.5,-235 325.5,-294 325.5,-294 325.5,-300 319.5,-306 313.5,-306\" fill=\"#f5cfb4\" stroke=\"#000000\"/>\n",
       "<text fill=\"#000000\" font-family=\"Helvetica,sans-Serif\" font-size=\"14.00\" text-anchor=\"middle\" x=\"262.5\" y=\"-290.8\">LoyalCH &lt;= 0.504</text>\n",
       "<text fill=\"#000000\" font-family=\"Helvetica,sans-Serif\" font-size=\"14.00\" text-anchor=\"middle\" x=\"262.5\" y=\"-275.8\">entropy = 0.96</text>\n",
       "<text fill=\"#000000\" font-family=\"Helvetica,sans-Serif\" font-size=\"14.00\" text-anchor=\"middle\" x=\"262.5\" y=\"-260.8\">samples = 800</text>\n",
       "<text fill=\"#000000\" font-family=\"Helvetica,sans-Serif\" font-size=\"14.00\" text-anchor=\"middle\" x=\"262.5\" y=\"-245.8\">value = [494, 306]</text>\n",
       "<text fill=\"#000000\" font-family=\"Helvetica,sans-Serif\" font-size=\"14.00\" text-anchor=\"middle\" x=\"262.5\" y=\"-230.8\">class = CH</text>\n",
       "</g>\n",
       "<!-- 1 -->\n",
       "<g class=\"node\" id=\"node2\">\n",
       "<title>1</title>\n",
       "<path d=\"M241.5,-187C241.5,-187 139.5,-187 139.5,-187 133.5,-187 127.5,-181 127.5,-175 127.5,-175 127.5,-116 127.5,-116 127.5,-110 133.5,-104 139.5,-104 139.5,-104 241.5,-104 241.5,-104 247.5,-104 253.5,-110 253.5,-116 253.5,-116 253.5,-175 253.5,-175 253.5,-181 247.5,-187 241.5,-187\" fill=\"#8ac5f0\" stroke=\"#000000\"/>\n",
       "<text fill=\"#000000\" font-family=\"Helvetica,sans-Serif\" font-size=\"14.00\" text-anchor=\"middle\" x=\"190.5\" y=\"-171.8\">LoyalCH &lt;= 0.276</text>\n",
       "<text fill=\"#000000\" font-family=\"Helvetica,sans-Serif\" font-size=\"14.00\" text-anchor=\"middle\" x=\"190.5\" y=\"-156.8\">entropy = 0.87</text>\n",
       "<text fill=\"#000000\" font-family=\"Helvetica,sans-Serif\" font-size=\"14.00\" text-anchor=\"middle\" x=\"190.5\" y=\"-141.8\">samples = 354</text>\n",
       "<text fill=\"#000000\" font-family=\"Helvetica,sans-Serif\" font-size=\"14.00\" text-anchor=\"middle\" x=\"190.5\" y=\"-126.8\">value = [103, 251]</text>\n",
       "<text fill=\"#000000\" font-family=\"Helvetica,sans-Serif\" font-size=\"14.00\" text-anchor=\"middle\" x=\"190.5\" y=\"-111.8\">class = MM</text>\n",
       "</g>\n",
       "<!-- 0&#45;&gt;1 -->\n",
       "<g class=\"edge\" id=\"edge1\">\n",
       "<title>0-&gt;1</title>\n",
       "<path d=\"M237.3179,-222.8796C232.0867,-214.2335 226.5195,-205.0322 221.1177,-196.1042\" fill=\"none\" stroke=\"#000000\"/>\n",
       "<polygon fill=\"#000000\" points=\"223.9608,-194.0421 215.7896,-187.2981 217.9717,-197.6658 223.9608,-194.0421\" stroke=\"#000000\"/>\n",
       "<text fill=\"#000000\" font-family=\"Helvetica,sans-Serif\" font-size=\"14.00\" text-anchor=\"middle\" x=\"209.816\" y=\"-207.8739\">True</text>\n",
       "</g>\n",
       "<!-- 4 -->\n",
       "<g class=\"node\" id=\"node5\">\n",
       "<title>4</title>\n",
       "<path d=\"M385.5,-187C385.5,-187 283.5,-187 283.5,-187 277.5,-187 271.5,-181 271.5,-175 271.5,-175 271.5,-116 271.5,-116 271.5,-110 277.5,-104 283.5,-104 283.5,-104 385.5,-104 385.5,-104 391.5,-104 397.5,-110 397.5,-116 397.5,-116 397.5,-175 397.5,-175 397.5,-181 391.5,-187 385.5,-187\" fill=\"#e99355\" stroke=\"#000000\"/>\n",
       "<text fill=\"#000000\" font-family=\"Helvetica,sans-Serif\" font-size=\"14.00\" text-anchor=\"middle\" x=\"334.5\" y=\"-171.8\">LoyalCH &lt;= 0.765</text>\n",
       "<text fill=\"#000000\" font-family=\"Helvetica,sans-Serif\" font-size=\"14.00\" text-anchor=\"middle\" x=\"334.5\" y=\"-156.8\">entropy = 0.539</text>\n",
       "<text fill=\"#000000\" font-family=\"Helvetica,sans-Serif\" font-size=\"14.00\" text-anchor=\"middle\" x=\"334.5\" y=\"-141.8\">samples = 446</text>\n",
       "<text fill=\"#000000\" font-family=\"Helvetica,sans-Serif\" font-size=\"14.00\" text-anchor=\"middle\" x=\"334.5\" y=\"-126.8\">value = [391, 55]</text>\n",
       "<text fill=\"#000000\" font-family=\"Helvetica,sans-Serif\" font-size=\"14.00\" text-anchor=\"middle\" x=\"334.5\" y=\"-111.8\">class = CH</text>\n",
       "</g>\n",
       "<!-- 0&#45;&gt;4 -->\n",
       "<g class=\"edge\" id=\"edge4\">\n",
       "<title>0-&gt;4</title>\n",
       "<path d=\"M287.6821,-222.8796C292.9133,-214.2335 298.4805,-205.0322 303.8823,-196.1042\" fill=\"none\" stroke=\"#000000\"/>\n",
       "<polygon fill=\"#000000\" points=\"307.0283,-197.6658 309.2104,-187.2981 301.0392,-194.0421 307.0283,-197.6658\" stroke=\"#000000\"/>\n",
       "<text fill=\"#000000\" font-family=\"Helvetica,sans-Serif\" font-size=\"14.00\" text-anchor=\"middle\" x=\"315.184\" y=\"-207.8739\">False</text>\n",
       "</g>\n",
       "<!-- 2 -->\n",
       "<g class=\"node\" id=\"node3\">\n",
       "<title>2</title>\n",
       "<path d=\"M105,-68C105,-68 12,-68 12,-68 6,-68 0,-62 0,-56 0,-56 0,-12 0,-12 0,-6 6,0 12,0 12,0 105,0 105,0 111,0 117,-6 117,-12 117,-12 117,-56 117,-56 117,-62 111,-68 105,-68\" fill=\"#56abe9\" stroke=\"#000000\"/>\n",
       "<text fill=\"#000000\" font-family=\"Helvetica,sans-Serif\" font-size=\"14.00\" text-anchor=\"middle\" x=\"58.5\" y=\"-52.8\">entropy = 0.552</text>\n",
       "<text fill=\"#000000\" font-family=\"Helvetica,sans-Serif\" font-size=\"14.00\" text-anchor=\"middle\" x=\"58.5\" y=\"-37.8\">samples = 172</text>\n",
       "<text fill=\"#000000\" font-family=\"Helvetica,sans-Serif\" font-size=\"14.00\" text-anchor=\"middle\" x=\"58.5\" y=\"-22.8\">value = [22, 150]</text>\n",
       "<text fill=\"#000000\" font-family=\"Helvetica,sans-Serif\" font-size=\"14.00\" text-anchor=\"middle\" x=\"58.5\" y=\"-7.8\">class = MM</text>\n",
       "</g>\n",
       "<!-- 1&#45;&gt;2 -->\n",
       "<g class=\"edge\" id=\"edge2\">\n",
       "<title>1-&gt;2</title>\n",
       "<path d=\"M141.3481,-103.9815C130.0324,-94.4232 118.0087,-84.2668 106.7325,-74.7419\" fill=\"none\" stroke=\"#000000\"/>\n",
       "<polygon fill=\"#000000\" points=\"108.9612,-72.0429 99.0633,-68.2637 104.4441,-77.3904 108.9612,-72.0429\" stroke=\"#000000\"/>\n",
       "</g>\n",
       "<!-- 3 -->\n",
       "<g class=\"node\" id=\"node4\">\n",
       "<title>3</title>\n",
       "<path d=\"M240,-68C240,-68 147,-68 147,-68 141,-68 135,-62 135,-56 135,-56 135,-12 135,-12 135,-6 141,0 147,0 147,0 240,0 240,0 246,0 252,-6 252,-12 252,-12 252,-56 252,-56 252,-62 246,-68 240,-68\" fill=\"#d8ecfa\" stroke=\"#000000\"/>\n",
       "<text fill=\"#000000\" font-family=\"Helvetica,sans-Serif\" font-size=\"14.00\" text-anchor=\"middle\" x=\"193.5\" y=\"-52.8\">entropy = 0.991</text>\n",
       "<text fill=\"#000000\" font-family=\"Helvetica,sans-Serif\" font-size=\"14.00\" text-anchor=\"middle\" x=\"193.5\" y=\"-37.8\">samples = 182</text>\n",
       "<text fill=\"#000000\" font-family=\"Helvetica,sans-Serif\" font-size=\"14.00\" text-anchor=\"middle\" x=\"193.5\" y=\"-22.8\">value = [81, 101]</text>\n",
       "<text fill=\"#000000\" font-family=\"Helvetica,sans-Serif\" font-size=\"14.00\" text-anchor=\"middle\" x=\"193.5\" y=\"-7.8\">class = MM</text>\n",
       "</g>\n",
       "<!-- 1&#45;&gt;3 -->\n",
       "<g class=\"edge\" id=\"edge3\">\n",
       "<title>1-&gt;3</title>\n",
       "<path d=\"M191.6171,-103.9815C191.8421,-95.618 192.0795,-86.7965 192.307,-78.3409\" fill=\"none\" stroke=\"#000000\"/>\n",
       "<polygon fill=\"#000000\" points=\"195.8078,-78.3542 192.5781,-68.2637 188.8103,-78.1659 195.8078,-78.3542\" stroke=\"#000000\"/>\n",
       "</g>\n",
       "<!-- 5 -->\n",
       "<g class=\"node\" id=\"node6\">\n",
       "<title>5</title>\n",
       "<path d=\"M379,-68C379,-68 286,-68 286,-68 280,-68 274,-62 274,-56 274,-56 274,-12 274,-12 274,-6 280,0 286,0 286,0 379,0 379,0 385,0 391,-6 391,-12 391,-12 391,-56 391,-56 391,-62 385,-68 379,-68\" fill=\"#eeab7b\" stroke=\"#000000\"/>\n",
       "<text fill=\"#000000\" font-family=\"Helvetica,sans-Serif\" font-size=\"14.00\" text-anchor=\"middle\" x=\"332.5\" y=\"-52.8\">entropy = 0.811</text>\n",
       "<text fill=\"#000000\" font-family=\"Helvetica,sans-Serif\" font-size=\"14.00\" text-anchor=\"middle\" x=\"332.5\" y=\"-37.8\">samples = 180</text>\n",
       "<text fill=\"#000000\" font-family=\"Helvetica,sans-Serif\" font-size=\"14.00\" text-anchor=\"middle\" x=\"332.5\" y=\"-22.8\">value = [135, 45]</text>\n",
       "<text fill=\"#000000\" font-family=\"Helvetica,sans-Serif\" font-size=\"14.00\" text-anchor=\"middle\" x=\"332.5\" y=\"-7.8\">class = CH</text>\n",
       "</g>\n",
       "<!-- 4&#45;&gt;5 -->\n",
       "<g class=\"edge\" id=\"edge5\">\n",
       "<title>4-&gt;5</title>\n",
       "<path d=\"M333.7553,-103.9815C333.6053,-95.618 333.447,-86.7965 333.2954,-78.3409\" fill=\"none\" stroke=\"#000000\"/>\n",
       "<polygon fill=\"#000000\" points=\"336.7935,-78.1993 333.1146,-68.2637 329.7946,-78.3249 336.7935,-78.1993\" stroke=\"#000000\"/>\n",
       "</g>\n",
       "<!-- 6 -->\n",
       "<g class=\"node\" id=\"node7\">\n",
       "<title>6</title>\n",
       "<path d=\"M514,-68C514,-68 421,-68 421,-68 415,-68 409,-62 409,-56 409,-56 409,-12 409,-12 409,-6 415,0 421,0 421,0 514,0 514,0 520,0 526,-6 526,-12 526,-12 526,-56 526,-56 526,-62 520,-68 514,-68\" fill=\"#e68641\" stroke=\"#000000\"/>\n",
       "<text fill=\"#000000\" font-family=\"Helvetica,sans-Serif\" font-size=\"14.00\" text-anchor=\"middle\" x=\"467.5\" y=\"-52.8\">entropy = 0.231</text>\n",
       "<text fill=\"#000000\" font-family=\"Helvetica,sans-Serif\" font-size=\"14.00\" text-anchor=\"middle\" x=\"467.5\" y=\"-37.8\">samples = 266</text>\n",
       "<text fill=\"#000000\" font-family=\"Helvetica,sans-Serif\" font-size=\"14.00\" text-anchor=\"middle\" x=\"467.5\" y=\"-22.8\">value = [256, 10]</text>\n",
       "<text fill=\"#000000\" font-family=\"Helvetica,sans-Serif\" font-size=\"14.00\" text-anchor=\"middle\" x=\"467.5\" y=\"-7.8\">class = CH</text>\n",
       "</g>\n",
       "<!-- 4&#45;&gt;6 -->\n",
       "<g class=\"edge\" id=\"edge6\">\n",
       "<title>4-&gt;6</title>\n",
       "<path d=\"M384.0243,-103.9815C395.4257,-94.4232 407.5405,-84.2668 418.9021,-74.7419\" fill=\"none\" stroke=\"#000000\"/>\n",
       "<polygon fill=\"#000000\" points=\"421.2147,-77.3704 426.6294,-68.2637 416.7175,-72.006 421.2147,-77.3704\" stroke=\"#000000\"/>\n",
       "</g>\n",
       "</g>\n",
       "</svg>"
      ],
      "text/plain": [
       "<IPython.core.display.SVG object>"
      ]
     },
     "metadata": {},
     "output_type": "display_data"
    }
   ],
   "source": [
    "transformed_columns_lst = df_x.columns.tolist()\n",
    "graph = Source(export_graphviz(\n",
    "    tree_class, \n",
    "    out_file=None,\n",
    "    feature_names=transformed_columns_lst,\n",
    "    class_names=tree_class.classes_,\n",
    "    rounded=True,\n",
    "    filled=True\n",
    "))\n",
    "\n",
    "display(SVG(graph.pipe(format='svg')))"
   ]
  },
  {
   "cell_type": "markdown",
   "metadata": {},
   "source": [
    "<h3>Exercise 8.9.5</h3>\n",
    "<blockquote>\n",
    "    <i>Predict the response on the test data, and produce a confusion matrix comparing the test labels to the predicted test labels. What is the test error rate?</i>\n",
    "</blockquote>"
   ]
  },
  {
   "cell_type": "code",
   "execution_count": 9,
   "metadata": {
    "ExecuteTime": {
     "end_time": "2020-02-29T19:35:19.377464Z",
     "start_time": "2020-02-29T19:35:19.284809Z"
    }
   },
   "outputs": [
    {
     "data": {
      "text/html": [
       "<div>\n",
       "<style scoped>\n",
       "    .dataframe tbody tr th:only-of-type {\n",
       "        vertical-align: middle;\n",
       "    }\n",
       "\n",
       "    .dataframe tbody tr th {\n",
       "        vertical-align: top;\n",
       "    }\n",
       "\n",
       "    .dataframe thead tr th {\n",
       "        text-align: left;\n",
       "    }\n",
       "</style>\n",
       "<table border=\"1\" class=\"dataframe\">\n",
       "  <thead>\n",
       "    <tr>\n",
       "      <th></th>\n",
       "      <th></th>\n",
       "      <th colspan=\"2\" halign=\"left\">predicted</th>\n",
       "    </tr>\n",
       "    <tr>\n",
       "      <th></th>\n",
       "      <th></th>\n",
       "      <th>CH</th>\n",
       "      <th>MM</th>\n",
       "    </tr>\n",
       "  </thead>\n",
       "  <tbody>\n",
       "    <tr>\n",
       "      <th rowspan=\"2\" valign=\"top\">actual</th>\n",
       "      <th>CH</th>\n",
       "      <td>129</td>\n",
       "      <td>30</td>\n",
       "    </tr>\n",
       "    <tr>\n",
       "      <th>MM</th>\n",
       "      <td>26</td>\n",
       "      <td>85</td>\n",
       "    </tr>\n",
       "  </tbody>\n",
       "</table>\n",
       "</div>"
      ],
      "text/plain": [
       "          predicted    \n",
       "                 CH  MM\n",
       "actual CH       129  30\n",
       "       MM        26  85"
      ]
     },
     "execution_count": 9,
     "metadata": {},
     "output_type": "execute_result"
    }
   ],
   "source": [
    "y_pred_test = tree_class.predict(df_x_test)\n",
    "cm = confusion_matrix(y_true=df_y_test, y_pred=y_pred_test)\n",
    "index = pd.MultiIndex.from_tuples([('actual', 'CH'), ('actual', 'MM')])\n",
    "columns = pd.MultiIndex.from_tuples([('predicted', 'CH'), ('predicted', 'MM')])\n",
    "cm = pd.DataFrame(cm, columns=columns, index=index)\n",
    "cm"
   ]
  },
  {
   "cell_type": "markdown",
   "metadata": {},
   "source": [
    "<h3>Exercise 8.9.6</h3>\n",
    "<blockquote>\n",
    "    <i>Apply the <code>cv.tree()</code> function to the training set in order to determine the optimal tree size.</i>\n",
    "</blockquote>"
   ]
  },
  {
   "cell_type": "code",
   "execution_count": 10,
   "metadata": {
    "ExecuteTime": {
     "end_time": "2020-02-29T19:35:21.156145Z",
     "start_time": "2020-02-29T19:35:19.379755Z"
    }
   },
   "outputs": [
    {
     "data": {
      "text/plain": [
       "{'max_depth': 4}"
      ]
     },
     "execution_count": 10,
     "metadata": {},
     "output_type": "execute_result"
    }
   ],
   "source": [
    "parameters = {'max_depth': range(3,20)}\n",
    "tree_class_cv = GridSearchCV(DecisionTreeClassifier(\n",
    "    criterion='entropy',\n",
    "    splitter='best',\n",
    "    random_state=42\n",
    "), parameters, n_jobs=-1)\n",
    "_ = tree_class_cv.fit(df_x, df_y)\n",
    "tree_model = tree_class_cv.best_estimator_\n",
    "tree_class_cv.best_params_"
   ]
  },
  {
   "cell_type": "markdown",
   "metadata": {},
   "source": [
    "<h3>Exercise 8.9.7</h3>\n",
    "<blockquote>\n",
    "    <i>Produce a plot with tree size on the $x$-axis and cross-validated classification error rate on the $y$-axis.</i>\n",
    "</blockquote>"
   ]
  },
  {
   "cell_type": "code",
   "execution_count": 11,
   "metadata": {
    "ExecuteTime": {
     "end_time": "2020-02-29T19:35:21.501735Z",
     "start_time": "2020-02-29T19:35:21.157604Z"
    }
   },
   "outputs": [
    {
     "data": {
      "image/png": "[encoded data removed]",
      "text/plain": [
       "<Figure size 576x288 with 1 Axes>"
      ]
     },
     "metadata": {
      "needs_background": "light"
     },
     "output_type": "display_data"
    }
   ],
   "source": [
    "tree_size = [list(params_dct.values())[0] \n",
    "             for params_dct in tree_class_cv.cv_results_['params']]\n",
    "accuracy = 100*tree_class_cv.cv_results_['mean_test_score']\n",
    "fig, ax = plt.subplots(1, 1, constrained_layout=True, figsize=(8, 4))\n",
    "_ = ax.scatter(tree_size, accuracy)\n",
    "_ = ax.set_xlabel('tree size')\n",
    "_ = ax.set_ylabel('mean accuracy of test data')"
   ]
  },
  {
   "cell_type": "markdown",
   "metadata": {
    "ExecuteTime": {
     "end_time": "2020-02-29T18:12:35.693835Z",
     "start_time": "2020-02-29T18:12:35.430713Z"
    }
   },
   "source": [
    "<h3>Exercise 8.9.8</h3>\n",
    "<blockquote>\n",
    "    <i>Which tree size corresponds to the lowest cross-validated classification error rate?</i>\n",
    "</blockquote>"
   ]
  },
  {
   "cell_type": "code",
   "execution_count": 12,
   "metadata": {
    "ExecuteTime": {
     "end_time": "2020-02-29T19:35:21.506559Z",
     "start_time": "2020-02-29T19:35:21.503156Z"
    }
   },
   "outputs": [
    {
     "data": {
      "text/plain": [
       "{'max_depth': 4}"
      ]
     },
     "execution_count": 12,
     "metadata": {},
     "output_type": "execute_result"
    }
   ],
   "source": [
    "tree_class_cv.best_params_"
   ]
  },
  {
   "cell_type": "markdown",
   "metadata": {},
   "source": [
    "<h3>Exercise 8.9.9</h3>\n",
    "<blockquote>\n",
    "    <i>Produce a pruned tree corresponding to the optimal tree size obtained using cross-validation. If cross-validation does not lead to selection of a pruned tree, then create a pruned tree with five terminal nodes.</i>\n",
    "</blockquote>"
   ]
  },
  {
   "cell_type": "code",
   "execution_count": 13,
   "metadata": {
    "ExecuteTime": {
     "end_time": "2020-02-29T19:35:21.745118Z",
     "start_time": "2020-02-29T19:35:21.508663Z"
    }
   },
   "outputs": [
    {
     "data": {
      "image/svg+xml": [
       "<svg height=\"433pt\" viewBox=\"0.00 0.00 623.50 433.00\" width=\"624pt\" xmlns=\"http://www.w3.org/2000/svg\" xmlns:xlink=\"http://www.w3.org/1999/xlink\">\n",
       "<g class=\"graph\" id=\"graph0\" transform=\"scale(1 1) rotate(0) translate(4 429)\">\n",
       "<title>Tree</title>\n",
       "<polygon fill=\"#ffffff\" points=\"-4,4 -4,-429 619.5,-429 619.5,4 -4,4\" stroke=\"transparent\"/>\n",
       "<!-- 0 -->\n",
       "<g class=\"node\" id=\"node1\">\n",
       "<title>0</title>\n",
       "<path d=\"M313.5,-425C313.5,-425 211.5,-425 211.5,-425 205.5,-425 199.5,-419 199.5,-413 199.5,-413 199.5,-354 199.5,-354 199.5,-348 205.5,-342 211.5,-342 211.5,-342 313.5,-342 313.5,-342 319.5,-342 325.5,-348 325.5,-354 325.5,-354 325.5,-413 325.5,-413 325.5,-419 319.5,-425 313.5,-425\" fill=\"#f5cfb4\" stroke=\"#000000\"/>\n",
       "<text fill=\"#000000\" font-family=\"Helvetica,sans-Serif\" font-size=\"14.00\" text-anchor=\"middle\" x=\"262.5\" y=\"-409.8\">LoyalCH &lt;= 0.504</text>\n",
       "<text fill=\"#000000\" font-family=\"Helvetica,sans-Serif\" font-size=\"14.00\" text-anchor=\"middle\" x=\"262.5\" y=\"-394.8\">gini = 0.472</text>\n",
       "<text fill=\"#000000\" font-family=\"Helvetica,sans-Serif\" font-size=\"14.00\" text-anchor=\"middle\" x=\"262.5\" y=\"-379.8\">samples = 800</text>\n",
       "<text fill=\"#000000\" font-family=\"Helvetica,sans-Serif\" font-size=\"14.00\" text-anchor=\"middle\" x=\"262.5\" y=\"-364.8\">value = [494, 306]</text>\n",
       "<text fill=\"#000000\" font-family=\"Helvetica,sans-Serif\" font-size=\"14.00\" text-anchor=\"middle\" x=\"262.5\" y=\"-349.8\">class = CH</text>\n",
       "</g>\n",
       "<!-- 1 -->\n",
       "<g class=\"node\" id=\"node2\">\n",
       "<title>1</title>\n",
       "<path d=\"M241.5,-306C241.5,-306 139.5,-306 139.5,-306 133.5,-306 127.5,-300 127.5,-294 127.5,-294 127.5,-235 127.5,-235 127.5,-229 133.5,-223 139.5,-223 139.5,-223 241.5,-223 241.5,-223 247.5,-223 253.5,-229 253.5,-235 253.5,-235 253.5,-294 253.5,-294 253.5,-300 247.5,-306 241.5,-306\" fill=\"#8ac5f0\" stroke=\"#000000\"/>\n",
       "<text fill=\"#000000\" font-family=\"Helvetica,sans-Serif\" font-size=\"14.00\" text-anchor=\"middle\" x=\"190.5\" y=\"-290.8\">LoyalCH &lt;= 0.276</text>\n",
       "<text fill=\"#000000\" font-family=\"Helvetica,sans-Serif\" font-size=\"14.00\" text-anchor=\"middle\" x=\"190.5\" y=\"-275.8\">gini = 0.413</text>\n",
       "<text fill=\"#000000\" font-family=\"Helvetica,sans-Serif\" font-size=\"14.00\" text-anchor=\"middle\" x=\"190.5\" y=\"-260.8\">samples = 354</text>\n",
       "<text fill=\"#000000\" font-family=\"Helvetica,sans-Serif\" font-size=\"14.00\" text-anchor=\"middle\" x=\"190.5\" y=\"-245.8\">value = [103, 251]</text>\n",
       "<text fill=\"#000000\" font-family=\"Helvetica,sans-Serif\" font-size=\"14.00\" text-anchor=\"middle\" x=\"190.5\" y=\"-230.8\">class = MM</text>\n",
       "</g>\n",
       "<!-- 0&#45;&gt;1 -->\n",
       "<g class=\"edge\" id=\"edge1\">\n",
       "<title>0-&gt;1</title>\n",
       "<path d=\"M237.3179,-341.8796C232.0867,-333.2335 226.5195,-324.0322 221.1177,-315.1042\" fill=\"none\" stroke=\"#000000\"/>\n",
       "<polygon fill=\"#000000\" points=\"223.9608,-313.0421 215.7896,-306.2981 217.9717,-316.6658 223.9608,-313.0421\" stroke=\"#000000\"/>\n",
       "<text fill=\"#000000\" font-family=\"Helvetica,sans-Serif\" font-size=\"14.00\" text-anchor=\"middle\" x=\"209.816\" y=\"-326.8739\">True</text>\n",
       "</g>\n",
       "<!-- 4 -->\n",
       "<g class=\"node\" id=\"node5\">\n",
       "<title>4</title>\n",
       "<path d=\"M385.5,-306C385.5,-306 283.5,-306 283.5,-306 277.5,-306 271.5,-300 271.5,-294 271.5,-294 271.5,-235 271.5,-235 271.5,-229 277.5,-223 283.5,-223 283.5,-223 385.5,-223 385.5,-223 391.5,-223 397.5,-229 397.5,-235 397.5,-235 397.5,-294 397.5,-294 397.5,-300 391.5,-306 385.5,-306\" fill=\"#e99355\" stroke=\"#000000\"/>\n",
       "<text fill=\"#000000\" font-family=\"Helvetica,sans-Serif\" font-size=\"14.00\" text-anchor=\"middle\" x=\"334.5\" y=\"-290.8\">LoyalCH &lt;= 0.765</text>\n",
       "<text fill=\"#000000\" font-family=\"Helvetica,sans-Serif\" font-size=\"14.00\" text-anchor=\"middle\" x=\"334.5\" y=\"-275.8\">gini = 0.216</text>\n",
       "<text fill=\"#000000\" font-family=\"Helvetica,sans-Serif\" font-size=\"14.00\" text-anchor=\"middle\" x=\"334.5\" y=\"-260.8\">samples = 446</text>\n",
       "<text fill=\"#000000\" font-family=\"Helvetica,sans-Serif\" font-size=\"14.00\" text-anchor=\"middle\" x=\"334.5\" y=\"-245.8\">value = [391, 55]</text>\n",
       "<text fill=\"#000000\" font-family=\"Helvetica,sans-Serif\" font-size=\"14.00\" text-anchor=\"middle\" x=\"334.5\" y=\"-230.8\">class = CH</text>\n",
       "</g>\n",
       "<!-- 0&#45;&gt;4 -->\n",
       "<g class=\"edge\" id=\"edge4\">\n",
       "<title>0-&gt;4</title>\n",
       "<path d=\"M287.6821,-341.8796C292.9133,-333.2335 298.4805,-324.0322 303.8823,-315.1042\" fill=\"none\" stroke=\"#000000\"/>\n",
       "<polygon fill=\"#000000\" points=\"307.0283,-316.6658 309.2104,-306.2981 301.0392,-313.0421 307.0283,-316.6658\" stroke=\"#000000\"/>\n",
       "<text fill=\"#000000\" font-family=\"Helvetica,sans-Serif\" font-size=\"14.00\" text-anchor=\"middle\" x=\"315.184\" y=\"-326.8739\">False</text>\n",
       "</g>\n",
       "<!-- 2 -->\n",
       "<g class=\"node\" id=\"node3\">\n",
       "<title>2</title>\n",
       "<path d=\"M105,-179.5C105,-179.5 12,-179.5 12,-179.5 6,-179.5 0,-173.5 0,-167.5 0,-167.5 0,-123.5 0,-123.5 0,-117.5 6,-111.5 12,-111.5 12,-111.5 105,-111.5 105,-111.5 111,-111.5 117,-117.5 117,-123.5 117,-123.5 117,-167.5 117,-167.5 117,-173.5 111,-179.5 105,-179.5\" fill=\"#56abe9\" stroke=\"#000000\"/>\n",
       "<text fill=\"#000000\" font-family=\"Helvetica,sans-Serif\" font-size=\"14.00\" text-anchor=\"middle\" x=\"58.5\" y=\"-164.3\">gini = 0.223</text>\n",
       "<text fill=\"#000000\" font-family=\"Helvetica,sans-Serif\" font-size=\"14.00\" text-anchor=\"middle\" x=\"58.5\" y=\"-149.3\">samples = 172</text>\n",
       "<text fill=\"#000000\" font-family=\"Helvetica,sans-Serif\" font-size=\"14.00\" text-anchor=\"middle\" x=\"58.5\" y=\"-134.3\">value = [22, 150]</text>\n",
       "<text fill=\"#000000\" font-family=\"Helvetica,sans-Serif\" font-size=\"14.00\" text-anchor=\"middle\" x=\"58.5\" y=\"-119.3\">class = MM</text>\n",
       "</g>\n",
       "<!-- 1&#45;&gt;2 -->\n",
       "<g class=\"edge\" id=\"edge2\">\n",
       "<title>1-&gt;2</title>\n",
       "<path d=\"M144.3328,-222.8796C131.2817,-211.1138 117.0899,-198.3197 104.0739,-186.5855\" fill=\"none\" stroke=\"#000000\"/>\n",
       "<polygon fill=\"#000000\" points=\"106.3346,-183.9113 96.5636,-179.8149 101.6474,-189.1104 106.3346,-183.9113\" stroke=\"#000000\"/>\n",
       "</g>\n",
       "<!-- 3 -->\n",
       "<g class=\"node\" id=\"node4\">\n",
       "<title>3</title>\n",
       "<path d=\"M240,-179.5C240,-179.5 147,-179.5 147,-179.5 141,-179.5 135,-173.5 135,-167.5 135,-167.5 135,-123.5 135,-123.5 135,-117.5 141,-111.5 147,-111.5 147,-111.5 240,-111.5 240,-111.5 246,-111.5 252,-117.5 252,-123.5 252,-123.5 252,-167.5 252,-167.5 252,-173.5 246,-179.5 240,-179.5\" fill=\"#d8ecfa\" stroke=\"#000000\"/>\n",
       "<text fill=\"#000000\" font-family=\"Helvetica,sans-Serif\" font-size=\"14.00\" text-anchor=\"middle\" x=\"193.5\" y=\"-164.3\">gini = 0.494</text>\n",
       "<text fill=\"#000000\" font-family=\"Helvetica,sans-Serif\" font-size=\"14.00\" text-anchor=\"middle\" x=\"193.5\" y=\"-149.3\">samples = 182</text>\n",
       "<text fill=\"#000000\" font-family=\"Helvetica,sans-Serif\" font-size=\"14.00\" text-anchor=\"middle\" x=\"193.5\" y=\"-134.3\">value = [81, 101]</text>\n",
       "<text fill=\"#000000\" font-family=\"Helvetica,sans-Serif\" font-size=\"14.00\" text-anchor=\"middle\" x=\"193.5\" y=\"-119.3\">class = MM</text>\n",
       "</g>\n",
       "<!-- 1&#45;&gt;3 -->\n",
       "<g class=\"edge\" id=\"edge3\">\n",
       "<title>1-&gt;3</title>\n",
       "<path d=\"M191.5493,-222.8796C191.8182,-212.2134 192.1084,-200.7021 192.3806,-189.9015\" fill=\"none\" stroke=\"#000000\"/>\n",
       "<polygon fill=\"#000000\" points=\"195.8817,-189.9 192.6349,-179.8149 188.8839,-189.7235 195.8817,-189.9\" stroke=\"#000000\"/>\n",
       "</g>\n",
       "<!-- 5 -->\n",
       "<g class=\"node\" id=\"node6\">\n",
       "<title>5</title>\n",
       "<path d=\"M379,-179.5C379,-179.5 286,-179.5 286,-179.5 280,-179.5 274,-173.5 274,-167.5 274,-167.5 274,-123.5 274,-123.5 274,-117.5 280,-111.5 286,-111.5 286,-111.5 379,-111.5 379,-111.5 385,-111.5 391,-117.5 391,-123.5 391,-123.5 391,-167.5 391,-167.5 391,-173.5 385,-179.5 379,-179.5\" fill=\"#eeab7b\" stroke=\"#000000\"/>\n",
       "<text fill=\"#000000\" font-family=\"Helvetica,sans-Serif\" font-size=\"14.00\" text-anchor=\"middle\" x=\"332.5\" y=\"-164.3\">gini = 0.375</text>\n",
       "<text fill=\"#000000\" font-family=\"Helvetica,sans-Serif\" font-size=\"14.00\" text-anchor=\"middle\" x=\"332.5\" y=\"-149.3\">samples = 180</text>\n",
       "<text fill=\"#000000\" font-family=\"Helvetica,sans-Serif\" font-size=\"14.00\" text-anchor=\"middle\" x=\"332.5\" y=\"-134.3\">value = [135, 45]</text>\n",
       "<text fill=\"#000000\" font-family=\"Helvetica,sans-Serif\" font-size=\"14.00\" text-anchor=\"middle\" x=\"332.5\" y=\"-119.3\">class = CH</text>\n",
       "</g>\n",
       "<!-- 4&#45;&gt;5 -->\n",
       "<g class=\"edge\" id=\"edge5\">\n",
       "<title>4-&gt;5</title>\n",
       "<path d=\"M333.8005,-222.8796C333.6212,-212.2134 333.4278,-200.7021 333.2462,-189.9015\" fill=\"none\" stroke=\"#000000\"/>\n",
       "<polygon fill=\"#000000\" points=\"336.7444,-189.7547 333.0767,-179.8149 329.7454,-189.8724 336.7444,-189.7547\" stroke=\"#000000\"/>\n",
       "</g>\n",
       "<!-- 6 -->\n",
       "<g class=\"node\" id=\"node7\">\n",
       "<title>6</title>\n",
       "<path d=\"M575.5,-187C575.5,-187 421.5,-187 421.5,-187 415.5,-187 409.5,-181 409.5,-175 409.5,-175 409.5,-116 409.5,-116 409.5,-110 415.5,-104 421.5,-104 421.5,-104 575.5,-104 575.5,-104 581.5,-104 587.5,-110 587.5,-116 587.5,-116 587.5,-175 587.5,-175 587.5,-181 581.5,-187 575.5,-187\" fill=\"#e68641\" stroke=\"#000000\"/>\n",
       "<text fill=\"#000000\" font-family=\"Helvetica,sans-Serif\" font-size=\"14.00\" text-anchor=\"middle\" x=\"498.5\" y=\"-171.8\">WeekofPurchase &lt;= 254.5</text>\n",
       "<text fill=\"#000000\" font-family=\"Helvetica,sans-Serif\" font-size=\"14.00\" text-anchor=\"middle\" x=\"498.5\" y=\"-156.8\">gini = 0.072</text>\n",
       "<text fill=\"#000000\" font-family=\"Helvetica,sans-Serif\" font-size=\"14.00\" text-anchor=\"middle\" x=\"498.5\" y=\"-141.8\">samples = 266</text>\n",
       "<text fill=\"#000000\" font-family=\"Helvetica,sans-Serif\" font-size=\"14.00\" text-anchor=\"middle\" x=\"498.5\" y=\"-126.8\">value = [256, 10]</text>\n",
       "<text fill=\"#000000\" font-family=\"Helvetica,sans-Serif\" font-size=\"14.00\" text-anchor=\"middle\" x=\"498.5\" y=\"-111.8\">class = CH</text>\n",
       "</g>\n",
       "<!-- 4&#45;&gt;6 -->\n",
       "<g class=\"edge\" id=\"edge6\">\n",
       "<title>4-&gt;6</title>\n",
       "<path d=\"M391.8592,-222.8796C405.0925,-213.2774 419.2697,-202.9903 432.8264,-193.1534\" fill=\"none\" stroke=\"#000000\"/>\n",
       "<polygon fill=\"#000000\" points=\"435.1349,-195.8027 441.1731,-187.0969 431.0238,-190.1371 435.1349,-195.8027\" stroke=\"#000000\"/>\n",
       "</g>\n",
       "<!-- 7 -->\n",
       "<g class=\"node\" id=\"node8\">\n",
       "<title>7</title>\n",
       "<path d=\"M475.5,-68C475.5,-68 397.5,-68 397.5,-68 391.5,-68 385.5,-62 385.5,-56 385.5,-56 385.5,-12 385.5,-12 385.5,-6 391.5,0 397.5,0 397.5,0 475.5,0 475.5,0 481.5,0 487.5,-6 487.5,-12 487.5,-12 487.5,-56 487.5,-56 487.5,-62 481.5,-68 475.5,-68\" fill=\"#e78b48\" stroke=\"#000000\"/>\n",
       "<text fill=\"#000000\" font-family=\"Helvetica,sans-Serif\" font-size=\"14.00\" text-anchor=\"middle\" x=\"436.5\" y=\"-52.8\">gini = 0.133</text>\n",
       "<text fill=\"#000000\" font-family=\"Helvetica,sans-Serif\" font-size=\"14.00\" text-anchor=\"middle\" x=\"436.5\" y=\"-37.8\">samples = 84</text>\n",
       "<text fill=\"#000000\" font-family=\"Helvetica,sans-Serif\" font-size=\"14.00\" text-anchor=\"middle\" x=\"436.5\" y=\"-22.8\">value = [78, 6]</text>\n",
       "<text fill=\"#000000\" font-family=\"Helvetica,sans-Serif\" font-size=\"14.00\" text-anchor=\"middle\" x=\"436.5\" y=\"-7.8\">class = CH</text>\n",
       "</g>\n",
       "<!-- 6&#45;&gt;7 -->\n",
       "<g class=\"edge\" id=\"edge7\">\n",
       "<title>6-&gt;7</title>\n",
       "<path d=\"M475.4135,-103.9815C470.5585,-95.2504 465.426,-86.0202 460.5371,-77.2281\" fill=\"none\" stroke=\"#000000\"/>\n",
       "<polygon fill=\"#000000\" points=\"463.4712,-75.3025 455.5524,-68.2637 457.3533,-78.7043 463.4712,-75.3025\" stroke=\"#000000\"/>\n",
       "</g>\n",
       "<!-- 8 -->\n",
       "<g class=\"node\" id=\"node9\">\n",
       "<title>8</title>\n",
       "<path d=\"M603.5,-68C603.5,-68 517.5,-68 517.5,-68 511.5,-68 505.5,-62 505.5,-56 505.5,-56 505.5,-12 505.5,-12 505.5,-6 511.5,0 517.5,0 517.5,0 603.5,0 603.5,0 609.5,0 615.5,-6 615.5,-12 615.5,-12 615.5,-56 615.5,-56 615.5,-62 609.5,-68 603.5,-68\" fill=\"#e6843d\" stroke=\"#000000\"/>\n",
       "<text fill=\"#000000\" font-family=\"Helvetica,sans-Serif\" font-size=\"14.00\" text-anchor=\"middle\" x=\"560.5\" y=\"-52.8\">gini = 0.043</text>\n",
       "<text fill=\"#000000\" font-family=\"Helvetica,sans-Serif\" font-size=\"14.00\" text-anchor=\"middle\" x=\"560.5\" y=\"-37.8\">samples = 182</text>\n",
       "<text fill=\"#000000\" font-family=\"Helvetica,sans-Serif\" font-size=\"14.00\" text-anchor=\"middle\" x=\"560.5\" y=\"-22.8\">value = [178, 4]</text>\n",
       "<text fill=\"#000000\" font-family=\"Helvetica,sans-Serif\" font-size=\"14.00\" text-anchor=\"middle\" x=\"560.5\" y=\"-7.8\">class = CH</text>\n",
       "</g>\n",
       "<!-- 6&#45;&gt;8 -->\n",
       "<g class=\"edge\" id=\"edge8\">\n",
       "<title>6-&gt;8</title>\n",
       "<path d=\"M521.5865,-103.9815C526.4415,-95.2504 531.574,-86.0202 536.4629,-77.2281\" fill=\"none\" stroke=\"#000000\"/>\n",
       "<polygon fill=\"#000000\" points=\"539.6467,-78.7043 541.4476,-68.2637 533.5288,-75.3025 539.6467,-78.7043\" stroke=\"#000000\"/>\n",
       "</g>\n",
       "</g>\n",
       "</svg>"
      ],
      "text/plain": [
       "<IPython.core.display.SVG object>"
      ]
     },
     "metadata": {},
     "output_type": "display_data"
    }
   ],
   "source": [
    "# pre-pruning\n",
    "tree_class_pruned = DecisionTreeClassifier(\n",
    "    criterion='gini',\n",
    "    splitter='best',\n",
    "    max_depth=3,\n",
    "    min_samples_split=0.3,\n",
    "    min_samples_leaf=0.1,\n",
    "    random_state=42\n",
    ")\n",
    "_ = tree_class_pruned.fit(df_x_train, df_y_train)\n",
    "\n",
    "graph = Source(export_graphviz(\n",
    "    tree_class_pruned, \n",
    "    out_file=None,\n",
    "    feature_names=transformed_columns_lst,\n",
    "    class_names=tree_class.classes_,\n",
    "    rounded=True,\n",
    "    filled=True\n",
    "))\n",
    "\n",
    "display(SVG(graph.pipe(format='svg')))"
   ]
  },
  {
   "cell_type": "markdown",
   "metadata": {},
   "source": [
    "<h3>Exercise 8.9.10</h3>\n",
    "<blockquote>\n",
    "    <i>Compare the training error rates between the pruned and unpruned trees. Which is higher?\n",
    "</i>\n",
    "</blockquote>"
   ]
  },
  {
   "cell_type": "code",
   "execution_count": 14,
   "metadata": {
    "ExecuteTime": {
     "end_time": "2020-02-29T19:35:21.768609Z",
     "start_time": "2020-02-29T19:35:21.746982Z"
    }
   },
   "outputs": [
    {
     "name": "stdout",
     "output_type": "stream",
     "text": [
      "pruned (train data): 80.25 %\n",
      "unpruned (train data): 84.50 %\n"
     ]
    }
   ],
   "source": [
    "print(f'pruned (train data): {100*tree_class_pruned.score(df_x_train, df_y_train):.2f} %')\n",
    "print(f'unpruned (train data): {100*tree_class_cv.score(df_x_train, df_y_train):.2f} %')"
   ]
  },
  {
   "cell_type": "markdown",
   "metadata": {},
   "source": [
    "<h3>Exercise 8.9.11</h3>\n",
    "<blockquote>\n",
    "    <i>Compare the test error rates between the pruned and unpruned trees. Which is higher?</i>\n",
    "</blockquote>"
   ]
  },
  {
   "cell_type": "code",
   "execution_count": 15,
   "metadata": {
    "ExecuteTime": {
     "end_time": "2020-02-29T19:35:21.846358Z",
     "start_time": "2020-02-29T19:35:21.770550Z"
    }
   },
   "outputs": [
    {
     "name": "stdout",
     "output_type": "stream",
     "text": [
      "pruned (test data): 79.26 %\n",
      "unpruned (test data): 82.59 %\n"
     ]
    }
   ],
   "source": [
    "print(f'pruned (test data): {100*tree_class_pruned.score(df_x_test, df_y_test):.2f} %')\n",
    "print(f'unpruned (test data): {100*tree_class_cv.score(df_x_test, df_y_test):.2f} %')"
   ]
  }
 ],
 "metadata": {
  "kernelspec": {
   "display_name": "Python 3",
   "language": "python",
   "name": "python3"
  },
  "language_info": {
   "codemirror_mode": {
    "name": "ipython",
    "version": 3
   },
   "file_extension": ".py",
   "mimetype": "text/x-python",
   "name": "python",
   "nbconvert_exporter": "python",
   "pygments_lexer": "ipython3",
   "version": "3.7.5"
  }
 },
 "nbformat": 4,
 "nbformat_minor": 2
}
