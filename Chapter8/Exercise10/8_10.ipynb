{
 "cells": [
  {
   "cell_type": "markdown",
   "metadata": {},
   "source": [
    "<blockquote>\n",
    "    <h1>Exercise 8.10</h1>\n",
    "    <p>We now use boosting to predict $\\mathrm{Salary}$ in the <code>Hitters</code> data set.</p>\n",
    "    <ol>\n",
    "        <li>Remove the observations for whom the salary information is unknown, and then log-transform the salaries.</li>\n",
    "        <li>Create a training set consisting of the first 200 observations, and a test set consisting of the remaining observations.</li>\n",
    "        <li>Perform boosting on the training set with $1000$ trees for a range of values of the shrinkage parameter $\\lambda$. Produce a plot with different shrinkage values on the $x$-axis and the corresponding training set MSE on the $y$-axis.</li>\n",
    "        <li>Produce a plot with different shrinkage values on the $x$-axis and the corresponding test set MSE on the $y$-axis.</li>\n",
    "        <li>Compare the test MSE of boosting to the test MSE that results from applying two of the regression approaches seen in Chapters 3 and 6.</li>\n",
    "        <li>Which variables appear to be the most important predictors in the boosted model?</li>\n",
    "        <li>Now apply bagging to the training set. What is the test set MSE for this approach?</li>\n",
    "    </ol>\n",
    "</blockquote>"
   ]
  },
  {
   "cell_type": "code",
   "execution_count": 1,
   "metadata": {
    "ExecuteTime": {
     "end_time": "2020-03-01T13:09:30.576784Z",
     "start_time": "2020-03-01T13:09:28.131905Z"
    }
   },
   "outputs": [],
   "source": [
    "import numpy as np\n",
    "import pandas as pd\n",
    "import matplotlib.pyplot as plt\n",
    "\n",
    "# https://stackoverflow.com/questions/34398054/ipython-notebook-cell-multiple-outputs\n",
    "from IPython.core.interactiveshell import InteractiveShell\n",
    "InteractiveShell.ast_node_interactivity = \"all\"\n",
    "\n",
    "from sklearn.model_selection import train_test_split, GridSearchCV\n",
    "from sklearn.preprocessing import OneHotEncoder  # https://medium.com/@contactsunny/label-encoder-vs-one-hot-encoder-in-machine-learning-3fc273365621\n",
    "from sklearn.ensemble import GradientBoostingRegressor, BaggingRegressor\n",
    "from sklearn.metrics import mean_squared_error\n",
    "from sklearn.linear_model import LinearRegression, Ridge, Lasso\n",
    "from sklearn.tree import DecisionTreeRegressor"
   ]
  },
  {
   "cell_type": "code",
   "execution_count": 2,
   "metadata": {
    "ExecuteTime": {
     "end_time": "2020-03-01T13:09:30.726212Z",
     "start_time": "2020-03-01T13:09:30.578218Z"
    }
   },
   "outputs": [
    {
     "data": {
      "text/html": [
       "<div>\n",
       "<style scoped>\n",
       "    .dataframe tbody tr th:only-of-type {\n",
       "        vertical-align: middle;\n",
       "    }\n",
       "\n",
       "    .dataframe tbody tr th {\n",
       "        vertical-align: top;\n",
       "    }\n",
       "\n",
       "    .dataframe thead th {\n",
       "        text-align: right;\n",
       "    }\n",
       "</style>\n",
       "<table border=\"1\" class=\"dataframe\">\n",
       "  <thead>\n",
       "    <tr style=\"text-align: right;\">\n",
       "      <th></th>\n",
       "      <th>AtBat</th>\n",
       "      <th>Hits</th>\n",
       "      <th>HmRun</th>\n",
       "      <th>Runs</th>\n",
       "      <th>RBI</th>\n",
       "      <th>Walks</th>\n",
       "      <th>Years</th>\n",
       "      <th>CAtBat</th>\n",
       "      <th>CHits</th>\n",
       "      <th>CHmRun</th>\n",
       "      <th>CRuns</th>\n",
       "      <th>CRBI</th>\n",
       "      <th>CWalks</th>\n",
       "      <th>League</th>\n",
       "      <th>Division</th>\n",
       "      <th>PutOuts</th>\n",
       "      <th>Assists</th>\n",
       "      <th>Errors</th>\n",
       "      <th>Salary</th>\n",
       "      <th>NewLeague</th>\n",
       "    </tr>\n",
       "  </thead>\n",
       "  <tbody>\n",
       "    <tr>\n",
       "      <th>-Andy Allanson</th>\n",
       "      <td>293</td>\n",
       "      <td>66</td>\n",
       "      <td>1</td>\n",
       "      <td>30</td>\n",
       "      <td>29</td>\n",
       "      <td>14</td>\n",
       "      <td>1</td>\n",
       "      <td>293</td>\n",
       "      <td>66</td>\n",
       "      <td>1</td>\n",
       "      <td>30</td>\n",
       "      <td>29</td>\n",
       "      <td>14</td>\n",
       "      <td>A</td>\n",
       "      <td>E</td>\n",
       "      <td>446</td>\n",
       "      <td>33</td>\n",
       "      <td>20</td>\n",
       "      <td>NaN</td>\n",
       "      <td>A</td>\n",
       "    </tr>\n",
       "    <tr>\n",
       "      <th>-Alan Ashby</th>\n",
       "      <td>315</td>\n",
       "      <td>81</td>\n",
       "      <td>7</td>\n",
       "      <td>24</td>\n",
       "      <td>38</td>\n",
       "      <td>39</td>\n",
       "      <td>14</td>\n",
       "      <td>3449</td>\n",
       "      <td>835</td>\n",
       "      <td>69</td>\n",
       "      <td>321</td>\n",
       "      <td>414</td>\n",
       "      <td>375</td>\n",
       "      <td>N</td>\n",
       "      <td>W</td>\n",
       "      <td>632</td>\n",
       "      <td>43</td>\n",
       "      <td>10</td>\n",
       "      <td>475.0</td>\n",
       "      <td>N</td>\n",
       "    </tr>\n",
       "    <tr>\n",
       "      <th>-Alvin Davis</th>\n",
       "      <td>479</td>\n",
       "      <td>130</td>\n",
       "      <td>18</td>\n",
       "      <td>66</td>\n",
       "      <td>72</td>\n",
       "      <td>76</td>\n",
       "      <td>3</td>\n",
       "      <td>1624</td>\n",
       "      <td>457</td>\n",
       "      <td>63</td>\n",
       "      <td>224</td>\n",
       "      <td>266</td>\n",
       "      <td>263</td>\n",
       "      <td>A</td>\n",
       "      <td>W</td>\n",
       "      <td>880</td>\n",
       "      <td>82</td>\n",
       "      <td>14</td>\n",
       "      <td>480.0</td>\n",
       "      <td>A</td>\n",
       "    </tr>\n",
       "    <tr>\n",
       "      <th>-Andre Dawson</th>\n",
       "      <td>496</td>\n",
       "      <td>141</td>\n",
       "      <td>20</td>\n",
       "      <td>65</td>\n",
       "      <td>78</td>\n",
       "      <td>37</td>\n",
       "      <td>11</td>\n",
       "      <td>5628</td>\n",
       "      <td>1575</td>\n",
       "      <td>225</td>\n",
       "      <td>828</td>\n",
       "      <td>838</td>\n",
       "      <td>354</td>\n",
       "      <td>N</td>\n",
       "      <td>E</td>\n",
       "      <td>200</td>\n",
       "      <td>11</td>\n",
       "      <td>3</td>\n",
       "      <td>500.0</td>\n",
       "      <td>N</td>\n",
       "    </tr>\n",
       "    <tr>\n",
       "      <th>-Andres Galarraga</th>\n",
       "      <td>321</td>\n",
       "      <td>87</td>\n",
       "      <td>10</td>\n",
       "      <td>39</td>\n",
       "      <td>42</td>\n",
       "      <td>30</td>\n",
       "      <td>2</td>\n",
       "      <td>396</td>\n",
       "      <td>101</td>\n",
       "      <td>12</td>\n",
       "      <td>48</td>\n",
       "      <td>46</td>\n",
       "      <td>33</td>\n",
       "      <td>N</td>\n",
       "      <td>E</td>\n",
       "      <td>805</td>\n",
       "      <td>40</td>\n",
       "      <td>4</td>\n",
       "      <td>91.5</td>\n",
       "      <td>N</td>\n",
       "    </tr>\n",
       "  </tbody>\n",
       "</table>\n",
       "</div>"
      ],
      "text/plain": [
       "                   AtBat  Hits  HmRun  Runs  RBI  Walks  Years  CAtBat  CHits  \\\n",
       "-Andy Allanson       293    66      1    30   29     14      1     293     66   \n",
       "-Alan Ashby          315    81      7    24   38     39     14    3449    835   \n",
       "-Alvin Davis         479   130     18    66   72     76      3    1624    457   \n",
       "-Andre Dawson        496   141     20    65   78     37     11    5628   1575   \n",
       "-Andres Galarraga    321    87     10    39   42     30      2     396    101   \n",
       "\n",
       "                   CHmRun  CRuns  CRBI  CWalks League Division  PutOuts  \\\n",
       "-Andy Allanson          1     30    29      14      A        E      446   \n",
       "-Alan Ashby            69    321   414     375      N        W      632   \n",
       "-Alvin Davis           63    224   266     263      A        W      880   \n",
       "-Andre Dawson         225    828   838     354      N        E      200   \n",
       "-Andres Galarraga      12     48    46      33      N        E      805   \n",
       "\n",
       "                   Assists  Errors  Salary NewLeague  \n",
       "-Andy Allanson          33      20     NaN         A  \n",
       "-Alan Ashby             43      10   475.0         N  \n",
       "-Alvin Davis            82      14   480.0         A  \n",
       "-Andre Dawson           11       3   500.0         N  \n",
       "-Andres Galarraga       40       4    91.5         N  "
      ]
     },
     "execution_count": 2,
     "metadata": {},
     "output_type": "execute_result"
    }
   ],
   "source": [
    "df = pd.read_csv(\"../../DataSets/Hitters/Hitters.csv\", index_col = 0)\n",
    "df.head()"
   ]
  },
  {
   "cell_type": "code",
   "execution_count": 3,
   "metadata": {
    "ExecuteTime": {
     "end_time": "2020-03-01T13:09:30.970449Z",
     "start_time": "2020-03-01T13:09:30.731439Z"
    }
   },
   "outputs": [
    {
     "data": {
      "text/html": [
       "<div>\n",
       "<style scoped>\n",
       "    .dataframe tbody tr th:only-of-type {\n",
       "        vertical-align: middle;\n",
       "    }\n",
       "\n",
       "    .dataframe tbody tr th {\n",
       "        vertical-align: top;\n",
       "    }\n",
       "\n",
       "    .dataframe thead th {\n",
       "        text-align: right;\n",
       "    }\n",
       "</style>\n",
       "<table border=\"1\" class=\"dataframe\">\n",
       "  <thead>\n",
       "    <tr style=\"text-align: right;\">\n",
       "      <th></th>\n",
       "      <th>AtBat</th>\n",
       "      <th>Hits</th>\n",
       "      <th>HmRun</th>\n",
       "      <th>Runs</th>\n",
       "      <th>RBI</th>\n",
       "      <th>Walks</th>\n",
       "      <th>Years</th>\n",
       "      <th>CAtBat</th>\n",
       "      <th>CHits</th>\n",
       "      <th>CHmRun</th>\n",
       "      <th>...</th>\n",
       "      <th>PutOuts</th>\n",
       "      <th>Assists</th>\n",
       "      <th>Errors</th>\n",
       "      <th>Salary</th>\n",
       "      <th>League (A)</th>\n",
       "      <th>League (N)</th>\n",
       "      <th>Division (E)</th>\n",
       "      <th>Division (W)</th>\n",
       "      <th>NewLeague (A)</th>\n",
       "      <th>NewLeague (N)</th>\n",
       "    </tr>\n",
       "  </thead>\n",
       "  <tbody>\n",
       "    <tr>\n",
       "      <th>-Andy Allanson</th>\n",
       "      <td>293</td>\n",
       "      <td>66</td>\n",
       "      <td>1</td>\n",
       "      <td>30</td>\n",
       "      <td>29</td>\n",
       "      <td>14</td>\n",
       "      <td>1</td>\n",
       "      <td>293</td>\n",
       "      <td>66</td>\n",
       "      <td>1</td>\n",
       "      <td>...</td>\n",
       "      <td>446</td>\n",
       "      <td>33</td>\n",
       "      <td>20</td>\n",
       "      <td>NaN</td>\n",
       "      <td>1</td>\n",
       "      <td>0</td>\n",
       "      <td>1</td>\n",
       "      <td>0</td>\n",
       "      <td>1</td>\n",
       "      <td>0</td>\n",
       "    </tr>\n",
       "    <tr>\n",
       "      <th>-Alan Ashby</th>\n",
       "      <td>315</td>\n",
       "      <td>81</td>\n",
       "      <td>7</td>\n",
       "      <td>24</td>\n",
       "      <td>38</td>\n",
       "      <td>39</td>\n",
       "      <td>14</td>\n",
       "      <td>3449</td>\n",
       "      <td>835</td>\n",
       "      <td>69</td>\n",
       "      <td>...</td>\n",
       "      <td>632</td>\n",
       "      <td>43</td>\n",
       "      <td>10</td>\n",
       "      <td>475.0</td>\n",
       "      <td>0</td>\n",
       "      <td>1</td>\n",
       "      <td>0</td>\n",
       "      <td>1</td>\n",
       "      <td>0</td>\n",
       "      <td>1</td>\n",
       "    </tr>\n",
       "    <tr>\n",
       "      <th>-Alvin Davis</th>\n",
       "      <td>479</td>\n",
       "      <td>130</td>\n",
       "      <td>18</td>\n",
       "      <td>66</td>\n",
       "      <td>72</td>\n",
       "      <td>76</td>\n",
       "      <td>3</td>\n",
       "      <td>1624</td>\n",
       "      <td>457</td>\n",
       "      <td>63</td>\n",
       "      <td>...</td>\n",
       "      <td>880</td>\n",
       "      <td>82</td>\n",
       "      <td>14</td>\n",
       "      <td>480.0</td>\n",
       "      <td>1</td>\n",
       "      <td>0</td>\n",
       "      <td>0</td>\n",
       "      <td>1</td>\n",
       "      <td>1</td>\n",
       "      <td>0</td>\n",
       "    </tr>\n",
       "    <tr>\n",
       "      <th>-Andre Dawson</th>\n",
       "      <td>496</td>\n",
       "      <td>141</td>\n",
       "      <td>20</td>\n",
       "      <td>65</td>\n",
       "      <td>78</td>\n",
       "      <td>37</td>\n",
       "      <td>11</td>\n",
       "      <td>5628</td>\n",
       "      <td>1575</td>\n",
       "      <td>225</td>\n",
       "      <td>...</td>\n",
       "      <td>200</td>\n",
       "      <td>11</td>\n",
       "      <td>3</td>\n",
       "      <td>500.0</td>\n",
       "      <td>0</td>\n",
       "      <td>1</td>\n",
       "      <td>1</td>\n",
       "      <td>0</td>\n",
       "      <td>0</td>\n",
       "      <td>1</td>\n",
       "    </tr>\n",
       "    <tr>\n",
       "      <th>-Andres Galarraga</th>\n",
       "      <td>321</td>\n",
       "      <td>87</td>\n",
       "      <td>10</td>\n",
       "      <td>39</td>\n",
       "      <td>42</td>\n",
       "      <td>30</td>\n",
       "      <td>2</td>\n",
       "      <td>396</td>\n",
       "      <td>101</td>\n",
       "      <td>12</td>\n",
       "      <td>...</td>\n",
       "      <td>805</td>\n",
       "      <td>40</td>\n",
       "      <td>4</td>\n",
       "      <td>91.5</td>\n",
       "      <td>0</td>\n",
       "      <td>1</td>\n",
       "      <td>1</td>\n",
       "      <td>0</td>\n",
       "      <td>0</td>\n",
       "      <td>1</td>\n",
       "    </tr>\n",
       "  </tbody>\n",
       "</table>\n",
       "<p>5 rows × 23 columns</p>\n",
       "</div>"
      ],
      "text/plain": [
       "                   AtBat  Hits  HmRun  Runs  RBI  Walks  Years  CAtBat  CHits  \\\n",
       "-Andy Allanson       293    66      1    30   29     14      1     293     66   \n",
       "-Alan Ashby          315    81      7    24   38     39     14    3449    835   \n",
       "-Alvin Davis         479   130     18    66   72     76      3    1624    457   \n",
       "-Andre Dawson        496   141     20    65   78     37     11    5628   1575   \n",
       "-Andres Galarraga    321    87     10    39   42     30      2     396    101   \n",
       "\n",
       "                   CHmRun  ...  PutOuts  Assists  Errors  Salary  League (A)  \\\n",
       "-Andy Allanson          1  ...      446       33      20     NaN           1   \n",
       "-Alan Ashby            69  ...      632       43      10   475.0           0   \n",
       "-Alvin Davis           63  ...      880       82      14   480.0           1   \n",
       "-Andre Dawson         225  ...      200       11       3   500.0           0   \n",
       "-Andres Galarraga      12  ...      805       40       4    91.5           0   \n",
       "\n",
       "                   League (N)  Division (E) Division (W) NewLeague (A)  \\\n",
       "-Andy Allanson              0             1            0             1   \n",
       "-Alan Ashby                 1             0            1             0   \n",
       "-Alvin Davis                0             0            1             1   \n",
       "-Andre Dawson               1             1            0             0   \n",
       "-Andres Galarraga           1             1            0             0   \n",
       "\n",
       "                  NewLeague (N)  \n",
       "-Andy Allanson                0  \n",
       "-Alan Ashby                   1  \n",
       "-Alvin Davis                  0  \n",
       "-Andre Dawson                 1  \n",
       "-Andres Galarraga             1  \n",
       "\n",
       "[5 rows x 23 columns]"
      ]
     },
     "execution_count": 3,
     "metadata": {},
     "output_type": "execute_result"
    }
   ],
   "source": [
    "# Convert categorical independent data using one hot encoding:\n",
    "# which takes a column with categorical data and \n",
    "# then splits the column into multiple columns. \n",
    "# The numbers are replaced by 1s and 0s, depending \n",
    "# on which column has what value. \n",
    "categorical_lst = ['League', 'Division', 'NewLeague']\n",
    "columns = df.columns.tolist()\n",
    "indices = [index for index, column in enumerate(columns) if column in categorical_lst]\n",
    "\n",
    "onehotencoder = OneHotEncoder()\n",
    "categorical_transformed = onehotencoder.fit_transform(df[categorical_lst]).toarray()\n",
    "    \n",
    "new_categorical_lst = []\n",
    "for categorical_name, np_arr in zip(categorical_lst, onehotencoder.categories_):\n",
    "    temp_lst = [f'{categorical_name} ({category})' for category in np_arr]\n",
    "    new_categorical_lst.extend(temp_lst)\n",
    "    \n",
    "df_categorical_transformed = pd.DataFrame(categorical_transformed, \n",
    "                                          columns=new_categorical_lst, \n",
    "                                          index=df.index,\n",
    "                                          dtype='int64')\n",
    "for column in new_categorical_lst:\n",
    "    df_categorical_transformed[column] = df_categorical_transformed[column].astype('category')\n",
    "\n",
    "df_transformed = pd.concat([df.drop(categorical_lst, 1), df_categorical_transformed], axis=1)\n",
    "df_transformed.head()"
   ]
  },
  {
   "cell_type": "markdown",
   "metadata": {},
   "source": [
    "<h3>Exercise 8.10.1</h3>\n",
    "<blockquote>\n",
    "    <i>Remove the observations for whom the salary information is unknown, and then log-transform the salaries.</i>\n",
    "</blockquote>"
   ]
  },
  {
   "cell_type": "code",
   "execution_count": 4,
   "metadata": {
    "ExecuteTime": {
     "end_time": "2020-03-01T13:09:31.021908Z",
     "start_time": "2020-03-01T13:09:30.976307Z"
    }
   },
   "outputs": [],
   "source": [
    "df.dropna(inplace=True)\n",
    "df['Salary_log'] = np.log(df['Salary'])\n",
    "\n",
    "df_transformed.dropna(inplace=True)\n",
    "df_transformed['Salary_log'] = df['Salary_log'].copy()"
   ]
  },
  {
   "cell_type": "markdown",
   "metadata": {
    "ExecuteTime": {
     "end_time": "2020-02-29T20:38:59.303880Z",
     "start_time": "2020-02-29T20:38:59.282497Z"
    }
   },
   "source": [
    "<h3>Exercise 8.10.2</h3>\n",
    "<blockquote>\n",
    "    <i>Create a training set consisting of the first 200 observations, and a test set consisting of the remaining observations.</i>\n",
    "</blockquote>"
   ]
  },
  {
   "cell_type": "code",
   "execution_count": 5,
   "metadata": {
    "ExecuteTime": {
     "end_time": "2020-03-01T13:09:31.095549Z",
     "start_time": "2020-03-01T13:09:31.023438Z"
    }
   },
   "outputs": [],
   "source": [
    "df_y = df_transformed[['Salary_log']]\n",
    "df_x = df_transformed.drop(['Salary', 'Salary_log'], 1)\n",
    "df_x_train, df_x_test, df_y_train, df_y_test = train_test_split(\n",
    "    df_x, \n",
    "    df_y, \n",
    "    train_size=200, \n",
    "    random_state=42\n",
    ")"
   ]
  },
  {
   "cell_type": "markdown",
   "metadata": {},
   "source": [
    "<h3>Exercise 8.10.3</h3>\n",
    "<blockquote>\n",
    "    <i>Perform boosting on the training set with $1000$ trees for a range of values of the shrinkage parameter $\\lambda$. Produce a plot with different shrinkage values on the $x$-axis and the corresponding training set MSE on the $y$-axis.</i>\n",
    "</blockquote>"
   ]
  },
  {
   "cell_type": "code",
   "execution_count": 6,
   "metadata": {
    "ExecuteTime": {
     "end_time": "2020-03-01T13:10:03.056497Z",
     "start_time": "2020-03-01T13:09:31.097127Z"
    }
   },
   "outputs": [
    {
     "data": {
      "image/png": "[encoded data removed]",
      "text/plain": [
       "<Figure size 576x432 with 1 Axes>"
      ]
     },
     "metadata": {
      "needs_background": "light"
     },
     "output_type": "display_data"
    }
   ],
   "source": [
    "B = 1000\n",
    "d = 3 # number of splits in each tree\n",
    "\n",
    "lambda_arr = np.linspace(0.005, 0.25, 50)\n",
    "MSE_train_arr = np.empty(shape=(lambda_arr.shape[0], ))\n",
    "MSE_test_arr = np.empty(shape=(lambda_arr.shape[0], ))\n",
    "for index, lambda_ in enumerate(lambda_arr):\n",
    "    boosting_reg = GradientBoostingRegressor(\n",
    "        learning_rate=lambda_,\n",
    "        n_estimators=B,\n",
    "        max_leaf_nodes=d+1,\n",
    "        max_depth=None,\n",
    "        random_state=42\n",
    "    )\n",
    "    _ = boosting_reg.fit(df_x_train, df_y_train['Salary_log'])\n",
    "    \n",
    "    y_pred_train = boosting_reg.predict(df_x_train)\n",
    "    MSE_train_arr[index] = mean_squared_error(y_pred_train, df_y_train)\n",
    "    \n",
    "    y_pred_test = boosting_reg.predict(df_x_test)\n",
    "    MSE_test_arr[index] = mean_squared_error(y_pred_test, df_y_test)\n",
    "    \n",
    "fig, ax = plt.subplots(1, 1, constrained_layout=True, figsize=(8, 6))\n",
    "_ = ax.scatter(lambda_arr, MSE_train_arr)\n",
    "_ = ax.set_xlabel(r'shrinkage parameter $\\lambda$')\n",
    "_ = ax.set_ylabel(r'train MSE')"
   ]
  },
  {
   "cell_type": "markdown",
   "metadata": {
    "ExecuteTime": {
     "end_time": "2020-03-01T10:56:55.029396Z",
     "start_time": "2020-03-01T10:56:54.764182Z"
    }
   },
   "source": [
    "<h3>Exercise 8.10.4</h3>\n",
    "<blockquote>\n",
    "    <i>Produce a plot with different shrinkage values on the $x$-axis and the corresponding test set MSE on the $y$-axis.</i>\n",
    "</blockquote>"
   ]
  },
  {
   "cell_type": "code",
   "execution_count": 7,
   "metadata": {
    "ExecuteTime": {
     "end_time": "2020-03-01T13:10:03.338354Z",
     "start_time": "2020-03-01T13:10:03.057926Z"
    }
   },
   "outputs": [
    {
     "data": {
      "image/png": "[encoded data removed]",
      "text/plain": [
       "<Figure size 576x432 with 1 Axes>"
      ]
     },
     "metadata": {
      "needs_background": "light"
     },
     "output_type": "display_data"
    }
   ],
   "source": [
    "fig, ax = plt.subplots(1, 1, constrained_layout=True, figsize=(8, 6))\n",
    "_ = ax.scatter(lambda_arr, MSE_test_arr)\n",
    "_ = ax.set_xlabel(r'shrinkage parameter $\\lambda$')\n",
    "_ = ax.set_ylabel(r'test MSE')"
   ]
  },
  {
   "cell_type": "markdown",
   "metadata": {},
   "source": [
    "<p>This doesn't look very reliable, so we will use cross-validation to evaluate the shrinkage parameter.</p>"
   ]
  },
  {
   "cell_type": "code",
   "execution_count": 8,
   "metadata": {
    "ExecuteTime": {
     "end_time": "2020-03-01T13:12:46.947277Z",
     "start_time": "2020-03-01T13:10:03.340127Z"
    }
   },
   "outputs": [
    {
     "name": "stdout",
     "output_type": "stream",
     "text": [
      "GradientBoostingRegressor(alpha=0.9, ccp_alpha=0.0, criterion='friedman_mse',\n",
      "                          init=None, learning_rate=0.007200000000000001,\n",
      "                          loss='ls', max_depth=None, max_features=None,\n",
      "                          max_leaf_nodes=4, min_impurity_decrease=0.0,\n",
      "                          min_impurity_split=None, min_samples_leaf=1,\n",
      "                          min_samples_split=2, min_weight_fraction_leaf=0.0,\n",
      "                          n_estimators=1000, n_iter_no_change=None,\n",
      "                          presort='deprecated', random_state=42, subsample=1.0,\n",
      "                          tol=0.0001, validation_fraction=0.1, verbose=0,\n",
      "                          warm_start=False)\n",
      "-0.19222308571540925\n"
     ]
    }
   ],
   "source": [
    "boosting_reg = GradientBoostingRegressor(\n",
    "    n_estimators=B,\n",
    "    max_leaf_nodes=d+1,\n",
    "    max_depth=None,\n",
    "    random_state=42\n",
    ")\n",
    "grid_search = GridSearchCV(boosting_reg, {'learning_rate': np.linspace(0, 0.1, 251)[1:]},\n",
    "                           n_jobs=-1, scoring='neg_mean_squared_error')\n",
    "_ = grid_search.fit(df_x, df_y['Salary_log'])\n",
    "\n",
    "print(grid_search.best_estimator_)\n",
    "print(grid_search.best_score_)"
   ]
  },
  {
   "cell_type": "code",
   "execution_count": 9,
   "metadata": {
    "ExecuteTime": {
     "end_time": "2020-03-01T13:12:47.354305Z",
     "start_time": "2020-03-01T13:12:46.950054Z"
    }
   },
   "outputs": [
    {
     "data": {
      "image/png": "[encoded data removed]",
      "text/plain": [
       "<Figure size 576x432 with 1 Axes>"
      ]
     },
     "metadata": {
      "needs_background": "light"
     },
     "output_type": "display_data"
    }
   ],
   "source": [
    "lambda_arr = [params_dct['learning_rate'] for params_dct in grid_search.cv_results_['params']]\n",
    "MSE_test_arr = - grid_search.cv_results_['mean_test_score']\n",
    "\n",
    "fig, ax = plt.subplots(1, 1, constrained_layout=True, figsize=(8, 6))\n",
    "_ = ax.scatter(lambda_arr, MSE_test_arr, s=0.1)\n",
    "_ = ax.set_xlabel(r'shrinkage parameter $\\lambda$')\n",
    "_ = ax.set_ylabel(r'test MSE')\n",
    "id_min = np.argmin(MSE_test_arr)\n",
    "_ = ax.axvline(lambda_arr[id_min], color='black', linestyle=':', label='smallest test MSE')\n",
    "_ = ax.legend()"
   ]
  },
  {
   "cell_type": "markdown",
   "metadata": {},
   "source": [
    "<h3>Exercise 8.10.5</h3>\n",
    "<blockquote>\n",
    "    <i>Compare the test MSE of boosting to the test MSE that results from applying two of the regression approaches seen in Chapters 3 and 6.</i>\n",
    "</blockquote>\n",
    "\n",
    "<p>We first perform a multiple linear regression on the training data.</p>"
   ]
  },
  {
   "cell_type": "code",
   "execution_count": 10,
   "metadata": {
    "ExecuteTime": {
     "end_time": "2020-03-01T13:12:47.367675Z",
     "start_time": "2020-03-01T13:12:47.356122Z"
    }
   },
   "outputs": [
    {
     "data": {
      "text/plain": [
       "0.4472727400525929"
      ]
     },
     "execution_count": 10,
     "metadata": {},
     "output_type": "execute_result"
    }
   ],
   "source": [
    "lin_reg = LinearRegression()\n",
    "_ = lin_reg.fit(df_x_train, df_y_train)\n",
    "Y_pred_test = lin_reg.predict(df_x_test)\n",
    "mean_squared_error(Y_pred_test, df_y_test)"
   ]
  },
  {
   "cell_type": "markdown",
   "metadata": {},
   "source": [
    "<p>Let us now investigate the ridge regression.</p>"
   ]
  },
  {
   "cell_type": "code",
   "execution_count": 11,
   "metadata": {
    "ExecuteTime": {
     "end_time": "2020-03-01T13:12:49.743397Z",
     "start_time": "2020-03-01T13:12:47.369101Z"
    }
   },
   "outputs": [
    {
     "name": "stdout",
     "output_type": "stream",
     "text": [
      "Ridge(alpha=95.60000000000001, copy_X=True, fit_intercept=True, max_iter=None,\n",
      "      normalize=False, random_state=None, solver='auto', tol=0.001)\n",
      "-0.4350218484276212\n"
     ]
    }
   ],
   "source": [
    "grid_search = GridSearchCV(Ridge(), {'alpha': np.linspace(0, 100, 251)[1:]},\n",
    "                           n_jobs=-1, scoring='neg_mean_squared_error')\n",
    "_ = grid_search.fit(df_x, df_y)\n",
    "\n",
    "print(grid_search.best_estimator_)\n",
    "print(grid_search.best_score_)"
   ]
  },
  {
   "cell_type": "code",
   "execution_count": 12,
   "metadata": {
    "ExecuteTime": {
     "end_time": "2020-03-01T13:12:50.098485Z",
     "start_time": "2020-03-01T13:12:49.746991Z"
    }
   },
   "outputs": [
    {
     "data": {
      "image/png": "[encoded data removed]",
      "text/plain": [
       "<Figure size 576x432 with 1 Axes>"
      ]
     },
     "metadata": {
      "needs_background": "light"
     },
     "output_type": "display_data"
    }
   ],
   "source": [
    "lambda_arr = [params_dct['alpha'] for params_dct in grid_search.cv_results_['params']]\n",
    "MSE_test_arr = - grid_search.cv_results_['mean_test_score']\n",
    "\n",
    "fig, ax = plt.subplots(1, 1, constrained_layout=True, figsize=(8, 6))\n",
    "_ = ax.scatter(lambda_arr, MSE_test_arr, s=0.1)\n",
    "_ = ax.set_xlabel(r'shrinkage parameter $\\lambda$')\n",
    "_ = ax.set_ylabel(r'test MSE')\n",
    "id_min = np.argmin(MSE_test_arr)\n",
    "_ = ax.axvline(lambda_arr[id_min], color='black', linestyle=':', label='smallest test MSE')\n",
    "_ = ax.legend()"
   ]
  },
  {
   "cell_type": "markdown",
   "metadata": {},
   "source": [
    "<p>Finally, we fit the lasso regression on the data set.</p>"
   ]
  },
  {
   "cell_type": "code",
   "execution_count": 13,
   "metadata": {
    "ExecuteTime": {
     "end_time": "2020-03-01T13:12:55.100465Z",
     "start_time": "2020-03-01T13:12:50.100394Z"
    }
   },
   "outputs": [
    {
     "name": "stdout",
     "output_type": "stream",
     "text": [
      "Lasso(alpha=0.00824, copy_X=True, fit_intercept=True, max_iter=10000,\n",
      "      normalize=False, positive=False, precompute=False, random_state=None,\n",
      "      selection='cyclic', tol=0.0001, warm_start=False)\n",
      "-0.4369229319142229\n"
     ]
    }
   ],
   "source": [
    "grid_search = GridSearchCV(Lasso(max_iter=10000), {'alpha': np.linspace(0, 0.02, 251)[1:]},\n",
    "                           n_jobs=-1, scoring='neg_mean_squared_error')\n",
    "_ = grid_search.fit(df_x, df_y)\n",
    "\n",
    "print(grid_search.best_estimator_)\n",
    "print(grid_search.best_score_)"
   ]
  },
  {
   "cell_type": "code",
   "execution_count": 14,
   "metadata": {
    "ExecuteTime": {
     "end_time": "2020-03-01T13:12:55.428144Z",
     "start_time": "2020-03-01T13:12:55.101805Z"
    }
   },
   "outputs": [
    {
     "data": {
      "image/png": "[encoded data removed]",
      "text/plain": [
       "<Figure size 576x432 with 1 Axes>"
      ]
     },
     "metadata": {
      "needs_background": "light"
     },
     "output_type": "display_data"
    }
   ],
   "source": [
    "lambda_arr = [params_dct['alpha'] for params_dct in grid_search.cv_results_['params']]\n",
    "MSE_test_arr = - grid_search.cv_results_['mean_test_score']\n",
    "\n",
    "fig, ax = plt.subplots(1, 1, constrained_layout=True, figsize=(8, 6))\n",
    "_ = ax.scatter(lambda_arr, MSE_test_arr, s=0.1)\n",
    "_ = ax.set_xlabel(r'shrinkage parameter $\\lambda$')\n",
    "_ = ax.set_ylabel(r'test MSE')\n",
    "id_min = np.argmin(MSE_test_arr)\n",
    "_ = ax.axvline(lambda_arr[id_min], color='black', linestyle=':', label='smallest test MSE')\n",
    "_ = ax.legend()"
   ]
  },
  {
   "cell_type": "markdown",
   "metadata": {},
   "source": [
    "<h3>Exercise 8.10.6</h3>\n",
    "<blockquote>\n",
    "    <i>Which variables appear to be the most important predictors in the boosted model?</i>\n",
    "</blockquote>"
   ]
  },
  {
   "cell_type": "code",
   "execution_count": 15,
   "metadata": {
    "ExecuteTime": {
     "end_time": "2020-03-01T13:12:56.735514Z",
     "start_time": "2020-03-01T13:12:55.430002Z"
    }
   },
   "outputs": [
    {
     "data": {
      "image/png": "[encoded data removed]",
      "text/plain": [
       "<Figure size 576x432 with 1 Axes>"
      ]
     },
     "metadata": {
      "needs_background": "light"
     },
     "output_type": "display_data"
    }
   ],
   "source": [
    "optimum_learning_rate = 0.0072\n",
    "boosting_reg = GradientBoostingRegressor(\n",
    "    learning_rate=optimum_learning_rate,\n",
    "    n_estimators=B,\n",
    "    max_leaf_nodes=d+1,\n",
    "    max_depth=None,\n",
    "    random_state=42\n",
    ")\n",
    "_ = boosting_reg.fit(df_x, df_y['Salary_log'])\n",
    "\n",
    "importances = 100 * boosting_reg.feature_importances_\n",
    "indices = np.argsort(importances)\n",
    "columns = df_x.columns.tolist()\n",
    "\n",
    "fig, ax = plt.subplots(1, 1, constrained_layout=True, figsize=(8, 6))\n",
    "\n",
    "_ = ax.barh(range(len(indices)), importances[indices], align='center')\n",
    "_ = ax.set_yticklabels([columns[i] for i in indices])\n",
    "_ = ax.set_yticks(range(len(indices)))\n",
    "_ = ax.set_xlabel('Relative Importance (%)')\n",
    "_ = ax.set_title('Feature Importances')"
   ]
  },
  {
   "cell_type": "markdown",
   "metadata": {
    "ExecuteTime": {
     "end_time": "2020-03-01T12:52:22.257081Z",
     "start_time": "2020-03-01T12:52:21.924186Z"
    }
   },
   "source": [
    "<h3>Exercise 8.10.7</h3>\n",
    "<blockquote>\n",
    "    <i>Now apply bagging to the training set. What is the test set MSE for this approach?</i>\n",
    "</blockquote>"
   ]
  },
  {
   "cell_type": "code",
   "execution_count": 16,
   "metadata": {
    "ExecuteTime": {
     "end_time": "2020-03-01T13:12:57.399918Z",
     "start_time": "2020-03-01T13:12:56.737291Z"
    }
   },
   "outputs": [
    {
     "name": "stdout",
     "output_type": "stream",
     "text": [
      "out-of-bag MSE = 0.22\n",
      "test MSE = 0.36\n"
     ]
    }
   ],
   "source": [
    "number_of_trees = 500\n",
    "sample_size = df_x_train.shape[0]\n",
    "bag = BaggingRegressor(\n",
    "    DecisionTreeRegressor(\n",
    "        criterion='mse', \n",
    "        splitter='best', \n",
    "        max_leaf_nodes=d+1,\n",
    "        max_depth=None,\n",
    "        random_state=42\n",
    "    ),\n",
    "    oob_score=True,\n",
    "    n_estimators=B,\n",
    "    max_samples=sample_size,\n",
    "    bootstrap=True,\n",
    "    n_jobs=-1\n",
    ")\n",
    "\n",
    "_ = bag.fit(df_x_train, df_y_train.squeeze())\n",
    "Y_oob_pred = bag.oob_prediction_\n",
    "MSE_oob = mean_squared_error(Y_oob_pred, df_y_train)\n",
    "print(f'out-of-bag MSE = {MSE_oob:.2f}')\n",
    "\n",
    "y_pred = bag.predict(df_x_test)\n",
    "MSE = mean_squared_error(y_pred, df_y_test)\n",
    "print(f'test MSE = {MSE:.2f}')"
   ]
  },
  {
   "cell_type": "code",
   "execution_count": 17,
   "metadata": {
    "ExecuteTime": {
     "end_time": "2020-03-01T13:12:57.780042Z",
     "start_time": "2020-03-01T13:12:57.401503Z"
    }
   },
   "outputs": [
    {
     "data": {
      "image/png": "[encoded data removed]",
      "text/plain": [
       "<Figure size 576x432 with 1 Axes>"
      ]
     },
     "metadata": {
      "needs_background": "light"
     },
     "output_type": "display_data"
    }
   ],
   "source": [
    "feature_importances = np.mean([\n",
    "    tree.feature_importances_ for tree in bag.estimators_\n",
    "], axis=0)\n",
    "\n",
    "\n",
    "importances = 100 * feature_importances\n",
    "indices = np.argsort(importances)\n",
    "columns = df_transformed.columns.tolist()\n",
    "\n",
    "fig, ax = plt.subplots(1, 1, constrained_layout=True, figsize=(8, 6))\n",
    "\n",
    "_ = ax.barh(range(len(indices)), importances[indices], align='center')\n",
    "_ = ax.set_yticklabels([columns[i] for i in indices])\n",
    "_ = ax.set_yticks(range(len(indices)))\n",
    "_ = ax.set_xlabel('Relative Importance (%)')\n",
    "_ = ax.set_title('Feature Importances')"
   ]
  }
 ],
 "metadata": {
  "kernelspec": {
   "display_name": "Python 3",
   "language": "python",
   "name": "python3"
  },
  "language_info": {
   "codemirror_mode": {
    "name": "ipython",
    "version": 3
   },
   "file_extension": ".py",
   "mimetype": "text/x-python",
   "name": "python",
   "nbconvert_exporter": "python",
   "pygments_lexer": "ipython3",
   "version": "3.7.5"
  }
 },
 "nbformat": 4,
 "nbformat_minor": 2
}
