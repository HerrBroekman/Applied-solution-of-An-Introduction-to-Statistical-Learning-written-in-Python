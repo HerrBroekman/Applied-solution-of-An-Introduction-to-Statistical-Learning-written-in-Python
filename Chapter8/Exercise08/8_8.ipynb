{
 "cells": [
  {
   "cell_type": "markdown",
   "metadata": {},
   "source": [
    "<blockquote>\n",
    "    <h1>Exercise 8.8</h1>\n",
    "    <p>In the lab, a classification tree was applied to the <code>Carseats</code> data set after converting $\\mathrm{Sales}$ into a qualitative response variable. Now we will seek to predict $\\mathrm{Sales}$ using regression trees and related approaches, treating the response as a quantitative variable.</p>\n",
    "    <ol>\n",
    "        <li>Split the data set into a training set and a test set.</li>\n",
    "        <li>Fit a regression tree to the training set. Plot the tree, and interpret the results. What test MSE do you obtain?</li>\n",
    "        <li>Use cross-validation in order to determine the optimal level of tree complexity. Does pruning the tree improve the test MSE?</li>\n",
    "        <li>Use the bagging approach in order to analyze this data. What test MSE do you obtain? Use the <code>importance()</code> function to determine which variables are most important.</li>\n",
    "        <li>Use random forests to analyze this data. What test MSE do you obtain? Use the <code>importance()</code> function to determine which variables are most important. Describe the effect of $m$, the number of variables considered at each split, on the error rate obtained.</li>\n",
    "    </ol>\n",
    "</blockquote>"
   ]
  },
  {
   "cell_type": "code",
   "execution_count": 1,
   "metadata": {
    "ExecuteTime": {
     "end_time": "2020-03-01T12:57:35.916786Z",
     "start_time": "2020-03-01T12:57:34.823442Z"
    }
   },
   "outputs": [],
   "source": [
    "import numpy as np\n",
    "import pandas as pd\n",
    "import matplotlib.pyplot as plt\n",
    "\n",
    "# https://stackoverflow.com/questions/34398054/ipython-notebook-cell-multiple-outputs\n",
    "from IPython.core.interactiveshell import InteractiveShell\n",
    "InteractiveShell.ast_node_interactivity = \"all\"\n",
    "\n",
    "from ipywidgets import interactive  # https://towardsdatascience.com/interactive-visualization-of-decision-trees-with-jupyter-widgets-ca15dd312084\n",
    "from IPython.display import display\n",
    "from IPython.display import SVG\n",
    "from graphviz import Source\n",
    "from sklearn.model_selection import train_test_split\n",
    "from sklearn.tree import DecisionTreeRegressor, export_graphviz\n",
    "from sklearn.preprocessing import OneHotEncoder  # https://medium.com/@contactsunny/label-encoder-vs-one-hot-encoder-in-machine-learning-3fc273365621\n",
    "from sklearn.metrics import mean_squared_error\n",
    "from sklearn.ensemble import BaggingRegressor, RandomForestRegressor"
   ]
  },
  {
   "cell_type": "code",
   "execution_count": 2,
   "metadata": {
    "ExecuteTime": {
     "end_time": "2020-03-01T12:57:35.951506Z",
     "start_time": "2020-03-01T12:57:35.923737Z"
    }
   },
   "outputs": [
    {
     "data": {
      "text/html": [
       "<div>\n",
       "<style scoped>\n",
       "    .dataframe tbody tr th:only-of-type {\n",
       "        vertical-align: middle;\n",
       "    }\n",
       "\n",
       "    .dataframe tbody tr th {\n",
       "        vertical-align: top;\n",
       "    }\n",
       "\n",
       "    .dataframe thead th {\n",
       "        text-align: right;\n",
       "    }\n",
       "</style>\n",
       "<table border=\"1\" class=\"dataframe\">\n",
       "  <thead>\n",
       "    <tr style=\"text-align: right;\">\n",
       "      <th></th>\n",
       "      <th>Sales</th>\n",
       "      <th>CompPrice</th>\n",
       "      <th>Income</th>\n",
       "      <th>Advertising</th>\n",
       "      <th>Population</th>\n",
       "      <th>Price</th>\n",
       "      <th>ShelveLoc</th>\n",
       "      <th>Age</th>\n",
       "      <th>Education</th>\n",
       "      <th>Urban</th>\n",
       "      <th>US</th>\n",
       "    </tr>\n",
       "  </thead>\n",
       "  <tbody>\n",
       "    <tr>\n",
       "      <th>0</th>\n",
       "      <td>9.50</td>\n",
       "      <td>138</td>\n",
       "      <td>73</td>\n",
       "      <td>11</td>\n",
       "      <td>276</td>\n",
       "      <td>120</td>\n",
       "      <td>Bad</td>\n",
       "      <td>42</td>\n",
       "      <td>17</td>\n",
       "      <td>Yes</td>\n",
       "      <td>Yes</td>\n",
       "    </tr>\n",
       "    <tr>\n",
       "      <th>1</th>\n",
       "      <td>11.22</td>\n",
       "      <td>111</td>\n",
       "      <td>48</td>\n",
       "      <td>16</td>\n",
       "      <td>260</td>\n",
       "      <td>83</td>\n",
       "      <td>Good</td>\n",
       "      <td>65</td>\n",
       "      <td>10</td>\n",
       "      <td>Yes</td>\n",
       "      <td>Yes</td>\n",
       "    </tr>\n",
       "    <tr>\n",
       "      <th>2</th>\n",
       "      <td>10.06</td>\n",
       "      <td>113</td>\n",
       "      <td>35</td>\n",
       "      <td>10</td>\n",
       "      <td>269</td>\n",
       "      <td>80</td>\n",
       "      <td>Medium</td>\n",
       "      <td>59</td>\n",
       "      <td>12</td>\n",
       "      <td>Yes</td>\n",
       "      <td>Yes</td>\n",
       "    </tr>\n",
       "    <tr>\n",
       "      <th>3</th>\n",
       "      <td>7.40</td>\n",
       "      <td>117</td>\n",
       "      <td>100</td>\n",
       "      <td>4</td>\n",
       "      <td>466</td>\n",
       "      <td>97</td>\n",
       "      <td>Medium</td>\n",
       "      <td>55</td>\n",
       "      <td>14</td>\n",
       "      <td>Yes</td>\n",
       "      <td>Yes</td>\n",
       "    </tr>\n",
       "    <tr>\n",
       "      <th>4</th>\n",
       "      <td>4.15</td>\n",
       "      <td>141</td>\n",
       "      <td>64</td>\n",
       "      <td>3</td>\n",
       "      <td>340</td>\n",
       "      <td>128</td>\n",
       "      <td>Bad</td>\n",
       "      <td>38</td>\n",
       "      <td>13</td>\n",
       "      <td>Yes</td>\n",
       "      <td>No</td>\n",
       "    </tr>\n",
       "  </tbody>\n",
       "</table>\n",
       "</div>"
      ],
      "text/plain": [
       "   Sales  CompPrice  Income  Advertising  Population  Price ShelveLoc  Age  \\\n",
       "0   9.50        138      73           11         276    120       Bad   42   \n",
       "1  11.22        111      48           16         260     83      Good   65   \n",
       "2  10.06        113      35           10         269     80    Medium   59   \n",
       "3   7.40        117     100            4         466     97    Medium   55   \n",
       "4   4.15        141      64            3         340    128       Bad   38   \n",
       "\n",
       "   Education Urban   US  \n",
       "0         17   Yes  Yes  \n",
       "1         10   Yes  Yes  \n",
       "2         12   Yes  Yes  \n",
       "3         14   Yes  Yes  \n",
       "4         13   Yes   No  "
      ]
     },
     "execution_count": 2,
     "metadata": {},
     "output_type": "execute_result"
    }
   ],
   "source": [
    "df = pd.read_csv(\"../../DataSets/Carseats/Carseats.csv\")\n",
    "df.head()"
   ]
  },
  {
   "cell_type": "code",
   "execution_count": 3,
   "metadata": {
    "ExecuteTime": {
     "end_time": "2020-03-01T12:57:36.126030Z",
     "start_time": "2020-03-01T12:57:35.954434Z"
    }
   },
   "outputs": [
    {
     "data": {
      "text/html": [
       "<div>\n",
       "<style scoped>\n",
       "    .dataframe tbody tr th:only-of-type {\n",
       "        vertical-align: middle;\n",
       "    }\n",
       "\n",
       "    .dataframe tbody tr th {\n",
       "        vertical-align: top;\n",
       "    }\n",
       "\n",
       "    .dataframe thead th {\n",
       "        text-align: right;\n",
       "    }\n",
       "</style>\n",
       "<table border=\"1\" class=\"dataframe\">\n",
       "  <thead>\n",
       "    <tr style=\"text-align: right;\">\n",
       "      <th></th>\n",
       "      <th>Sales</th>\n",
       "      <th>CompPrice</th>\n",
       "      <th>Income</th>\n",
       "      <th>Advertising</th>\n",
       "      <th>Population</th>\n",
       "      <th>Price</th>\n",
       "      <th>Age</th>\n",
       "      <th>Education</th>\n",
       "      <th>ShelveLoc (Bad)</th>\n",
       "      <th>ShelveLoc (Good)</th>\n",
       "      <th>ShelveLoc (Medium)</th>\n",
       "      <th>US (No)</th>\n",
       "      <th>US (Yes)</th>\n",
       "      <th>Urban (No)</th>\n",
       "      <th>Urban (Yes)</th>\n",
       "    </tr>\n",
       "  </thead>\n",
       "  <tbody>\n",
       "    <tr>\n",
       "      <th>0</th>\n",
       "      <td>9.50</td>\n",
       "      <td>138</td>\n",
       "      <td>73</td>\n",
       "      <td>11</td>\n",
       "      <td>276</td>\n",
       "      <td>120</td>\n",
       "      <td>42</td>\n",
       "      <td>17</td>\n",
       "      <td>1</td>\n",
       "      <td>0</td>\n",
       "      <td>0</td>\n",
       "      <td>0</td>\n",
       "      <td>1</td>\n",
       "      <td>0</td>\n",
       "      <td>1</td>\n",
       "    </tr>\n",
       "    <tr>\n",
       "      <th>1</th>\n",
       "      <td>11.22</td>\n",
       "      <td>111</td>\n",
       "      <td>48</td>\n",
       "      <td>16</td>\n",
       "      <td>260</td>\n",
       "      <td>83</td>\n",
       "      <td>65</td>\n",
       "      <td>10</td>\n",
       "      <td>0</td>\n",
       "      <td>1</td>\n",
       "      <td>0</td>\n",
       "      <td>0</td>\n",
       "      <td>1</td>\n",
       "      <td>0</td>\n",
       "      <td>1</td>\n",
       "    </tr>\n",
       "    <tr>\n",
       "      <th>2</th>\n",
       "      <td>10.06</td>\n",
       "      <td>113</td>\n",
       "      <td>35</td>\n",
       "      <td>10</td>\n",
       "      <td>269</td>\n",
       "      <td>80</td>\n",
       "      <td>59</td>\n",
       "      <td>12</td>\n",
       "      <td>0</td>\n",
       "      <td>0</td>\n",
       "      <td>1</td>\n",
       "      <td>0</td>\n",
       "      <td>1</td>\n",
       "      <td>0</td>\n",
       "      <td>1</td>\n",
       "    </tr>\n",
       "    <tr>\n",
       "      <th>3</th>\n",
       "      <td>7.40</td>\n",
       "      <td>117</td>\n",
       "      <td>100</td>\n",
       "      <td>4</td>\n",
       "      <td>466</td>\n",
       "      <td>97</td>\n",
       "      <td>55</td>\n",
       "      <td>14</td>\n",
       "      <td>0</td>\n",
       "      <td>0</td>\n",
       "      <td>1</td>\n",
       "      <td>0</td>\n",
       "      <td>1</td>\n",
       "      <td>0</td>\n",
       "      <td>1</td>\n",
       "    </tr>\n",
       "    <tr>\n",
       "      <th>4</th>\n",
       "      <td>4.15</td>\n",
       "      <td>141</td>\n",
       "      <td>64</td>\n",
       "      <td>3</td>\n",
       "      <td>340</td>\n",
       "      <td>128</td>\n",
       "      <td>38</td>\n",
       "      <td>13</td>\n",
       "      <td>1</td>\n",
       "      <td>0</td>\n",
       "      <td>0</td>\n",
       "      <td>1</td>\n",
       "      <td>0</td>\n",
       "      <td>0</td>\n",
       "      <td>1</td>\n",
       "    </tr>\n",
       "  </tbody>\n",
       "</table>\n",
       "</div>"
      ],
      "text/plain": [
       "   Sales  CompPrice  Income  Advertising  Population  Price  Age  Education  \\\n",
       "0   9.50        138      73           11         276    120   42         17   \n",
       "1  11.22        111      48           16         260     83   65         10   \n",
       "2  10.06        113      35           10         269     80   59         12   \n",
       "3   7.40        117     100            4         466     97   55         14   \n",
       "4   4.15        141      64            3         340    128   38         13   \n",
       "\n",
       "  ShelveLoc (Bad) ShelveLoc (Good) ShelveLoc (Medium) US (No) US (Yes)  \\\n",
       "0               1                0                  0       0        1   \n",
       "1               0                1                  0       0        1   \n",
       "2               0                0                  1       0        1   \n",
       "3               0                0                  1       0        1   \n",
       "4               1                0                  0       1        0   \n",
       "\n",
       "  Urban (No) Urban (Yes)  \n",
       "0          0           1  \n",
       "1          0           1  \n",
       "2          0           1  \n",
       "3          0           1  \n",
       "4          0           1  "
      ]
     },
     "execution_count": 3,
     "metadata": {},
     "output_type": "execute_result"
    }
   ],
   "source": [
    "# Convert categorical data using one hot encoding:\n",
    "# which takes a column with categorical data and \n",
    "# then splits the column into multiple columns. \n",
    "# The numbers are replaced by 1s and 0s, depending \n",
    "# on which column has what value. \n",
    "categorical_lst = ['ShelveLoc', 'US', 'Urban']\n",
    "columns = df.columns.tolist()\n",
    "indices = [index for index, column in enumerate(columns) if column in categorical_lst]\n",
    "\n",
    "onehotencoder = OneHotEncoder()\n",
    "categorical_transformed = onehotencoder.fit_transform(df[categorical_lst]).toarray()\n",
    "    \n",
    "new_categorical_lst = []\n",
    "for categorical_name, np_arr in zip(categorical_lst, onehotencoder.categories_):\n",
    "    temp_lst = [f'{categorical_name} ({category})' for category in np_arr]\n",
    "    new_categorical_lst.extend(temp_lst)\n",
    "    \n",
    "df_categorical_transformed = pd.DataFrame(categorical_transformed, columns=new_categorical_lst, dtype='int64')\n",
    "for column in new_categorical_lst:\n",
    "    df_categorical_transformed[column] = df_categorical_transformed[column].astype('category')\n",
    "\n",
    "df_transformed = pd.concat([df.drop(categorical_lst, 1), df_categorical_transformed], axis=1)\n",
    "df_transformed.head()"
   ]
  },
  {
   "cell_type": "code",
   "execution_count": 4,
   "metadata": {
    "ExecuteTime": {
     "end_time": "2020-03-01T12:57:36.526594Z",
     "start_time": "2020-03-01T12:57:36.131590Z"
    }
   },
   "outputs": [
    {
     "data": {
      "application/vnd.jupyter.widget-view+json": {
       "model_id": "1042acfd3cbe4d08b1335476d54c32b9",
       "version_major": 2,
       "version_minor": 0
      },
      "text/plain": [
       "interactive(children=(Dropdown(description='splitter', options=('best', 'random'), value='best'), Dropdown(des…"
      ]
     },
     "metadata": {},
     "output_type": "display_data"
    }
   ],
   "source": [
    "# https://towardsdatascience.com/interactive-visualization-of-decision-trees-with-jupyter-widgets-ca15dd312084\n",
    "# Interactive Visualization of Decision Trees with Jupyter Widgets\n",
    "\n",
    "def plot_tree(splitter, max_depth, min_samples_split, min_samples_leaf=0.2):\n",
    "    tree_reg = DecisionTreeRegressor(\n",
    "        criterion='mse',\n",
    "        splitter=splitter,\n",
    "        max_depth=max_depth,\n",
    "        min_samples_split=min_samples_split,\n",
    "        min_samples_leaf=min_samples_leaf,\n",
    "        random_state=42\n",
    "    )\n",
    "    tree_reg.fit(df_transformed.drop('Sales', 1), df_transformed[['Sales']])\n",
    "    \n",
    "    graph = Source(export_graphviz(\n",
    "        tree_reg,\n",
    "        out_file=None,\n",
    "        feature_names=df_transformed.drop('Sales', 1).columns.tolist(),\n",
    "        rounded=True,\n",
    "        filled=True\n",
    "    ))\n",
    "   \n",
    "    display(SVG(graph.pipe(format='svg')))\n",
    "    return tree_reg\n",
    "\n",
    "inter = interactive(\n",
    "    plot_tree,\n",
    "    splitter=['best', 'random'],\n",
    "    max_depth=[1, 2, 3, 4],\n",
    "    min_samples_split=(0.1, 1),\n",
    "    min_samples_leaf=(0.1, 0.5)\n",
    ")\n",
    "\n",
    "display(inter)"
   ]
  },
  {
   "cell_type": "markdown",
   "metadata": {},
   "source": [
    "<h3>Exercise 8.8.1</h3>\n",
    "<blockquote>\n",
    "    <i>Split the data set into a training set and a test set.</i>\n",
    "</blockquote>"
   ]
  },
  {
   "cell_type": "code",
   "execution_count": 5,
   "metadata": {
    "ExecuteTime": {
     "end_time": "2020-03-01T12:57:36.554543Z",
     "start_time": "2020-03-01T12:57:36.529575Z"
    }
   },
   "outputs": [],
   "source": [
    "df_y = df_transformed[['Sales']]\n",
    "df_x = df_transformed.drop('Sales', 1)\n",
    "df_x_train, df_x_test, df_y_train, df_y_test = train_test_split(\n",
    "    df_x, \n",
    "    df_y, \n",
    "    test_size=0.2, \n",
    "    random_state=42\n",
    ")"
   ]
  },
  {
   "cell_type": "markdown",
   "metadata": {
    "ExecuteTime": {
     "end_time": "2020-02-23T10:47:26.779999Z",
     "start_time": "2020-02-23T10:47:26.770599Z"
    }
   },
   "source": [
    "<h3>Exercise 8.8.2</h3>\n",
    "<blockquote>\n",
    "    <i>Fit a regression tree to the training set. Plot the tree, and interpret the results. What test MSE do you obtain?</i>\n",
    "</blockquote>"
   ]
  },
  {
   "cell_type": "code",
   "execution_count": 6,
   "metadata": {
    "ExecuteTime": {
     "end_time": "2020-03-01T12:57:36.764817Z",
     "start_time": "2020-03-01T12:57:36.557106Z"
    },
    "scrolled": false
   },
   "outputs": [
    {
     "data": {
      "image/svg+xml": [
       "<svg height=\"373pt\" viewBox=\"0.00 0.00 935.50 373.00\" width=\"936pt\" xmlns=\"http://www.w3.org/2000/svg\" xmlns:xlink=\"http://www.w3.org/1999/xlink\">\n",
       "<g class=\"graph\" id=\"graph0\" transform=\"scale(1 1) rotate(0) translate(4 369)\">\n",
       "<title>Tree</title>\n",
       "<polygon fill=\"#ffffff\" points=\"-4,4 -4,-369 931.5,-369 931.5,4 -4,4\" stroke=\"transparent\"/>\n",
       "<!-- 0 -->\n",
       "<g class=\"node\" id=\"node1\">\n",
       "<title>0</title>\n",
       "<path d=\"M535.5,-365C535.5,-365 390.5,-365 390.5,-365 384.5,-365 378.5,-359 378.5,-353 378.5,-353 378.5,-309 378.5,-309 378.5,-303 384.5,-297 390.5,-297 390.5,-297 535.5,-297 535.5,-297 541.5,-297 547.5,-303 547.5,-309 547.5,-309 547.5,-353 547.5,-353 547.5,-359 541.5,-365 535.5,-365\" fill=\"#f5d0b5\" stroke=\"#000000\"/>\n",
       "<text fill=\"#000000\" font-family=\"Helvetica,sans-Serif\" font-size=\"14.00\" text-anchor=\"middle\" x=\"463\" y=\"-349.8\">ShelveLoc (Good) &lt;= 0.5</text>\n",
       "<text fill=\"#000000\" font-family=\"Helvetica,sans-Serif\" font-size=\"14.00\" text-anchor=\"middle\" x=\"463\" y=\"-334.8\">mse = 7.412</text>\n",
       "<text fill=\"#000000\" font-family=\"Helvetica,sans-Serif\" font-size=\"14.00\" text-anchor=\"middle\" x=\"463\" y=\"-319.8\">samples = 320</text>\n",
       "<text fill=\"#000000\" font-family=\"Helvetica,sans-Serif\" font-size=\"14.00\" text-anchor=\"middle\" x=\"463\" y=\"-304.8\">value = 7.388</text>\n",
       "</g>\n",
       "<!-- 1 -->\n",
       "<g class=\"node\" id=\"node2\">\n",
       "<title>1</title>\n",
       "<path d=\"M386,-261C386,-261 304,-261 304,-261 298,-261 292,-255 292,-249 292,-249 292,-205 292,-205 292,-199 298,-193 304,-193 304,-193 386,-193 386,-193 392,-193 398,-199 398,-205 398,-205 398,-249 398,-249 398,-255 392,-261 386,-261\" fill=\"#f7d7c0\" stroke=\"#000000\"/>\n",
       "<text fill=\"#000000\" font-family=\"Helvetica,sans-Serif\" font-size=\"14.00\" text-anchor=\"middle\" x=\"345\" y=\"-245.8\">Price &lt;= 125.5</text>\n",
       "<text fill=\"#000000\" font-family=\"Helvetica,sans-Serif\" font-size=\"14.00\" text-anchor=\"middle\" x=\"345\" y=\"-230.8\">mse = 5.956</text>\n",
       "<text fill=\"#000000\" font-family=\"Helvetica,sans-Serif\" font-size=\"14.00\" text-anchor=\"middle\" x=\"345\" y=\"-215.8\">samples = 256</text>\n",
       "<text fill=\"#000000\" font-family=\"Helvetica,sans-Serif\" font-size=\"14.00\" text-anchor=\"middle\" x=\"345\" y=\"-200.8\">value = 6.776</text>\n",
       "</g>\n",
       "<!-- 0&#45;&gt;1 -->\n",
       "<g class=\"edge\" id=\"edge1\">\n",
       "<title>0-&gt;1</title>\n",
       "<path d=\"M424.3624,-296.9465C413.8696,-287.6986 402.3974,-277.5876 391.5186,-267.9994\" fill=\"none\" stroke=\"#000000\"/>\n",
       "<polygon fill=\"#000000\" points=\"393.5407,-265.1163 383.7244,-261.13 388.9123,-270.3678 393.5407,-265.1163\" stroke=\"#000000\"/>\n",
       "<text fill=\"#000000\" font-family=\"Helvetica,sans-Serif\" font-size=\"14.00\" text-anchor=\"middle\" x=\"385.2979\" y=\"-282.3804\">True</text>\n",
       "</g>\n",
       "<!-- 8 -->\n",
       "<g class=\"node\" id=\"node9\">\n",
       "<title>8</title>\n",
       "<path d=\"M621.5,-261C621.5,-261 540.5,-261 540.5,-261 534.5,-261 528.5,-255 528.5,-249 528.5,-249 528.5,-205 528.5,-205 528.5,-199 534.5,-193 540.5,-193 540.5,-193 621.5,-193 621.5,-193 627.5,-193 633.5,-199 633.5,-205 633.5,-205 633.5,-249 633.5,-249 633.5,-255 627.5,-261 621.5,-261\" fill=\"#efb489\" stroke=\"#000000\"/>\n",
       "<text fill=\"#000000\" font-family=\"Helvetica,sans-Serif\" font-size=\"14.00\" text-anchor=\"middle\" x=\"581\" y=\"-245.8\">Price &lt;= 135.0</text>\n",
       "<text fill=\"#000000\" font-family=\"Helvetica,sans-Serif\" font-size=\"14.00\" text-anchor=\"middle\" x=\"581\" y=\"-230.8\">mse = 5.753</text>\n",
       "<text fill=\"#000000\" font-family=\"Helvetica,sans-Serif\" font-size=\"14.00\" text-anchor=\"middle\" x=\"581\" y=\"-215.8\">samples = 64</text>\n",
       "<text fill=\"#000000\" font-family=\"Helvetica,sans-Serif\" font-size=\"14.00\" text-anchor=\"middle\" x=\"581\" y=\"-200.8\">value = 9.835</text>\n",
       "</g>\n",
       "<!-- 0&#45;&gt;8 -->\n",
       "<g class=\"edge\" id=\"edge8\">\n",
       "<title>0-&gt;8</title>\n",
       "<path d=\"M501.6376,-296.9465C512.1304,-287.6986 523.6026,-277.5876 534.4814,-267.9994\" fill=\"none\" stroke=\"#000000\"/>\n",
       "<polygon fill=\"#000000\" points=\"537.0877,-270.3678 542.2756,-261.13 532.4593,-265.1163 537.0877,-270.3678\" stroke=\"#000000\"/>\n",
       "<text fill=\"#000000\" font-family=\"Helvetica,sans-Serif\" font-size=\"14.00\" text-anchor=\"middle\" x=\"540.7021\" y=\"-282.3804\">False</text>\n",
       "</g>\n",
       "<!-- 2 -->\n",
       "<g class=\"node\" id=\"node3\">\n",
       "<title>2</title>\n",
       "<path d=\"M210,-157C210,-157 128,-157 128,-157 122,-157 116,-151 116,-145 116,-145 116,-101 116,-101 116,-95 122,-89 128,-89 128,-89 210,-89 210,-89 216,-89 222,-95 222,-101 222,-101 222,-145 222,-145 222,-151 216,-157 210,-157\" fill=\"#f5cfb4\" stroke=\"#000000\"/>\n",
       "<text fill=\"#000000\" font-family=\"Helvetica,sans-Serif\" font-size=\"14.00\" text-anchor=\"middle\" x=\"169\" y=\"-141.8\">Age &lt;= 49.5</text>\n",
       "<text fill=\"#000000\" font-family=\"Helvetica,sans-Serif\" font-size=\"14.00\" text-anchor=\"middle\" x=\"169\" y=\"-126.8\">mse = 5.0</text>\n",
       "<text fill=\"#000000\" font-family=\"Helvetica,sans-Serif\" font-size=\"14.00\" text-anchor=\"middle\" x=\"169\" y=\"-111.8\">samples = 173</text>\n",
       "<text fill=\"#000000\" font-family=\"Helvetica,sans-Serif\" font-size=\"14.00\" text-anchor=\"middle\" x=\"169\" y=\"-96.8\">value = 7.473</text>\n",
       "</g>\n",
       "<!-- 1&#45;&gt;2 -->\n",
       "<g class=\"edge\" id=\"edge2\">\n",
       "<title>1-&gt;2</title>\n",
       "<path d=\"M291.7166,-195.5143C272.5037,-184.1613 250.6614,-171.2545 230.7833,-159.5083\" fill=\"none\" stroke=\"#000000\"/>\n",
       "<polygon fill=\"#000000\" points=\"232.4922,-156.4527 222.1023,-154.3786 228.931,-162.4792 232.4922,-156.4527\" stroke=\"#000000\"/>\n",
       "</g>\n",
       "<!-- 5 -->\n",
       "<g class=\"node\" id=\"node6\">\n",
       "<title>5</title>\n",
       "<path d=\"M382,-157C382,-157 308,-157 308,-157 302,-157 296,-151 296,-145 296,-145 296,-101 296,-101 296,-95 302,-89 308,-89 308,-89 382,-89 382,-89 388,-89 394,-95 394,-101 394,-101 394,-145 394,-145 394,-151 388,-157 382,-157\" fill=\"#fae8db\" stroke=\"#000000\"/>\n",
       "<text fill=\"#000000\" font-family=\"Helvetica,sans-Serif\" font-size=\"14.00\" text-anchor=\"middle\" x=\"345\" y=\"-141.8\">Age &lt;= 65.0</text>\n",
       "<text fill=\"#000000\" font-family=\"Helvetica,sans-Serif\" font-size=\"14.00\" text-anchor=\"middle\" x=\"345\" y=\"-126.8\">mse = 4.828</text>\n",
       "<text fill=\"#000000\" font-family=\"Helvetica,sans-Serif\" font-size=\"14.00\" text-anchor=\"middle\" x=\"345\" y=\"-111.8\">samples = 83</text>\n",
       "<text fill=\"#000000\" font-family=\"Helvetica,sans-Serif\" font-size=\"14.00\" text-anchor=\"middle\" x=\"345\" y=\"-96.8\">value = 5.324</text>\n",
       "</g>\n",
       "<!-- 1&#45;&gt;5 -->\n",
       "<g class=\"edge\" id=\"edge5\">\n",
       "<title>1-&gt;5</title>\n",
       "<path d=\"M345,-192.9465C345,-184.776 345,-175.9318 345,-167.3697\" fill=\"none\" stroke=\"#000000\"/>\n",
       "<polygon fill=\"#000000\" points=\"348.5001,-167.13 345,-157.13 341.5001,-167.13 348.5001,-167.13\" stroke=\"#000000\"/>\n",
       "</g>\n",
       "<!-- 3 -->\n",
       "<g class=\"node\" id=\"node4\">\n",
       "<title>3</title>\n",
       "<path d=\"M86,-53C86,-53 12,-53 12,-53 6,-53 0,-47 0,-41 0,-41 0,-12 0,-12 0,-6 6,0 12,0 12,0 86,0 86,0 92,0 98,-6 98,-12 98,-12 98,-41 98,-41 98,-47 92,-53 86,-53\" fill=\"#f2c19d\" stroke=\"#000000\"/>\n",
       "<text fill=\"#000000\" font-family=\"Helvetica,sans-Serif\" font-size=\"14.00\" text-anchor=\"middle\" x=\"49\" y=\"-37.8\">mse = 3.798</text>\n",
       "<text fill=\"#000000\" font-family=\"Helvetica,sans-Serif\" font-size=\"14.00\" text-anchor=\"middle\" x=\"49\" y=\"-22.8\">samples = 68</text>\n",
       "<text fill=\"#000000\" font-family=\"Helvetica,sans-Serif\" font-size=\"14.00\" text-anchor=\"middle\" x=\"49\" y=\"-7.8\">value = 8.691</text>\n",
       "</g>\n",
       "<!-- 2&#45;&gt;3 -->\n",
       "<g class=\"edge\" id=\"edge3\">\n",
       "<title>2-&gt;3</title>\n",
       "<path d=\"M126.6925,-88.9777C114.8501,-79.4545 101.9979,-69.1191 90.2195,-59.6473\" fill=\"none\" stroke=\"#000000\"/>\n",
       "<polygon fill=\"#000000\" points=\"92.2486,-56.7877 82.2624,-53.2485 87.8618,-62.2427 92.2486,-56.7877\" stroke=\"#000000\"/>\n",
       "</g>\n",
       "<!-- 4 -->\n",
       "<g class=\"node\" id=\"node5\">\n",
       "<title>4</title>\n",
       "<path d=\"M210,-53C210,-53 128,-53 128,-53 122,-53 116,-47 116,-41 116,-41 116,-12 116,-12 116,-6 122,0 128,0 128,0 210,0 210,0 216,0 222,-6 222,-12 222,-12 222,-41 222,-41 222,-47 216,-53 210,-53\" fill=\"#f7d8c2\" stroke=\"#000000\"/>\n",
       "<text fill=\"#000000\" font-family=\"Helvetica,sans-Serif\" font-size=\"14.00\" text-anchor=\"middle\" x=\"169\" y=\"-37.8\">mse = 4.195</text>\n",
       "<text fill=\"#000000\" font-family=\"Helvetica,sans-Serif\" font-size=\"14.00\" text-anchor=\"middle\" x=\"169\" y=\"-22.8\">samples = 105</text>\n",
       "<text fill=\"#000000\" font-family=\"Helvetica,sans-Serif\" font-size=\"14.00\" text-anchor=\"middle\" x=\"169\" y=\"-7.8\">value = 6.684</text>\n",
       "</g>\n",
       "<!-- 2&#45;&gt;4 -->\n",
       "<g class=\"edge\" id=\"edge4\">\n",
       "<title>2-&gt;4</title>\n",
       "<path d=\"M169,-88.9777C169,-80.7364 169,-71.887 169,-63.5153\" fill=\"none\" stroke=\"#000000\"/>\n",
       "<polygon fill=\"#000000\" points=\"172.5001,-63.2484 169,-53.2485 165.5001,-63.2485 172.5001,-63.2484\" stroke=\"#000000\"/>\n",
       "</g>\n",
       "<!-- 6 -->\n",
       "<g class=\"node\" id=\"node7\">\n",
       "<title>6</title>\n",
       "<path d=\"M326,-53C326,-53 252,-53 252,-53 246,-53 240,-47 240,-41 240,-41 240,-12 240,-12 240,-6 246,0 252,0 252,0 326,0 326,0 332,0 338,-6 338,-12 338,-12 338,-41 338,-41 338,-47 332,-53 326,-53\" fill=\"#f9e2d1\" stroke=\"#000000\"/>\n",
       "<text fill=\"#000000\" font-family=\"Helvetica,sans-Serif\" font-size=\"14.00\" text-anchor=\"middle\" x=\"289\" y=\"-37.8\">mse = 4.02</text>\n",
       "<text fill=\"#000000\" font-family=\"Helvetica,sans-Serif\" font-size=\"14.00\" text-anchor=\"middle\" x=\"289\" y=\"-22.8\">samples = 66</text>\n",
       "<text fill=\"#000000\" font-family=\"Helvetica,sans-Serif\" font-size=\"14.00\" text-anchor=\"middle\" x=\"289\" y=\"-7.8\">value = 5.84</text>\n",
       "</g>\n",
       "<!-- 5&#45;&gt;6 -->\n",
       "<g class=\"edge\" id=\"edge6\">\n",
       "<title>5-&gt;6</title>\n",
       "<path d=\"M325.2565,-88.9777C320.2083,-80.2786 314.7669,-70.9018 309.6734,-62.1247\" fill=\"none\" stroke=\"#000000\"/>\n",
       "<polygon fill=\"#000000\" points=\"312.5689,-60.1409 304.5224,-53.2485 306.5145,-63.6544 312.5689,-60.1409\" stroke=\"#000000\"/>\n",
       "</g>\n",
       "<!-- 7 -->\n",
       "<g class=\"node\" id=\"node8\">\n",
       "<title>7</title>\n",
       "<path d=\"M442,-53C442,-53 368,-53 368,-53 362,-53 356,-47 356,-41 356,-41 356,-12 356,-12 356,-6 362,0 368,0 368,0 442,0 442,0 448,0 454,-6 454,-12 454,-12 454,-41 454,-41 454,-47 448,-53 442,-53\" fill=\"#ffffff\" stroke=\"#000000\"/>\n",
       "<text fill=\"#000000\" font-family=\"Helvetica,sans-Serif\" font-size=\"14.00\" text-anchor=\"middle\" x=\"405\" y=\"-37.8\">mse = 2.934</text>\n",
       "<text fill=\"#000000\" font-family=\"Helvetica,sans-Serif\" font-size=\"14.00\" text-anchor=\"middle\" x=\"405\" y=\"-22.8\">samples = 17</text>\n",
       "<text fill=\"#000000\" font-family=\"Helvetica,sans-Serif\" font-size=\"14.00\" text-anchor=\"middle\" x=\"405\" y=\"-7.8\">value = 3.324</text>\n",
       "</g>\n",
       "<!-- 5&#45;&gt;7 -->\n",
       "<g class=\"edge\" id=\"edge7\">\n",
       "<title>5-&gt;7</title>\n",
       "<path d=\"M366.1538,-88.9777C371.6195,-80.187 377.5154,-70.7044 383.0222,-61.8477\" fill=\"none\" stroke=\"#000000\"/>\n",
       "<polygon fill=\"#000000\" points=\"386.0609,-63.5889 388.3688,-53.2485 380.1163,-59.8927 386.0609,-63.5889\" stroke=\"#000000\"/>\n",
       "</g>\n",
       "<!-- 9 -->\n",
       "<g class=\"node\" id=\"node10\">\n",
       "<title>9</title>\n",
       "<path d=\"M622,-157C622,-157 540,-157 540,-157 534,-157 528,-151 528,-145 528,-145 528,-101 528,-101 528,-95 534,-89 540,-89 540,-89 622,-89 622,-89 628,-89 634,-95 634,-101 634,-101 634,-145 634,-145 634,-151 628,-157 622,-157\" fill=\"#eeab7b\" stroke=\"#000000\"/>\n",
       "<text fill=\"#000000\" font-family=\"Helvetica,sans-Serif\" font-size=\"14.00\" text-anchor=\"middle\" x=\"581\" y=\"-141.8\">Price &lt;= 73.0</text>\n",
       "<text fill=\"#000000\" font-family=\"Helvetica,sans-Serif\" font-size=\"14.00\" text-anchor=\"middle\" x=\"581\" y=\"-126.8\">mse = 3.976</text>\n",
       "<text fill=\"#000000\" font-family=\"Helvetica,sans-Serif\" font-size=\"14.00\" text-anchor=\"middle\" x=\"581\" y=\"-111.8\">samples = 50</text>\n",
       "<text fill=\"#000000\" font-family=\"Helvetica,sans-Serif\" font-size=\"14.00\" text-anchor=\"middle\" x=\"581\" y=\"-96.8\">value = 10.581</text>\n",
       "</g>\n",
       "<!-- 8&#45;&gt;9 -->\n",
       "<g class=\"edge\" id=\"edge9\">\n",
       "<title>8-&gt;9</title>\n",
       "<path d=\"M581,-192.9465C581,-184.776 581,-175.9318 581,-167.3697\" fill=\"none\" stroke=\"#000000\"/>\n",
       "<polygon fill=\"#000000\" points=\"584.5001,-167.13 581,-157.13 577.5001,-167.13 584.5001,-167.13\" stroke=\"#000000\"/>\n",
       "</g>\n",
       "<!-- 12 -->\n",
       "<g class=\"node\" id=\"node13\">\n",
       "<title>12</title>\n",
       "<path d=\"M816.5,-157C816.5,-157 721.5,-157 721.5,-157 715.5,-157 709.5,-151 709.5,-145 709.5,-145 709.5,-101 709.5,-101 709.5,-95 715.5,-89 721.5,-89 721.5,-89 816.5,-89 816.5,-89 822.5,-89 828.5,-95 828.5,-101 828.5,-101 828.5,-145 828.5,-145 828.5,-151 822.5,-157 816.5,-157\" fill=\"#f6d3b9\" stroke=\"#000000\"/>\n",
       "<text fill=\"#000000\" font-family=\"Helvetica,sans-Serif\" font-size=\"14.00\" text-anchor=\"middle\" x=\"769\" y=\"-141.8\">Income &lt;= 107.0</text>\n",
       "<text fill=\"#000000\" font-family=\"Helvetica,sans-Serif\" font-size=\"14.00\" text-anchor=\"middle\" x=\"769\" y=\"-126.8\">mse = 3.009</text>\n",
       "<text fill=\"#000000\" font-family=\"Helvetica,sans-Serif\" font-size=\"14.00\" text-anchor=\"middle\" x=\"769\" y=\"-111.8\">samples = 14</text>\n",
       "<text fill=\"#000000\" font-family=\"Helvetica,sans-Serif\" font-size=\"14.00\" text-anchor=\"middle\" x=\"769\" y=\"-96.8\">value = 7.17</text>\n",
       "</g>\n",
       "<!-- 8&#45;&gt;12 -->\n",
       "<g class=\"edge\" id=\"edge12\">\n",
       "<title>8-&gt;12</title>\n",
       "<path d=\"M633.6185,-197.8919C654.3361,-186.4311 678.4044,-173.1167 700.4524,-160.92\" fill=\"none\" stroke=\"#000000\"/>\n",
       "<polygon fill=\"#000000\" points=\"702.3803,-163.8533 709.4364,-155.9501 698.9919,-157.7281 702.3803,-163.8533\" stroke=\"#000000\"/>\n",
       "</g>\n",
       "<!-- 10 -->\n",
       "<g class=\"node\" id=\"node11\">\n",
       "<title>10</title>\n",
       "<path d=\"M566,-53C566,-53 484,-53 484,-53 478,-53 472,-47 472,-41 472,-41 472,-12 472,-12 472,-6 478,0 484,0 484,0 566,0 566,0 572,0 578,-6 578,-12 578,-12 578,-41 578,-41 578,-47 572,-53 566,-53\" fill=\"#e58139\" stroke=\"#000000\"/>\n",
       "<text fill=\"#000000\" font-family=\"Helvetica,sans-Serif\" font-size=\"14.00\" text-anchor=\"middle\" x=\"525\" y=\"-37.8\">mse = 0.911</text>\n",
       "<text fill=\"#000000\" font-family=\"Helvetica,sans-Serif\" font-size=\"14.00\" text-anchor=\"middle\" x=\"525\" y=\"-22.8\">samples = 4</text>\n",
       "<text fill=\"#000000\" font-family=\"Helvetica,sans-Serif\" font-size=\"14.00\" text-anchor=\"middle\" x=\"525\" y=\"-7.8\">value = 14.222</text>\n",
       "</g>\n",
       "<!-- 9&#45;&gt;10 -->\n",
       "<g class=\"edge\" id=\"edge10\">\n",
       "<title>9-&gt;10</title>\n",
       "<path d=\"M561.2565,-88.9777C556.2083,-80.2786 550.7669,-70.9018 545.6734,-62.1247\" fill=\"none\" stroke=\"#000000\"/>\n",
       "<polygon fill=\"#000000\" points=\"548.5689,-60.1409 540.5224,-53.2485 542.5145,-63.6544 548.5689,-60.1409\" stroke=\"#000000\"/>\n",
       "</g>\n",
       "<!-- 11 -->\n",
       "<g class=\"node\" id=\"node12\">\n",
       "<title>11</title>\n",
       "<path d=\"M690,-53C690,-53 608,-53 608,-53 602,-53 596,-47 596,-41 596,-41 596,-12 596,-12 596,-6 602,0 608,0 608,0 690,0 690,0 696,0 702,-6 702,-12 702,-12 702,-41 702,-41 702,-47 696,-53 690,-53\" fill=\"#eeaf81\" stroke=\"#000000\"/>\n",
       "<text fill=\"#000000\" font-family=\"Helvetica,sans-Serif\" font-size=\"14.00\" text-anchor=\"middle\" x=\"649\" y=\"-37.8\">mse = 2.989</text>\n",
       "<text fill=\"#000000\" font-family=\"Helvetica,sans-Serif\" font-size=\"14.00\" text-anchor=\"middle\" x=\"649\" y=\"-22.8\">samples = 46</text>\n",
       "<text fill=\"#000000\" font-family=\"Helvetica,sans-Serif\" font-size=\"14.00\" text-anchor=\"middle\" x=\"649\" y=\"-7.8\">value = 10.265</text>\n",
       "</g>\n",
       "<!-- 9&#45;&gt;11 -->\n",
       "<g class=\"edge\" id=\"edge11\">\n",
       "<title>9-&gt;11</title>\n",
       "<path d=\"M604.9743,-88.9777C611.2333,-80.0954 617.9901,-70.5067 624.2867,-61.5711\" fill=\"none\" stroke=\"#000000\"/>\n",
       "<polygon fill=\"#000000\" points=\"627.2521,-63.4389 630.1513,-53.2485 621.5301,-59.4068 627.2521,-63.4389\" stroke=\"#000000\"/>\n",
       "</g>\n",
       "<!-- 13 -->\n",
       "<g class=\"node\" id=\"node14\">\n",
       "<title>13</title>\n",
       "<path d=\"M806,-53C806,-53 732,-53 732,-53 726,-53 720,-47 720,-41 720,-41 720,-12 720,-12 720,-6 726,0 732,0 732,0 806,0 806,0 812,0 818,-6 818,-12 818,-12 818,-41 818,-41 818,-47 812,-53 806,-53\" fill=\"#f5cfb4\" stroke=\"#000000\"/>\n",
       "<text fill=\"#000000\" font-family=\"Helvetica,sans-Serif\" font-size=\"14.00\" text-anchor=\"middle\" x=\"769\" y=\"-37.8\">mse = 2.173</text>\n",
       "<text fill=\"#000000\" font-family=\"Helvetica,sans-Serif\" font-size=\"14.00\" text-anchor=\"middle\" x=\"769\" y=\"-22.8\">samples = 13</text>\n",
       "<text fill=\"#000000\" font-family=\"Helvetica,sans-Serif\" font-size=\"14.00\" text-anchor=\"middle\" x=\"769\" y=\"-7.8\">value = 7.446</text>\n",
       "</g>\n",
       "<!-- 12&#45;&gt;13 -->\n",
       "<g class=\"edge\" id=\"edge13\">\n",
       "<title>12-&gt;13</title>\n",
       "<path d=\"M769,-88.9777C769,-80.7364 769,-71.887 769,-63.5153\" fill=\"none\" stroke=\"#000000\"/>\n",
       "<polygon fill=\"#000000\" points=\"772.5001,-63.2484 769,-53.2485 765.5001,-63.2485 772.5001,-63.2484\" stroke=\"#000000\"/>\n",
       "</g>\n",
       "<!-- 14 -->\n",
       "<g class=\"node\" id=\"node15\">\n",
       "<title>14</title>\n",
       "<path d=\"M915.5,-53C915.5,-53 848.5,-53 848.5,-53 842.5,-53 836.5,-47 836.5,-41 836.5,-41 836.5,-12 836.5,-12 836.5,-6 842.5,0 848.5,0 848.5,0 915.5,0 915.5,0 921.5,0 927.5,-6 927.5,-12 927.5,-12 927.5,-41 927.5,-41 927.5,-47 921.5,-53 915.5,-53\" fill=\"#fefcfa\" stroke=\"#000000\"/>\n",
       "<text fill=\"#000000\" font-family=\"Helvetica,sans-Serif\" font-size=\"14.00\" text-anchor=\"middle\" x=\"882\" y=\"-37.8\">mse = 0.0</text>\n",
       "<text fill=\"#000000\" font-family=\"Helvetica,sans-Serif\" font-size=\"14.00\" text-anchor=\"middle\" x=\"882\" y=\"-22.8\">samples = 1</text>\n",
       "<text fill=\"#000000\" font-family=\"Helvetica,sans-Serif\" font-size=\"14.00\" text-anchor=\"middle\" x=\"882\" y=\"-7.8\">value = 3.58</text>\n",
       "</g>\n",
       "<!-- 12&#45;&gt;14 -->\n",
       "<g class=\"edge\" id=\"edge14\">\n",
       "<title>12-&gt;14</title>\n",
       "<path d=\"M808.8396,-88.9777C819.8839,-79.546 831.861,-69.3178 842.8648,-59.9208\" fill=\"none\" stroke=\"#000000\"/>\n",
       "<polygon fill=\"#000000\" points=\"845.3464,-62.4041 850.6779,-53.2485 840.8006,-57.081 845.3464,-62.4041\" stroke=\"#000000\"/>\n",
       "</g>\n",
       "</g>\n",
       "</svg>"
      ],
      "text/plain": [
       "<IPython.core.display.SVG object>"
      ]
     },
     "metadata": {},
     "output_type": "display_data"
    }
   ],
   "source": [
    "tree_reg = DecisionTreeRegressor(\n",
    "    criterion='mse', \n",
    "    splitter='best', \n",
    "    max_depth=3,\n",
    "    random_state=42\n",
    ")\n",
    "_ = tree_reg.fit(df_x_train, df_y_train)\n",
    "\n",
    "transformed_columns_lst = df_x.columns.tolist()\n",
    "graph = Source(export_graphviz(\n",
    "    tree_reg, \n",
    "    out_file=None,\n",
    "    feature_names=transformed_columns_lst,\n",
    "    rounded=True,\n",
    "    filled=True\n",
    "))\n",
    "\n",
    "display(SVG(graph.pipe(format='svg')))"
   ]
  },
  {
   "cell_type": "code",
   "execution_count": 7,
   "metadata": {
    "ExecuteTime": {
     "end_time": "2020-03-01T12:57:36.850152Z",
     "start_time": "2020-03-01T12:57:36.767882Z"
    }
   },
   "outputs": [
    {
     "name": "stdout",
     "output_type": "stream",
     "text": [
      "test MSE = 6.68\n"
     ]
    }
   ],
   "source": [
    "y_pred = tree_reg.predict(df_x_test)\n",
    "MSE = mean_squared_error(y_pred, df_y_test)\n",
    "print(f'test MSE = {MSE:.2f}')"
   ]
  },
  {
   "cell_type": "markdown",
   "metadata": {},
   "source": [
    "<h3>Exercise 8.8.3</h3>\n",
    "<blockquote>\n",
    "    <i>Use cross-validation in order to determine the optimal level of tree complexity. Does pruning the tree improve the test MSE?</i>\n",
    "</blockquote>"
   ]
  },
  {
   "cell_type": "code",
   "execution_count": 8,
   "metadata": {
    "ExecuteTime": {
     "end_time": "2020-03-01T12:57:40.130544Z",
     "start_time": "2020-03-01T12:57:36.854525Z"
    }
   },
   "outputs": [
    {
     "name": "stdout",
     "output_type": "stream",
     "text": [
      "smallest MSE = 5.28\n",
      "splitter, depth, samples_split, best_samples_leaf = ('random', 4, 0.1, 0.1)\n"
     ]
    }
   ],
   "source": [
    "best_MSE = float('+inf')\n",
    "best_complexity = None\n",
    "for splitter in ['best', 'random']:\n",
    "    for depth in range(1, 5):\n",
    "        for samples_split in [i/10 for i in range(1, 11)]:\n",
    "            for samples_leaf in [i/10 for i in range(1, 6)]:\n",
    "                MSE = 0\n",
    "                tree_reg = DecisionTreeRegressor(\n",
    "                    criterion='mse', \n",
    "                    splitter=splitter, \n",
    "                    max_depth=depth,\n",
    "                    min_samples_split=samples_split,\n",
    "                    min_samples_leaf=samples_leaf,\n",
    "                    random_state=42\n",
    "                )\n",
    "                _ = tree_reg.fit(df_x_train, df_y_train)\n",
    "\n",
    "                y_pred = tree_reg.predict(df_x_test)\n",
    "                MSE = mean_squared_error(y_pred, df_y_test)\n",
    "                if MSE < best_MSE:\n",
    "                    best_MSE = MSE\n",
    "                    best_complexity = (splitter, depth, samples_split, samples_leaf)\n",
    "                    \n",
    "print(f'smallest MSE = {best_MSE:.2f}')\n",
    "print(f'splitter, depth, samples_split, best_samples_leaf = {best_complexity}')"
   ]
  },
  {
   "cell_type": "markdown",
   "metadata": {},
   "source": [
    "<h3>Exercise 8.8.4</h3>\n",
    "<blockquote>\n",
    "    <i>Use the bagging approach in order to analyze this data. What test MSE do you obtain? Use the <code>importance()</code> function to determine which variables are most important.</i>\n",
    "</blockquote>"
   ]
  },
  {
   "cell_type": "code",
   "execution_count": 9,
   "metadata": {
    "ExecuteTime": {
     "end_time": "2020-03-01T12:57:42.562584Z",
     "start_time": "2020-03-01T12:57:40.133473Z"
    }
   },
   "outputs": [
    {
     "name": "stdout",
     "output_type": "stream",
     "text": [
      "out-of-bag MSE = 3.79\n",
      "test MSE = 4.32\n"
     ]
    }
   ],
   "source": [
    "number_of_trees = 500\n",
    "sample_size = df_x_train.shape[0]\n",
    "bag = BaggingRegressor(\n",
    "    DecisionTreeRegressor(\n",
    "        criterion='mse', \n",
    "        splitter='best', \n",
    "        max_depth=3,\n",
    "        random_state=42\n",
    "    ),\n",
    "    oob_score=True,\n",
    "    n_estimators=number_of_trees,\n",
    "    max_samples=sample_size,\n",
    "    bootstrap=True,\n",
    "    n_jobs=-1\n",
    ")\n",
    "\n",
    "_ = bag.fit(df_x_train, df_y_train.squeeze())\n",
    "Y_oob_pred = bag.oob_prediction_\n",
    "MSE_oob = mean_squared_error(Y_oob_pred, df_y_train)\n",
    "print(f'out-of-bag MSE = {MSE_oob:.2f}')\n",
    "\n",
    "y_pred = bag.predict(df_x_test)\n",
    "MSE = mean_squared_error(y_pred, df_y_test)\n",
    "print(f'test MSE = {MSE:.2f}')"
   ]
  },
  {
   "cell_type": "code",
   "execution_count": 10,
   "metadata": {
    "ExecuteTime": {
     "end_time": "2020-03-01T12:57:43.418880Z",
     "start_time": "2020-03-01T12:57:42.568814Z"
    }
   },
   "outputs": [
    {
     "data": {
      "image/png": "[encoded data removed]",
      "text/plain": [
       "<Figure size 576x432 with 1 Axes>"
      ]
     },
     "metadata": {
      "needs_background": "light"
     },
     "output_type": "display_data"
    }
   ],
   "source": [
    "feature_importances = np.mean([\n",
    "    tree.feature_importances_ for tree in bag.estimators_\n",
    "], axis=0)\n",
    "\n",
    "\n",
    "importances = 100 * feature_importances\n",
    "indices = np.argsort(importances)\n",
    "columns = df_transformed.columns.tolist()\n",
    "\n",
    "fig, ax = plt.subplots(1, 1, constrained_layout=True, figsize=(8, 6))\n",
    "\n",
    "_ = ax.barh(range(len(indices)), importances[indices], align='center')\n",
    "# _ = ax.set_yticks(range(len(indices)), [columns[i] for i in indices])\n",
    "_ = ax.set_yticklabels([columns[i] for i in indices])\n",
    "_ = ax.set_yticks(range(len(indices)))\n",
    "_ = ax.set_xlabel('Relative Importance (%)')\n",
    "_ = ax.set_title('Feature Importances')"
   ]
  },
  {
   "cell_type": "markdown",
   "metadata": {},
   "source": [
    "<h3>Exercise 8.8.5</h3>\n",
    "<blockquote>\n",
    "    <i>Use random forests to analyze this data. What test MSE do you obtain? Use the <code>importance()</code> function to determine which variables are most important. Describe the effect of $m$, the number of variables considered at each split, on the error rate obtained.</i>\n",
    "</blockquote>"
   ]
  },
  {
   "cell_type": "code",
   "execution_count": 11,
   "metadata": {
    "ExecuteTime": {
     "end_time": "2020-03-01T12:59:10.171643Z",
     "start_time": "2020-03-01T12:57:43.430950Z"
    }
   },
   "outputs": [
    {
     "name": "stdout",
     "output_type": "stream",
     "text": [
      "smallest MSE = 3.83\n",
      "splitter, depth, samples_split, best_samples_leaf = (4, 10)\n"
     ]
    }
   ],
   "source": [
    "best_MSE = float('+inf')\n",
    "best_complexity = None\n",
    "max_features = df_x_train.shape[1]\n",
    "for depth in range(1, 5):\n",
    "    for features in range(1, max_features):\n",
    "        rnd_clf = RandomForestRegressor(\n",
    "            n_estimators=number_of_trees, \n",
    "            max_features=features, \n",
    "            max_depth=depth,\n",
    "            bootstrap=True, \n",
    "            random_state=42, \n",
    "            n_jobs=11\n",
    "        )\n",
    "        _ = rnd_clf.fit(df_x_train, df_y_train.squeeze())\n",
    "\n",
    "        y_pred = rnd_clf.predict(df_x_test)\n",
    "        MSE = mean_squared_error(y_pred, df_y_test)\n",
    "        if MSE < best_MSE:\n",
    "            best_MSE = MSE\n",
    "            best_complexity = (depth, features)\n",
    "\n",
    "print(f'smallest MSE = {best_MSE:.2f}')\n",
    "print(f'splitter, depth, samples_split, best_samples_leaf = {best_complexity}')"
   ]
  },
  {
   "cell_type": "code",
   "execution_count": 12,
   "metadata": {
    "ExecuteTime": {
     "end_time": "2020-03-01T12:59:12.910914Z",
     "start_time": "2020-03-01T12:59:10.175183Z"
    }
   },
   "outputs": [
    {
     "data": {
      "image/png": "[encoded data removed]",
      "text/plain": [
       "<Figure size 576x432 with 1 Axes>"
      ]
     },
     "metadata": {
      "needs_background": "light"
     },
     "output_type": "display_data"
    }
   ],
   "source": [
    "best_depth, best_features = best_complexity\n",
    "\n",
    "rnd_clf = RandomForestRegressor(\n",
    "    n_estimators=number_of_trees, \n",
    "    max_features=best_features, \n",
    "    max_depth=best_depth,\n",
    "    oob_score=True,\n",
    "    bootstrap=True, \n",
    "    random_state=42, \n",
    "    n_jobs=11\n",
    ")\n",
    "_ = rnd_clf.fit(df_x_train, df_y_train.squeeze())\n",
    "\n",
    "importances = 100 * rnd_clf.feature_importances_\n",
    "indices = np.argsort(importances)\n",
    "\n",
    "fig, ax = plt.subplots(1, 1, constrained_layout=True, figsize=(8, 6))\n",
    "\n",
    "_ = ax.barh(range(len(indices)), importances[indices], align='center')\n",
    "# _ = ax.set_yticks(range(len(indices)), [columns[i] for i in indices])\n",
    "_ = ax.set_yticklabels([columns[i] for i in indices])\n",
    "_ = ax.set_yticks(range(len(indices)))\n",
    "_ = ax.set_xlabel('Relative Importance (%)')\n",
    "_ = ax.set_title('Feature Importances')"
   ]
  },
  {
   "cell_type": "code",
   "execution_count": 13,
   "metadata": {
    "ExecuteTime": {
     "end_time": "2020-03-01T12:59:37.130837Z",
     "start_time": "2020-03-01T12:59:12.916518Z"
    }
   },
   "outputs": [],
   "source": [
    "result = {}\n",
    "for features in range(1, max_features):\n",
    "    rnd_clf = RandomForestRegressor(\n",
    "        n_estimators=number_of_trees, \n",
    "        max_features=features, \n",
    "        max_depth=best_depth,\n",
    "        bootstrap=True, \n",
    "        random_state=42, \n",
    "        n_jobs=11\n",
    "    )\n",
    "    _ = rnd_clf.fit(df_x_train, df_y_train.squeeze())\n",
    "\n",
    "    y_pred = rnd_clf.predict(df_x_test)\n",
    "    MSE = mean_squared_error(y_pred, df_y_test)\n",
    "    result[features] = MSE"
   ]
  },
  {
   "cell_type": "code",
   "execution_count": 14,
   "metadata": {
    "ExecuteTime": {
     "end_time": "2020-03-01T12:59:37.717335Z",
     "start_time": "2020-03-01T12:59:37.133609Z"
    }
   },
   "outputs": [
    {
     "data": {
      "image/png": "[encoded data removed]",
      "text/plain": [
       "<Figure size 576x288 with 1 Axes>"
      ]
     },
     "metadata": {
      "needs_background": "light"
     },
     "output_type": "display_data"
    }
   ],
   "source": [
    "fig, ax = plt.subplots(1, 1, constrained_layout=True, figsize=(8, 4))\n",
    "_ = ax.scatter(result.keys(), result.values())\n",
    "_ = ax.set_xlabel('number of features considered when looking for the best split')\n",
    "_ = ax.set_ylabel('test MSE')"
   ]
  }
 ],
 "metadata": {
  "kernelspec": {
   "display_name": "Python 3",
   "language": "python",
   "name": "python3"
  },
  "language_info": {
   "codemirror_mode": {
    "name": "ipython",
    "version": 3
   },
   "file_extension": ".py",
   "mimetype": "text/x-python",
   "name": "python",
   "nbconvert_exporter": "python",
   "pygments_lexer": "ipython3",
   "version": "3.7.5"
  }
 },
 "nbformat": 4,
 "nbformat_minor": 2
}
