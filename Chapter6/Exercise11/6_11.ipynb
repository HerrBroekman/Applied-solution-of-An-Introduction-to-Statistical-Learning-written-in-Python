{
 "cells": [
  {
   "cell_type": "markdown",
   "metadata": {},
   "source": [
    "<blockquote>\n",
    "    <h1>Exercise 6.11</h1>\n",
    "    <p>We will now try to predict per capita crime rate in the <code>Boston</code> data set.</p>\n",
    "    <ol>\n",
    "        <li>Try out some of the regression methods explored in this chapter, such as best subset selection, the lasso, ridge regression, and PCR. Present and discuss results for the approaches that you consider.</li>\n",
    "        <li>Propose a model (or set of models) that seem to perform well on this data set, and justify your answer. Make sure that you are evaluating model performance using validation set error, cross-validation, or some other reasonable alternative, as opposed to using training error.</li>\n",
    "        <li>Does your chosen model involve all of the features in the data set? Why or why not?</li>\n",
    "    </ol>\n",
    "</blockquote>"
   ]
  },
  {
   "cell_type": "code",
   "execution_count": 1,
   "metadata": {
    "ExecuteTime": {
     "end_time": "2020-01-25T21:33:46.339516Z",
     "start_time": "2020-01-25T21:33:45.093842Z"
    }
   },
   "outputs": [],
   "source": [
    "import pandas as pd\n",
    "import numpy as np\n",
    "import matplotlib.pyplot as plt\n",
    "\n",
    "# https://stackoverflow.com/questions/34398054/ipython-notebook-cell-multiple-outputs\n",
    "from IPython.core.interactiveshell import InteractiveShell\n",
    "InteractiveShell.ast_node_interactivity = \"all\"\n",
    "\n",
    "import itertools\n",
    "from sklearn.model_selection import train_test_split\n",
    "from sklearn.linear_model import LinearRegression\n",
    "from sklearn.metrics import mean_squared_error"
   ]
  },
  {
   "cell_type": "code",
   "execution_count": 2,
   "metadata": {
    "ExecuteTime": {
     "end_time": "2020-01-25T21:33:46.351743Z",
     "start_time": "2020-01-25T21:33:46.342514Z"
    }
   },
   "outputs": [],
   "source": [
    "def fit_linear_reg(df_X, df_Y):\n",
    "    # Fit linear regression model and return RSS values\n",
    "    model = LinearRegression()\n",
    "    _ = model.fit(df_X, df_Y)\n",
    "    Y_pred = model.predict(df_X)    \n",
    "    return mean_squared_error(df_Y, Y_pred)"
   ]
  },
  {
   "cell_type": "markdown",
   "metadata": {},
   "source": [
    "<h3>Exercise 6.11.1</h3>\n",
    "<blockquote>\n",
    "    <i>Try out some of the regression methods explored in this chapter, such as best subset selection, the lasso, ridge regression, and PCR. Present and discuss results for the approaches that you consider.</i>\n",
    "</blockquote>"
   ]
  },
  {
   "cell_type": "code",
   "execution_count": 3,
   "metadata": {
    "ExecuteTime": {
     "end_time": "2020-01-25T21:33:46.513718Z",
     "start_time": "2020-01-25T21:33:46.358213Z"
    }
   },
   "outputs": [
    {
     "data": {
      "text/html": [
       "<div>\n",
       "<style scoped>\n",
       "    .dataframe tbody tr th:only-of-type {\n",
       "        vertical-align: middle;\n",
       "    }\n",
       "\n",
       "    .dataframe tbody tr th {\n",
       "        vertical-align: top;\n",
       "    }\n",
       "\n",
       "    .dataframe thead th {\n",
       "        text-align: right;\n",
       "    }\n",
       "</style>\n",
       "<table border=\"1\" class=\"dataframe\">\n",
       "  <thead>\n",
       "    <tr style=\"text-align: right;\">\n",
       "      <th></th>\n",
       "      <th>crim</th>\n",
       "      <th>zn</th>\n",
       "      <th>indus</th>\n",
       "      <th>chas</th>\n",
       "      <th>nox</th>\n",
       "      <th>rm</th>\n",
       "      <th>age</th>\n",
       "      <th>dis</th>\n",
       "      <th>rad</th>\n",
       "      <th>tax</th>\n",
       "      <th>ptratio</th>\n",
       "      <th>black</th>\n",
       "      <th>lstat</th>\n",
       "      <th>medv</th>\n",
       "    </tr>\n",
       "  </thead>\n",
       "  <tbody>\n",
       "    <tr>\n",
       "      <th>0</th>\n",
       "      <td>0.00632</td>\n",
       "      <td>18.0</td>\n",
       "      <td>2.31</td>\n",
       "      <td>0</td>\n",
       "      <td>0.538</td>\n",
       "      <td>6.575</td>\n",
       "      <td>65.2</td>\n",
       "      <td>4.0900</td>\n",
       "      <td>1</td>\n",
       "      <td>296</td>\n",
       "      <td>15.3</td>\n",
       "      <td>396.90</td>\n",
       "      <td>4.98</td>\n",
       "      <td>24.0</td>\n",
       "    </tr>\n",
       "    <tr>\n",
       "      <th>1</th>\n",
       "      <td>0.02731</td>\n",
       "      <td>0.0</td>\n",
       "      <td>7.07</td>\n",
       "      <td>0</td>\n",
       "      <td>0.469</td>\n",
       "      <td>6.421</td>\n",
       "      <td>78.9</td>\n",
       "      <td>4.9671</td>\n",
       "      <td>2</td>\n",
       "      <td>242</td>\n",
       "      <td>17.8</td>\n",
       "      <td>396.90</td>\n",
       "      <td>9.14</td>\n",
       "      <td>21.6</td>\n",
       "    </tr>\n",
       "    <tr>\n",
       "      <th>2</th>\n",
       "      <td>0.02729</td>\n",
       "      <td>0.0</td>\n",
       "      <td>7.07</td>\n",
       "      <td>0</td>\n",
       "      <td>0.469</td>\n",
       "      <td>7.185</td>\n",
       "      <td>61.1</td>\n",
       "      <td>4.9671</td>\n",
       "      <td>2</td>\n",
       "      <td>242</td>\n",
       "      <td>17.8</td>\n",
       "      <td>392.83</td>\n",
       "      <td>4.03</td>\n",
       "      <td>34.7</td>\n",
       "    </tr>\n",
       "    <tr>\n",
       "      <th>3</th>\n",
       "      <td>0.03237</td>\n",
       "      <td>0.0</td>\n",
       "      <td>2.18</td>\n",
       "      <td>0</td>\n",
       "      <td>0.458</td>\n",
       "      <td>6.998</td>\n",
       "      <td>45.8</td>\n",
       "      <td>6.0622</td>\n",
       "      <td>3</td>\n",
       "      <td>222</td>\n",
       "      <td>18.7</td>\n",
       "      <td>394.63</td>\n",
       "      <td>2.94</td>\n",
       "      <td>33.4</td>\n",
       "    </tr>\n",
       "    <tr>\n",
       "      <th>4</th>\n",
       "      <td>0.06905</td>\n",
       "      <td>0.0</td>\n",
       "      <td>2.18</td>\n",
       "      <td>0</td>\n",
       "      <td>0.458</td>\n",
       "      <td>7.147</td>\n",
       "      <td>54.2</td>\n",
       "      <td>6.0622</td>\n",
       "      <td>3</td>\n",
       "      <td>222</td>\n",
       "      <td>18.7</td>\n",
       "      <td>396.90</td>\n",
       "      <td>5.33</td>\n",
       "      <td>36.2</td>\n",
       "    </tr>\n",
       "  </tbody>\n",
       "</table>\n",
       "</div>"
      ],
      "text/plain": [
       "      crim    zn  indus  chas    nox     rm   age     dis  rad  tax  ptratio  \\\n",
       "0  0.00632  18.0   2.31     0  0.538  6.575  65.2  4.0900    1  296     15.3   \n",
       "1  0.02731   0.0   7.07     0  0.469  6.421  78.9  4.9671    2  242     17.8   \n",
       "2  0.02729   0.0   7.07     0  0.469  7.185  61.1  4.9671    2  242     17.8   \n",
       "3  0.03237   0.0   2.18     0  0.458  6.998  45.8  6.0622    3  222     18.7   \n",
       "4  0.06905   0.0   2.18     0  0.458  7.147  54.2  6.0622    3  222     18.7   \n",
       "\n",
       "    black  lstat  medv  \n",
       "0  396.90   4.98  24.0  \n",
       "1  396.90   9.14  21.6  \n",
       "2  392.83   4.03  34.7  \n",
       "3  394.63   2.94  33.4  \n",
       "4  396.90   5.33  36.2  "
      ]
     },
     "execution_count": 3,
     "metadata": {},
     "output_type": "execute_result"
    }
   ],
   "source": [
    "# crim: per capita crime rate by town.\n",
    "# zn: proportion of residential land zoned for lots over 25,000 sq.ft.\n",
    "# indus: proportion of non-retail business acres per town.\n",
    "# chas: Charles River dummy variable (= 1 if tract bounds river; 0 otherwise).\n",
    "# nox: nitrogen oxides concentration (parts per 10 million).\n",
    "# rm: average number of rooms per dwelling.\n",
    "# age: proportion of owner-occupied units built prior to 1940.\n",
    "# dis: weighted mean of distances to five Boston employment centres.\n",
    "# rad: index of accessibility to radial highways.\n",
    "# tax: full-value property-tax rate per $10,000.\n",
    "# ptratio: pupil-teacher ratio by town.\n",
    "# black: 1000(Bk - 0.63)^2 where Bk is the proportion of blacks by town.\n",
    "# lstat: lower status of the population (percent).\n",
    "# medv: median value of owner-occupied homes in $1000s.\n",
    "\n",
    "df = pd.read_csv(\"../../DataSets/Boston/Boston.csv\")\n",
    "df.head()\n",
    "\n",
    "df_Y = df[['crim']]\n",
    "df_X = df.drop('crim', axis=1)\n",
    "df_X_train, df_X_test = train_test_split(df_X, test_size=0.2, random_state=0)\n",
    "df_Y_train, df_Y_test = train_test_split(df_Y, test_size=0.2, random_state=0)"
   ]
  },
  {
   "cell_type": "code",
   "execution_count": 4,
   "metadata": {
    "ExecuteTime": {
     "end_time": "2020-01-25T21:34:50.891491Z",
     "start_time": "2020-01-25T21:33:46.516541Z"
    }
   },
   "outputs": [
    {
     "data": {
      "text/plain": [
       "(0, ['Intercept'])"
      ]
     },
     "execution_count": 4,
     "metadata": {},
     "output_type": "execute_result"
    },
    {
     "data": {
      "text/plain": [
       "(1, ['rad'])"
      ]
     },
     "execution_count": 4,
     "metadata": {},
     "output_type": "execute_result"
    },
    {
     "data": {
      "text/plain": [
       "(2, ['rad', 'lstat'])"
      ]
     },
     "execution_count": 4,
     "metadata": {},
     "output_type": "execute_result"
    },
    {
     "data": {
      "text/plain": [
       "(3, ['zn', 'rad', 'lstat'])"
      ]
     },
     "execution_count": 4,
     "metadata": {},
     "output_type": "execute_result"
    },
    {
     "data": {
      "text/plain": [
       "(4, ['rm', 'rad', 'lstat', 'medv'])"
      ]
     },
     "execution_count": 4,
     "metadata": {},
     "output_type": "execute_result"
    },
    {
     "data": {
      "text/plain": [
       "(5, ['zn', 'dis', 'rad', 'lstat', 'medv'])"
      ]
     },
     "execution_count": 4,
     "metadata": {},
     "output_type": "execute_result"
    },
    {
     "data": {
      "text/plain": [
       "(6, ['zn', 'indus', 'dis', 'rad', 'lstat', 'medv'])"
      ]
     },
     "execution_count": 4,
     "metadata": {},
     "output_type": "execute_result"
    },
    {
     "data": {
      "text/plain": [
       "(7, ['zn', 'indus', 'rm', 'dis', 'rad', 'lstat', 'medv'])"
      ]
     },
     "execution_count": 4,
     "metadata": {},
     "output_type": "execute_result"
    },
    {
     "data": {
      "text/plain": [
       "(8, ['zn', 'nox', 'rm', 'dis', 'rad', 'ptratio', 'lstat', 'medv'])"
      ]
     },
     "execution_count": 4,
     "metadata": {},
     "output_type": "execute_result"
    },
    {
     "data": {
      "text/plain": [
       "(9, ['zn', 'indus', 'nox', 'rm', 'dis', 'rad', 'ptratio', 'lstat', 'medv'])"
      ]
     },
     "execution_count": 4,
     "metadata": {},
     "output_type": "execute_result"
    },
    {
     "data": {
      "text/plain": [
       "(10,\n",
       " ['zn', 'indus', 'nox', 'rm', 'age', 'dis', 'rad', 'ptratio', 'lstat', 'medv'])"
      ]
     },
     "execution_count": 4,
     "metadata": {},
     "output_type": "execute_result"
    },
    {
     "data": {
      "text/plain": [
       "(11,\n",
       " ['zn',\n",
       "  'indus',\n",
       "  'chas',\n",
       "  'nox',\n",
       "  'rm',\n",
       "  'age',\n",
       "  'dis',\n",
       "  'rad',\n",
       "  'ptratio',\n",
       "  'lstat',\n",
       "  'medv'])"
      ]
     },
     "execution_count": 4,
     "metadata": {},
     "output_type": "execute_result"
    },
    {
     "data": {
      "text/plain": [
       "(12,\n",
       " ['zn',\n",
       "  'indus',\n",
       "  'chas',\n",
       "  'nox',\n",
       "  'rm',\n",
       "  'age',\n",
       "  'dis',\n",
       "  'rad',\n",
       "  'tax',\n",
       "  'ptratio',\n",
       "  'lstat',\n",
       "  'medv'])"
      ]
     },
     "execution_count": 4,
     "metadata": {},
     "output_type": "execute_result"
    },
    {
     "data": {
      "text/plain": [
       "(13,\n",
       " ['zn',\n",
       "  'indus',\n",
       "  'chas',\n",
       "  'nox',\n",
       "  'rm',\n",
       "  'age',\n",
       "  'dis',\n",
       "  'rad',\n",
       "  'tax',\n",
       "  'ptratio',\n",
       "  'black',\n",
       "  'lstat',\n",
       "  'medv'])"
      ]
     },
     "execution_count": 4,
     "metadata": {},
     "output_type": "execute_result"
    },
    {
     "data": {
      "text/html": [
       "<div>\n",
       "<style scoped>\n",
       "    .dataframe tbody tr th:only-of-type {\n",
       "        vertical-align: middle;\n",
       "    }\n",
       "\n",
       "    .dataframe tbody tr th {\n",
       "        vertical-align: top;\n",
       "    }\n",
       "\n",
       "    .dataframe thead th {\n",
       "        text-align: right;\n",
       "    }\n",
       "</style>\n",
       "<table border=\"1\" class=\"dataframe\">\n",
       "  <thead>\n",
       "    <tr style=\"text-align: right;\">\n",
       "      <th></th>\n",
       "      <th>variables</th>\n",
       "      <th>training MSE</th>\n",
       "      <th>testing MSE</th>\n",
       "    </tr>\n",
       "    <tr>\n",
       "      <th>number of predictors</th>\n",
       "      <th></th>\n",
       "      <th></th>\n",
       "      <th></th>\n",
       "    </tr>\n",
       "  </thead>\n",
       "  <tbody>\n",
       "    <tr>\n",
       "      <th>0</th>\n",
       "      <td>[Intercept]</td>\n",
       "      <td>104.904</td>\n",
       "      <td>103.634</td>\n",
       "    </tr>\n",
       "    <tr>\n",
       "      <th>1</th>\n",
       "      <td>[rad]</td>\n",
       "      <td>40.1883</td>\n",
       "      <td>64.2439</td>\n",
       "    </tr>\n",
       "    <tr>\n",
       "      <th>2</th>\n",
       "      <td>[rad, lstat]</td>\n",
       "      <td>37.8824</td>\n",
       "      <td>62.6183</td>\n",
       "    </tr>\n",
       "    <tr>\n",
       "      <th>3</th>\n",
       "      <td>[zn, rad, lstat]</td>\n",
       "      <td>37.6563</td>\n",
       "      <td>62.5768</td>\n",
       "    </tr>\n",
       "    <tr>\n",
       "      <th>4</th>\n",
       "      <td>[rm, rad, lstat, medv]</td>\n",
       "      <td>37.33</td>\n",
       "      <td>63.1647</td>\n",
       "    </tr>\n",
       "    <tr>\n",
       "      <th>5</th>\n",
       "      <td>[zn, dis, rad, lstat, medv]</td>\n",
       "      <td>37.0246</td>\n",
       "      <td>60.5715</td>\n",
       "    </tr>\n",
       "    <tr>\n",
       "      <th>6</th>\n",
       "      <td>[zn, indus, dis, rad, lstat, medv]</td>\n",
       "      <td>36.6197</td>\n",
       "      <td>60.2978</td>\n",
       "    </tr>\n",
       "    <tr>\n",
       "      <th>7</th>\n",
       "      <td>[zn, indus, rm, dis, rad, lstat, medv]</td>\n",
       "      <td>36.3765</td>\n",
       "      <td>61.2067</td>\n",
       "    </tr>\n",
       "    <tr>\n",
       "      <th>8</th>\n",
       "      <td>[zn, nox, rm, dis, rad, ptratio, lstat, medv]</td>\n",
       "      <td>36.1558</td>\n",
       "      <td>60.4753</td>\n",
       "    </tr>\n",
       "    <tr>\n",
       "      <th>9</th>\n",
       "      <td>[zn, indus, nox, rm, dis, rad, ptratio, lstat,...</td>\n",
       "      <td>36.0274</td>\n",
       "      <td>60.4194</td>\n",
       "    </tr>\n",
       "    <tr>\n",
       "      <th>10</th>\n",
       "      <td>[zn, indus, nox, rm, age, dis, rad, ptratio, l...</td>\n",
       "      <td>35.9715</td>\n",
       "      <td>60.8763</td>\n",
       "    </tr>\n",
       "    <tr>\n",
       "      <th>11</th>\n",
       "      <td>[zn, indus, chas, nox, rm, age, dis, rad, ptra...</td>\n",
       "      <td>35.9307</td>\n",
       "      <td>60.889</td>\n",
       "    </tr>\n",
       "    <tr>\n",
       "      <th>12</th>\n",
       "      <td>[zn, indus, chas, nox, rm, age, dis, rad, tax,...</td>\n",
       "      <td>35.8876</td>\n",
       "      <td>60.8345</td>\n",
       "    </tr>\n",
       "    <tr>\n",
       "      <th>13</th>\n",
       "      <td>[zn, indus, chas, nox, rm, age, dis, rad, tax,...</td>\n",
       "      <td>35.8814</td>\n",
       "      <td>61.4006</td>\n",
       "    </tr>\n",
       "  </tbody>\n",
       "</table>\n",
       "</div>"
      ],
      "text/plain": [
       "                                                              variables  \\\n",
       "number of predictors                                                      \n",
       "0                                                           [Intercept]   \n",
       "1                                                                 [rad]   \n",
       "2                                                          [rad, lstat]   \n",
       "3                                                      [zn, rad, lstat]   \n",
       "4                                                [rm, rad, lstat, medv]   \n",
       "5                                           [zn, dis, rad, lstat, medv]   \n",
       "6                                    [zn, indus, dis, rad, lstat, medv]   \n",
       "7                                [zn, indus, rm, dis, rad, lstat, medv]   \n",
       "8                         [zn, nox, rm, dis, rad, ptratio, lstat, medv]   \n",
       "9                     [zn, indus, nox, rm, dis, rad, ptratio, lstat,...   \n",
       "10                    [zn, indus, nox, rm, age, dis, rad, ptratio, l...   \n",
       "11                    [zn, indus, chas, nox, rm, age, dis, rad, ptra...   \n",
       "12                    [zn, indus, chas, nox, rm, age, dis, rad, tax,...   \n",
       "13                    [zn, indus, chas, nox, rm, age, dis, rad, tax,...   \n",
       "\n",
       "                     training MSE testing MSE  \n",
       "number of predictors                           \n",
       "0                         104.904     103.634  \n",
       "1                         40.1883     64.2439  \n",
       "2                         37.8824     62.6183  \n",
       "3                         37.6563     62.5768  \n",
       "4                           37.33     63.1647  \n",
       "5                         37.0246     60.5715  \n",
       "6                         36.6197     60.2978  \n",
       "7                         36.3765     61.2067  \n",
       "8                         36.1558     60.4753  \n",
       "9                         36.0274     60.4194  \n",
       "10                        35.9715     60.8763  \n",
       "11                        35.9307      60.889  \n",
       "12                        35.8876     60.8345  \n",
       "13                        35.8814     61.4006  "
      ]
     },
     "execution_count": 4,
     "metadata": {},
     "output_type": "execute_result"
    },
    {
     "data": {
      "image/png": "[encoded data removed]",
      "text/plain": [
       "<Figure size 1152x288 with 2 Axes>"
      ]
     },
     "metadata": {
      "needs_background": "light"
     },
     "output_type": "display_data"
    }
   ],
   "source": [
    "# best subset selection\n",
    "\n",
    "best_submodels = {}\n",
    "n, p = df_X.shape\n",
    "MSE = np.sum((df_Y_test - df_Y_train.mean().iloc[0])**2).iloc[0] / df_Y_test.shape[0]  # null model\n",
    "best_submodels = {\n",
    "    0: (['Intercept'], MSE),  # null model\n",
    "}\n",
    "\n",
    "features_lst = df_X.columns.tolist()\n",
    "for k in range(1, p + 1):\n",
    "    MSE_min_subset = float('+inf')\n",
    "    #Looping over all possible combinations: from p choose k\n",
    "    for descriptiveColumns in itertools.combinations(features_lst, k):\n",
    "        descriptiveColumns = list(descriptiveColumns)\n",
    "        MSE = fit_linear_reg(df_X_train[descriptiveColumns], df_Y_train)\n",
    "        if MSE < MSE_min_subset:\n",
    "            MSE_min_subset = MSE\n",
    "            descriptiveColumns_best_subset = descriptiveColumns\n",
    "        \n",
    "    best_submodels[k] = (descriptiveColumns_best_subset, MSE_min_subset)\n",
    "\n",
    "for k, (descriptiveColumns_best_subset, MSE_train) in best_submodels.items():\n",
    "    if descriptiveColumns_best_subset == ['Intercept']:  # null model\n",
    "        Y_test_mean = df_Y_test.mean().iloc[0]\n",
    "        MSE_test = np.sum((df_Y_test - Y_test_mean)**2).iloc[0] / df_Y_test.shape[0]\n",
    "        best_submodels[k] = (descriptiveColumns_best_subset, MSE_train, MSE_test)\n",
    "        continue\n",
    "\n",
    "    model = LinearRegression()\n",
    "    _ = model.fit(df_X_train[descriptiveColumns_best_subset], df_Y_train)\n",
    "    \n",
    "    Y_pred = model.predict(df_X_test[descriptiveColumns_best_subset])\n",
    "    MSE_test = mean_squared_error(Y_pred, df_Y_test)\n",
    "    best_submodels[k] = (descriptiveColumns_best_subset, MSE_train, MSE_test)\n",
    "\n",
    "\n",
    "df_best_submodels = pd.DataFrame(best_submodels, index=['variables', 'training MSE', 'testing MSE']).T\n",
    "df_best_submodels.index.name = 'number of predictors'\n",
    "df_best_submodels\n",
    "\n",
    "# df_best_submodels\n",
    "df_best_MSE_train = df_best_submodels[df_best_submodels['training MSE'] == df_best_submodels['training MSE'].min()]\n",
    "df_best_MSE_test = df_best_submodels[df_best_submodels['testing MSE'] == df_best_submodels['testing MSE'].min()]\n",
    "\n",
    "numberOfSubplots = 2\n",
    "fig, [ax1, ax2] = plt.subplots(1, numberOfSubplots, constrained_layout=True, figsize=(8*numberOfSubplots, 4))\n",
    "\n",
    "_ = df_best_submodels['training MSE'].plot(ax=ax1, label='')\n",
    "_ = ax1.scatter(x=df_best_MSE_train.index[0], y=df_best_MSE_train['training MSE'].iloc[0], marker='x', s=400, label='best model')\n",
    "_ = ax1.set_ylabel('training MSE')\n",
    "_ = ax1.legend()\n",
    "\n",
    "_ = df_best_submodels['testing MSE'].plot(ax=ax2, label='')\n",
    "_ = ax2.scatter(x=df_best_MSE_test.index[0], y=df_best_MSE_test['testing MSE'].iloc[0], marker='x', s=400, label='best model')\n",
    "_ = ax2.set_ylabel('testing MSE')\n",
    "_ = ax2.legend()"
   ]
  },
  {
   "cell_type": "code",
   "execution_count": null,
   "metadata": {
    "ExecuteTime": {
     "end_time": "2020-01-25T21:26:52.345967Z",
     "start_time": "2020-01-25T21:26:52.315979Z"
    }
   },
   "outputs": [],
   "source": [
    "# lasso regression\n",
    "\n"
   ]
  }
 ],
 "metadata": {
  "kernelspec": {
   "display_name": "Python 3",
   "language": "python",
   "name": "python3"
  },
  "language_info": {
   "codemirror_mode": {
    "name": "ipython",
    "version": 3
   },
   "file_extension": ".py",
   "mimetype": "text/x-python",
   "name": "python",
   "nbconvert_exporter": "python",
   "pygments_lexer": "ipython3",
   "version": "3.7.5"
  }
 },
 "nbformat": 4,
 "nbformat_minor": 2
}
