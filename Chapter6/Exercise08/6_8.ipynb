{
 "cells": [
  {
   "cell_type": "markdown",
   "metadata": {},
   "source": [
    "<blockquote>\n",
    "    <h1>Exercise 6.8</h1>\n",
    "    <p>In this exercise, we will generate simulated data, and will then use this data to perform best subset selection.</p>\n",
    "    <ol>\n",
    "        <li>Use the <code>rnorm()</code> function to generate a predictor $X$ of length $n = 100$, as well as a noise vector $\\epsilon$ of length $n = 100$.</li>\n",
    "        <li>Generate a response vector $Y$ of length $n = 100$ according to the model\n",
    "            $$\n",
    "                Y = \\beta_0 + \\beta_1 X + \\beta_2 X^2 + \\beta_3 X^3 + \\epsilon \\,,\n",
    "            $$\n",
    "            where $\\beta_0$, $\\beta_1$, $\\beta_2$ and $\\beta_3$ are constants of your choice.\n",
    "        </li>\n",
    "        <li>Use the <code>regsubsets()</code> function to perform best subset selection in order to choose the best model containing the predictors $X, X^2, \\ldots, X^{10}$. What is the best model obtained according to $C_p$, $\\mathrm{BIC}$, and adjusted $R^2$? Show some plots to provide evidence for your answer, and report the coefficients of the best model obtained. Note you will need to use the <code>data.frame()</code> function to create a single data set containing both $X$ and $Y$.</li>\n",
    "        <li>Repeat 3, using forward stepwise selection and also using backwards stepwise selection. How does your answer compare to the results in 3?</li>\n",
    "        <li>Now fit a lasso model to the simulated data, again using $X, X^2, \\ldots, X^{10}$ as predictors. Use cross-validation to select the optimal value of $\\lambda$. Create plots of the cross-validation error as a function of $\\lambda$. Report the resulting coefficient estimates, and discuss the results obtained.</li>\n",
    "        <li>Now generate a response vector $Y$ according to the model\n",
    "            $$\n",
    "            Y = \\beta_0 + \\beta_7 X^7 + \\epsilon \\,,\n",
    "            $$\n",
    "            and perform best subset selection and the lasso. Discuss the results obtained.\n",
    "        </li>\n",
    "    </ol>\n",
    "</blockquote>"
   ]
  }
 ],
 "metadata": {
  "kernelspec": {
   "display_name": "Python 3",
   "language": "python",
   "name": "python3"
  },
  "language_info": {
   "codemirror_mode": {
    "name": "ipython",
    "version": 3
   },
   "file_extension": ".py",
   "mimetype": "text/x-python",
   "name": "python",
   "nbconvert_exporter": "python",
   "pygments_lexer": "ipython3",
   "version": "3.7.5"
  }
 },
 "nbformat": 4,
 "nbformat_minor": 2
}
