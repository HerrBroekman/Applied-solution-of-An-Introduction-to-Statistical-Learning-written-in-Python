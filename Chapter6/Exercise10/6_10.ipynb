{
 "cells": [
  {
   "cell_type": "markdown",
   "metadata": {},
   "source": [
    "<blockquote>\n",
    "    <h1>Exercise 6.10</h1>\n",
    "        <p>We have seen that as the number of features used in a model increases, the training error will necessarily decrease, but the test error may not. We will now explore this in a simulated data set.</p>\n",
    "    <ol>\n",
    "        <li>\n",
    "            Generate a data set with $p = 20$ features, $n = 1,000$ observations, and an associated quantitative response vector generated according to the model\n",
    "            $$\n",
    "                Y = X \\beta + \\epsilon \\,,\n",
    "            $$\n",
    "            where $\\beta$ has some elements that are exactly equal to zero.\n",
    "        </li>\n",
    "        <li>Split your data set into a training set containing $100$ observations and a test set containing $900$ observations.</li>\n",
    "        <li>Perform best subset selection on the training set, and plot the training set MSE associated with the best model of each size.</li>\n",
    "        <li>Plot the test set MSE associated with the best model of each size.</li>\n",
    "        <li>For which model size does the test set MSE take on its minimum value? Comment on your results. If it takes on its minimum value for a model containing only an intercept or a model containing all of the features, then play around with the way that you are generating the data in 1 until you come up with a scenario in which the test set MSE is minimized for an intermediate model size.</li>\n",
    "        <li>How does the model at which the test set MSE is minimized compare to the true model used to generate the data? Comment on the coefficient values.</li>\n",
    "        <li>Create a plot displaying $\\sqrt{ \\sum_{j=1}^p \\left( \\beta_j - \\hat{\\beta}_j^r \\right)^2 }$</li>\n",
    "    </ol>\n",
    "</blockquote>"
   ]
  },
  {
   "cell_type": "code",
   "execution_count": 1,
   "metadata": {
    "ExecuteTime": {
     "end_time": "2020-01-25T13:23:49.319732Z",
     "start_time": "2020-01-25T13:23:48.749766Z"
    }
   },
   "outputs": [],
   "source": [
    "import numpy as np\n",
    "import matplotlib.pyplot as plt\n",
    "\n",
    "# https://stackoverflow.com/questions/34398054/ipython-notebook-cell-multiple-outputs\n",
    "from IPython.core.interactiveshell import InteractiveShell\n",
    "InteractiveShell.ast_node_interactivity = \"all\""
   ]
  },
  {
   "cell_type": "markdown",
   "metadata": {},
   "source": [
    "<h3>Exercise 6.10.1</h3>\n",
    "<blockquote>\n",
    "    <i>\n",
    "        Generate a data set with $p = 20$ features, $n = 1,000$ observations, and an associated quantitative response vector generated according to the model\n",
    "        $$\n",
    "            Y = X \\beta + \\epsilon \\,,\n",
    "        $$\n",
    "        where $\\beta$ has some elements that are exactly equal to zero.\n",
    "    </i>\n",
    "</blockquote>"
   ]
  },
  {
   "cell_type": "code",
   "execution_count": null,
   "metadata": {},
   "outputs": [],
   "source": [
    "p = 20\n",
    "n = 1000\n"
   ]
  }
 ],
 "metadata": {
  "kernelspec": {
   "display_name": "Python 3",
   "language": "python",
   "name": "python3"
  },
  "language_info": {
   "codemirror_mode": {
    "name": "ipython",
    "version": 3
   },
   "file_extension": ".py",
   "mimetype": "text/x-python",
   "name": "python",
   "nbconvert_exporter": "python",
   "pygments_lexer": "ipython3",
   "version": "3.7.5"
  }
 },
 "nbformat": 4,
 "nbformat_minor": 2
}
