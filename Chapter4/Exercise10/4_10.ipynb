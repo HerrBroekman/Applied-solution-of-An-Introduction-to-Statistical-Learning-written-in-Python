{
 "cells": [
  {
   "cell_type": "markdown",
   "metadata": {},
   "source": [
    "<blockquote>\n",
    "    <h1>Exercise 4.10</h1>\n",
    "    <p>This question should be answered using the <code>Weekly</code> data set, which is part of the <code>ISLR</code> package. This data is similar in nature to the <code>Smarket</code> data from this chapter’s lab, except that it contains $1,089$ weekly returns for $21$ years, from the beginning of $1990$ to the end of $2010$.</p>\n",
    "    <ol>\n",
    "        <li>Produce some numerical and graphical summaries of the <code>Weekly</code> data. Do there appear to be any patterns?</li>\n",
    "        <li>Use the full data set to perform a logistic regression with $\\mathrm{Direction}$ as the response and the five lag variables plus $\\mathrm{Volume}$ as predictors. Use the summary function to print the results. Do any of the predictors appear to be statistically significant? If so, which ones?</li>\n",
    "        <li>Compute the confusion matrix and overall fraction of correct predictions. Explain what the confusion matrix is telling you about the types of mistakes made by logistic regression.</li>\n",
    "        <li>Now fit the logistic regression model using a training data period from $1990$ to $2008$, with $\\mathrm{Lag2}$ as the only predictor. Compute the confusion matrix and the overall fraction of correct predictions for the held out data (that is, the data from $2009$ and $2010$).</li>\n",
    "        <li>Repeat 4 using LDA.</li>\n",
    "        <li>Repeat 4 using QDA.</li>\n",
    "        <li>Repeat 4 using KNN with $K = 1$.</li>\n",
    "        <li>Which of these methods appears to provide the best results on this data?</li>\n",
    "        <li>Experiment with different combinations of predictors, including possible transformations and interactions, for each of the methods. Report the variables, method, and associated confusion matrix that appears to provide the best results on the held out data. Note that you should also experiment with values for $K$ in the KNN classifier.</li>\n",
    "    </ol>\n",
    "</blockquote>"
   ]
  }
 ],
 "metadata": {
  "kernelspec": {
   "display_name": "Python 3",
   "language": "python",
   "name": "python3"
  },
  "language_info": {
   "codemirror_mode": {
    "name": "ipython",
    "version": 3
   },
   "file_extension": ".py",
   "mimetype": "text/x-python",
   "name": "python",
   "nbconvert_exporter": "python",
   "pygments_lexer": "ipython3",
   "version": "3.7.5"
  }
 },
 "nbformat": 4,
 "nbformat_minor": 2
}
