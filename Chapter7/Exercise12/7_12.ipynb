{
 "cells": [
  {
   "cell_type": "markdown",
   "metadata": {},
   "source": [
    "<blockquote>\n",
    "    <h1>Exercise 7.12</h1>\n",
    "    <p>This problem is a continuation of the previous exercise. In a toy example with $p = 100$, show that one can approximate the multiple linear regression coefficient estimates by repeatedly performing simple linear regression in a backfitting procedure. How many backfitting iterations are required in order to obtain a \"good\" approximation to the multiple regression coefficient estimates? Create a plot to justify your answer.</p>\n",
    "</blockquote>"
   ]
  },
  {
   "cell_type": "code",
   "execution_count": 1,
   "metadata": {
    "ExecuteTime": {
     "end_time": "2020-02-15T15:20:47.626665Z",
     "start_time": "2020-02-15T15:20:43.356461Z"
    }
   },
   "outputs": [
    {
     "name": "stderr",
     "output_type": "stream",
     "text": [
      "/usr/lib/python3.7/importlib/_bootstrap.py:219: RuntimeWarning: numpy.ufunc size changed, may indicate binary incompatibility. Expected 192 from C header, got 216 from PyObject\n",
      "  return f(*args, **kwds)\n",
      "/usr/lib/python3.7/importlib/_bootstrap.py:219: RuntimeWarning: numpy.ufunc size changed, may indicate binary incompatibility. Expected 192 from C header, got 216 from PyObject\n",
      "  return f(*args, **kwds)\n"
     ]
    }
   ],
   "source": [
    "import numpy as np\n",
    "import matplotlib.pyplot as plt\n",
    "\n",
    "# https://stackoverflow.com/questions/34398054/ipython-notebook-cell-multiple-outputs\n",
    "from IPython.core.interactiveshell import InteractiveShell\n",
    "InteractiveShell.ast_node_interactivity = \"all\"\n",
    "\n",
    "import statsmodels.api as sm\n",
    "from sklearn.metrics import mean_squared_error"
   ]
  },
  {
   "cell_type": "code",
   "execution_count": 2,
   "metadata": {
    "ExecuteTime": {
     "end_time": "2020-02-15T15:20:47.710697Z",
     "start_time": "2020-02-15T15:20:47.628244Z"
    }
   },
   "outputs": [],
   "source": [
    "np.random.seed(42)\n",
    "p = 100\n",
    "n = 1000\n",
    "X = np.zeros(shape=(n, p))\n",
    "gaussian_noise = np.random.normal(size=n, loc=0, scale=2)\n",
    "beta = np.zeros(shape=(p + 1, ))\n",
    "beta[0] = -7.5\n",
    "for i in range(p):\n",
    "    loc = np.random.normal(loc=0, scale=100)\n",
    "    scale = abs(np.random.normal(loc=0, scale=10))\n",
    "    X[:, i] = np.random.normal(size=n, loc=loc, scale=scale)\n",
    "    \n",
    "    beta[i + 1] = np.random.normal(loc=0, scale=50)\n",
    "    \n",
    "X_intercept = sm.add_constant(X)\n",
    "Y = X_intercept @ beta + gaussian_noise"
   ]
  },
  {
   "cell_type": "code",
   "execution_count": 3,
   "metadata": {
    "ExecuteTime": {
     "end_time": "2020-02-15T15:21:23.817825Z",
     "start_time": "2020-02-15T15:21:12.813167Z"
    }
   },
   "outputs": [
    {
     "data": {
      "image/png": "[encoded data removed]",
      "text/plain": [
       "<Figure size 576x288 with 1 Axes>"
      ]
     },
     "metadata": {
      "needs_background": "light"
     },
     "output_type": "display_data"
    }
   ],
   "source": [
    "max_iter = 500\n",
    "beta_hat = np.ones(shape=(max_iter, p + 1))\n",
    "mse = []\n",
    "Y_pred = X_intercept @ beta_hat[0]\n",
    "mse.append(mean_squared_error(Y, Y_pred))\n",
    "threshold = 1e-6\n",
    "for i in range(1, max_iter): # i = 0 is the initialization row\n",
    "    for k in range(1, p + 1):\n",
    "        a = Y - np.delete(X_intercept, [0, k], axis=1) @ np.delete(beta_hat[i - 1, :], [0, k])\n",
    "        fitted = sm.OLS(a, X_intercept[:, [0, k]]).fit()\n",
    "        beta_hat[i, k] = fitted.params[1]\n",
    "        \n",
    "    Y_pred = X_intercept @ beta_hat[i]\n",
    "    mse.append(mean_squared_error(Y, Y_pred))\n",
    "    \n",
    "    if len(mse) >= 1 and abs(mse[-2] - mse[-1]) < threshold:\n",
    "        break\n",
    "   \n",
    "mse = np.array(mse)\n",
    "iterations = np.arange(mse.shape[0])\n",
    "fig, ax = plt.subplots(1, 1, constrained_layout=True, figsize=(8, 4))\n",
    "_ = ax.scatter(iterations, mse)\n",
    "_ = ax.set_xlabel('iterations')\n",
    "_ = ax.set_ylabel('MSE')"
   ]
  },
  {
   "cell_type": "code",
   "execution_count": 4,
   "metadata": {
    "ExecuteTime": {
     "end_time": "2020-02-15T15:21:24.291126Z",
     "start_time": "2020-02-15T15:21:23.820579Z"
    }
   },
   "outputs": [
    {
     "data": {
      "image/png": "[encoded data removed]",
      "text/plain": [
       "<Figure size 576x288 with 1 Axes>"
      ]
     },
     "metadata": {
      "needs_background": "light"
     },
     "output_type": "display_data"
    }
   ],
   "source": [
    "beta_diff = np.zeros(shape=(mse.shape[0], ))\n",
    "for i in range(mse.shape[0]):\n",
    "    beta_diff[i] = np.sum(beta_hat[i] - beta)\n",
    "\n",
    "iterations = np.arange(beta_diff.shape[0])\n",
    "\n",
    "fig, ax = plt.subplots(1, 1, constrained_layout=True, figsize=(8, 4))\n",
    "_ = ax.scatter(iterations, beta_diff)\n",
    "_ = ax.set_xlabel('iterations')\n",
    "_ = ax.set_ylabel(r'$\\sum_{i=0}^p \\beta_i - \\hat{\\beta}_i$')"
   ]
  }
 ],
 "metadata": {
  "kernelspec": {
   "display_name": "Python 3",
   "language": "python",
   "name": "python3"
  },
  "language_info": {
   "codemirror_mode": {
    "name": "ipython",
    "version": 3
   },
   "file_extension": ".py",
   "mimetype": "text/x-python",
   "name": "python",
   "nbconvert_exporter": "python",
   "pygments_lexer": "ipython3",
   "version": "3.7.5"
  }
 },
 "nbformat": 4,
 "nbformat_minor": 2
}
