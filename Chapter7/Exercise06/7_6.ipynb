{
 "cells": [
  {
   "cell_type": "markdown",
   "metadata": {},
   "source": [
    "<blockquote>\n",
    "    <h1>Exercise 7.6</h1>\n",
    "    <p>In this exercise, you will further analyze the <code>Wage</code> data set considered throughout this chapter.</p>\n",
    "    <ol>\n",
    "        <li>Perform polynomial regression to predict $\\mathrm{wage}$ using $\\mathrm{age}$. Use cross-validation to select the optimal degree $d$ for the polynomial. What degree was chosen, and how does this compare to the results of hypothesis testing using ANOVA? Make a plot of the resulting polynomial fit to the data.</li>\n",
    "        <li>Fit a step function to predict $\\mathrm{wage}$ using $\\mathrm{age}$, and perform cross-validation to choose the optimal number of cuts. Make a plot of the fit obtained.</li>\n",
    "    </ol>\n",
    "</blockquote>"
   ]
  },
  {
   "cell_type": "code",
   "execution_count": null,
   "metadata": {},
   "outputs": [],
   "source": []
  }
 ],
 "metadata": {
  "kernelspec": {
   "display_name": "Python 3",
   "language": "python",
   "name": "python3"
  },
  "language_info": {
   "codemirror_mode": {
    "name": "ipython",
    "version": 3
   },
   "file_extension": ".py",
   "mimetype": "text/x-python",
   "name": "python",
   "nbconvert_exporter": "python",
   "pygments_lexer": "ipython3",
   "version": "3.7.5"
  }
 },
 "nbformat": 4,
 "nbformat_minor": 2
}
