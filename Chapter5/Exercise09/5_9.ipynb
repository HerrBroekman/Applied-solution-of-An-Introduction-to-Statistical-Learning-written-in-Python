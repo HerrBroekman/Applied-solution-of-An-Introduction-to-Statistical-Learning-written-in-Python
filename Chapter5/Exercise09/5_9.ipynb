{
 "cells": [
  {
   "cell_type": "markdown",
   "metadata": {},
   "source": [
    "<blockquote>\n",
    "    <h1>Exercise 5.9</h1>\n",
    "    <p>We will now consider the <code>Boston</code> housing data set, from the <code>MASS</code> library.</p>\n",
    "    <ol>\n",
    "        <li>Based on this data set, provide an estimate for the population mean of <code>medv</code>. Call this estimate $\\hat{\\mu}$.</li>\n",
    "        <li>Provide an estimate of the standard error of $\\hat{\\mu}$. Interpret this result. <br>\n",
    "            <i>Hint: We can compute the standard error of the sample mean by dividing the sample standard deviation by the square root of the number of observations.</i></li>\n",
    "        <li>Now estimate the standard error of $\\hat{\\mu}$ using the bootstrap. How does this compare to your answer from 2?</li>\n",
    "        <li>Based on your bootstrap estimate from 3, provide a $95 \\%$ confidence interval for the mean of <code>medv</code>. Compare it to the results obtained using <code>t.test(Boston\\$medv)</code>. <br>\n",
    "            <i>Hint: You can approximate a $95 \\%$ confidence interval using the formula $[\\hat{\\mu}-2SE(\\hat{\\mu}), \\hat{\\mu}+2SE(\\hat{\\mu})]$.</i></li>\n",
    "        <li>Based on this data set, provide an estimate, $\\hat{\\mu}_{med}$, for the median value of <code>medv</code> in the population.</li>\n",
    "        <li>We now would like to estimate the standard error of $\\hat{\\mu}_{med}$. Unfortunately, there is no simple formula for computing the standard error of the median. Instead, estimate the standard error of the median using the bootstrap. Comment on your findings.</li>\n",
    "        <li>Based on this data set, provide an estimate for the tenth percentile of <code>medv</code> in Boston suburbs. Call this quantity $\\hat{\\mu}_{0.1}$. (You can use the <code>quantile()</code> function.)</li>\n",
    "        <li>Use the bootstrap to estimate the standard error of $\\hat{\\mu}_{0.1}$. Comment on your findings.</li>\n",
    "    </ol>\n",
    "</blockquote>"
   ]
  },
  {
   "cell_type": "code",
   "execution_count": 1,
   "metadata": {
    "ExecuteTime": {
     "end_time": "2020-01-18T20:05:30.158321Z",
     "start_time": "2020-01-18T20:05:29.773757Z"
    }
   },
   "outputs": [],
   "source": [
    "import pandas as pd\n",
    "import numpy as np\n",
    "\n",
    "# https://stackoverflow.com/questions/34398054/ipython-notebook-cell-multiple-outputs\n",
    "from IPython.core.interactiveshell import InteractiveShell\n",
    "InteractiveShell.ast_node_interactivity = \"all\"\n",
    "\n",
    "from sklearn.utils import resample\n",
    "import scipy.stats"
   ]
  },
  {
   "cell_type": "code",
   "execution_count": 2,
   "metadata": {
    "ExecuteTime": {
     "end_time": "2020-01-18T20:05:30.164308Z",
     "start_time": "2020-01-18T20:05:30.159731Z"
    }
   },
   "outputs": [],
   "source": [
    "df = pd.read_csv(\"../../DataSets/Boston/Boston.csv\")"
   ]
  },
  {
   "cell_type": "markdown",
   "metadata": {},
   "source": [
    "<h3>Exercise 5.9.1</h3>\n",
    "<blockquote>\n",
    "    <i>Based on this data set, provide an estimate for the population mean of <code>medv</code>. Call this estimate $\\hat{\\mu}$.</i>\n",
    "</blockquote>"
   ]
  },
  {
   "cell_type": "code",
   "execution_count": 3,
   "metadata": {
    "ExecuteTime": {
     "end_time": "2020-01-18T20:05:30.247586Z",
     "start_time": "2020-01-18T20:05:30.165734Z"
    }
   },
   "outputs": [
    {
     "data": {
      "text/plain": [
       "22.532806324110677"
      ]
     },
     "execution_count": 3,
     "metadata": {},
     "output_type": "execute_result"
    }
   ],
   "source": [
    "df = df[['medv']]\n",
    "mu_hat = df.mean().iloc[0]\n",
    "mu_hat"
   ]
  },
  {
   "cell_type": "markdown",
   "metadata": {
    "ExecuteTime": {
     "end_time": "2020-01-16T20:18:31.845700Z",
     "start_time": "2020-01-16T20:18:31.839683Z"
    }
   },
   "source": [
    "<p>So $\\hat{\\mu} = 22.53$.</p>\n",
    "\n",
    "<h3>Exercise 5.9.2</h3>\n",
    "<blockquote>\n",
    "    <i>Provide an estimate of the standard error of $\\hat{\\mu}$. Interpret this result. <br>\n",
    "            <i>Hint: We can compute the standard error of the sample mean by dividing the sample standard deviation by the square root of the number of observations.</i>\n",
    "</blockquote>"
   ]
  },
  {
   "cell_type": "code",
   "execution_count": 4,
   "metadata": {
    "ExecuteTime": {
     "end_time": "2020-01-18T20:05:30.316398Z",
     "start_time": "2020-01-18T20:05:30.249286Z"
    }
   },
   "outputs": [
    {
     "data": {
      "text/plain": [
       "0.40886114749753505"
      ]
     },
     "execution_count": 4,
     "metadata": {},
     "output_type": "execute_result"
    }
   ],
   "source": [
    "n = df.shape[0]\n",
    "stderr_est = ((df.std(ddof=1).iloc[0])**2 / n)**0.5\n",
    "stderr_est"
   ]
  },
  {
   "cell_type": "markdown",
   "metadata": {
    "ExecuteTime": {
     "end_time": "2020-01-16T20:28:47.229377Z",
     "start_time": "2020-01-16T20:28:47.226175Z"
    }
   },
   "source": [
    "<p>So $\\widehat{SE}(\\hat{\\mu}) = 0.41$.</p>\n",
    "\n",
    "<h3>Exercise 5.9.3</h3>\n",
    "<blockquote>\n",
    "    <i>Now estimate the standard error of $\\hat{\\mu}$ using the bootstrap. How does this compare to your answer from 2?</i>\n",
    "</blockquote>"
   ]
  },
  {
   "cell_type": "code",
   "execution_count": 5,
   "metadata": {
    "ExecuteTime": {
     "end_time": "2020-01-18T20:05:30.849451Z",
     "start_time": "2020-01-18T20:05:30.317801Z"
    }
   },
   "outputs": [
    {
     "data": {
      "text/plain": [
       "0.426642674393897"
      ]
     },
     "execution_count": 5,
     "metadata": {},
     "output_type": "execute_result"
    }
   ],
   "source": [
    "sample_size = int(1.0 * df.shape[0])\n",
    "B = 1000\n",
    "mu_arr = np.array([resample(\n",
    "                df, \n",
    "                replace=True, \n",
    "                n_samples=sample_size, \n",
    "                random_state=r\n",
    "            ).mean().iloc[0] for r in range(0, B)])\n",
    "\n",
    "mean_boot = np.mean(mu_arr)\n",
    "((1/(B-1))*np.sum((mu_arr - mean_boot)**2))**0.5\n"
   ]
  },
  {
   "cell_type": "markdown",
   "metadata": {
    "ExecuteTime": {
     "end_time": "2020-01-16T21:04:08.679267Z",
     "start_time": "2020-01-16T21:04:08.675816Z"
    }
   },
   "source": [
    "<p>The results are pretty similar.</p>\n",
    "\n",
    "<h3>Exercise 5.9.4</h3>\n",
    "<blockquote>\n",
    "    <i>Based on your bootstrap estimate from 3, provide a $95 \\%$ confidence interval for the mean of <code>medv</code>. Compare it to the results obtained using <code>t.test(Boston\\$medv)</code>. <br>\n",
    "            <i>Hint: You can approximate a $95 \\%$ confidence interval using the formula $[\\hat{\\mu}-2SE(\\hat{\\mu}), \\hat{\\mu}+2SE(\\hat{\\mu})]$.</i></i>\n",
    "</blockquote>"
   ]
  },
  {
   "cell_type": "code",
   "execution_count": 6,
   "metadata": {
    "ExecuteTime": {
     "end_time": "2020-01-18T20:05:30.855770Z",
     "start_time": "2020-01-18T20:05:30.850808Z"
    }
   },
   "outputs": [
    {
     "data": {
      "text/plain": [
       "(21.71050142041995, 23.345946010410092)"
      ]
     },
     "execution_count": 6,
     "metadata": {},
     "output_type": "execute_result"
    },
    {
     "data": {
      "text/plain": [
       "(21.724945405882938, 23.331502024947103)"
      ]
     },
     "execution_count": 6,
     "metadata": {},
     "output_type": "execute_result"
    }
   ],
   "source": [
    "mean_boot - 2*stderr_est, mean_boot + 2*stderr_est\n",
    "\n",
    "h = stderr_est * scipy.stats.t.ppf((1 + 0.95) / 2, n-1)\n",
    "mean_boot - h, mean_boot + h"
   ]
  },
  {
   "cell_type": "markdown",
   "metadata": {
    "ExecuteTime": {
     "end_time": "2020-01-16T21:20:11.314692Z",
     "start_time": "2020-01-16T21:20:11.311467Z"
    }
   },
   "source": [
    "<h3>Exercise 5.9.5</h3>\n",
    "<blockquote>\n",
    "    <i>Based on this data set, provide an estimate, $\\hat{\\mu}_{med}$, for the median value of <code>medv</code> in the population.</i>\n",
    "</blockquote>"
   ]
  },
  {
   "cell_type": "code",
   "execution_count": 7,
   "metadata": {
    "ExecuteTime": {
     "end_time": "2020-01-18T20:05:30.925102Z",
     "start_time": "2020-01-18T20:05:30.856969Z"
    }
   },
   "outputs": [
    {
     "data": {
      "text/plain": [
       "21.2"
      ]
     },
     "execution_count": 7,
     "metadata": {},
     "output_type": "execute_result"
    }
   ],
   "source": [
    "med_hat = df.median().iloc[0]\n",
    "med_hat"
   ]
  },
  {
   "cell_type": "markdown",
   "metadata": {
    "ExecuteTime": {
     "end_time": "2020-01-16T21:23:09.785808Z",
     "start_time": "2020-01-16T21:23:09.779440Z"
    }
   },
   "source": [
    "<h3>Exercise 5.9.6</h3>\n",
    "<blockquote>\n",
    "    <i>We now would like to estimate the standard error of $\\hat{\\mu}_{med}$. Unfortunately, there is no simple formula for computing the standard error of the median. Instead, estimate the standard error of the median using the bootstrap. Comment on your findings.</i>\n",
    "</blockquote>"
   ]
  },
  {
   "cell_type": "code",
   "execution_count": 8,
   "metadata": {
    "ExecuteTime": {
     "end_time": "2020-01-18T20:05:31.769400Z",
     "start_time": "2020-01-18T20:05:30.926934Z"
    }
   },
   "outputs": [
    {
     "data": {
      "text/plain": [
       "0.39204966897440774"
      ]
     },
     "execution_count": 8,
     "metadata": {},
     "output_type": "execute_result"
    }
   ],
   "source": [
    "med_arr = np.array([resample(\n",
    "                df, \n",
    "                replace=True, \n",
    "                n_samples=sample_size, \n",
    "                random_state=r\n",
    "            ).median().iloc[0] for r in range(0, B)])\n",
    "\n",
    "mean_boot = np.mean(med_arr)\n",
    "((1/(B-1))*np.sum((med_arr - mean_boot)**2))**0.5"
   ]
  },
  {
   "cell_type": "markdown",
   "metadata": {},
   "source": [
    "<h3>Exercise 5.9.7</h3>\n",
    "<blockquote>\n",
    "    <i>Based on this data set, provide an estimate for the tenth percentile of <code>medv</code> in Boston suburbs. Call this quantity $\\hat{\\mu}_{0.1}$. (You can use the <code>quantile()</code> function.)</i>\n",
    "</blockquote>"
   ]
  },
  {
   "cell_type": "code",
   "execution_count": 9,
   "metadata": {
    "ExecuteTime": {
     "end_time": "2020-01-18T20:05:31.774286Z",
     "start_time": "2020-01-18T20:05:31.770779Z"
    }
   },
   "outputs": [
    {
     "data": {
      "text/plain": [
       "12.75"
      ]
     },
     "execution_count": 9,
     "metadata": {},
     "output_type": "execute_result"
    }
   ],
   "source": [
    "tenth_hat = np.percentile(df, 10)\n",
    "tenth_hat"
   ]
  },
  {
   "cell_type": "markdown",
   "metadata": {},
   "source": [
    "<h3>Exercise 5.9.8</h3>\n",
    "<blockquote>\n",
    "    <i>Use the bootstrap to estimate the standard error of $\\hat{\\mu}_{0.1}$. Comment on your findings.</i>\n",
    "</blockquote>\n"
   ]
  },
  {
   "cell_type": "code",
   "execution_count": 10,
   "metadata": {
    "ExecuteTime": {
     "end_time": "2020-01-18T20:05:32.298234Z",
     "start_time": "2020-01-18T20:05:31.775714Z"
    }
   },
   "outputs": [
    {
     "data": {
      "text/plain": [
       "0.4992672283109169"
      ]
     },
     "execution_count": 10,
     "metadata": {},
     "output_type": "execute_result"
    }
   ],
   "source": [
    "tenth_arr = np.array([np.percentile(resample(\n",
    "                df, \n",
    "                replace=True, \n",
    "                n_samples=sample_size, \n",
    "                random_state=r\n",
    "            ), 10) for r in range(0, B)])\n",
    "\n",
    "mean_boot = np.mean(tenth_arr)\n",
    "((1/(B-1))*np.sum((tenth_arr - mean_boot)**2))**0.5"
   ]
  }
 ],
 "metadata": {
  "kernelspec": {
   "display_name": "Python 3",
   "language": "python",
   "name": "python3"
  },
  "language_info": {
   "codemirror_mode": {
    "name": "ipython",
    "version": 3
   },
   "file_extension": ".py",
   "mimetype": "text/x-python",
   "name": "python",
   "nbconvert_exporter": "python",
   "pygments_lexer": "ipython3",
   "version": "3.7.5"
  }
 },
 "nbformat": 4,
 "nbformat_minor": 2
}
