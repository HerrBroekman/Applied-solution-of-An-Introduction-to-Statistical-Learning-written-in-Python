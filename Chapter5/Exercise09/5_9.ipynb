{
 "cells": [
  {
   "cell_type": "markdown",
   "metadata": {},
   "source": [
    "<blockquote>\n",
    "    <h1>Exercise 5.9</h1>\n",
    "    <p>We will now consider the <code>Boston</code> housing data set, from the <code>MASS</code> library.</p>\n",
    "    <ol>\n",
    "        <li>Based on this data set, provide an estimate for the population mean of <code>medv</code>. Call this estimate $\\hat{\\mu}$.</li>\n",
    "        <li>Provide an estimate of the standard error of $\\hat{\\mu}$. Interpret this result. <br>\n",
    "            <i>Hint: We can compute the standard error of the sample mean by dividing the sample standard deviation by the square root of the number of observations.</i></li>\n",
    "        <li>Now estimate the standard error of $\\hat{\\mu}$ using the bootstrap. How does this compare to your answer from 2?</li>\n",
    "        <li>Based on your bootstrap estimate from 3, provide a $95 \\%$ confidence interval for the mean of <code>medv</code>. Compare it to the results obtained using <code>t.test(Boston\\$medv)</code>. <br>\n",
    "            <i>Hint: You can approximate a $95 \\%$ confidence interval using the formula $[\\hat{\\mu}-2SE(\\hat{\\mu}), \\hat{\\mu}+2SE(\\hat{\\mu})]$.</i></li>\n",
    "        <li>Based on this data set, provide an estimate, $\\hat{\\mu}_{med}$, for the median value of <code>medv</code> in the population.</li>\n",
    "        <li>We now would like to estimate the standard error of $\\hat{\\mu}_{med}$. Unfortunately, there is no simple formula for computing the standard error of the median. Instead, estimate the standard error of the median using the bootstrap. Comment on your findings.</li>\n",
    "        <li>Based on this data set, provide an estimate for the tenth percentile of <code>medv</code> in Boston suburbs. Call this quantity $\\hat{\\mu}_{0.1}$. (You can use the <code>quantile()</code> function.)</li>\n",
    "        <li>Use the bootstrap to estimate the standard error of $\\hat{\\mu}_{0.1}$. Comment on your findings.</li>\n",
    "    </ol>\n",
    "</blockquote>"
   ]
  },
  {
   "cell_type": "code",
   "execution_count": 1,
   "metadata": {
    "ExecuteTime": {
     "end_time": "2020-01-16T20:29:27.136408Z",
     "start_time": "2020-01-16T20:29:26.871424Z"
    }
   },
   "outputs": [],
   "source": [
    "import pandas as pd"
   ]
  },
  {
   "cell_type": "code",
   "execution_count": 2,
   "metadata": {
    "ExecuteTime": {
     "end_time": "2020-01-16T20:29:27.142303Z",
     "start_time": "2020-01-16T20:29:27.137739Z"
    }
   },
   "outputs": [],
   "source": [
    "df = pd.read_csv(\"../../DataSets/Boston/Boston.csv\")"
   ]
  },
  {
   "cell_type": "markdown",
   "metadata": {},
   "source": [
    "<h3>Exercise 5.9.1</h3>\n",
    "<blockquote>\n",
    "    <i>Based on this data set, provide an estimate for the population mean of <code>medv</code>. Call this estimate $\\hat{\\mu}$.</i>\n",
    "</blockquote>"
   ]
  },
  {
   "cell_type": "code",
   "execution_count": 7,
   "metadata": {
    "ExecuteTime": {
     "end_time": "2020-01-16T20:31:43.199454Z",
     "start_time": "2020-01-16T20:31:43.194915Z"
    }
   },
   "outputs": [
    {
     "data": {
      "text/plain": [
       "22.532806324110677"
      ]
     },
     "execution_count": 7,
     "metadata": {},
     "output_type": "execute_result"
    }
   ],
   "source": [
    "df = df[['medv']]\n",
    "mu_hat = df.mean().iloc[0]\n",
    "mu_hat"
   ]
  },
  {
   "cell_type": "markdown",
   "metadata": {
    "ExecuteTime": {
     "end_time": "2020-01-16T20:18:31.845700Z",
     "start_time": "2020-01-16T20:18:31.839683Z"
    }
   },
   "source": [
    "<p>So $\\hat{\\mu} = 22.53$.</p>\n",
    "\n",
    "<h3>Exercise 5.9.2</h3>\n",
    "<blockquote>\n",
    "    <i>Provide an estimate of the standard error of $\\hat{\\mu}$. Interpret this result. <br>\n",
    "            <i>Hint: We can compute the standard error of the sample mean by dividing the sample standard deviation by the square root of the number of observations.</i>\n",
    "</blockquote>"
   ]
  },
  {
   "cell_type": "code",
   "execution_count": 8,
   "metadata": {
    "ExecuteTime": {
     "end_time": "2020-01-16T20:32:17.380645Z",
     "start_time": "2020-01-16T20:32:17.373784Z"
    }
   },
   "outputs": [
    {
     "data": {
      "text/plain": [
       "0.40886114749753505"
      ]
     },
     "execution_count": 8,
     "metadata": {},
     "output_type": "execute_result"
    }
   ],
   "source": [
    "n = df.shape[0]\n",
    "stderr_est = ((df.std(ddof=1).iloc[0])**2 / n)**0.5\n",
    "stderr_est"
   ]
  },
  {
   "cell_type": "markdown",
   "metadata": {
    "ExecuteTime": {
     "end_time": "2020-01-16T20:28:47.229377Z",
     "start_time": "2020-01-16T20:28:47.226175Z"
    }
   },
   "source": [
    "<p>So $\\widehat{SE}(\\hat{\\mu}) = 0.41$.</p>\n",
    "\n",
    "<h3>Exercise 5.9.3</h3>\n",
    "<blockquote>\n",
    "    <i>Provide an estimate of the standard error of $\\hat{\\mu}$. Interpret this result. <br>\n",
    "            <i>Hint: We can compute the standard error of the sample mean by dividing the sample standard deviation by the square root of the number of observations.</i>\n",
    "</blockquote>"
   ]
  },
  {
   "cell_type": "code",
   "execution_count": null,
   "metadata": {},
   "outputs": [],
   "source": []
  }
 ],
 "metadata": {
  "kernelspec": {
   "display_name": "Python 3",
   "language": "python",
   "name": "python3"
  },
  "language_info": {
   "codemirror_mode": {
    "name": "ipython",
    "version": 3
   },
   "file_extension": ".py",
   "mimetype": "text/x-python",
   "name": "python",
   "nbconvert_exporter": "python",
   "pygments_lexer": "ipython3",
   "version": "3.7.5"
  }
 },
 "nbformat": 4,
 "nbformat_minor": 2
}
