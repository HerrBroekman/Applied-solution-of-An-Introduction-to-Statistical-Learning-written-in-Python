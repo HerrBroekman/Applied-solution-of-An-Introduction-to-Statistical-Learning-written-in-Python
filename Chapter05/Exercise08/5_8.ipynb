{
 "cells": [
  {
   "cell_type": "markdown",
   "metadata": {},
   "source": [
    "<blockquote>\n",
    "    <h1>Exercise 5.8</h1>\n",
    "    <p>We will now perform cross-validation on a simulated data set.</p>\n",
    "    <ol>\n",
    "        <li>\n",
    "            Generate a simulated data set as follows:<br>\n",
    "<code>> set.seed(1)\n",
    "> y=rnorm(100)\n",
    "> x=rnorm(100)\n",
    "> y=x-2*x^2+rnorm(100)</code> <br>\n",
    "            In this data set, what is $n$ and what is $p$? Write out the model used to generate the data in equation form.\n",
    "        </li>\n",
    "        <li>Create a scatterplot of $X$ against $Y$. Comment on what you find.</li>\n",
    "        <li>\n",
    "            Set a random seed, and then compute the LOOCV errors that\n",
    "result from fitting the following four models using least squares:\n",
    "            <ol>\n",
    "                <li>$Y = \\beta_0 + \\beta_1 X + \\epsilon$</li>\n",
    "                <li>$Y = \\beta_0 + \\beta_1 X + \\beta_2 X^2 + \\epsilon$</li>\n",
    "                <li>$Y = \\beta_0 + \\beta_1 X + \\beta_2 X^2 + \\beta_3 X^3 + \\epsilon$</li>\n",
    "                <li>$Y = \\beta_0 + \\beta_1 X + \\beta_2 X^2 + \\beta_3 X^3 + \\beta_4 X^4 + \\epsilon$</li>\n",
    "            </ol>\n",
    "            Note you may find it helpful to use the <code>data.frame()</code> function to create a single data set containing both $X$ and $Y$.\n",
    "        </li>\n",
    "        <li>Repeat 3 using another random seed, and report your results. Are your results the same as what you got in 3? Why?</li>\n",
    "        <li>Which of the models in 3 had the smallest LOOCV error? Is this what you expected? Explain your answer.</li>\n",
    "        <li>Comment on the statistical significance of the coefficient estimates that results from fitting each of the models in 3 using least squares. Do these results agree with the conclusions drawn based on the cross-validation results?</li>\n",
    "    </ol>\n",
    "</blockquote>"
   ]
  },
  {
   "cell_type": "code",
   "execution_count": 1,
   "metadata": {
    "ExecuteTime": {
     "end_time": "2020-01-26T13:19:17.705721Z",
     "start_time": "2020-01-26T13:19:17.161989Z"
    }
   },
   "outputs": [],
   "source": [
    "import pandas as pd\n",
    "import numpy as np\n",
    "import matplotlib.pyplot as plt\n",
    "\n",
    "# https://stackoverflow.com/questions/34398054/ipython-notebook-cell-multiple-outputs\n",
    "from IPython.core.interactiveshell import InteractiveShell\n",
    "InteractiveShell.ast_node_interactivity = \"all\"\n",
    "\n",
    "import statsmodels.api as sm\n",
    "from sklearn.model_selection import LeaveOneOut"
   ]
  },
  {
   "cell_type": "markdown",
   "metadata": {},
   "source": [
    "<h3>Exercise 5.8.1</h3>\n",
    "<blockquote>\n",
    "    <i>Generate a simulated data set as follows:<br>\n",
    "<code>> set.seed(1)\n",
    "> y=rnorm(100)\n",
    "> x=rnorm(100)\n",
    "> y=x-2*x^2+rnorm(100)</code> <br>\n",
    "In this data set, what is $n$ and what is $p$? Write out the model used to generate the data in equation form.</i>\n",
    "</blockquote>\n",
    "\n",
    "<p>For this data set, $n=100$ and $p=2$, and the model is expressed as\n",
    "    $$\n",
    "    y = x - 2x^2 + \\epsilon \\,,\n",
    "    $$\n",
    "where $\\epsilon \\sim \\mathcal{N}(0,\\,1)$.</p>"
   ]
  },
  {
   "cell_type": "code",
   "execution_count": 2,
   "metadata": {
    "ExecuteTime": {
     "end_time": "2020-01-26T13:19:17.710601Z",
     "start_time": "2020-01-26T13:19:17.707198Z"
    }
   },
   "outputs": [],
   "source": [
    "seed = 1\n",
    "np.random.seed(seed)\n",
    "n = 100\n",
    "x = np.random.normal(size=n, loc=0, scale=1)\n",
    "y = x - 2*x**2 + np.random.normal(size=n, loc=0, scale=1)"
   ]
  },
  {
   "cell_type": "markdown",
   "metadata": {},
   "source": [
    "<h3>Exercise 5.8.2</h3>\n",
    "<blockquote>\n",
    "    <i>Create a scatterplot of $X$ against $Y$. Comment on what you find.</i>\n",
    "</blockquote>"
   ]
  },
  {
   "cell_type": "code",
   "execution_count": 3,
   "metadata": {
    "ExecuteTime": {
     "end_time": "2020-01-26T13:19:18.047083Z",
     "start_time": "2020-01-26T13:19:17.712379Z"
    }
   },
   "outputs": [
    {
     "data": {
      "image/png": "[encoded data removed]",
      "text/plain": [
       "<Figure size 648x432 with 1 Axes>"
      ]
     },
     "metadata": {
      "needs_background": "light"
     },
     "output_type": "display_data"
    }
   ],
   "source": [
    "fig, ax = plt.subplots(1, 1, constrained_layout=True, figsize=(9, 6))\n",
    "_ = ax.scatter(x=x, y=y)\n",
    "_ = ax.set_xlabel('x')\n",
    "_ = ax.set_ylabel('y')"
   ]
  },
  {
   "cell_type": "markdown",
   "metadata": {},
   "source": [
    "<h3>Exercise 5.8.3</h3>\n",
    "<blockquote>\n",
    "    <i>Set a random seed, and then compute the LOOCV errors that\n",
    "result from fitting the following four models using least squares:\n",
    "        <ol>\n",
    "            <li>$Y = \\beta_0 + \\beta_1 X + \\epsilon$</li>\n",
    "            <li>$Y = \\beta_0 + \\beta_1 X + \\beta_2 X^2 + \\epsilon$</li>\n",
    "            <li>$Y = \\beta_0 + \\beta_1 X + \\beta_2 X^2 + \\beta_3 X^3 + \\epsilon$</li>\n",
    "            <li>$Y = \\beta_0 + \\beta_1 X + \\beta_2 X^2 + \\beta_3 X^3 + \\beta_4 X^4 + \\epsilon$</li>\n",
    "        </ol>\n",
    "Note you may find it helpful to use the <code>data.frame()</code> function to create a single data set containing both $X$ and $Y$.</i>\n",
    "</blockquote>"
   ]
  },
  {
   "cell_type": "code",
   "execution_count": 4,
   "metadata": {
    "ExecuteTime": {
     "end_time": "2020-01-26T13:19:18.953521Z",
     "start_time": "2020-01-26T13:19:18.048723Z"
    }
   },
   "outputs": [
    {
     "data": {
      "text/plain": [
       "'for the polynomial fit of degree 1, the LOOCV estimate is 6.260764331604617'"
      ]
     },
     "execution_count": 4,
     "metadata": {},
     "output_type": "execute_result"
    },
    {
     "data": {
      "text/plain": [
       "'for the polynomial fit of degree 2, the LOOCV estimate is 0.9142897072803658'"
      ]
     },
     "execution_count": 4,
     "metadata": {},
     "output_type": "execute_result"
    },
    {
     "data": {
      "text/plain": [
       "'for the polynomial fit of degree 3, the LOOCV estimate is 0.9268768781648802'"
      ]
     },
     "execution_count": 4,
     "metadata": {},
     "output_type": "execute_result"
    },
    {
     "data": {
      "text/plain": [
       "'for the polynomial fit of degree 4, the LOOCV estimate is 0.8669116865881087'"
      ]
     },
     "execution_count": 4,
     "metadata": {},
     "output_type": "execute_result"
    }
   ],
   "source": [
    "df_x = pd.DataFrame({\n",
    "    'x1': x,\n",
    "    'x2': x**2,\n",
    "    'x3': x**3,\n",
    "    'x4': x**4,\n",
    "})\n",
    "df_x.insert(0, 'Intercept', 1)\n",
    "df_y = pd.DataFrame({'y': y})\n",
    "\n",
    "descriptiveColumns = ['Intercept']\n",
    "\n",
    "loocv = LeaveOneOut() # leave-one-out cross-validation\n",
    "\n",
    "for i in range(1, 5):\n",
    "    MSE = 0\n",
    "    poly_degree = 'x' + str(i)\n",
    "    descriptiveColumns += [poly_degree]\n",
    "    for train_index, test_index in loocv.split(df_x):\n",
    "        df_x_train, df_x_test = df_x[descriptiveColumns].iloc[train_index], df_x[descriptiveColumns].iloc[test_index]\n",
    "        df_y_train, df_y_test = df_y.iloc[train_index], df_y.iloc[test_index]\n",
    "\n",
    "        model = sm.OLS(df_y_train, df_x_train)\n",
    "        fitted = model.fit()\n",
    "        Y_pred = fitted.predict(df_x_test.to_numpy())\n",
    "        MSE += (df_y_test.iloc[0, 0] - Y_pred[0])**2\n",
    "\n",
    "    f'for the polynomial fit of degree {i}, the LOOCV estimate is {MSE / n}'\n",
    "    \n"
   ]
  },
  {
   "cell_type": "markdown",
   "metadata": {},
   "source": [
    "<h3>Exercise 5.8.4</h3>\n",
    "<blockquote>\n",
    "    <i>Repeat 3 using another random seed, and report your results. Are your results the same as what you got in 3? Why?</i>\n",
    "</blockquote>\n",
    "\n",
    "<p>There is no randomness in the training/validation set, so performing the LOOCV with a different seed will yield the same results.</p>\n",
    "\n",
    "<h3>Exercise 5.8.5</h3>\n",
    "<blockquote>\n",
    "    <i>Which of the models in 3 had the smallest LOOCV error? Is this what you expected? Explain your answer.</i>\n",
    "</blockquote>\n",
    "\n",
    "<p>The polynomial fit of degree 4 resulted in the smallest LOOCV error, which is not what I expected because the true model is a polynomial of degree 2 and so I would have expected that the fit of degree 2 would have results in the smallest LOOCV error. In fact, chaning the seed in cell 2 of this cell to <code>seed = 0</code> will result in the fit of degree 2 to have the smallest LOOCV error. This discrepancy is thus due to the statistical noise, which can be validated by increasing $n$ from $n=100$ to $n=1000$.</p>"
   ]
  },
  {
   "cell_type": "code",
   "execution_count": 5,
   "metadata": {
    "ExecuteTime": {
     "end_time": "2020-01-26T13:19:28.225101Z",
     "start_time": "2020-01-26T13:19:18.955030Z"
    }
   },
   "outputs": [
    {
     "data": {
      "text/plain": [
       "'for the polynomial fit of degree 1, the LOOCV estimate is 9.112753777466398'"
      ]
     },
     "execution_count": 5,
     "metadata": {},
     "output_type": "execute_result"
    },
    {
     "data": {
      "text/plain": [
       "'for the polynomial fit of degree 2, the LOOCV estimate is 1.063343734883582'"
      ]
     },
     "execution_count": 5,
     "metadata": {},
     "output_type": "execute_result"
    },
    {
     "data": {
      "text/plain": [
       "'for the polynomial fit of degree 3, the LOOCV estimate is 1.0654540727285113'"
      ]
     },
     "execution_count": 5,
     "metadata": {},
     "output_type": "execute_result"
    },
    {
     "data": {
      "text/plain": [
       "'for the polynomial fit of degree 4, the LOOCV estimate is 1.06445720231886'"
      ]
     },
     "execution_count": 5,
     "metadata": {},
     "output_type": "execute_result"
    }
   ],
   "source": [
    "seed = 1\n",
    "np.random.seed(seed)\n",
    "n = 1000\n",
    "x = np.random.normal(size=n, loc=0, scale=1)\n",
    "y = x - 2*x**2 + np.random.normal(size=n, loc=0, scale=1)\n",
    "\n",
    "df_x = pd.DataFrame({\n",
    "    'x1': x,\n",
    "    'x2': x**2,\n",
    "    'x3': x**3,\n",
    "    'x4': x**4,\n",
    "})\n",
    "df_x.insert(0, 'Intercept', 1)\n",
    "df_y = pd.DataFrame({'y': y})\n",
    "\n",
    "descriptiveColumns = ['Intercept']\n",
    "\n",
    "loocv = LeaveOneOut() # leave-one-out cross-validation\n",
    "\n",
    "for i in range(1, 5):\n",
    "    MSE = 0\n",
    "    poly_degree = 'x' + str(i)\n",
    "    descriptiveColumns += [poly_degree]\n",
    "    for train_index, test_index in loocv.split(df_x):\n",
    "        df_x_train, df_x_test = df_x[descriptiveColumns].iloc[train_index], df_x[descriptiveColumns].iloc[test_index]\n",
    "        df_y_train, df_y_test = df_y.iloc[train_index], df_y.iloc[test_index]\n",
    "\n",
    "        model = sm.OLS(df_y_train, df_x_train)\n",
    "        fitted = model.fit()\n",
    "        Y_pred = fitted.predict(df_x_test.to_numpy())\n",
    "        MSE += (df_y_test.iloc[0, 0] - Y_pred[0])**2\n",
    "\n",
    "    f'for the polynomial fit of degree {i}, the LOOCV estimate is {MSE / n}'"
   ]
  },
  {
   "cell_type": "markdown",
   "metadata": {},
   "source": [
    "<h3>Exercise 5.8.6</h3>\n",
    "<blockquote>\n",
    "    <i>Comment on the statistical significance of the coefficient estimates that results from fitting each of the models in 3 using least squares. Do these results agree with the conclusions drawn based on the cross-validation results?</i>\n",
    "</blockquote>\n"
   ]
  },
  {
   "cell_type": "code",
   "execution_count": 6,
   "metadata": {
    "ExecuteTime": {
     "end_time": "2020-01-26T13:19:28.231365Z",
     "start_time": "2020-01-26T13:19:28.226444Z"
    }
   },
   "outputs": [],
   "source": [
    "seed = 1\n",
    "np.random.seed(seed)\n",
    "n = 100\n",
    "x = np.random.normal(size=n, loc=0, scale=1)\n",
    "y = x - 2*x**2 + np.random.normal(size=n, loc=0, scale=1)\n",
    "\n",
    "df_x = pd.DataFrame({\n",
    "    'x1': x,\n",
    "    'x2': x**2,\n",
    "    'x3': x**3,\n",
    "    'x4': x**4,\n",
    "})\n",
    "df_x.insert(0, 'Intercept', 1)\n",
    "df_y = pd.DataFrame({'y': y})"
   ]
  },
  {
   "cell_type": "code",
   "execution_count": 7,
   "metadata": {
    "ExecuteTime": {
     "end_time": "2020-01-26T13:19:28.358418Z",
     "start_time": "2020-01-26T13:19:28.232708Z"
    }
   },
   "outputs": [
    {
     "data": {
      "text/html": [
       "<table class=\"simpletable\">\n",
       "<caption>OLS Regression Results</caption>\n",
       "<tr>\n",
       "  <th>Dep. Variable:</th>            <td>y</td>        <th>  R-squared:         </th> <td>   0.093</td>\n",
       "</tr>\n",
       "<tr>\n",
       "  <th>Model:</th>                   <td>OLS</td>       <th>  Adj. R-squared:    </th> <td>   0.083</td>\n",
       "</tr>\n",
       "<tr>\n",
       "  <th>Method:</th>             <td>Least Squares</td>  <th>  F-statistic:       </th> <td>   9.997</td>\n",
       "</tr>\n",
       "<tr>\n",
       "  <th>Date:</th>             <td>Sun, 26 Jan 2020</td> <th>  Prob (F-statistic):</th>  <td>0.00209</td>\n",
       "</tr>\n",
       "<tr>\n",
       "  <th>Time:</th>                 <td>14:19:28</td>     <th>  Log-Likelihood:    </th> <td> -228.87</td>\n",
       "</tr>\n",
       "<tr>\n",
       "  <th>No. Observations:</th>      <td>   100</td>      <th>  AIC:               </th> <td>   461.7</td>\n",
       "</tr>\n",
       "<tr>\n",
       "  <th>Df Residuals:</th>          <td>    98</td>      <th>  BIC:               </th> <td>   466.9</td>\n",
       "</tr>\n",
       "<tr>\n",
       "  <th>Df Model:</th>              <td>     1</td>      <th>                     </th>     <td> </td>   \n",
       "</tr>\n",
       "<tr>\n",
       "  <th>Covariance Type:</th>      <td>nonrobust</td>    <th>                     </th>     <td> </td>   \n",
       "</tr>\n",
       "</table>\n",
       "<table class=\"simpletable\">\n",
       "<tr>\n",
       "      <td></td>         <th>coef</th>     <th>std err</th>      <th>t</th>      <th>P>|t|</th>  <th>[0.025</th>    <th>0.975]</th>  \n",
       "</tr>\n",
       "<tr>\n",
       "  <th>Intercept</th> <td>   -1.4131</td> <td>    0.242</td> <td>   -5.849</td> <td> 0.000</td> <td>   -1.893</td> <td>   -0.934</td>\n",
       "</tr>\n",
       "<tr>\n",
       "  <th>x1</th>        <td>    0.8610</td> <td>    0.272</td> <td>    3.162</td> <td> 0.002</td> <td>    0.321</td> <td>    1.401</td>\n",
       "</tr>\n",
       "</table>\n",
       "<table class=\"simpletable\">\n",
       "<tr>\n",
       "  <th>Omnibus:</th>       <td>37.310</td> <th>  Durbin-Watson:     </th> <td>   1.661</td>\n",
       "</tr>\n",
       "<tr>\n",
       "  <th>Prob(Omnibus):</th> <td> 0.000</td> <th>  Jarque-Bera (JB):  </th> <td>  69.521</td>\n",
       "</tr>\n",
       "<tr>\n",
       "  <th>Skew:</th>          <td>-1.554</td> <th>  Prob(JB):          </th> <td>8.01e-16</td>\n",
       "</tr>\n",
       "<tr>\n",
       "  <th>Kurtosis:</th>      <td> 5.651</td> <th>  Cond. No.          </th> <td>    1.15</td>\n",
       "</tr>\n",
       "</table><br/><br/>Warnings:<br/>[1] Standard Errors assume that the covariance matrix of the errors is correctly specified."
      ],
      "text/plain": [
       "<class 'statsmodels.iolib.summary.Summary'>\n",
       "\"\"\"\n",
       "                            OLS Regression Results                            \n",
       "==============================================================================\n",
       "Dep. Variable:                      y   R-squared:                       0.093\n",
       "Model:                            OLS   Adj. R-squared:                  0.083\n",
       "Method:                 Least Squares   F-statistic:                     9.997\n",
       "Date:                Sun, 26 Jan 2020   Prob (F-statistic):            0.00209\n",
       "Time:                        14:19:28   Log-Likelihood:                -228.87\n",
       "No. Observations:                 100   AIC:                             461.7\n",
       "Df Residuals:                      98   BIC:                             466.9\n",
       "Df Model:                           1                                         \n",
       "Covariance Type:            nonrobust                                         \n",
       "==============================================================================\n",
       "                 coef    std err          t      P>|t|      [0.025      0.975]\n",
       "------------------------------------------------------------------------------\n",
       "Intercept     -1.4131      0.242     -5.849      0.000      -1.893      -0.934\n",
       "x1             0.8610      0.272      3.162      0.002       0.321       1.401\n",
       "==============================================================================\n",
       "Omnibus:                       37.310   Durbin-Watson:                   1.661\n",
       "Prob(Omnibus):                  0.000   Jarque-Bera (JB):               69.521\n",
       "Skew:                          -1.554   Prob(JB):                     8.01e-16\n",
       "Kurtosis:                       5.651   Cond. No.                         1.15\n",
       "==============================================================================\n",
       "\n",
       "Warnings:\n",
       "[1] Standard Errors assume that the covariance matrix of the errors is correctly specified.\n",
       "\"\"\""
      ]
     },
     "execution_count": 7,
     "metadata": {},
     "output_type": "execute_result"
    }
   ],
   "source": [
    "model = sm.OLS(df_y, df_x[['Intercept', 'x1']])\n",
    "fitted = model.fit()\n",
    "fitted.summary()"
   ]
  },
  {
   "cell_type": "code",
   "execution_count": 8,
   "metadata": {
    "ExecuteTime": {
     "end_time": "2020-01-26T13:19:28.487299Z",
     "start_time": "2020-01-26T13:19:28.362906Z"
    }
   },
   "outputs": [
    {
     "data": {
      "text/html": [
       "<table class=\"simpletable\">\n",
       "<caption>OLS Regression Results</caption>\n",
       "<tr>\n",
       "  <th>Dep. Variable:</th>            <td>y</td>        <th>  R-squared:         </th> <td>   0.863</td>\n",
       "</tr>\n",
       "<tr>\n",
       "  <th>Model:</th>                   <td>OLS</td>       <th>  Adj. R-squared:    </th> <td>   0.860</td>\n",
       "</tr>\n",
       "<tr>\n",
       "  <th>Method:</th>             <td>Least Squares</td>  <th>  F-statistic:       </th> <td>   304.9</td>\n",
       "</tr>\n",
       "<tr>\n",
       "  <th>Date:</th>             <td>Sun, 26 Jan 2020</td> <th>  Prob (F-statistic):</th> <td>1.47e-42</td>\n",
       "</tr>\n",
       "<tr>\n",
       "  <th>Time:</th>                 <td>14:19:28</td>     <th>  Log-Likelihood:    </th> <td> -134.42</td>\n",
       "</tr>\n",
       "<tr>\n",
       "  <th>No. Observations:</th>      <td>   100</td>      <th>  AIC:               </th> <td>   274.8</td>\n",
       "</tr>\n",
       "<tr>\n",
       "  <th>Df Residuals:</th>          <td>    97</td>      <th>  BIC:               </th> <td>   282.7</td>\n",
       "</tr>\n",
       "<tr>\n",
       "  <th>Df Model:</th>              <td>     2</td>      <th>                     </th>     <td> </td>   \n",
       "</tr>\n",
       "<tr>\n",
       "  <th>Covariance Type:</th>      <td>nonrobust</td>    <th>                     </th>     <td> </td>   \n",
       "</tr>\n",
       "</table>\n",
       "<table class=\"simpletable\">\n",
       "<tr>\n",
       "      <td></td>         <th>coef</th>     <th>std err</th>      <th>t</th>      <th>P>|t|</th>  <th>[0.025</th>    <th>0.975]</th>  \n",
       "</tr>\n",
       "<tr>\n",
       "  <th>Intercept</th> <td>    0.1350</td> <td>    0.115</td> <td>    1.169</td> <td> 0.245</td> <td>   -0.094</td> <td>    0.364</td>\n",
       "</tr>\n",
       "<tr>\n",
       "  <th>x1</th>        <td>    1.0936</td> <td>    0.107</td> <td>   10.229</td> <td> 0.000</td> <td>    0.881</td> <td>    1.306</td>\n",
       "</tr>\n",
       "<tr>\n",
       "  <th>x2</th>        <td>   -1.9846</td> <td>    0.085</td> <td>  -23.331</td> <td> 0.000</td> <td>   -2.153</td> <td>   -1.816</td>\n",
       "</tr>\n",
       "</table>\n",
       "<table class=\"simpletable\">\n",
       "<tr>\n",
       "  <th>Omnibus:</th>       <td> 0.893</td> <th>  Durbin-Watson:     </th> <td>   2.152</td>\n",
       "</tr>\n",
       "<tr>\n",
       "  <th>Prob(Omnibus):</th> <td> 0.640</td> <th>  Jarque-Bera (JB):  </th> <td>   0.552</td>\n",
       "</tr>\n",
       "<tr>\n",
       "  <th>Skew:</th>          <td>-0.170</td> <th>  Prob(JB):          </th> <td>   0.759</td>\n",
       "</tr>\n",
       "<tr>\n",
       "  <th>Kurtosis:</th>      <td> 3.132</td> <th>  Cond. No.          </th> <td>    2.10</td>\n",
       "</tr>\n",
       "</table><br/><br/>Warnings:<br/>[1] Standard Errors assume that the covariance matrix of the errors is correctly specified."
      ],
      "text/plain": [
       "<class 'statsmodels.iolib.summary.Summary'>\n",
       "\"\"\"\n",
       "                            OLS Regression Results                            \n",
       "==============================================================================\n",
       "Dep. Variable:                      y   R-squared:                       0.863\n",
       "Model:                            OLS   Adj. R-squared:                  0.860\n",
       "Method:                 Least Squares   F-statistic:                     304.9\n",
       "Date:                Sun, 26 Jan 2020   Prob (F-statistic):           1.47e-42\n",
       "Time:                        14:19:28   Log-Likelihood:                -134.42\n",
       "No. Observations:                 100   AIC:                             274.8\n",
       "Df Residuals:                      97   BIC:                             282.7\n",
       "Df Model:                           2                                         \n",
       "Covariance Type:            nonrobust                                         \n",
       "==============================================================================\n",
       "                 coef    std err          t      P>|t|      [0.025      0.975]\n",
       "------------------------------------------------------------------------------\n",
       "Intercept      0.1350      0.115      1.169      0.245      -0.094       0.364\n",
       "x1             1.0936      0.107     10.229      0.000       0.881       1.306\n",
       "x2            -1.9846      0.085    -23.331      0.000      -2.153      -1.816\n",
       "==============================================================================\n",
       "Omnibus:                        0.893   Durbin-Watson:                   2.152\n",
       "Prob(Omnibus):                  0.640   Jarque-Bera (JB):                0.552\n",
       "Skew:                          -0.170   Prob(JB):                        0.759\n",
       "Kurtosis:                       3.132   Cond. No.                         2.10\n",
       "==============================================================================\n",
       "\n",
       "Warnings:\n",
       "[1] Standard Errors assume that the covariance matrix of the errors is correctly specified.\n",
       "\"\"\""
      ]
     },
     "execution_count": 8,
     "metadata": {},
     "output_type": "execute_result"
    }
   ],
   "source": [
    "model = sm.OLS(df_y, df_x[['Intercept', 'x1', 'x2']])\n",
    "fitted = model.fit()\n",
    "fitted.summary()"
   ]
  },
  {
   "cell_type": "code",
   "execution_count": 9,
   "metadata": {
    "ExecuteTime": {
     "end_time": "2020-01-26T13:19:28.574314Z",
     "start_time": "2020-01-26T13:19:28.490924Z"
    }
   },
   "outputs": [
    {
     "data": {
      "text/html": [
       "<table class=\"simpletable\">\n",
       "<caption>OLS Regression Results</caption>\n",
       "<tr>\n",
       "  <th>Dep. Variable:</th>            <td>y</td>        <th>  R-squared:         </th> <td>   0.865</td>\n",
       "</tr>\n",
       "<tr>\n",
       "  <th>Model:</th>                   <td>OLS</td>       <th>  Adj. R-squared:    </th> <td>   0.861</td>\n",
       "</tr>\n",
       "<tr>\n",
       "  <th>Method:</th>             <td>Least Squares</td>  <th>  F-statistic:       </th> <td>   204.8</td>\n",
       "</tr>\n",
       "<tr>\n",
       "  <th>Date:</th>             <td>Sun, 26 Jan 2020</td> <th>  Prob (F-statistic):</th> <td>1.40e-41</td>\n",
       "</tr>\n",
       "<tr>\n",
       "  <th>Time:</th>                 <td>14:19:28</td>     <th>  Log-Likelihood:    </th> <td> -133.66</td>\n",
       "</tr>\n",
       "<tr>\n",
       "  <th>No. Observations:</th>      <td>   100</td>      <th>  AIC:               </th> <td>   275.3</td>\n",
       "</tr>\n",
       "<tr>\n",
       "  <th>Df Residuals:</th>          <td>    96</td>      <th>  BIC:               </th> <td>   285.7</td>\n",
       "</tr>\n",
       "<tr>\n",
       "  <th>Df Model:</th>              <td>     3</td>      <th>                     </th>     <td> </td>   \n",
       "</tr>\n",
       "<tr>\n",
       "  <th>Covariance Type:</th>      <td>nonrobust</td>    <th>                     </th>     <td> </td>   \n",
       "</tr>\n",
       "</table>\n",
       "<table class=\"simpletable\">\n",
       "<tr>\n",
       "      <td></td>         <th>coef</th>     <th>std err</th>      <th>t</th>      <th>P>|t|</th>  <th>[0.025</th>    <th>0.975]</th>  \n",
       "</tr>\n",
       "<tr>\n",
       "  <th>Intercept</th> <td>    0.1280</td> <td>    0.115</td> <td>    1.111</td> <td> 0.269</td> <td>   -0.101</td> <td>    0.357</td>\n",
       "</tr>\n",
       "<tr>\n",
       "  <th>x1</th>        <td>    0.9065</td> <td>    0.187</td> <td>    4.842</td> <td> 0.000</td> <td>    0.535</td> <td>    1.278</td>\n",
       "</tr>\n",
       "<tr>\n",
       "  <th>x2</th>        <td>   -1.9753</td> <td>    0.085</td> <td>  -23.187</td> <td> 0.000</td> <td>   -2.144</td> <td>   -1.806</td>\n",
       "</tr>\n",
       "<tr>\n",
       "  <th>x3</th>        <td>    0.0788</td> <td>    0.065</td> <td>    1.216</td> <td> 0.227</td> <td>   -0.050</td> <td>    0.208</td>\n",
       "</tr>\n",
       "</table>\n",
       "<table class=\"simpletable\">\n",
       "<tr>\n",
       "  <th>Omnibus:</th>       <td> 1.539</td> <th>  Durbin-Watson:     </th> <td>   2.129</td>\n",
       "</tr>\n",
       "<tr>\n",
       "  <th>Prob(Omnibus):</th> <td> 0.463</td> <th>  Jarque-Bera (JB):  </th> <td>   1.081</td>\n",
       "</tr>\n",
       "<tr>\n",
       "  <th>Skew:</th>          <td>-0.236</td> <th>  Prob(JB):          </th> <td>   0.583</td>\n",
       "</tr>\n",
       "<tr>\n",
       "  <th>Kurtosis:</th>      <td> 3.193</td> <th>  Cond. No.          </th> <td>    5.53</td>\n",
       "</tr>\n",
       "</table><br/><br/>Warnings:<br/>[1] Standard Errors assume that the covariance matrix of the errors is correctly specified."
      ],
      "text/plain": [
       "<class 'statsmodels.iolib.summary.Summary'>\n",
       "\"\"\"\n",
       "                            OLS Regression Results                            \n",
       "==============================================================================\n",
       "Dep. Variable:                      y   R-squared:                       0.865\n",
       "Model:                            OLS   Adj. R-squared:                  0.861\n",
       "Method:                 Least Squares   F-statistic:                     204.8\n",
       "Date:                Sun, 26 Jan 2020   Prob (F-statistic):           1.40e-41\n",
       "Time:                        14:19:28   Log-Likelihood:                -133.66\n",
       "No. Observations:                 100   AIC:                             275.3\n",
       "Df Residuals:                      96   BIC:                             285.7\n",
       "Df Model:                           3                                         \n",
       "Covariance Type:            nonrobust                                         \n",
       "==============================================================================\n",
       "                 coef    std err          t      P>|t|      [0.025      0.975]\n",
       "------------------------------------------------------------------------------\n",
       "Intercept      0.1280      0.115      1.111      0.269      -0.101       0.357\n",
       "x1             0.9065      0.187      4.842      0.000       0.535       1.278\n",
       "x2            -1.9753      0.085    -23.187      0.000      -2.144      -1.806\n",
       "x3             0.0788      0.065      1.216      0.227      -0.050       0.208\n",
       "==============================================================================\n",
       "Omnibus:                        1.539   Durbin-Watson:                   2.129\n",
       "Prob(Omnibus):                  0.463   Jarque-Bera (JB):                1.081\n",
       "Skew:                          -0.236   Prob(JB):                        0.583\n",
       "Kurtosis:                       3.193   Cond. No.                         5.53\n",
       "==============================================================================\n",
       "\n",
       "Warnings:\n",
       "[1] Standard Errors assume that the covariance matrix of the errors is correctly specified.\n",
       "\"\"\""
      ]
     },
     "execution_count": 9,
     "metadata": {},
     "output_type": "execute_result"
    }
   ],
   "source": [
    "model = sm.OLS(df_y, df_x[['Intercept', 'x1', 'x2', 'x3']])\n",
    "fitted = model.fit()\n",
    "fitted.summary()"
   ]
  },
  {
   "cell_type": "code",
   "execution_count": 10,
   "metadata": {
    "ExecuteTime": {
     "end_time": "2020-01-26T13:19:28.667014Z",
     "start_time": "2020-01-26T13:19:28.578203Z"
    }
   },
   "outputs": [
    {
     "data": {
      "text/html": [
       "<table class=\"simpletable\">\n",
       "<caption>OLS Regression Results</caption>\n",
       "<tr>\n",
       "  <th>Dep. Variable:</th>            <td>y</td>        <th>  R-squared:         </th> <td>   0.873</td>\n",
       "</tr>\n",
       "<tr>\n",
       "  <th>Model:</th>                   <td>OLS</td>       <th>  Adj. R-squared:    </th> <td>   0.867</td>\n",
       "</tr>\n",
       "<tr>\n",
       "  <th>Method:</th>             <td>Least Squares</td>  <th>  F-statistic:       </th> <td>   163.0</td>\n",
       "</tr>\n",
       "<tr>\n",
       "  <th>Date:</th>             <td>Sun, 26 Jan 2020</td> <th>  Prob (F-statistic):</th> <td>1.24e-41</td>\n",
       "</tr>\n",
       "<tr>\n",
       "  <th>Time:</th>                 <td>14:19:28</td>     <th>  Log-Likelihood:    </th> <td> -130.63</td>\n",
       "</tr>\n",
       "<tr>\n",
       "  <th>No. Observations:</th>      <td>   100</td>      <th>  AIC:               </th> <td>   271.3</td>\n",
       "</tr>\n",
       "<tr>\n",
       "  <th>Df Residuals:</th>          <td>    95</td>      <th>  BIC:               </th> <td>   284.3</td>\n",
       "</tr>\n",
       "<tr>\n",
       "  <th>Df Model:</th>              <td>     4</td>      <th>                     </th>     <td> </td>   \n",
       "</tr>\n",
       "<tr>\n",
       "  <th>Covariance Type:</th>      <td>nonrobust</td>    <th>                     </th>     <td> </td>   \n",
       "</tr>\n",
       "</table>\n",
       "<table class=\"simpletable\">\n",
       "<tr>\n",
       "      <td></td>         <th>coef</th>     <th>std err</th>      <th>t</th>      <th>P>|t|</th>  <th>[0.025</th>    <th>0.975]</th>  \n",
       "</tr>\n",
       "<tr>\n",
       "  <th>Intercept</th> <td>    0.3140</td> <td>    0.136</td> <td>    2.311</td> <td> 0.023</td> <td>    0.044</td> <td>    0.584</td>\n",
       "</tr>\n",
       "<tr>\n",
       "  <th>x1</th>        <td>    0.9127</td> <td>    0.183</td> <td>    4.999</td> <td> 0.000</td> <td>    0.550</td> <td>    1.275</td>\n",
       "</tr>\n",
       "<tr>\n",
       "  <th>x2</th>        <td>   -2.5445</td> <td>    0.248</td> <td>  -10.264</td> <td> 0.000</td> <td>   -3.037</td> <td>   -2.052</td>\n",
       "</tr>\n",
       "<tr>\n",
       "  <th>x3</th>        <td>    0.0992</td> <td>    0.064</td> <td>    1.556</td> <td> 0.123</td> <td>   -0.027</td> <td>    0.226</td>\n",
       "</tr>\n",
       "<tr>\n",
       "  <th>x4</th>        <td>    0.1394</td> <td>    0.057</td> <td>    2.437</td> <td> 0.017</td> <td>    0.026</td> <td>    0.253</td>\n",
       "</tr>\n",
       "</table>\n",
       "<table class=\"simpletable\">\n",
       "<tr>\n",
       "  <th>Omnibus:</th>       <td> 1.537</td> <th>  Durbin-Watson:     </th> <td>   2.100</td>\n",
       "</tr>\n",
       "<tr>\n",
       "  <th>Prob(Omnibus):</th> <td> 0.464</td> <th>  Jarque-Bera (JB):  </th> <td>   1.088</td>\n",
       "</tr>\n",
       "<tr>\n",
       "  <th>Skew:</th>          <td>-0.238</td> <th>  Prob(JB):          </th> <td>   0.581</td>\n",
       "</tr>\n",
       "<tr>\n",
       "  <th>Kurtosis:</th>      <td> 3.184</td> <th>  Cond. No.          </th> <td>    15.9</td>\n",
       "</tr>\n",
       "</table><br/><br/>Warnings:<br/>[1] Standard Errors assume that the covariance matrix of the errors is correctly specified."
      ],
      "text/plain": [
       "<class 'statsmodels.iolib.summary.Summary'>\n",
       "\"\"\"\n",
       "                            OLS Regression Results                            \n",
       "==============================================================================\n",
       "Dep. Variable:                      y   R-squared:                       0.873\n",
       "Model:                            OLS   Adj. R-squared:                  0.867\n",
       "Method:                 Least Squares   F-statistic:                     163.0\n",
       "Date:                Sun, 26 Jan 2020   Prob (F-statistic):           1.24e-41\n",
       "Time:                        14:19:28   Log-Likelihood:                -130.63\n",
       "No. Observations:                 100   AIC:                             271.3\n",
       "Df Residuals:                      95   BIC:                             284.3\n",
       "Df Model:                           4                                         \n",
       "Covariance Type:            nonrobust                                         \n",
       "==============================================================================\n",
       "                 coef    std err          t      P>|t|      [0.025      0.975]\n",
       "------------------------------------------------------------------------------\n",
       "Intercept      0.3140      0.136      2.311      0.023       0.044       0.584\n",
       "x1             0.9127      0.183      4.999      0.000       0.550       1.275\n",
       "x2            -2.5445      0.248    -10.264      0.000      -3.037      -2.052\n",
       "x3             0.0992      0.064      1.556      0.123      -0.027       0.226\n",
       "x4             0.1394      0.057      2.437      0.017       0.026       0.253\n",
       "==============================================================================\n",
       "Omnibus:                        1.537   Durbin-Watson:                   2.100\n",
       "Prob(Omnibus):                  0.464   Jarque-Bera (JB):                1.088\n",
       "Skew:                          -0.238   Prob(JB):                        0.581\n",
       "Kurtosis:                       3.184   Cond. No.                         15.9\n",
       "==============================================================================\n",
       "\n",
       "Warnings:\n",
       "[1] Standard Errors assume that the covariance matrix of the errors is correctly specified.\n",
       "\"\"\""
      ]
     },
     "execution_count": 10,
     "metadata": {},
     "output_type": "execute_result"
    }
   ],
   "source": [
    "model = sm.OLS(df_y, df_x[['Intercept', 'x1', 'x2', 'x3', 'x4']])\n",
    "fitted = model.fit()\n",
    "fitted.summary()"
   ]
  },
  {
   "cell_type": "markdown",
   "metadata": {},
   "source": [
    "<p>We see that the $p$ values of $\\hat{\\beta_1}$ and $\\hat{\\beta_2}$ indicate a very strong relation, whereas the other coefficients have large $p$ values. This make sense due to the model being used to generate the data.</p>"
   ]
  }
 ],
 "metadata": {
  "kernelspec": {
   "display_name": "Python 3",
   "language": "python",
   "name": "python3"
  },
  "language_info": {
   "codemirror_mode": {
    "name": "ipython",
    "version": 3
   },
   "file_extension": ".py",
   "mimetype": "text/x-python",
   "name": "python",
   "nbconvert_exporter": "python",
   "pygments_lexer": "ipython3",
   "version": "3.7.5"
  }
 },
 "nbformat": 4,
 "nbformat_minor": 2
}
