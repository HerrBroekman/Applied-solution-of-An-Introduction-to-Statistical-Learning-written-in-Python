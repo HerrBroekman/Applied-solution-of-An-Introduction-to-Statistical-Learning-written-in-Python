{
 "cells": [
  {
   "cell_type": "markdown",
   "metadata": {},
   "source": [
    "<blockquote>\n",
    "    <h1>Exercise 10.8</h1>\n",
    "    <p>In Section 10.2.3, a formula for calculating PVE was given in Equation 10.8. We also saw that the PVE can be obtained using the <code>sdev</code> output of the <code>prcomp()</code> function.</p>\n",
    "    <p>On the <code>USArrests</code> data, calculate PVE in two ways:</p>\n",
    "    <ol>\n",
    "        <li>Using the <code>sdev</code> output of the <code>prcomp()</code> function, as was done in Section 10.2.3.</li>\n",
    "        <li>By applying Equation 10.8 directly. That is, use the <code>prcomp()</code> function to compute the principal component loadings. Then, use those loadings in Equation 10.8 to obtain the PVE.</li>\n",
    "    </ol>\n",
    "    <p>These two approaches should give the same results.</p>\n",
    "    <p><i>Hint: You will only obtain the same results in 1 and 2 if the same data is used in both cases. For instance, if in 1 you performed <code>prcomp()</code> using centered and scaled variables, then you must center and scale the variables before applying Equation 10.3 in 2.</i></p>\n",
    "</blockquote>"
   ]
  },
  {
   "cell_type": "code",
   "execution_count": 1,
   "metadata": {
    "ExecuteTime": {
     "end_time": "2020-03-22T21:05:57.649806Z",
     "start_time": "2020-03-22T21:05:57.229100Z"
    }
   },
   "outputs": [],
   "source": [
    "import pandas as pd\n",
    "import numpy as np\n",
    "\n",
    "# https://stackoverflow.com/questions/34398054/ipython-notebook-cell-multiple-outputs\n",
    "from IPython.core.interactiveshell import InteractiveShell\n",
    "InteractiveShell.ast_node_interactivity = \"all\"\n",
    "\n",
    "from sklearn.preprocessing import StandardScaler\n",
    "from sklearn.decomposition import PCA\n",
    "from sklearn.pipeline import Pipeline"
   ]
  },
  {
   "cell_type": "markdown",
   "metadata": {},
   "source": [
    "<h3>Exercise 10.8.1</h3>\n",
    "<blockquote>\n",
    "    <i></i>\n",
    "</blockquote>"
   ]
  },
  {
   "cell_type": "code",
   "execution_count": 2,
   "metadata": {
    "ExecuteTime": {
     "end_time": "2020-03-22T21:05:57.666343Z",
     "start_time": "2020-03-22T21:05:57.651374Z"
    }
   },
   "outputs": [
    {
     "data": {
      "text/html": [
       "<div>\n",
       "<style scoped>\n",
       "    .dataframe tbody tr th:only-of-type {\n",
       "        vertical-align: middle;\n",
       "    }\n",
       "\n",
       "    .dataframe tbody tr th {\n",
       "        vertical-align: top;\n",
       "    }\n",
       "\n",
       "    .dataframe thead th {\n",
       "        text-align: right;\n",
       "    }\n",
       "</style>\n",
       "<table border=\"1\" class=\"dataframe\">\n",
       "  <thead>\n",
       "    <tr style=\"text-align: right;\">\n",
       "      <th></th>\n",
       "      <th>Murder</th>\n",
       "      <th>Assault</th>\n",
       "      <th>UrbanPop</th>\n",
       "      <th>Rape</th>\n",
       "    </tr>\n",
       "  </thead>\n",
       "  <tbody>\n",
       "    <tr>\n",
       "      <th>Alabama</th>\n",
       "      <td>13.2</td>\n",
       "      <td>236</td>\n",
       "      <td>58</td>\n",
       "      <td>21.2</td>\n",
       "    </tr>\n",
       "    <tr>\n",
       "      <th>Alaska</th>\n",
       "      <td>10.0</td>\n",
       "      <td>263</td>\n",
       "      <td>48</td>\n",
       "      <td>44.5</td>\n",
       "    </tr>\n",
       "    <tr>\n",
       "      <th>Arizona</th>\n",
       "      <td>8.1</td>\n",
       "      <td>294</td>\n",
       "      <td>80</td>\n",
       "      <td>31.0</td>\n",
       "    </tr>\n",
       "    <tr>\n",
       "      <th>Arkansas</th>\n",
       "      <td>8.8</td>\n",
       "      <td>190</td>\n",
       "      <td>50</td>\n",
       "      <td>19.5</td>\n",
       "    </tr>\n",
       "    <tr>\n",
       "      <th>California</th>\n",
       "      <td>9.0</td>\n",
       "      <td>276</td>\n",
       "      <td>91</td>\n",
       "      <td>40.6</td>\n",
       "    </tr>\n",
       "  </tbody>\n",
       "</table>\n",
       "</div>"
      ],
      "text/plain": [
       "            Murder  Assault  UrbanPop  Rape\n",
       "Alabama       13.2      236        58  21.2\n",
       "Alaska        10.0      263        48  44.5\n",
       "Arizona        8.1      294        80  31.0\n",
       "Arkansas       8.8      190        50  19.5\n",
       "California     9.0      276        91  40.6"
      ]
     },
     "execution_count": 2,
     "metadata": {},
     "output_type": "execute_result"
    }
   ],
   "source": [
    "df = pd.read_csv(\"../../DataSets/USArrests/USArrests.csv\", index_col = 0)\n",
    "df.head()"
   ]
  },
  {
   "cell_type": "code",
   "execution_count": 3,
   "metadata": {
    "ExecuteTime": {
     "end_time": "2020-03-22T21:05:57.744732Z",
     "start_time": "2020-03-22T21:05:57.667826Z"
    }
   },
   "outputs": [],
   "source": [
    "scaler = StandardScaler()\n",
    "df_standardized = pd.DataFrame(\n",
    "    scaler.fit_transform(df),\n",
    "    index=df.index,\n",
    "    columns=df.columns\n",
    ")"
   ]
  },
  {
   "cell_type": "code",
   "execution_count": 4,
   "metadata": {
    "ExecuteTime": {
     "end_time": "2020-03-22T21:05:57.830522Z",
     "start_time": "2020-03-22T21:05:57.746126Z"
    }
   },
   "outputs": [
    {
     "data": {
      "text/plain": [
       "array([0.62006039, 0.24744129, 0.0891408 , 0.04335752])"
      ]
     },
     "execution_count": 4,
     "metadata": {},
     "output_type": "execute_result"
    }
   ],
   "source": [
    "n, p = df.shape\n",
    "n_components = p\n",
    "pipeline = Pipeline([\n",
    "    ('scaling', StandardScaler()), \n",
    "    ('pca', PCA(n_components=p))\n",
    "])\n",
    "principal_components = pipeline.fit_transform(df)\n",
    "pipeline['pca'].explained_variance_ratio_"
   ]
  },
  {
   "cell_type": "code",
   "execution_count": 5,
   "metadata": {
    "ExecuteTime": {
     "end_time": "2020-03-22T21:05:57.918481Z",
     "start_time": "2020-03-22T21:05:57.834692Z"
    }
   },
   "outputs": [],
   "source": [
    "loadings = pipeline['pca'].components_\n",
    "df_loadings = pd.DataFrame(\n",
    "    pipeline['pca'].components_.T, \n",
    "    columns=[f'PC{i}' for i in range(1, n_components + 1)], \n",
    "    index=df.columns\n",
    ")\n",
    "for principal_component in df_loadings.columns:\n",
    "    assert abs(np.sum(df_loadings[principal_component]**2) - 1) < 1e-6"
   ]
  },
  {
   "cell_type": "code",
   "execution_count": 6,
   "metadata": {
    "ExecuteTime": {
     "end_time": "2020-03-22T21:05:58.045321Z",
     "start_time": "2020-03-22T21:05:57.923634Z"
    }
   },
   "outputs": [
    {
     "name": "stdout",
     "output_type": "stream",
     "text": [
      "PC1 0.6200603947873735\n",
      "PC2 0.2474412881349604\n",
      "PC3 0.08914079514520754\n",
      "PC4 0.043357521932458856\n"
     ]
    }
   ],
   "source": [
    "denominator = n * np.sum(df_standardized.var(axis=None, ddof=0))\n",
    "for principal_component in df_loadings.columns:\n",
    "    numerator = 0\n",
    "    for i in range(n):\n",
    "        numerator += (df_loadings[principal_component] @ df_standardized.iloc[i])**2\n",
    "        \n",
    "    print(principal_component, numerator / denominator)\n",
    "        "
   ]
  }
 ],
 "metadata": {
  "kernelspec": {
   "display_name": "Python 3",
   "language": "python",
   "name": "python3"
  },
  "language_info": {
   "codemirror_mode": {
    "name": "ipython",
    "version": 3
   },
   "file_extension": ".py",
   "mimetype": "text/x-python",
   "name": "python",
   "nbconvert_exporter": "python",
   "pygments_lexer": "ipython3",
   "version": "3.7.5"
  }
 },
 "nbformat": 4,
 "nbformat_minor": 2
}
