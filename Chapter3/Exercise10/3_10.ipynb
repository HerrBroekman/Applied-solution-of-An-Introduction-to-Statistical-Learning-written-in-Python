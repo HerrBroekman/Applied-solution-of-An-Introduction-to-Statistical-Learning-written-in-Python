{
 "cells": [
  {
   "cell_type": "markdown",
   "metadata": {},
   "source": [
    "<blockquote>\n",
    "    <h1>Exercise 3.9</h1>\n",
    "    <p>This question should be answered using the <code>Carseats</code> data set.</p>\n",
    "    <ol>\n",
    "        <li>Fit a multiple regression model to predict $\\mathrm{Sales}$ using $\\mathrm{Price}$, $\\mathrm{Urban}$, and $\\mathrm{US}$.</li>\n",
    "        <li>Provide an interpretation of each coefficient in the model. Be careful - some of the variables in the model are qualitative!</li>\n",
    "        <li>Write out the model in equation form, being careful to handle the qualitative variables properly.</li>\n",
    "        <li>For which of the predictors can you reject the null hypothesis $H_0:\\beta_j = 0$?</li>\n",
    "        <li>On the basis of your response to the previous question, fit a smaller model that only uses the predictors for which there is evidence of association with the outcome.</li>\n",
    "        <li>How well do the models in 1 and 5 fit the data?</li>\n",
    "        <li>Using the model from 5, obtain $95 \\%%$ confidence intervals for the coefficient(s).</li>\n",
    "        <li>Is there evidence of outliers or high leverage observations in the model from 5?</li>\n",
    "    </ol>\n",
    "</blockquote>"
   ]
  },
  {
   "cell_type": "code",
   "execution_count": null,
   "metadata": {},
   "outputs": [],
   "source": []
  }
 ],
 "metadata": {
  "kernelspec": {
   "display_name": "Python 3",
   "language": "python",
   "name": "python3"
  },
  "language_info": {
   "codemirror_mode": {
    "name": "ipython",
    "version": 3
   },
   "file_extension": ".py",
   "mimetype": "text/x-python",
   "name": "python",
   "nbconvert_exporter": "python",
   "pygments_lexer": "ipython3",
   "version": "3.7.5"
  }
 },
 "nbformat": 4,
 "nbformat_minor": 2
}
