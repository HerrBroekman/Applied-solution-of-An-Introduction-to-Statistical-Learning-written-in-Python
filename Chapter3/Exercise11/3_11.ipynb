{
 "cells": [
  {
   "cell_type": "markdown",
   "metadata": {},
   "source": [
    "<blockquote>\n",
    "    <h1>Exercise 3.11</h1>\n",
    "    <p>\n",
    "        In this problem we will investigate the $t$-statistic for the null hypothesis $H_0 : \\beta = 0$ in simple linear regression without an intercept. To begin, we generate a predictor $x$ and a response $y$ as follows.</p>\n",
    "        <code>set.seed(1)\n",
    "x=rnorm(100)\n",
    "y=2*x*rnorm(100)</code>    \n",
    "    <ol>\n",
    "        <li>Perform a simple linear regression of $y$ onto $x$, <i>without</i> an intercept. Report the coefficient estimate $\\hat{\\beta}$, the standard error of this coefficient estimate, and the $t$-statistic and $p$-value associated with the null hypothesis $H_0:\\beta = 0$. Comment on these results. (You can perform regression without an intercept using the command <code>lm(y~x+0)</code>.)</li>\n",
    "        <li>Now perform a simple linear regression of $x$ onto $y$ without an intercept, and report the coefficient estimate, its standard error, and the corresponding $t$-statistic and $p$-values associated with the null hypothesis $H_0:\\beta = 0$. Comment on these results.</li>\n",
    "        <li>What is the relationship between the results obtained in 1 and 2?</li>\n",
    "        <li>For the regression of $Y$ onto $X$ without an intercept, the $t$-statistic for $H_0:\\beta = 0$ takes the form $\\hat{\\beta} / \\mathrm{SE}(\\hat{\\beta})$, where $\\hat{\\beta}$ is given by [equation] (3.38), and where\n",
    "        $$\n",
    "            \\mathrm{SE}(\\hat{\\beta}) = \\sqrt{\\frac{\\sum_{i=1}^n (y_i - x_i \\hat{\\beta})}{(n-1)\\sum_{i'=1}^n x_{i'}^2}} \\,.\n",
    "        $$\n",
    "        (These formulas are slightly different from those given in Sections 3.1.1 and 3.1.2, since here we are performing regression without an intercept.) Show algebraically, and confirm numerically in R , that the $t$-statistic can be written as\n",
    "        $$\n",
    "            \\frac{ (\\sqrt{n-1}) \\sum_{i=1}^n x_i y_i }{ \\sqrt{ (\\sum_{i=1}^n x_i^2) (\\sum_{i'=1}^n y_{i'}^2) - (\\sum_{i'=1}^n x_{i'} y_{i'})^2 } }\n",
    "        $$</li>\n",
    "        <li>Using the results from 4, argue that the $t$-statistic for the regression of $y$ onto $x$ is the same as the $t$-statistic for the regression of $x$ onto $y$.</li>\n",
    "        <li>In R, show that when regression is performed <i>with</i> an intercept, the $t$-statistic for $H_0:\\beta_1 = 0$ is the same for the regression of $y$ onto $x$ as it is for the regression of $x$ onto $y$.</li>\n",
    "    </ol>\n",
    "</blockquote>"
   ]
  },
  {
   "cell_type": "code",
   "execution_count": 1,
   "metadata": {},
   "outputs": [],
   "source": [
    "import pandas as pd\n",
    "import numpy as np\n",
    "import matplotlib.pyplot as plt\n",
    "\n",
    "# https://stackoverflow.com/questions/34398054/ipython-notebook-cell-multiple-outputs\n",
    "from IPython.core.interactiveshell import InteractiveShell\n",
    "InteractiveShell.ast_node_interactivity = \"all\"\n",
    "\n",
    "import statsmodels.api as sm"
   ]
  },
  {
   "cell_type": "code",
   "execution_count": 2,
   "metadata": {},
   "outputs": [
    {
     "data": {
      "image/png": "[encoded data removed]",
      "text/plain": [
       "<Figure size 216x216 with 1 Axes>"
      ]
     },
     "metadata": {
      "needs_background": "light"
     },
     "output_type": "display_data"
    }
   ],
   "source": [
    "x = np.random.normal(size=100, loc=0, scale=1)\n",
    "y = 2*x*np.random.normal(size=100, loc=0, scale=1)\n",
    "fig, ax = plt.subplots(constrained_layout=True, figsize=(3, 3))\n",
    "_ = ax.scatter(x, y)\n",
    "_ = ax.set_xlabel('x')\n",
    "_ = ax.set_ylabel('y')"
   ]
  },
  {
   "cell_type": "markdown",
   "metadata": {},
   "source": [
    "<h3>Exercise 3.11.1</h3>\n",
    "<blockquote>\n",
    "    <i>Perform a simple linear regression of $y$ onto $x$, <i>without</i> an intercept. Report the coefficient estimate $\\hat{\\beta}$, the standard error of this coefficient estimate, and the $t$-statistic and $p$-value associated with the null hypothesis $H_0:\\beta = 0$. Comment on these results. (You can perform regression without an intercept using the command <code>lm(y~x+0)</code>.)</i>\n",
    "</blockquote>\n"
   ]
  },
  {
   "cell_type": "code",
   "execution_count": null,
   "metadata": {},
   "outputs": [],
   "source": []
  }
 ],
 "metadata": {
  "kernelspec": {
   "display_name": "Python 3",
   "language": "python",
   "name": "python3"
  },
  "language_info": {
   "codemirror_mode": {
    "name": "ipython",
    "version": 3
   },
   "file_extension": ".py",
   "mimetype": "text/x-python",
   "name": "python",
   "nbconvert_exporter": "python",
   "pygments_lexer": "ipython3",
   "version": "3.7.5"
  }
 },
 "nbformat": 4,
 "nbformat_minor": 2
}
