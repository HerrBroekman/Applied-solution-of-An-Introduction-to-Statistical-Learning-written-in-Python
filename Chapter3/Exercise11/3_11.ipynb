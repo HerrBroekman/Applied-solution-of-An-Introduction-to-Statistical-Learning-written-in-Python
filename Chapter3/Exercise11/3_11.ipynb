{
 "cells": [
  {
   "cell_type": "markdown",
   "metadata": {},
   "source": [
    "<blockquote>\n",
    "    <h1>Exercise 3.11</h1>\n",
    "    <p>\n",
    "        In this problem we will investigate the $t$-statistic for the null hypothesis $H_0 : \\beta = 0$ in simple linear regression without an intercept. To begin, we generate a predictor $x$ and a response $y$ as follows.</p>\n",
    "        <code>set.seed(1)\n",
    "x=rnorm(100)\n",
    "y=2*x*rnorm(100)</code>    \n",
    "    <ol>\n",
    "        <li>Perform a simple linear regression of $y$ onto $x$, <i>without</i> an intercept. Report the coefficient estimate $\\hat{\\beta}$, the standard error of this coefficient estimate, and the $t$-statistic and $p$-value associated with the null hypothesis $H_0:\\beta = 0$. Comment on these results. (You can perform regression without an intercept using the command <code>lm(y~x+0)</code>.)</li>\n",
    "        <li>Now perform a simple linear regression of $x$ onto $y$ without an intercept, and report the coefficient estimate, its standard error, and the corresponding $t$-statistic and $p$-values associated with the null hypothesis $H_0:\\beta = 0$. Comment on these results.</li>\n",
    "        <li>What is the relationship between the results obtained in 1 and 2?</li>\n",
    "        <li>For the regression of $Y$ onto $X$ without an intercept, the $t$-statistic for $H_0:\\beta = 0$ takes the form $\\hat{\\beta} / \\mathrm{SE}(\\hat{\\beta})$, where $\\hat{\\beta}$ is given by [equation] (3.38), and where\n",
    "        $$\n",
    "            \\mathrm{SE}(\\hat{\\beta}) = \\sqrt{\\frac{\\sum_{i=1}^n \\left(y_i - x_i \\hat{\\beta}\\right)^2}{(n-1)\\sum_{i'=1}^n x_{i'}^2}} \\,.\n",
    "        $$\n",
    "        (These formulas are slightly different from those given in Sections 3.1.1 and 3.1.2, since here we are performing regression without an intercept.) Show algebraically, and confirm numerically in R , that the $t$-statistic can be written as\n",
    "        $$\n",
    "            \\frac{ (\\sqrt{n-1}) \\sum_{i=1}^n x_i y_i }{ \\sqrt{ (\\sum_{i=1}^n x_i^2) (\\sum_{i'=1}^n y_{i'}^2) - (\\sum_{i'=1}^n x_{i'} y_{i'})^2 } } \\,.\n",
    "        $$</li>\n",
    "        <li>Using the results from 4, argue that the $t$-statistic for the regression of $y$ onto $x$ is the same as the $t$-statistic for the regression of $x$ onto $y$.</li>\n",
    "        <li>In R, show that when regression is performed <i>with</i> an intercept, the $t$-statistic for $H_0:\\beta_1 = 0$ is the same for the regression of $y$ onto $x$ as it is for the regression of $x$ onto $y$.</li>\n",
    "    </ol>\n",
    "</blockquote>"
   ]
  },
  {
   "cell_type": "code",
   "execution_count": 1,
   "metadata": {},
   "outputs": [],
   "source": [
    "import pandas as pd\n",
    "import numpy as np\n",
    "import numpy.testing as npt\n",
    "import matplotlib.pyplot as plt\n",
    "\n",
    "%run ../../customModules/usefulFunctions.ipynb\n",
    "# https://stackoverflow.com/questions/34398054/ipython-notebook-cell-multiple-outputs\n",
    "from IPython.core.interactiveshell import InteractiveShell\n",
    "InteractiveShell.ast_node_interactivity = \"all\"\n",
    "\n",
    "import statsmodels.api as sm"
   ]
  },
  {
   "cell_type": "code",
   "execution_count": 2,
   "metadata": {},
   "outputs": [
    {
     "data": {
      "image/png": "[encoded data removed]",
      "text/plain": [
       "<Figure size 216x216 with 4 Axes>"
      ]
     },
     "metadata": {
      "needs_background": "light"
     },
     "output_type": "display_data"
    }
   ],
   "source": [
    "np.random.seed(42)\n",
    "x_np = np.random.normal(size=100, loc=0, scale=1)\n",
    "y_np = 2 * x_np * np.random.normal(size=100, loc=0, scale=1)\n",
    "x = pd.DataFrame({'x': x_np})\n",
    "y = pd.DataFrame({'y': y_np})\n",
    "fig = plt.figure(constrained_layout=True, figsize=(3, 3))\n",
    "ax1 = fig.add_subplot(211)\n",
    "_ = ax1.scatter(x, y)\n",
    "_ = ax1.set_xlabel('x')\n",
    "_ = ax1.set_ylabel('y')\n",
    "ax2 = fig.add_subplot(212)\n",
    "_ = ax2.scatter(y, x)\n",
    "_ = ax2.set_xlabel('y')\n",
    "_ = ax2.set_ylabel('x')\n"
   ]
  },
  {
   "cell_type": "markdown",
   "metadata": {},
   "source": [
    "<h3>Exercise 3.11.1</h3>\n",
    "<blockquote>\n",
    "    <i>Perform a simple linear regression of $y$ onto $x$, <i>without</i> an intercept. Report the coefficient estimate $\\hat{\\beta}$, the standard error of this coefficient estimate, and the $t$-statistic and $p$-value associated with the null hypothesis $H_0:\\beta = 0$. Comment on these results. (You can perform regression without an intercept using the command <code>lm(y~x+0)</code>.)</i>\n",
    "</blockquote>\n"
   ]
  },
  {
   "cell_type": "code",
   "execution_count": 3,
   "metadata": {},
   "outputs": [
    {
     "data": {
      "text/html": [
       "<table class=\"simpletable\">\n",
       "<caption>OLS Regression Results</caption>\n",
       "<tr>\n",
       "  <th>Dep. Variable:</th>            <td>y</td>        <th>  R-squared (uncentered):</th>      <td>   0.095</td>\n",
       "</tr>\n",
       "<tr>\n",
       "  <th>Model:</th>                   <td>OLS</td>       <th>  Adj. R-squared (uncentered):</th> <td>   0.086</td>\n",
       "</tr>\n",
       "<tr>\n",
       "  <th>Method:</th>             <td>Least Squares</td>  <th>  F-statistic:       </th>          <td>   10.43</td>\n",
       "</tr>\n",
       "<tr>\n",
       "  <th>Date:</th>             <td>Tue, 31 Dec 2019</td> <th>  Prob (F-statistic):</th>           <td>0.00168</td>\n",
       "</tr>\n",
       "<tr>\n",
       "  <th>Time:</th>                 <td>10:14:45</td>     <th>  Log-Likelihood:    </th>          <td> -207.42</td>\n",
       "</tr>\n",
       "<tr>\n",
       "  <th>No. Observations:</th>      <td>   100</td>      <th>  AIC:               </th>          <td>   416.8</td>\n",
       "</tr>\n",
       "<tr>\n",
       "  <th>Df Residuals:</th>          <td>    99</td>      <th>  BIC:               </th>          <td>   419.5</td>\n",
       "</tr>\n",
       "<tr>\n",
       "  <th>Df Model:</th>              <td>     1</td>      <th>                     </th>              <td> </td>   \n",
       "</tr>\n",
       "<tr>\n",
       "  <th>Covariance Type:</th>      <td>nonrobust</td>    <th>                     </th>              <td> </td>   \n",
       "</tr>\n",
       "</table>\n",
       "<table class=\"simpletable\">\n",
       "<tr>\n",
       "  <td></td>     <th>coef</th>     <th>std err</th>      <th>t</th>      <th>P>|t|</th>  <th>[0.025</th>    <th>0.975]</th>  \n",
       "</tr>\n",
       "<tr>\n",
       "  <th>x</th> <td>    0.6873</td> <td>    0.213</td> <td>    3.230</td> <td> 0.002</td> <td>    0.265</td> <td>    1.110</td>\n",
       "</tr>\n",
       "</table>\n",
       "<table class=\"simpletable\">\n",
       "<tr>\n",
       "  <th>Omnibus:</th>       <td>51.437</td> <th>  Durbin-Watson:     </th> <td>   2.042</td>\n",
       "</tr>\n",
       "<tr>\n",
       "  <th>Prob(Omnibus):</th> <td> 0.000</td> <th>  Jarque-Bera (JB):  </th> <td> 265.270</td>\n",
       "</tr>\n",
       "<tr>\n",
       "  <th>Skew:</th>          <td>-1.559</td> <th>  Prob(JB):          </th> <td>2.50e-58</td>\n",
       "</tr>\n",
       "<tr>\n",
       "  <th>Kurtosis:</th>      <td>10.344</td> <th>  Cond. No.          </th> <td>    1.00</td>\n",
       "</tr>\n",
       "</table><br/><br/>Warnings:<br/>[1] Standard Errors assume that the covariance matrix of the errors is correctly specified."
      ],
      "text/plain": [
       "<class 'statsmodels.iolib.summary.Summary'>\n",
       "\"\"\"\n",
       "                                 OLS Regression Results                                \n",
       "=======================================================================================\n",
       "Dep. Variable:                      y   R-squared (uncentered):                   0.095\n",
       "Model:                            OLS   Adj. R-squared (uncentered):              0.086\n",
       "Method:                 Least Squares   F-statistic:                              10.43\n",
       "Date:                Tue, 31 Dec 2019   Prob (F-statistic):                     0.00168\n",
       "Time:                        10:14:45   Log-Likelihood:                         -207.42\n",
       "No. Observations:                 100   AIC:                                      416.8\n",
       "Df Residuals:                      99   BIC:                                      419.5\n",
       "Df Model:                           1                                                  \n",
       "Covariance Type:            nonrobust                                                  \n",
       "==============================================================================\n",
       "                 coef    std err          t      P>|t|      [0.025      0.975]\n",
       "------------------------------------------------------------------------------\n",
       "x              0.6873      0.213      3.230      0.002       0.265       1.110\n",
       "==============================================================================\n",
       "Omnibus:                       51.437   Durbin-Watson:                   2.042\n",
       "Prob(Omnibus):                  0.000   Jarque-Bera (JB):              265.270\n",
       "Skew:                          -1.559   Prob(JB):                     2.50e-58\n",
       "Kurtosis:                      10.344   Cond. No.                         1.00\n",
       "==============================================================================\n",
       "\n",
       "Warnings:\n",
       "[1] Standard Errors assume that the covariance matrix of the errors is correctly specified.\n",
       "\"\"\""
      ]
     },
     "execution_count": 3,
     "metadata": {},
     "output_type": "execute_result"
    },
    {
     "data": {
      "image/png": "[encoded data removed]",
      "text/plain": [
       "<Figure size 648x432 with 1 Axes>"
      ]
     },
     "metadata": {
      "needs_background": "light"
     },
     "output_type": "display_data"
    }
   ],
   "source": [
    "model = sm.OLS(y, x)\n",
    "fitted = model.fit()\n",
    "coef_result1 = fitted.params[0] # store the value of the slope coefficient for later use\n",
    "t_stat_result1 = fitted.tvalues[0]  # store the value t-statistic for later use\n",
    "fitted.summary()\n",
    "createSimpleLinearRegressionPlot(X=x, Y=y, fitted_model=fitted, independent='x', dependent='y')"
   ]
  },
  {
   "cell_type": "markdown",
   "metadata": {},
   "source": [
    "<p>The estimation of the coefficient $\\hat{\\beta}$ is $0.69$, with an estimated standard error of $0.21$, a $t$-statistic of $3.23$ and a $p$ value of $0.2 \\%$. This indicates that there is a significant relation between $x$ and $y$.</p>"
   ]
  },
  {
   "cell_type": "markdown",
   "metadata": {},
   "source": [
    "<h3>Exercise 3.11.2</h3>\n",
    "<blockquote>\n",
    "    <i>Now perform a simple linear regression of $x$ onto $y$ without an intercept, and report the coefficient estimate, its standard error, and the corresponding $t$-statistic and $p$-values associated with the null hypothesis $H_0:\\beta = 0$. Comment on these results.</i>\n",
    "</blockquote>"
   ]
  },
  {
   "cell_type": "code",
   "execution_count": 4,
   "metadata": {},
   "outputs": [
    {
     "data": {
      "text/html": [
       "<table class=\"simpletable\">\n",
       "<caption>OLS Regression Results</caption>\n",
       "<tr>\n",
       "  <th>Dep. Variable:</th>            <td>x</td>        <th>  R-squared (uncentered):</th>      <td>   0.095</td>\n",
       "</tr>\n",
       "<tr>\n",
       "  <th>Model:</th>                   <td>OLS</td>       <th>  Adj. R-squared (uncentered):</th> <td>   0.086</td>\n",
       "</tr>\n",
       "<tr>\n",
       "  <th>Method:</th>             <td>Least Squares</td>  <th>  F-statistic:       </th>          <td>   10.43</td>\n",
       "</tr>\n",
       "<tr>\n",
       "  <th>Date:</th>             <td>Tue, 31 Dec 2019</td> <th>  Prob (F-statistic):</th>           <td>0.00168</td>\n",
       "</tr>\n",
       "<tr>\n",
       "  <th>Time:</th>                 <td>10:14:45</td>     <th>  Log-Likelihood:    </th>          <td> -127.40</td>\n",
       "</tr>\n",
       "<tr>\n",
       "  <th>No. Observations:</th>      <td>   100</td>      <th>  AIC:               </th>          <td>   256.8</td>\n",
       "</tr>\n",
       "<tr>\n",
       "  <th>Df Residuals:</th>          <td>    99</td>      <th>  BIC:               </th>          <td>   259.4</td>\n",
       "</tr>\n",
       "<tr>\n",
       "  <th>Df Model:</th>              <td>     1</td>      <th>                     </th>              <td> </td>   \n",
       "</tr>\n",
       "<tr>\n",
       "  <th>Covariance Type:</th>      <td>nonrobust</td>    <th>                     </th>              <td> </td>   \n",
       "</tr>\n",
       "</table>\n",
       "<table class=\"simpletable\">\n",
       "<tr>\n",
       "  <td></td>     <th>coef</th>     <th>std err</th>      <th>t</th>      <th>P>|t|</th>  <th>[0.025</th>    <th>0.975]</th>  \n",
       "</tr>\n",
       "<tr>\n",
       "  <th>y</th> <td>    0.1387</td> <td>    0.043</td> <td>    3.230</td> <td> 0.002</td> <td>    0.054</td> <td>    0.224</td>\n",
       "</tr>\n",
       "</table>\n",
       "<table class=\"simpletable\">\n",
       "<tr>\n",
       "  <th>Omnibus:</th>       <td> 0.638</td> <th>  Durbin-Watson:     </th> <td>   2.071</td>\n",
       "</tr>\n",
       "<tr>\n",
       "  <th>Prob(Omnibus):</th> <td> 0.727</td> <th>  Jarque-Bera (JB):  </th> <td>   0.252</td>\n",
       "</tr>\n",
       "<tr>\n",
       "  <th>Skew:</th>          <td>-0.062</td> <th>  Prob(JB):          </th> <td>   0.882</td>\n",
       "</tr>\n",
       "<tr>\n",
       "  <th>Kurtosis:</th>      <td> 3.212</td> <th>  Cond. No.          </th> <td>    1.00</td>\n",
       "</tr>\n",
       "</table><br/><br/>Warnings:<br/>[1] Standard Errors assume that the covariance matrix of the errors is correctly specified."
      ],
      "text/plain": [
       "<class 'statsmodels.iolib.summary.Summary'>\n",
       "\"\"\"\n",
       "                                 OLS Regression Results                                \n",
       "=======================================================================================\n",
       "Dep. Variable:                      x   R-squared (uncentered):                   0.095\n",
       "Model:                            OLS   Adj. R-squared (uncentered):              0.086\n",
       "Method:                 Least Squares   F-statistic:                              10.43\n",
       "Date:                Tue, 31 Dec 2019   Prob (F-statistic):                     0.00168\n",
       "Time:                        10:14:45   Log-Likelihood:                         -127.40\n",
       "No. Observations:                 100   AIC:                                      256.8\n",
       "Df Residuals:                      99   BIC:                                      259.4\n",
       "Df Model:                           1                                                  \n",
       "Covariance Type:            nonrobust                                                  \n",
       "==============================================================================\n",
       "                 coef    std err          t      P>|t|      [0.025      0.975]\n",
       "------------------------------------------------------------------------------\n",
       "y              0.1387      0.043      3.230      0.002       0.054       0.224\n",
       "==============================================================================\n",
       "Omnibus:                        0.638   Durbin-Watson:                   2.071\n",
       "Prob(Omnibus):                  0.727   Jarque-Bera (JB):                0.252\n",
       "Skew:                          -0.062   Prob(JB):                        0.882\n",
       "Kurtosis:                       3.212   Cond. No.                         1.00\n",
       "==============================================================================\n",
       "\n",
       "Warnings:\n",
       "[1] Standard Errors assume that the covariance matrix of the errors is correctly specified.\n",
       "\"\"\""
      ]
     },
     "execution_count": 4,
     "metadata": {},
     "output_type": "execute_result"
    },
    {
     "data": {
      "image/png": "[encoded data removed]",
      "text/plain": [
       "<Figure size 648x432 with 1 Axes>"
      ]
     },
     "metadata": {
      "needs_background": "light"
     },
     "output_type": "display_data"
    }
   ],
   "source": [
    "model = sm.OLS(x, y)\n",
    "fitted = model.fit()\n",
    "t_stat_result2 = fitted.tvalues[0]  # store the value t-statistic for later use\n",
    "fitted.summary()\n",
    "createSimpleLinearRegressionPlot(X=y, Y=x, fitted_model=fitted, independent='y', dependent='x')"
   ]
  },
  {
   "cell_type": "markdown",
   "metadata": {},
   "source": [
    "<p>The estimation of the coefficient $\\hat{\\beta}$ is $0.14$, with an estimated standard error of $0.04$, a $t$-statistic of $3.23$ and a $p$ value of $0.2 \\%$. This again indicates that there is a significant relation between $x$ and $y$.</p>\n",
    "\n",
    "<h3>Exercise 3.11.3</h3>\n",
    "<blockquote>\n",
    "    <i>What is the relationship between the results obtained in 1 and 2?</i>\n",
    "</blockquote>\n",
    "\n",
    "<p>For result 1 we have assumed\n",
    "$$\n",
    "y_i = \\hat{\\beta} * x_i + e_i  \\,,\n",
    "$$which can be rewritten as\n",
    "$$\n",
    "x_i = \\frac{1}{\\hat{\\beta}} y_i-\\frac{e_i}{\\hat{\\beta}} \\,.\n",
    "$$\n",
    "We can easily compute this calculation as a sanity check.</p>"
   ]
  },
  {
   "cell_type": "code",
   "execution_count": 5,
   "metadata": {},
   "outputs": [],
   "source": [
    "error = y_np - coef_result1 * x_np\n",
    "x2_np = (y_np - error) / coef_result1\n",
    "difference = x_np - x2_np \n",
    "\n",
    "# assert that the difference vector indeed approximates a zero vector\n",
    "npt.assert_almost_equal(difference, np.zeros(difference.shape), decimal=10)"
   ]
  },
  {
   "cell_type": "markdown",
   "metadata": {},
   "source": [
    "<h3>Exercise 3.11.4</h3>\n",
    "<blockquote>\n",
    "    <i>For the regression of $Y$ onto $X$ without an intercept, the $t$-statistic for $H_0:\\beta = 0$ takes the form $\\hat{\\beta} / \\mathrm{SE}(\\hat{\\beta})$, where $\\hat{\\beta}$ is given by [equation] (3.38), and where\n",
    "        $$\n",
    "            \\mathrm{SE}(\\hat{\\beta}) = \\sqrt{\\frac{\\sum_{i=1}^n \\left(y_i - x_i \\hat{\\beta}\\right)^2}{(n-1)\\sum_{i'=1}^n x_{i'}^2}} \\,.\n",
    "        $$\n",
    "        (These formulas are slightly different from those given in Sections 3.1.1 and 3.1.2, since here we are performing regression without an intercept.) Show algebraically, and confirm numerically in R , that the $t$-statistic can be written as\n",
    "        $$\n",
    "            \\frac{ (\\sqrt{n-1}) \\sum_{i=1}^n x_i y_i }{ \\sqrt{ (\\sum_{i=1}^n x_i^2) (\\sum_{i'=1}^n y_{i'}^2) - (\\sum_{i'=1}^n x_{i'} y_{i'})^2 } } \\,.\n",
    "        $$</i>\n",
    "</blockquote>\n",
    "\n",
    "<p>Note that equation (3.38) is given by\n",
    "$$\n",
    "     \\hat{\\beta} = \\frac{\\sum_{i=1}^n x_i y_i}{\\sum_{i'=1}^n x_{i'}^2} \\,.\n",
    "$$\n",
    "Thus, we can write the $t$-statistic as\n",
    "\\begin{equation}\n",
    "    \\begin{aligned}\n",
    "        t & =  \\frac{\\sum_{i=1}^n x_i y_i}{\\sum_{i=1}^n x_{i}^2} \\sqrt{\\frac{(n-1)\\sum_{i=1}^n x_{i}^2}{\\sum_{i=1}^n \\left(y_i - x_i \\hat{\\beta}\\right)^2}} \\\\&\n",
    "          = \\frac{\\sqrt{n-1} \\sum_{i=1}^n x_i y_i}{ \\sqrt{ \\sum_{i=1}^n x_i^2 \\sum_{i=1}^n \\left(y_i - x_i \\hat{\\beta}\\right)^2 } } \\\\&\n",
    "          = \\frac{\\sqrt{n-1} \\sum_{i=1}^n x_i y_i}{ \\sqrt{ \\sum_{i=1}^n x_i^2 \\sum_{i=1}^n \\left( y_i^2 - 2 \\hat{\\beta} x_i y_i + \\hat{\\beta} x_i^2 \\right) } } \\\\&\n",
    "          = \\frac{\\sqrt{n-1} \\sum_{i=1}^n x_i y_i}{\\sqrt{ \\sum_{i=1}^n x_i^2 \\sum_{i=1}^n y_i^2 - \\hat{\\beta} \\sum_{i=1}^n x_i^2 \\left( 2 \\sum_{i=1}^n x_i y_i - \\hat{\\beta} \\sum_{i=1}^n x_i^2 \\right) }} \\,.\n",
    "    \\end{aligned}\n",
    "\\end{equation}\n",
    "Now, using the estimate for $\\hat{\\beta}$ given by equation (3.38) to further simply the expression for the $t$-statistic\n",
    "\\begin{equation}\n",
    "    \\begin{aligned}\n",
    "        t & = \\frac{\\sqrt{n-1} \\sum_{i=1}^n x_i y_i}{\\sqrt{ \\sum_{i=1}^n x_i^2 \\sum_{i=1}^n y_i^2 - \\sum_{i=1}^n x_i y_i \\left( 2 \\sum_{i=1}^n x_i y_i - \\sum_{i=1}^n x_i y_i \\right) }} \\\\&\n",
    "          = \\frac{ (\\sqrt{n-1}) \\sum_{i=1}^n x_i y_i }{ \\sqrt{ (\\sum_{i=1}^n x_i^2) (\\sum_{i'=1}^n y_{i'}^2) - (\\sum_{i'=1}^n x_{i'} y_{i'})^2 } } \\,.\n",
    "    \\end{aligned}\n",
    "\\end{equation}\n",
    "as required. We will now also confirm this equation using Python.</p>"
   ]
  },
  {
   "cell_type": "code",
   "execution_count": 6,
   "metadata": {},
   "outputs": [],
   "source": [
    "n = x_np.shape[0]\n",
    "t = ( (n-1)**0.5 * np.sum(x_np*y_np) ) / ( np.sum(x_np**2) * np.sum(y_np**2) - (np.sum(x_np*y_np))**2  )**0.5\n",
    "# assert that this result is equal to the t-statistics computer for the above two regressions\n",
    "assert abs(t - t_stat_result1) <= 1e-10\n",
    "assert abs(t - t_stat_result2) <= 1e-10"
   ]
  },
  {
   "cell_type": "markdown",
   "metadata": {},
   "source": [
    "<h3>Exercise 3.11.5</h3>\n",
    "<blockquote>\n",
    "    <i>Using the results from 4, argue that the $t$-statistic for the regression of $y$ onto $x$ is the same as the $t$-statistic for the regression of $x$ onto $y$.</i>\n",
    "</blockquote>\n",
    "\n",
    "<p>We can clearly see from the formula of the $t$-statistic that it is a symmetric function of the $x_i$ and $y_i$ variables.</p>\n",
    "\n",
    "<h3>Exercise 3.11.6</h3>\n",
    "<blockquote>\n",
    "    <i>In R, show that when regression is performed <i>with</i> an intercept, the $t$-statistic for $H_0:\\beta_1 = 0$ is the same for the regression of $y$ onto $x$ as it is for the regression of $x$ onto $y$.</i>\n",
    "</blockquote>\n"
   ]
  },
  {
   "cell_type": "code",
   "execution_count": 7,
   "metadata": {},
   "outputs": [],
   "source": [
    "x.insert(0, 'Intercept', 1)\n",
    "y.insert(0, 'Intercept', 1)"
   ]
  },
  {
   "cell_type": "code",
   "execution_count": 8,
   "metadata": {},
   "outputs": [
    {
     "data": {
      "text/html": [
       "<table class=\"simpletable\">\n",
       "<caption>OLS Regression Results</caption>\n",
       "<tr>\n",
       "  <th>Dep. Variable:</th>            <td>y</td>        <th>  R-squared:         </th> <td>   0.090</td>\n",
       "</tr>\n",
       "<tr>\n",
       "  <th>Model:</th>                   <td>OLS</td>       <th>  Adj. R-squared:    </th> <td>   0.080</td>\n",
       "</tr>\n",
       "<tr>\n",
       "  <th>Method:</th>             <td>Least Squares</td>  <th>  F-statistic:       </th> <td>   9.646</td>\n",
       "</tr>\n",
       "<tr>\n",
       "  <th>Date:</th>             <td>Tue, 31 Dec 2019</td> <th>  Prob (F-statistic):</th>  <td>0.00248</td>\n",
       "</tr>\n",
       "<tr>\n",
       "  <th>Time:</th>                 <td>10:14:46</td>     <th>  Log-Likelihood:    </th> <td> -207.04</td>\n",
       "</tr>\n",
       "<tr>\n",
       "  <th>No. Observations:</th>      <td>   100</td>      <th>  AIC:               </th> <td>   418.1</td>\n",
       "</tr>\n",
       "<tr>\n",
       "  <th>Df Residuals:</th>          <td>    98</td>      <th>  BIC:               </th> <td>   423.3</td>\n",
       "</tr>\n",
       "<tr>\n",
       "  <th>Df Model:</th>              <td>     1</td>      <th>                     </th>     <td> </td>   \n",
       "</tr>\n",
       "<tr>\n",
       "  <th>Covariance Type:</th>      <td>nonrobust</td>    <th>                     </th>     <td> </td>   \n",
       "</tr>\n",
       "</table>\n",
       "<table class=\"simpletable\">\n",
       "<tr>\n",
       "      <td></td>         <th>coef</th>     <th>std err</th>      <th>t</th>      <th>P>|t|</th>  <th>[0.025</th>    <th>0.975]</th>  \n",
       "</tr>\n",
       "<tr>\n",
       "  <th>Intercept</th> <td>   -0.1694</td> <td>    0.195</td> <td>   -0.869</td> <td> 0.387</td> <td>   -0.556</td> <td>    0.218</td>\n",
       "</tr>\n",
       "<tr>\n",
       "  <th>x</th>         <td>    0.6660</td> <td>    0.214</td> <td>    3.106</td> <td> 0.002</td> <td>    0.240</td> <td>    1.092</td>\n",
       "</tr>\n",
       "</table>\n",
       "<table class=\"simpletable\">\n",
       "<tr>\n",
       "  <th>Omnibus:</th>       <td>52.225</td> <th>  Durbin-Watson:     </th> <td>   2.056</td>\n",
       "</tr>\n",
       "<tr>\n",
       "  <th>Prob(Omnibus):</th> <td> 0.000</td> <th>  Jarque-Bera (JB):  </th> <td> 274.819</td>\n",
       "</tr>\n",
       "<tr>\n",
       "  <th>Skew:</th>          <td>-1.581</td> <th>  Prob(JB):          </th> <td>2.11e-60</td>\n",
       "</tr>\n",
       "<tr>\n",
       "  <th>Kurtosis:</th>      <td>10.481</td> <th>  Cond. No.          </th> <td>    1.16</td>\n",
       "</tr>\n",
       "</table><br/><br/>Warnings:<br/>[1] Standard Errors assume that the covariance matrix of the errors is correctly specified."
      ],
      "text/plain": [
       "<class 'statsmodels.iolib.summary.Summary'>\n",
       "\"\"\"\n",
       "                            OLS Regression Results                            \n",
       "==============================================================================\n",
       "Dep. Variable:                      y   R-squared:                       0.090\n",
       "Model:                            OLS   Adj. R-squared:                  0.080\n",
       "Method:                 Least Squares   F-statistic:                     9.646\n",
       "Date:                Tue, 31 Dec 2019   Prob (F-statistic):            0.00248\n",
       "Time:                        10:14:46   Log-Likelihood:                -207.04\n",
       "No. Observations:                 100   AIC:                             418.1\n",
       "Df Residuals:                      98   BIC:                             423.3\n",
       "Df Model:                           1                                         \n",
       "Covariance Type:            nonrobust                                         \n",
       "==============================================================================\n",
       "                 coef    std err          t      P>|t|      [0.025      0.975]\n",
       "------------------------------------------------------------------------------\n",
       "Intercept     -0.1694      0.195     -0.869      0.387      -0.556       0.218\n",
       "x              0.6660      0.214      3.106      0.002       0.240       1.092\n",
       "==============================================================================\n",
       "Omnibus:                       52.225   Durbin-Watson:                   2.056\n",
       "Prob(Omnibus):                  0.000   Jarque-Bera (JB):              274.819\n",
       "Skew:                          -1.581   Prob(JB):                     2.11e-60\n",
       "Kurtosis:                      10.481   Cond. No.                         1.16\n",
       "==============================================================================\n",
       "\n",
       "Warnings:\n",
       "[1] Standard Errors assume that the covariance matrix of the errors is correctly specified.\n",
       "\"\"\""
      ]
     },
     "execution_count": 8,
     "metadata": {},
     "output_type": "execute_result"
    }
   ],
   "source": [
    "model = sm.OLS(y[['y']], x)\n",
    "fitted = model.fit()\n",
    "fitted.summary()"
   ]
  },
  {
   "cell_type": "code",
   "execution_count": 9,
   "metadata": {},
   "outputs": [
    {
     "data": {
      "text/html": [
       "<table class=\"simpletable\">\n",
       "<caption>OLS Regression Results</caption>\n",
       "<tr>\n",
       "  <th>Dep. Variable:</th>            <td>x</td>        <th>  R-squared:         </th> <td>   0.090</td>\n",
       "</tr>\n",
       "<tr>\n",
       "  <th>Model:</th>                   <td>OLS</td>       <th>  Adj. R-squared:    </th> <td>   0.080</td>\n",
       "</tr>\n",
       "<tr>\n",
       "  <th>Method:</th>             <td>Least Squares</td>  <th>  F-statistic:       </th> <td>   9.646</td>\n",
       "</tr>\n",
       "<tr>\n",
       "  <th>Date:</th>             <td>Tue, 31 Dec 2019</td> <th>  Prob (F-statistic):</th>  <td>0.00248</td>\n",
       "</tr>\n",
       "<tr>\n",
       "  <th>Time:</th>                 <td>10:14:46</td>     <th>  Log-Likelihood:    </th> <td> -127.06</td>\n",
       "</tr>\n",
       "<tr>\n",
       "  <th>No. Observations:</th>      <td>   100</td>      <th>  AIC:               </th> <td>   258.1</td>\n",
       "</tr>\n",
       "<tr>\n",
       "  <th>Df Residuals:</th>          <td>    98</td>      <th>  BIC:               </th> <td>   263.3</td>\n",
       "</tr>\n",
       "<tr>\n",
       "  <th>Df Model:</th>              <td>     1</td>      <th>                     </th>     <td> </td>   \n",
       "</tr>\n",
       "<tr>\n",
       "  <th>Covariance Type:</th>      <td>nonrobust</td>    <th>                     </th>     <td> </td>   \n",
       "</tr>\n",
       "</table>\n",
       "<table class=\"simpletable\">\n",
       "<tr>\n",
       "      <td></td>         <th>coef</th>     <th>std err</th>      <th>t</th>      <th>P>|t|</th>  <th>[0.025</th>    <th>0.975]</th>  \n",
       "</tr>\n",
       "<tr>\n",
       "  <th>Intercept</th> <td>   -0.0717</td> <td>    0.088</td> <td>   -0.818</td> <td> 0.415</td> <td>   -0.246</td> <td>    0.102</td>\n",
       "</tr>\n",
       "<tr>\n",
       "  <th>y</th>         <td>    0.1345</td> <td>    0.043</td> <td>    3.106</td> <td> 0.002</td> <td>    0.049</td> <td>    0.221</td>\n",
       "</tr>\n",
       "</table>\n",
       "<table class=\"simpletable\">\n",
       "<tr>\n",
       "  <th>Omnibus:</th>       <td> 0.576</td> <th>  Durbin-Watson:     </th> <td>   2.083</td>\n",
       "</tr>\n",
       "<tr>\n",
       "  <th>Prob(Omnibus):</th> <td> 0.750</td> <th>  Jarque-Bera (JB):  </th> <td>   0.214</td>\n",
       "</tr>\n",
       "<tr>\n",
       "  <th>Skew:</th>          <td>-0.063</td> <th>  Prob(JB):          </th> <td>   0.898</td>\n",
       "</tr>\n",
       "<tr>\n",
       "  <th>Kurtosis:</th>      <td> 3.189</td> <th>  Cond. No.          </th> <td>    2.05</td>\n",
       "</tr>\n",
       "</table><br/><br/>Warnings:<br/>[1] Standard Errors assume that the covariance matrix of the errors is correctly specified."
      ],
      "text/plain": [
       "<class 'statsmodels.iolib.summary.Summary'>\n",
       "\"\"\"\n",
       "                            OLS Regression Results                            \n",
       "==============================================================================\n",
       "Dep. Variable:                      x   R-squared:                       0.090\n",
       "Model:                            OLS   Adj. R-squared:                  0.080\n",
       "Method:                 Least Squares   F-statistic:                     9.646\n",
       "Date:                Tue, 31 Dec 2019   Prob (F-statistic):            0.00248\n",
       "Time:                        10:14:46   Log-Likelihood:                -127.06\n",
       "No. Observations:                 100   AIC:                             258.1\n",
       "Df Residuals:                      98   BIC:                             263.3\n",
       "Df Model:                           1                                         \n",
       "Covariance Type:            nonrobust                                         \n",
       "==============================================================================\n",
       "                 coef    std err          t      P>|t|      [0.025      0.975]\n",
       "------------------------------------------------------------------------------\n",
       "Intercept     -0.0717      0.088     -0.818      0.415      -0.246       0.102\n",
       "y              0.1345      0.043      3.106      0.002       0.049       0.221\n",
       "==============================================================================\n",
       "Omnibus:                        0.576   Durbin-Watson:                   2.083\n",
       "Prob(Omnibus):                  0.750   Jarque-Bera (JB):                0.214\n",
       "Skew:                          -0.063   Prob(JB):                        0.898\n",
       "Kurtosis:                       3.189   Cond. No.                         2.05\n",
       "==============================================================================\n",
       "\n",
       "Warnings:\n",
       "[1] Standard Errors assume that the covariance matrix of the errors is correctly specified.\n",
       "\"\"\""
      ]
     },
     "execution_count": 9,
     "metadata": {},
     "output_type": "execute_result"
    }
   ],
   "source": [
    "model = sm.OLS(x[['x']], y)\n",
    "fitted = model.fit()\n",
    "fitted.summary()"
   ]
  },
  {
   "cell_type": "markdown",
   "metadata": {},
   "source": [
    "<p>We see that both models have the same $t$-statistic for the estimate of slope coefficient.</p>"
   ]
  }
 ],
 "metadata": {
  "kernelspec": {
   "display_name": "Python 3",
   "language": "python",
   "name": "python3"
  },
  "language_info": {
   "codemirror_mode": {
    "name": "ipython",
    "version": 3
   },
   "file_extension": ".py",
   "mimetype": "text/x-python",
   "name": "python",
   "nbconvert_exporter": "python",
   "pygments_lexer": "ipython3",
   "version": "3.7.5"
  }
 },
 "nbformat": 4,
 "nbformat_minor": 2
}
