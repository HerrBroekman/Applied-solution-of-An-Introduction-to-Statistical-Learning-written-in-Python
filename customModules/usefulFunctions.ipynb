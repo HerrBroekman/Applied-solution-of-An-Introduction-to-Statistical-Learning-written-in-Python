{
 "cells": [
  {
   "cell_type": "code",
   "execution_count": null,
   "metadata": {},
   "outputs": [],
   "source": [
    "def getColumnsToDropFromDataFrame(df, columnsToKeep):\n",
    "    \"\"\"\n",
    "    Return a list of columns names that can be used to delete those column\n",
    "    from the given DataFrame.\n",
    "    \n",
    "    Args:\n",
    "        df: pandas.core.frame.DataFrame\n",
    "            The DataFrame used to produce the list of column names.\n",
    "\n",
    "    Returns:\n",
    "        list: The aforementioned column names.\n",
    "    \"\"\"\n",
    "    columns = df.columns.tolist()\n",
    "    for column in columnsToKeep:\n",
    "        columns.remove(column)\n",
    "        \n",
    "    return columns"
   ]
  }
 ],
 "metadata": {
  "kernelspec": {
   "display_name": "Python 3",
   "language": "python",
   "name": "python3"
  },
  "language_info": {
   "codemirror_mode": {
    "name": "ipython",
    "version": 3
   },
   "file_extension": ".py",
   "mimetype": "text/x-python",
   "name": "python",
   "nbconvert_exporter": "python",
   "pygments_lexer": "ipython3",
   "version": "3.7.5"
  }
 },
 "nbformat": 4,
 "nbformat_minor": 2
}
