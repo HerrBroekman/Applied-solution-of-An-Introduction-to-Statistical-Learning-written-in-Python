{
 "cells": [
  {
   "cell_type": "code",
   "execution_count": 1,
   "metadata": {},
   "outputs": [],
   "source": [
    "from sklearn import preprocessing"
   ]
  },
  {
   "cell_type": "code",
   "execution_count": 2,
   "metadata": {},
   "outputs": [],
   "source": [
    "def removeColumnsFromList(df, columnsToRemove):\n",
    "    \"\"\"\n",
    "    Return a list of columns names excluding the names in the list \n",
    "    `columnsToKeep`.\n",
    "    \n",
    "    Args:\n",
    "        df: pandas.core.frame.DataFrame\n",
    "            The DataFrame used to produce the list of column names. \n",
    "        \n",
    "        columnsToRemove: iterable\n",
    "            An iterable object that has the names as elements that\n",
    "            will be excluded from the returned list.\n",
    "    Returns:\n",
    "        list: The aforementioned column names.\n",
    "    \"\"\"\n",
    "    columns = df.columns.tolist()\n",
    "    for column in columnsToRemove:\n",
    "        columns.remove(column)\n",
    "        \n",
    "    return columns"
   ]
  },
  {
   "cell_type": "markdown",
   "metadata": {},
   "source": [
    "<p>We could easily reproduce these type of plots <a href=\"https://www.statsmodels.org/dev/examples/notebooks/generated/regression_plots.html\">very closely</a>, with <a href=\"http://www.statsmodels.org/dev/examples/notebooks/generated/regression_diagnostics.html\">additional regression diagnostics</a>, using the <code>statsmodels</code> library, however I would like to have more control, so I decided to plot most of them manually using <code>matplotlib</code>."
   ]
  },
  {
   "cell_type": "code",
   "execution_count": 3,
   "metadata": {},
   "outputs": [],
   "source": [
    "def createResidualPlots(X, Y, width=7, height=3):\n",
    "    \"\"\"\n",
    "    This function returns various residual plots for the fitted model.\n",
    "    \n",
    "    For simple linear regressions, the first two plots are plots of the \n",
    "    residuals and the square root of the absolute standardized residuals\n",
    "    vs the predictor. For the multiple regression fit, we instead plots \n",
    "    the residuals and the square root of the absolute standardized \n",
    "    residuals vs the fitted values. The third plot is a QQ plot of the\n",
    "    quantiles of the standardized residuals vs the quantiles of the \n",
    "    normal distribution, and a 45-degree reference line is also plotted \n",
    "    for comparison (see also \n",
    "    https://seankross.com/2016/02/29/A-Q-Q-Plot-Dissection-Kit.html). The \n",
    "    final plot is a leverage plot of the standardized residuals.\n",
    "    \n",
    "    Args:\n",
    "        X: pandas.core.frame.DataFrame\n",
    "            The DataFrame should hold the data of independent variables\n",
    "            (including a column for the 'Intercept' set equal to one).\n",
    "            Each row in the DataFrame represents an individual sample \n",
    "            point, with the successive columns corresponding to the \n",
    "            independent variables and their specific values for that \n",
    "            sample point. \n",
    "        Y: pandas.core.frame.DataFrame or pandas.core.series.Series\n",
    "            This should be a pandas Series of DataFrame of one column,\n",
    "            which holds the data of the dependent variable.\n",
    "        width: float, default 15\n",
    "            The width of each subplot.\n",
    "        height: float, default 4\n",
    "            The height of each subplot.\n",
    "    \"\"\" \n",
    "    columns_dependent_var = X.columns.values.tolist()\n",
    "    columns_dependent_var.remove('Intercept')\n",
    "    assert len(columns_dependent_var) >= 1, f'columns_dependent_var = {columns_dependent_var}'\n",
    "    approach = 'simple' if len(columns_dependent_var) == 1 else 'multivariable'\n",
    "    \n",
    "    Y_hat = fitted.predict(X)\n",
    "    residual = np.squeeze(Y.to_numpy()) - Y_hat\n",
    "    standardized_residual = preprocessing.scale(residual)\n",
    "    \n",
    "    X_np = X.to_numpy()\n",
    "    H = X_np @ np.linalg.inv(X_np.transpose() @ X_np) @ X_np.transpose()\n",
    "    leverage = H.diagonal() \n",
    "    \n",
    "    numberOfSubplots = 4\n",
    "    fig, axes = plt.subplots(numberOfSubplots, 1, constrained_layout=True, figsize=(width, height*numberOfSubplots))\n",
    "    if approach == 'simple':\n",
    "        descriptive = columns_dependent_var[0]\n",
    "        X_plot = X[descriptive]\n",
    "    else:\n",
    "        descriptive = 'fitted values'\n",
    "        X_plot = Y_hat\n",
    "    \n",
    "    _ = axes[0].scatter(x=X_plot, y=residual)\n",
    "    _ = axes[0].set_xlabel(descriptive)\n",
    "    _ = axes[0].set_ylabel('residuals')\n",
    "    _ = axes[0].set_title(f'residual plot for the linear regression')\n",
    "    \n",
    "    _ = axes[1].scatter(x=X_plot, y=np.absolute(standardized_residual)**0.5)\n",
    "    _ = axes[1].set_xlabel(descriptive)\n",
    "    _ = axes[1].set_ylabel(r'$\\sqrt{\\left|\\mathrm{standardized \\,\\,\\, residuals}\\right|}$')\n",
    "    _ = axes[1].set_title(r'$\\sqrt{\\left|\\mathrm{standardized \\,\\,\\, residuals}\\right|}$ for the linear regression')\n",
    "    \n",
    "    _ = sm.qqplot(standardized_residual, line='45', c=None, ax=axes[2])\n",
    "    _ = axes[2].set_xlabel('theoretical qunatiles')\n",
    "    _ = axes[2].set_ylabel('standardized residuals')\n",
    "    _ = axes[2].set_title('normal qq plot')\n",
    "    \n",
    "    _ = axes[3].scatter(x=leverage, y=standardized_residual)\n",
    "    _ = axes[3].set_xlabel('leverage')\n",
    "    _ = axes[3].set_ylabel('standardized residuals')\n",
    "    _ = axes[3].set_title(f'standardized residuals vs leverage')"
   ]
  }
 ],
 "metadata": {
  "kernelspec": {
   "display_name": "Python 3",
   "language": "python",
   "name": "python3"
  },
  "language_info": {
   "codemirror_mode": {
    "name": "ipython",
    "version": 3
   },
   "file_extension": ".py",
   "mimetype": "text/x-python",
   "name": "python",
   "nbconvert_exporter": "python",
   "pygments_lexer": "ipython3",
   "version": "3.7.5"
  }
 },
 "nbformat": 4,
 "nbformat_minor": 2
}
