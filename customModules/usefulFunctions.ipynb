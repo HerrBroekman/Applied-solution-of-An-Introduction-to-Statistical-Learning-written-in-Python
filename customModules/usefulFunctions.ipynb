{
 "cells": [
  {
   "cell_type": "code",
   "execution_count": 1,
   "metadata": {},
   "outputs": [],
   "source": [
    "from sklearn import preprocessing"
   ]
  },
  {
   "cell_type": "code",
   "execution_count": 2,
   "metadata": {},
   "outputs": [],
   "source": [
    "def removeColumnsFromList(df, columnsToRemove):\n",
    "    \"\"\"\n",
    "    Return a list of columns names excluding the names in the list `columnsToKeep`.\n",
    "    \n",
    "    Args:\n",
    "        df: pandas.core.frame.DataFrame\n",
    "            The DataFrame used to produce the list of column names.\n",
    "        \n",
    "        columnsToRemove: iterable\n",
    "            An iterable object that has the names as elements that\n",
    "            will be excluded from the returned list.\n",
    "    Returns:\n",
    "        list: The aforementioned column names.\n",
    "    \"\"\"\n",
    "    columns = df.columns.tolist()\n",
    "    for column in columnsToRemove:\n",
    "        columns.remove(column)\n",
    "        \n",
    "    return columns"
   ]
  },
  {
   "cell_type": "code",
   "execution_count": 3,
   "metadata": {},
   "outputs": [],
   "source": [
    "def createResidualPlots(X, Y, descriptive, approach='simple', width=7, height=3):\n",
    "    approach = 'simple' if len(descriptive) == 1 else 'multivariable'\n",
    "    Y_hat = fitted.predict(X)\n",
    "    residual = np.squeeze(Y.to_numpy()) - Y_hat\n",
    "    standardized_residual = preprocessing.scale(residual)\n",
    "    numberOfSubplots = 4\n",
    "    fig, axes = plt.subplots(numberOfSubplots, 1, constrained_layout=True, figsize=(width, height*numberOfSubplots))\n",
    "    if approach == 'simple':\n",
    "        descriptiveVar = descriptive[0]\n",
    "        X_plot = X[descriptiveVar]\n",
    "        X_mean = np.mean(X[descriptiveVar])\n",
    "        total_variance = np.sum((X[descriptiveVar]-X_mean)**2)\n",
    "        n = X.shape[0]\n",
    "        leverage = (1/n) + (X[descriptiveVar]-X_mean)**2 / total_variance\n",
    "    else:\n",
    "        descriptiveVar = 'fitted values'\n",
    "        X_plot = Y_hat\n",
    "    \n",
    "    _ = axes[0].scatter(x=X_plot, y=residual)\n",
    "    _ = axes[0].set_xlabel(descriptiveVar)\n",
    "    _ = axes[0].set_ylabel('residuals')\n",
    "    _ = axes[0].set_title(f'residual plot for the {approach} linear regression')\n",
    "    \n",
    "    _ = axes[1].scatter(x=X_plot, y=np.absolute(standardized_residual)**0.5)\n",
    "    _ = axes[1].set_xlabel(descriptiveVar)\n",
    "    _ = axes[1].set_ylabel(r'$\\sqrt{\\left|\\mathrm{standardized \\,\\,\\, residuals}\\right|}$')\n",
    "    _ = axes[1].set_title(r'$\\sqrt{\\left|\\mathrm{standardized \\,\\,\\, residuals}\\right|}$ for the linear regression')\n",
    "    \n",
    "    _ = sm.qqplot(standardized_residual, line='45', c=None, ax=axes[2])\n",
    "    _ = axes[2].set_xlabel('theoretical qunatiles')\n",
    "    _ = axes[2].set_ylabel('standardized residuals')\n",
    "    _ = axes[2].set_title('normal qq plot')\n",
    "    \n",
    "    _ = axes[3].scatter(x=leverage, y=standardized_residual)\n",
    "    _ = axes[3].set_xlabel('leverage')\n",
    "    _ = axes[3].set_ylabel('standardized residuals')\n",
    "    _ = axes[3].set_title(f'standardized residuals vs leverage')"
   ]
  },
  {
   "cell_type": "code",
   "execution_count": null,
   "metadata": {},
   "outputs": [],
   "source": []
  }
 ],
 "metadata": {
  "kernelspec": {
   "display_name": "Python 3",
   "language": "python",
   "name": "python3"
  },
  "language_info": {
   "codemirror_mode": {
    "name": "ipython",
    "version": 3
   },
   "file_extension": ".py",
   "mimetype": "text/x-python",
   "name": "python",
   "nbconvert_exporter": "python",
   "pygments_lexer": "ipython3",
   "version": "3.7.5"
  }
 },
 "nbformat": 4,
 "nbformat_minor": 2
}
