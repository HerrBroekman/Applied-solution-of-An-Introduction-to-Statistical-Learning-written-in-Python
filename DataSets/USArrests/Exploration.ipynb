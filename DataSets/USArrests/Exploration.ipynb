{
 "cells": [
  {
   "cell_type": "markdown",
   "metadata": {},
   "source": [
    "<h1>Data Exploration</h1>\n",
    "<p>In this notebook we will perform a broad data exploration on the <code>USArrests</code> data set. Note that the aim of this exploration is not to be completely thorough; instead we would like to gain quick insights to help develop a first prototype. Upon analyzing the output of the prototype, we can analyze the data further to gain more insight.</p>"
   ]
  },
  {
   "cell_type": "code",
   "execution_count": 1,
   "metadata": {
    "ExecuteTime": {
     "end_time": "2020-03-21T20:01:11.563373Z",
     "start_time": "2020-03-21T20:01:11.059727Z"
    }
   },
   "outputs": [],
   "source": [
    "import pandas as pd\n",
    "import numpy as np\n",
    "import matplotlib.pyplot as plt\n",
    "\n",
    "%run ../../customModules/DataQualityReports.ipynb\n",
    "# https://stackoverflow.com/questions/34398054/ipython-notebook-cell-multiple-outputs\n",
    "from IPython.core.interactiveshell import InteractiveShell\n",
    "InteractiveShell.ast_node_interactivity = \"all\""
   ]
  },
  {
   "cell_type": "markdown",
   "metadata": {},
   "source": [
    "<p>We first read the comma-separated values (csv) <code>USArrests</code> file into a pandas DataFrame. To get a feeling for the data we display the top five rows of the DataFrame using the <code>head()</code> method and we show how many rows and columns the DataFrame has by using the <code>shape</code> attribute. We also show the <code>dtypes</code> attribute, which returns a pandas Series with the data type of each column.</p>"
   ]
  },
  {
   "cell_type": "code",
   "execution_count": 2,
   "metadata": {
    "ExecuteTime": {
     "end_time": "2020-03-21T20:01:11.577774Z",
     "start_time": "2020-03-21T20:01:11.564737Z"
    }
   },
   "outputs": [
    {
     "data": {
      "text/html": [
       "<div>\n",
       "<style scoped>\n",
       "    .dataframe tbody tr th:only-of-type {\n",
       "        vertical-align: middle;\n",
       "    }\n",
       "\n",
       "    .dataframe tbody tr th {\n",
       "        vertical-align: top;\n",
       "    }\n",
       "\n",
       "    .dataframe thead th {\n",
       "        text-align: right;\n",
       "    }\n",
       "</style>\n",
       "<table border=\"1\" class=\"dataframe\">\n",
       "  <thead>\n",
       "    <tr style=\"text-align: right;\">\n",
       "      <th></th>\n",
       "      <th>Murder</th>\n",
       "      <th>Assault</th>\n",
       "      <th>UrbanPop</th>\n",
       "      <th>Rape</th>\n",
       "    </tr>\n",
       "  </thead>\n",
       "  <tbody>\n",
       "    <tr>\n",
       "      <th>Alabama</th>\n",
       "      <td>13.2</td>\n",
       "      <td>236</td>\n",
       "      <td>58</td>\n",
       "      <td>21.2</td>\n",
       "    </tr>\n",
       "    <tr>\n",
       "      <th>Alaska</th>\n",
       "      <td>10.0</td>\n",
       "      <td>263</td>\n",
       "      <td>48</td>\n",
       "      <td>44.5</td>\n",
       "    </tr>\n",
       "    <tr>\n",
       "      <th>Arizona</th>\n",
       "      <td>8.1</td>\n",
       "      <td>294</td>\n",
       "      <td>80</td>\n",
       "      <td>31.0</td>\n",
       "    </tr>\n",
       "    <tr>\n",
       "      <th>Arkansas</th>\n",
       "      <td>8.8</td>\n",
       "      <td>190</td>\n",
       "      <td>50</td>\n",
       "      <td>19.5</td>\n",
       "    </tr>\n",
       "    <tr>\n",
       "      <th>California</th>\n",
       "      <td>9.0</td>\n",
       "      <td>276</td>\n",
       "      <td>91</td>\n",
       "      <td>40.6</td>\n",
       "    </tr>\n",
       "  </tbody>\n",
       "</table>\n",
       "</div>"
      ],
      "text/plain": [
       "            Murder  Assault  UrbanPop  Rape\n",
       "Alabama       13.2      236        58  21.2\n",
       "Alaska        10.0      263        48  44.5\n",
       "Arizona        8.1      294        80  31.0\n",
       "Arkansas       8.8      190        50  19.5\n",
       "California     9.0      276        91  40.6"
      ]
     },
     "execution_count": 2,
     "metadata": {},
     "output_type": "execute_result"
    },
    {
     "data": {
      "text/plain": [
       "(50, 4)"
      ]
     },
     "execution_count": 2,
     "metadata": {},
     "output_type": "execute_result"
    },
    {
     "data": {
      "text/plain": [
       "Murder      float64\n",
       "Assault       int64\n",
       "UrbanPop      int64\n",
       "Rape        float64\n",
       "dtype: object"
      ]
     },
     "execution_count": 2,
     "metadata": {},
     "output_type": "execute_result"
    }
   ],
   "source": [
    "df = pd.read_csv(\"USArrests.csv\", index_col = 0)\n",
    "df.head()\n",
    "df.shape\n",
    "df.dtypes"
   ]
  },
  {
   "cell_type": "markdown",
   "metadata": {},
   "source": [
    "<p>Is appears that all the columns have the data type we would expect. We can perform another check to see if any values are missing in the DataFrame using its <code>isnull</code> method.</p>"
   ]
  },
  {
   "cell_type": "code",
   "execution_count": 3,
   "metadata": {
    "ExecuteTime": {
     "end_time": "2020-03-21T20:01:11.654491Z",
     "start_time": "2020-03-21T20:01:11.580021Z"
    }
   },
   "outputs": [
    {
     "data": {
      "text/html": [
       "<div>\n",
       "<style scoped>\n",
       "    .dataframe tbody tr th:only-of-type {\n",
       "        vertical-align: middle;\n",
       "    }\n",
       "\n",
       "    .dataframe tbody tr th {\n",
       "        vertical-align: top;\n",
       "    }\n",
       "\n",
       "    .dataframe thead th {\n",
       "        text-align: right;\n",
       "    }\n",
       "</style>\n",
       "<table border=\"1\" class=\"dataframe\">\n",
       "  <thead>\n",
       "    <tr style=\"text-align: right;\">\n",
       "      <th></th>\n",
       "      <th>Murder</th>\n",
       "      <th>Assault</th>\n",
       "      <th>UrbanPop</th>\n",
       "      <th>Rape</th>\n",
       "    </tr>\n",
       "  </thead>\n",
       "  <tbody>\n",
       "  </tbody>\n",
       "</table>\n",
       "</div>"
      ],
      "text/plain": [
       "Empty DataFrame\n",
       "Columns: [Murder, Assault, UrbanPop, Rape]\n",
       "Index: []"
      ]
     },
     "execution_count": 3,
     "metadata": {},
     "output_type": "execute_result"
    },
    {
     "data": {
      "text/plain": [
       "(0, 4)"
      ]
     },
     "execution_count": 3,
     "metadata": {},
     "output_type": "execute_result"
    }
   ],
   "source": [
    "df[df.isnull().any(axis=1)]\n",
    "df[df.isnull().any(axis=1)].shape"
   ]
  },
  {
   "cell_type": "markdown",
   "metadata": {},
   "source": [
    "<p>There are no obvious missing values in our data. So the next step to be able to produce the data quality reports with our custom <code>createDataQualityReports</code> function is to organize our DataFrame by quantitative and categorical variables using hierarchical indexing.</p>"
   ]
  },
  {
   "cell_type": "code",
   "execution_count": 4,
   "metadata": {
    "ExecuteTime": {
     "end_time": "2020-03-21T20:01:11.732746Z",
     "start_time": "2020-03-21T20:01:11.656665Z"
    }
   },
   "outputs": [
    {
     "data": {
      "text/html": [
       "<div>\n",
       "<style scoped>\n",
       "    .dataframe tbody tr th:only-of-type {\n",
       "        vertical-align: middle;\n",
       "    }\n",
       "\n",
       "    .dataframe tbody tr th {\n",
       "        vertical-align: top;\n",
       "    }\n",
       "\n",
       "    .dataframe thead tr th {\n",
       "        text-align: left;\n",
       "    }\n",
       "</style>\n",
       "<table border=\"1\" class=\"dataframe\">\n",
       "  <thead>\n",
       "    <tr>\n",
       "      <th>type of variable</th>\n",
       "      <th colspan=\"4\" halign=\"left\">quantitative</th>\n",
       "    </tr>\n",
       "    <tr>\n",
       "      <th>variable</th>\n",
       "      <th>Murder</th>\n",
       "      <th>Assault</th>\n",
       "      <th>UrbanPop</th>\n",
       "      <th>Rape</th>\n",
       "    </tr>\n",
       "  </thead>\n",
       "  <tbody>\n",
       "    <tr>\n",
       "      <th>Alabama</th>\n",
       "      <td>13.2</td>\n",
       "      <td>236</td>\n",
       "      <td>58</td>\n",
       "      <td>21.2</td>\n",
       "    </tr>\n",
       "    <tr>\n",
       "      <th>Alaska</th>\n",
       "      <td>10.0</td>\n",
       "      <td>263</td>\n",
       "      <td>48</td>\n",
       "      <td>44.5</td>\n",
       "    </tr>\n",
       "    <tr>\n",
       "      <th>Arizona</th>\n",
       "      <td>8.1</td>\n",
       "      <td>294</td>\n",
       "      <td>80</td>\n",
       "      <td>31.0</td>\n",
       "    </tr>\n",
       "    <tr>\n",
       "      <th>Arkansas</th>\n",
       "      <td>8.8</td>\n",
       "      <td>190</td>\n",
       "      <td>50</td>\n",
       "      <td>19.5</td>\n",
       "    </tr>\n",
       "    <tr>\n",
       "      <th>California</th>\n",
       "      <td>9.0</td>\n",
       "      <td>276</td>\n",
       "      <td>91</td>\n",
       "      <td>40.6</td>\n",
       "    </tr>\n",
       "  </tbody>\n",
       "</table>\n",
       "</div>"
      ],
      "text/plain": [
       "type of variable quantitative                       \n",
       "variable               Murder Assault UrbanPop  Rape\n",
       "Alabama                  13.2     236       58  21.2\n",
       "Alaska                   10.0     263       48  44.5\n",
       "Arizona                   8.1     294       80  31.0\n",
       "Arkansas                  8.8     190       50  19.5\n",
       "California                9.0     276       91  40.6"
      ]
     },
     "execution_count": 4,
     "metadata": {},
     "output_type": "execute_result"
    }
   ],
   "source": [
    "df.columns = pd.MultiIndex.from_tuples([('quantitative', 'Murder'), ('quantitative', 'Assault'),\n",
    "                                        ('quantitative', 'UrbanPop'), ('quantitative', 'Rape')],\n",
    "                                       names=['type of variable', 'variable'])\n",
    "df.head()"
   ]
  },
  {
   "cell_type": "markdown",
   "metadata": {},
   "source": [
    "<p>Now we can create the quantative data quality report.</p>"
   ]
  },
  {
   "cell_type": "code",
   "execution_count": 5,
   "metadata": {
    "ExecuteTime": {
     "end_time": "2020-03-21T20:01:11.822765Z",
     "start_time": "2020-03-21T20:01:11.734492Z"
    }
   },
   "outputs": [
    {
     "data": {
      "text/plain": [
       "'Quantitative Qualilty Report:'"
      ]
     },
     "execution_count": 5,
     "metadata": {},
     "output_type": "execute_result"
    },
    {
     "data": {
      "text/html": [
       "<div>\n",
       "<style scoped>\n",
       "    .dataframe tbody tr th:only-of-type {\n",
       "        vertical-align: middle;\n",
       "    }\n",
       "\n",
       "    .dataframe tbody tr th {\n",
       "        vertical-align: top;\n",
       "    }\n",
       "\n",
       "    .dataframe thead th {\n",
       "        text-align: right;\n",
       "    }\n",
       "</style>\n",
       "<table border=\"1\" class=\"dataframe\">\n",
       "  <thead>\n",
       "    <tr style=\"text-align: right;\">\n",
       "      <th></th>\n",
       "      <th>Count</th>\n",
       "      <th>Miss. (%)</th>\n",
       "      <th>Card.</th>\n",
       "      <th>Min.</th>\n",
       "      <th>1st Qrt.</th>\n",
       "      <th>Mean</th>\n",
       "      <th>Median</th>\n",
       "      <th>3rd Qrt.</th>\n",
       "      <th>Max.</th>\n",
       "      <th>Std. Dev.</th>\n",
       "    </tr>\n",
       "    <tr>\n",
       "      <th>variable</th>\n",
       "      <th></th>\n",
       "      <th></th>\n",
       "      <th></th>\n",
       "      <th></th>\n",
       "      <th></th>\n",
       "      <th></th>\n",
       "      <th></th>\n",
       "      <th></th>\n",
       "      <th></th>\n",
       "      <th></th>\n",
       "    </tr>\n",
       "  </thead>\n",
       "  <tbody>\n",
       "    <tr>\n",
       "      <th>Murder</th>\n",
       "      <td>50</td>\n",
       "      <td>0.0</td>\n",
       "      <td>43</td>\n",
       "      <td>0.8</td>\n",
       "      <td>4.08</td>\n",
       "      <td>7.79</td>\n",
       "      <td>7.25</td>\n",
       "      <td>11.25</td>\n",
       "      <td>17.4</td>\n",
       "      <td>4.36</td>\n",
       "    </tr>\n",
       "    <tr>\n",
       "      <th>Assault</th>\n",
       "      <td>50</td>\n",
       "      <td>0.0</td>\n",
       "      <td>45</td>\n",
       "      <td>45.0</td>\n",
       "      <td>109.00</td>\n",
       "      <td>170.76</td>\n",
       "      <td>159.00</td>\n",
       "      <td>249.00</td>\n",
       "      <td>337.0</td>\n",
       "      <td>83.34</td>\n",
       "    </tr>\n",
       "    <tr>\n",
       "      <th>UrbanPop</th>\n",
       "      <td>50</td>\n",
       "      <td>0.0</td>\n",
       "      <td>36</td>\n",
       "      <td>32.0</td>\n",
       "      <td>54.50</td>\n",
       "      <td>65.54</td>\n",
       "      <td>66.00</td>\n",
       "      <td>77.75</td>\n",
       "      <td>91.0</td>\n",
       "      <td>14.47</td>\n",
       "    </tr>\n",
       "    <tr>\n",
       "      <th>Rape</th>\n",
       "      <td>50</td>\n",
       "      <td>0.0</td>\n",
       "      <td>48</td>\n",
       "      <td>7.3</td>\n",
       "      <td>15.08</td>\n",
       "      <td>21.23</td>\n",
       "      <td>20.10</td>\n",
       "      <td>26.17</td>\n",
       "      <td>46.0</td>\n",
       "      <td>9.37</td>\n",
       "    </tr>\n",
       "  </tbody>\n",
       "</table>\n",
       "</div>"
      ],
      "text/plain": [
       "          Count  Miss. (%)  Card.  Min.  1st Qrt.    Mean  Median  3rd Qrt.  \\\n",
       "variable                                                                      \n",
       "Murder       50        0.0     43   0.8      4.08    7.79    7.25     11.25   \n",
       "Assault      50        0.0     45  45.0    109.00  170.76  159.00    249.00   \n",
       "UrbanPop     50        0.0     36  32.0     54.50   65.54   66.00     77.75   \n",
       "Rape         50        0.0     48   7.3     15.08   21.23   20.10     26.17   \n",
       "\n",
       "           Max.  Std. Dev.  \n",
       "variable                    \n",
       "Murder     17.4       4.36  \n",
       "Assault   337.0      83.34  \n",
       "UrbanPop   91.0      14.47  \n",
       "Rape       46.0       9.37  "
      ]
     },
     "execution_count": 5,
     "metadata": {},
     "output_type": "execute_result"
    }
   ],
   "source": [
    "df_qr_quantitative, df_qr_categorical = createDataQualityReports(df)\n",
    "'Quantitative Qualilty Report:'\n",
    "df_qr_quantitative.round(2)"
   ]
  },
  {
   "cell_type": "markdown",
   "metadata": {},
   "source": [
    "<p>To further gain insight into the data, we use the <code>plotQuantitativeVariables</code> function the produce the frequency plots for each (quantitative) variable.</p>"
   ]
  },
  {
   "cell_type": "code",
   "execution_count": 6,
   "metadata": {
    "ExecuteTime": {
     "end_time": "2020-03-21T20:01:12.918038Z",
     "start_time": "2020-03-21T20:01:11.825382Z"
    }
   },
   "outputs": [
    {
     "data": {
      "image/png": "[encoded data removed]",
      "text/plain": [
       "<Figure size 504x864 with 4 Axes>"
      ]
     },
     "metadata": {
      "needs_background": "light"
     },
     "output_type": "display_data"
    }
   ],
   "source": [
    "plotQuantitativeVariables(df.xs('quantitative', axis=1), height=3, width=7)"
   ]
  },
  {
   "cell_type": "markdown",
   "metadata": {},
   "source": [
    "<p>We also compute the correlation matrix of the variables.</p>"
   ]
  },
  {
   "cell_type": "code",
   "execution_count": 7,
   "metadata": {
    "ExecuteTime": {
     "end_time": "2020-03-21T20:01:13.361871Z",
     "start_time": "2020-03-21T20:01:12.919309Z"
    }
   },
   "outputs": [
    {
     "data": {
      "text/html": [
       "<style  type=\"text/css\" >\n",
       "    #T_b7656144_6bae_11ea_8e22_dd54af596120row0_col0 {\n",
       "            background-color:  #b40426;\n",
       "            color:  #f1f1f1;\n",
       "        }    #T_b7656144_6bae_11ea_8e22_dd54af596120row0_col1 {\n",
       "            background-color:  #f5a081;\n",
       "            color:  #000000;\n",
       "        }    #T_b7656144_6bae_11ea_8e22_dd54af596120row0_col2 {\n",
       "            background-color:  #3b4cc0;\n",
       "            color:  #f1f1f1;\n",
       "        }    #T_b7656144_6bae_11ea_8e22_dd54af596120row0_col3 {\n",
       "            background-color:  #90b2fe;\n",
       "            color:  #000000;\n",
       "        }    #T_b7656144_6bae_11ea_8e22_dd54af596120row1_col0 {\n",
       "            background-color:  #f08a6c;\n",
       "            color:  #000000;\n",
       "        }    #T_b7656144_6bae_11ea_8e22_dd54af596120row1_col1 {\n",
       "            background-color:  #b40426;\n",
       "            color:  #f1f1f1;\n",
       "        }    #T_b7656144_6bae_11ea_8e22_dd54af596120row1_col2 {\n",
       "            background-color:  #7da0f9;\n",
       "            color:  #000000;\n",
       "        }    #T_b7656144_6bae_11ea_8e22_dd54af596120row1_col3 {\n",
       "            background-color:  #cad8ef;\n",
       "            color:  #000000;\n",
       "        }    #T_b7656144_6bae_11ea_8e22_dd54af596120row2_col0 {\n",
       "            background-color:  #3b4cc0;\n",
       "            color:  #f1f1f1;\n",
       "        }    #T_b7656144_6bae_11ea_8e22_dd54af596120row2_col1 {\n",
       "            background-color:  #3b4cc0;\n",
       "            color:  #f1f1f1;\n",
       "        }    #T_b7656144_6bae_11ea_8e22_dd54af596120row2_col2 {\n",
       "            background-color:  #b40426;\n",
       "            color:  #f1f1f1;\n",
       "        }    #T_b7656144_6bae_11ea_8e22_dd54af596120row2_col3 {\n",
       "            background-color:  #3b4cc0;\n",
       "            color:  #f1f1f1;\n",
       "        }    #T_b7656144_6bae_11ea_8e22_dd54af596120row3_col0 {\n",
       "            background-color:  #e4d9d2;\n",
       "            color:  #000000;\n",
       "        }    #T_b7656144_6bae_11ea_8e22_dd54af596120row3_col1 {\n",
       "            background-color:  #e9d5cb;\n",
       "            color:  #000000;\n",
       "        }    #T_b7656144_6bae_11ea_8e22_dd54af596120row3_col2 {\n",
       "            background-color:  #b6cefa;\n",
       "            color:  #000000;\n",
       "        }    #T_b7656144_6bae_11ea_8e22_dd54af596120row3_col3 {\n",
       "            background-color:  #b40426;\n",
       "            color:  #f1f1f1;\n",
       "        }</style><table id=\"T_b7656144_6bae_11ea_8e22_dd54af596120\" ><thead>    <tr>        <th class=\"blank\" ></th>        <th class=\"index_name level0\" >type of variable</th>        <th class=\"col_heading level0 col0\" colspan=4>quantitative</th>    </tr>    <tr>        <th class=\"blank\" ></th>        <th class=\"index_name level1\" >variable</th>        <th class=\"col_heading level1 col0\" >Murder</th>        <th class=\"col_heading level1 col1\" >Assault</th>        <th class=\"col_heading level1 col2\" >UrbanPop</th>        <th class=\"col_heading level1 col3\" >Rape</th>    </tr>    <tr>        <th class=\"index_name level0\" >type of variable</th>        <th class=\"index_name level1\" >variable</th>        <th class=\"blank\" ></th>        <th class=\"blank\" ></th>        <th class=\"blank\" ></th>        <th class=\"blank\" ></th>    </tr></thead><tbody>\n",
       "                <tr>\n",
       "                        <th id=\"T_b7656144_6bae_11ea_8e22_dd54af596120level0_row0\" class=\"row_heading level0 row0\" rowspan=4>quantitative</th>\n",
       "                        <th id=\"T_b7656144_6bae_11ea_8e22_dd54af596120level1_row0\" class=\"row_heading level1 row0\" >Murder</th>\n",
       "                        <td id=\"T_b7656144_6bae_11ea_8e22_dd54af596120row0_col0\" class=\"data row0 col0\" >1</td>\n",
       "                        <td id=\"T_b7656144_6bae_11ea_8e22_dd54af596120row0_col1\" class=\"data row0 col1\" >0.8</td>\n",
       "                        <td id=\"T_b7656144_6bae_11ea_8e22_dd54af596120row0_col2\" class=\"data row0 col2\" >0.07</td>\n",
       "                        <td id=\"T_b7656144_6bae_11ea_8e22_dd54af596120row0_col3\" class=\"data row0 col3\" >0.56</td>\n",
       "            </tr>\n",
       "            <tr>\n",
       "                                <th id=\"T_b7656144_6bae_11ea_8e22_dd54af596120level1_row1\" class=\"row_heading level1 row1\" >Assault</th>\n",
       "                        <td id=\"T_b7656144_6bae_11ea_8e22_dd54af596120row1_col0\" class=\"data row1 col0\" >0.8</td>\n",
       "                        <td id=\"T_b7656144_6bae_11ea_8e22_dd54af596120row1_col1\" class=\"data row1 col1\" >1</td>\n",
       "                        <td id=\"T_b7656144_6bae_11ea_8e22_dd54af596120row1_col2\" class=\"data row1 col2\" >0.26</td>\n",
       "                        <td id=\"T_b7656144_6bae_11ea_8e22_dd54af596120row1_col3\" class=\"data row1 col3\" >0.67</td>\n",
       "            </tr>\n",
       "            <tr>\n",
       "                                <th id=\"T_b7656144_6bae_11ea_8e22_dd54af596120level1_row2\" class=\"row_heading level1 row2\" >UrbanPop</th>\n",
       "                        <td id=\"T_b7656144_6bae_11ea_8e22_dd54af596120row2_col0\" class=\"data row2 col0\" >0.07</td>\n",
       "                        <td id=\"T_b7656144_6bae_11ea_8e22_dd54af596120row2_col1\" class=\"data row2 col1\" >0.26</td>\n",
       "                        <td id=\"T_b7656144_6bae_11ea_8e22_dd54af596120row2_col2\" class=\"data row2 col2\" >1</td>\n",
       "                        <td id=\"T_b7656144_6bae_11ea_8e22_dd54af596120row2_col3\" class=\"data row2 col3\" >0.41</td>\n",
       "            </tr>\n",
       "            <tr>\n",
       "                                <th id=\"T_b7656144_6bae_11ea_8e22_dd54af596120level1_row3\" class=\"row_heading level1 row3\" >Rape</th>\n",
       "                        <td id=\"T_b7656144_6bae_11ea_8e22_dd54af596120row3_col0\" class=\"data row3 col0\" >0.56</td>\n",
       "                        <td id=\"T_b7656144_6bae_11ea_8e22_dd54af596120row3_col1\" class=\"data row3 col1\" >0.67</td>\n",
       "                        <td id=\"T_b7656144_6bae_11ea_8e22_dd54af596120row3_col2\" class=\"data row3 col2\" >0.41</td>\n",
       "                        <td id=\"T_b7656144_6bae_11ea_8e22_dd54af596120row3_col3\" class=\"data row3 col3\" >1</td>\n",
       "            </tr>\n",
       "    </tbody></table>"
      ],
      "text/plain": [
       "<pandas.io.formats.style.Styler at 0x7f963f2815d0>"
      ]
     },
     "execution_count": 7,
     "metadata": {},
     "output_type": "execute_result"
    }
   ],
   "source": [
    "corr = df.corr()\n",
    "corr.style.background_gradient(cmap='coolwarm').set_precision(2)"
   ]
  }
 ],
 "metadata": {
  "kernelspec": {
   "display_name": "Python 3",
   "language": "python",
   "name": "python3"
  },
  "language_info": {
   "codemirror_mode": {
    "name": "ipython",
    "version": 3
   },
   "file_extension": ".py",
   "mimetype": "text/x-python",
   "name": "python",
   "nbconvert_exporter": "python",
   "pygments_lexer": "ipython3",
   "version": "3.7.5"
  }
 },
 "nbformat": 4,
 "nbformat_minor": 2
}
