{
 "cells": [
  {
   "cell_type": "markdown",
   "metadata": {},
   "source": [
    "<h1>Data Exploration</h1>\n",
    "<p>In this notebook we will perform a broad data exploration on the <code>Wage</code> data set. Note that the aim of this exploration is not to be completely thorough; instead we would like to gain quick insights to help develop a first prototype. Upon analyzing the output of the prototype, we can analyze the data further to gain more insight.</p>"
   ]
  },
  {
   "cell_type": "code",
   "execution_count": 1,
   "metadata": {
    "ExecuteTime": {
     "end_time": "2020-01-26T15:39:41.184915Z",
     "start_time": "2020-01-26T15:39:38.545083Z"
    }
   },
   "outputs": [],
   "source": [
    "import pandas as pd\n",
    "import numpy as np\n",
    "import matplotlib.pyplot as plt\n",
    "\n",
    "%run ../../customModules/DataQualityReports.ipynb\n",
    "# https://stackoverflow.com/questions/34398054/ipython-notebook-cell-multiple-outputs\n",
    "from IPython.core.interactiveshell import InteractiveShell\n",
    "InteractiveShell.ast_node_interactivity = \"all\""
   ]
  },
  {
   "cell_type": "markdown",
   "metadata": {},
   "source": [
    "<p>We first read the comma-separated values (csv) <code>Wage</code> file into a pandas DataFrame. To get a feeling for the data we display the top five rows of the DataFrame using the <code>head()</code> method and we show how many rows and columns the DataFrame has by using the <code>shape</code> attribute. We also show the <code>dtypes</code> attribute, which returns a pandas Series with the data type of each column.</p>"
   ]
  },
  {
   "cell_type": "code",
   "execution_count": 2,
   "metadata": {
    "ExecuteTime": {
     "end_time": "2020-01-26T15:39:41.238763Z",
     "start_time": "2020-01-26T15:39:41.189406Z"
    }
   },
   "outputs": [
    {
     "data": {
      "text/html": [
       "<div>\n",
       "<style scoped>\n",
       "    .dataframe tbody tr th:only-of-type {\n",
       "        vertical-align: middle;\n",
       "    }\n",
       "\n",
       "    .dataframe tbody tr th {\n",
       "        vertical-align: top;\n",
       "    }\n",
       "\n",
       "    .dataframe thead th {\n",
       "        text-align: right;\n",
       "    }\n",
       "</style>\n",
       "<table border=\"1\" class=\"dataframe\">\n",
       "  <thead>\n",
       "    <tr style=\"text-align: right;\">\n",
       "      <th></th>\n",
       "      <th>year</th>\n",
       "      <th>age</th>\n",
       "      <th>sex</th>\n",
       "      <th>maritl</th>\n",
       "      <th>race</th>\n",
       "      <th>education</th>\n",
       "      <th>region</th>\n",
       "      <th>jobclass</th>\n",
       "      <th>health</th>\n",
       "      <th>health_ins</th>\n",
       "      <th>logwage</th>\n",
       "      <th>wage</th>\n",
       "    </tr>\n",
       "  </thead>\n",
       "  <tbody>\n",
       "    <tr>\n",
       "      <th>0</th>\n",
       "      <td>2006</td>\n",
       "      <td>18</td>\n",
       "      <td>1. Male</td>\n",
       "      <td>1. Never Married</td>\n",
       "      <td>1. White</td>\n",
       "      <td>1. &lt; HS Grad</td>\n",
       "      <td>2. Middle Atlantic</td>\n",
       "      <td>1. Industrial</td>\n",
       "      <td>1. &lt;=Good</td>\n",
       "      <td>2. No</td>\n",
       "      <td>4.318063</td>\n",
       "      <td>75.043154</td>\n",
       "    </tr>\n",
       "    <tr>\n",
       "      <th>1</th>\n",
       "      <td>2004</td>\n",
       "      <td>24</td>\n",
       "      <td>1. Male</td>\n",
       "      <td>1. Never Married</td>\n",
       "      <td>1. White</td>\n",
       "      <td>4. College Grad</td>\n",
       "      <td>2. Middle Atlantic</td>\n",
       "      <td>2. Information</td>\n",
       "      <td>2. &gt;=Very Good</td>\n",
       "      <td>2. No</td>\n",
       "      <td>4.255273</td>\n",
       "      <td>70.476020</td>\n",
       "    </tr>\n",
       "    <tr>\n",
       "      <th>2</th>\n",
       "      <td>2003</td>\n",
       "      <td>45</td>\n",
       "      <td>1. Male</td>\n",
       "      <td>2. Married</td>\n",
       "      <td>1. White</td>\n",
       "      <td>3. Some College</td>\n",
       "      <td>2. Middle Atlantic</td>\n",
       "      <td>1. Industrial</td>\n",
       "      <td>1. &lt;=Good</td>\n",
       "      <td>1. Yes</td>\n",
       "      <td>4.875061</td>\n",
       "      <td>130.982177</td>\n",
       "    </tr>\n",
       "    <tr>\n",
       "      <th>3</th>\n",
       "      <td>2003</td>\n",
       "      <td>43</td>\n",
       "      <td>1. Male</td>\n",
       "      <td>2. Married</td>\n",
       "      <td>3. Asian</td>\n",
       "      <td>4. College Grad</td>\n",
       "      <td>2. Middle Atlantic</td>\n",
       "      <td>2. Information</td>\n",
       "      <td>2. &gt;=Very Good</td>\n",
       "      <td>1. Yes</td>\n",
       "      <td>5.041393</td>\n",
       "      <td>154.685293</td>\n",
       "    </tr>\n",
       "    <tr>\n",
       "      <th>4</th>\n",
       "      <td>2005</td>\n",
       "      <td>50</td>\n",
       "      <td>1. Male</td>\n",
       "      <td>4. Divorced</td>\n",
       "      <td>1. White</td>\n",
       "      <td>2. HS Grad</td>\n",
       "      <td>2. Middle Atlantic</td>\n",
       "      <td>2. Information</td>\n",
       "      <td>1. &lt;=Good</td>\n",
       "      <td>1. Yes</td>\n",
       "      <td>4.318063</td>\n",
       "      <td>75.043154</td>\n",
       "    </tr>\n",
       "  </tbody>\n",
       "</table>\n",
       "</div>"
      ],
      "text/plain": [
       "   year  age      sex            maritl      race        education  \\\n",
       "0  2006   18  1. Male  1. Never Married  1. White     1. < HS Grad   \n",
       "1  2004   24  1. Male  1. Never Married  1. White  4. College Grad   \n",
       "2  2003   45  1. Male        2. Married  1. White  3. Some College   \n",
       "3  2003   43  1. Male        2. Married  3. Asian  4. College Grad   \n",
       "4  2005   50  1. Male       4. Divorced  1. White       2. HS Grad   \n",
       "\n",
       "               region        jobclass          health health_ins   logwage  \\\n",
       "0  2. Middle Atlantic   1. Industrial       1. <=Good      2. No  4.318063   \n",
       "1  2. Middle Atlantic  2. Information  2. >=Very Good      2. No  4.255273   \n",
       "2  2. Middle Atlantic   1. Industrial       1. <=Good     1. Yes  4.875061   \n",
       "3  2. Middle Atlantic  2. Information  2. >=Very Good     1. Yes  5.041393   \n",
       "4  2. Middle Atlantic  2. Information       1. <=Good     1. Yes  4.318063   \n",
       "\n",
       "         wage  \n",
       "0   75.043154  \n",
       "1   70.476020  \n",
       "2  130.982177  \n",
       "3  154.685293  \n",
       "4   75.043154  "
      ]
     },
     "execution_count": 2,
     "metadata": {},
     "output_type": "execute_result"
    },
    {
     "data": {
      "text/plain": [
       "(3000, 12)"
      ]
     },
     "execution_count": 2,
     "metadata": {},
     "output_type": "execute_result"
    },
    {
     "data": {
      "text/plain": [
       "year            int64\n",
       "age             int64\n",
       "sex            object\n",
       "maritl         object\n",
       "race           object\n",
       "education      object\n",
       "region         object\n",
       "jobclass       object\n",
       "health         object\n",
       "health_ins     object\n",
       "logwage       float64\n",
       "wage          float64\n",
       "dtype: object"
      ]
     },
     "execution_count": 2,
     "metadata": {},
     "output_type": "execute_result"
    }
   ],
   "source": [
    "df = pd.read_csv(\"Wage.csv\")\n",
    "df.head()\n",
    "df.shape\n",
    "df.dtypes"
   ]
  },
  {
   "cell_type": "markdown",
   "metadata": {},
   "source": [
    "<p>Is appears that all the columns have the data type we would expect. We can perform another check to see if any values are missing in the DataFrame using its <code>isnull</code> method.</p>"
   ]
  },
  {
   "cell_type": "code",
   "execution_count": 3,
   "metadata": {
    "ExecuteTime": {
     "end_time": "2020-01-26T15:39:41.313379Z",
     "start_time": "2020-01-26T15:39:41.240195Z"
    }
   },
   "outputs": [
    {
     "data": {
      "text/html": [
       "<div>\n",
       "<style scoped>\n",
       "    .dataframe tbody tr th:only-of-type {\n",
       "        vertical-align: middle;\n",
       "    }\n",
       "\n",
       "    .dataframe tbody tr th {\n",
       "        vertical-align: top;\n",
       "    }\n",
       "\n",
       "    .dataframe thead th {\n",
       "        text-align: right;\n",
       "    }\n",
       "</style>\n",
       "<table border=\"1\" class=\"dataframe\">\n",
       "  <thead>\n",
       "    <tr style=\"text-align: right;\">\n",
       "      <th></th>\n",
       "      <th>year</th>\n",
       "      <th>age</th>\n",
       "      <th>sex</th>\n",
       "      <th>maritl</th>\n",
       "      <th>race</th>\n",
       "      <th>education</th>\n",
       "      <th>region</th>\n",
       "      <th>jobclass</th>\n",
       "      <th>health</th>\n",
       "      <th>health_ins</th>\n",
       "      <th>logwage</th>\n",
       "      <th>wage</th>\n",
       "    </tr>\n",
       "  </thead>\n",
       "  <tbody>\n",
       "  </tbody>\n",
       "</table>\n",
       "</div>"
      ],
      "text/plain": [
       "Empty DataFrame\n",
       "Columns: [year, age, sex, maritl, race, education, region, jobclass, health, health_ins, logwage, wage]\n",
       "Index: []"
      ]
     },
     "execution_count": 3,
     "metadata": {},
     "output_type": "execute_result"
    },
    {
     "data": {
      "text/plain": [
       "(0, 12)"
      ]
     },
     "execution_count": 3,
     "metadata": {},
     "output_type": "execute_result"
    }
   ],
   "source": [
    "df[df.isnull().any(axis=1)]\n",
    "df[df.isnull().any(axis=1)].shape"
   ]
  },
  {
   "cell_type": "markdown",
   "metadata": {},
   "source": [
    "<p>There are no obvious missing values in our data. So the next step to be able to produce the data quality reports with our custom <code>createDataQualityReports</code> function is to organize our DataFrame by quantitative and categorical variables using hierarchical indexing.</p>"
   ]
  },
  {
   "cell_type": "code",
   "execution_count": 4,
   "metadata": {
    "ExecuteTime": {
     "end_time": "2020-01-26T15:39:41.383104Z",
     "start_time": "2020-01-26T15:39:41.315388Z"
    }
   },
   "outputs": [
    {
     "data": {
      "text/html": [
       "<div>\n",
       "<style scoped>\n",
       "    .dataframe tbody tr th:only-of-type {\n",
       "        vertical-align: middle;\n",
       "    }\n",
       "\n",
       "    .dataframe tbody tr th {\n",
       "        vertical-align: top;\n",
       "    }\n",
       "\n",
       "    .dataframe thead tr th {\n",
       "        text-align: left;\n",
       "    }\n",
       "</style>\n",
       "<table border=\"1\" class=\"dataframe\">\n",
       "  <thead>\n",
       "    <tr>\n",
       "      <th>type of variable</th>\n",
       "      <th colspan=\"2\" halign=\"left\">quantitative</th>\n",
       "      <th colspan=\"8\" halign=\"left\">categorical</th>\n",
       "      <th colspan=\"2\" halign=\"left\">quantitative</th>\n",
       "    </tr>\n",
       "    <tr>\n",
       "      <th>variable</th>\n",
       "      <th>year</th>\n",
       "      <th>age</th>\n",
       "      <th>sex</th>\n",
       "      <th>maritl</th>\n",
       "      <th>race</th>\n",
       "      <th>education</th>\n",
       "      <th>region</th>\n",
       "      <th>jobclass</th>\n",
       "      <th>health</th>\n",
       "      <th>health_ins</th>\n",
       "      <th>logwage</th>\n",
       "      <th>wage</th>\n",
       "    </tr>\n",
       "  </thead>\n",
       "  <tbody>\n",
       "    <tr>\n",
       "      <th>0</th>\n",
       "      <td>2006</td>\n",
       "      <td>18</td>\n",
       "      <td>1. Male</td>\n",
       "      <td>1. Never Married</td>\n",
       "      <td>1. White</td>\n",
       "      <td>1. &lt; HS Grad</td>\n",
       "      <td>2. Middle Atlantic</td>\n",
       "      <td>1. Industrial</td>\n",
       "      <td>1. &lt;=Good</td>\n",
       "      <td>2. No</td>\n",
       "      <td>4.318063</td>\n",
       "      <td>75.043154</td>\n",
       "    </tr>\n",
       "    <tr>\n",
       "      <th>1</th>\n",
       "      <td>2004</td>\n",
       "      <td>24</td>\n",
       "      <td>1. Male</td>\n",
       "      <td>1. Never Married</td>\n",
       "      <td>1. White</td>\n",
       "      <td>4. College Grad</td>\n",
       "      <td>2. Middle Atlantic</td>\n",
       "      <td>2. Information</td>\n",
       "      <td>2. &gt;=Very Good</td>\n",
       "      <td>2. No</td>\n",
       "      <td>4.255273</td>\n",
       "      <td>70.476020</td>\n",
       "    </tr>\n",
       "    <tr>\n",
       "      <th>2</th>\n",
       "      <td>2003</td>\n",
       "      <td>45</td>\n",
       "      <td>1. Male</td>\n",
       "      <td>2. Married</td>\n",
       "      <td>1. White</td>\n",
       "      <td>3. Some College</td>\n",
       "      <td>2. Middle Atlantic</td>\n",
       "      <td>1. Industrial</td>\n",
       "      <td>1. &lt;=Good</td>\n",
       "      <td>1. Yes</td>\n",
       "      <td>4.875061</td>\n",
       "      <td>130.982177</td>\n",
       "    </tr>\n",
       "    <tr>\n",
       "      <th>3</th>\n",
       "      <td>2003</td>\n",
       "      <td>43</td>\n",
       "      <td>1. Male</td>\n",
       "      <td>2. Married</td>\n",
       "      <td>3. Asian</td>\n",
       "      <td>4. College Grad</td>\n",
       "      <td>2. Middle Atlantic</td>\n",
       "      <td>2. Information</td>\n",
       "      <td>2. &gt;=Very Good</td>\n",
       "      <td>1. Yes</td>\n",
       "      <td>5.041393</td>\n",
       "      <td>154.685293</td>\n",
       "    </tr>\n",
       "    <tr>\n",
       "      <th>4</th>\n",
       "      <td>2005</td>\n",
       "      <td>50</td>\n",
       "      <td>1. Male</td>\n",
       "      <td>4. Divorced</td>\n",
       "      <td>1. White</td>\n",
       "      <td>2. HS Grad</td>\n",
       "      <td>2. Middle Atlantic</td>\n",
       "      <td>2. Information</td>\n",
       "      <td>1. &lt;=Good</td>\n",
       "      <td>1. Yes</td>\n",
       "      <td>4.318063</td>\n",
       "      <td>75.043154</td>\n",
       "    </tr>\n",
       "  </tbody>\n",
       "</table>\n",
       "</div>"
      ],
      "text/plain": [
       "type of variable quantitative     categorical                              \\\n",
       "variable                 year age         sex            maritl      race   \n",
       "0                        2006  18     1. Male  1. Never Married  1. White   \n",
       "1                        2004  24     1. Male  1. Never Married  1. White   \n",
       "2                        2003  45     1. Male        2. Married  1. White   \n",
       "3                        2003  43     1. Male        2. Married  3. Asian   \n",
       "4                        2005  50     1. Male       4. Divorced  1. White   \n",
       "\n",
       "type of variable                                                       \\\n",
       "variable                education              region        jobclass   \n",
       "0                    1. < HS Grad  2. Middle Atlantic   1. Industrial   \n",
       "1                 4. College Grad  2. Middle Atlantic  2. Information   \n",
       "2                 3. Some College  2. Middle Atlantic   1. Industrial   \n",
       "3                 4. College Grad  2. Middle Atlantic  2. Information   \n",
       "4                      2. HS Grad  2. Middle Atlantic  2. Information   \n",
       "\n",
       "type of variable                            quantitative              \n",
       "variable                  health health_ins      logwage        wage  \n",
       "0                      1. <=Good      2. No     4.318063   75.043154  \n",
       "1                 2. >=Very Good      2. No     4.255273   70.476020  \n",
       "2                      1. <=Good     1. Yes     4.875061  130.982177  \n",
       "3                 2. >=Very Good     1. Yes     5.041393  154.685293  \n",
       "4                      1. <=Good     1. Yes     4.318063   75.043154  "
      ]
     },
     "execution_count": 4,
     "metadata": {},
     "output_type": "execute_result"
    }
   ],
   "source": [
    "# year: Year that wage information was recorded\n",
    "# age: Age of worker\n",
    "# maritl: A factor with levels 1. Never Married 2. Married \n",
    "#         3. Widowed 4. Divorced and 5. Separated indicating marital status\n",
    "# race: A factor with levels 1. White 2. Black 3. Asian and 4. Other indicating race\n",
    "# education: A factor with levels 1. < HS Grad 2. HS Grad 3. Some College \n",
    "#             4. College Grad and 5. Advanced Degree indicating education level\n",
    "# region: Region of the country (mid-atlantic only)\n",
    "# jobclass: A factor with levels 1. Industrial and 2. Information indicating type of job\n",
    "# health: A factor with levels 1. <=Good and 2. >=Very Good indicating \n",
    "#         health level of worker\n",
    "# health_ins: A factor with levels 1. Yes and 2. No indicating whether worker \n",
    "#             has health insurance\n",
    "# logwage: Log of workers wage\n",
    "# wage: Workers raw wage\n",
    "\n",
    "df.columns = pd.MultiIndex.from_tuples([('quantitative', 'year'), ('quantitative', 'age'), \n",
    "                        ('categorical', 'sex'), ('categorical', 'maritl'), \n",
    "                        ('categorical', 'race'), ('categorical', 'education'), \n",
    "                        ('categorical', 'region'), ('categorical', 'jobclass'), \n",
    "                        ('categorical', 'health'), ('categorical', 'health_ins'), \n",
    "                        ('quantitative', 'logwage'), ('quantitative', 'wage')],\n",
    "                        names=['type of variable', 'variable'])\n",
    "\n",
    "df.head()"
   ]
  },
  {
   "cell_type": "markdown",
   "metadata": {},
   "source": [
    "<p>Now we can create the data quality reports.</p>"
   ]
  },
  {
   "cell_type": "code",
   "execution_count": 5,
   "metadata": {
    "ExecuteTime": {
     "end_time": "2020-01-26T15:39:41.577039Z",
     "start_time": "2020-01-26T15:39:41.384496Z"
    }
   },
   "outputs": [
    {
     "data": {
      "text/plain": [
       "'Quantitative Qualilty Report:'"
      ]
     },
     "execution_count": 5,
     "metadata": {},
     "output_type": "execute_result"
    },
    {
     "data": {
      "text/html": [
       "<div>\n",
       "<style scoped>\n",
       "    .dataframe tbody tr th:only-of-type {\n",
       "        vertical-align: middle;\n",
       "    }\n",
       "\n",
       "    .dataframe tbody tr th {\n",
       "        vertical-align: top;\n",
       "    }\n",
       "\n",
       "    .dataframe thead th {\n",
       "        text-align: right;\n",
       "    }\n",
       "</style>\n",
       "<table border=\"1\" class=\"dataframe\">\n",
       "  <thead>\n",
       "    <tr style=\"text-align: right;\">\n",
       "      <th></th>\n",
       "      <th>Count</th>\n",
       "      <th>Miss. (%)</th>\n",
       "      <th>Card.</th>\n",
       "      <th>Min.</th>\n",
       "      <th>1st Qrt.</th>\n",
       "      <th>Mean</th>\n",
       "      <th>Median</th>\n",
       "      <th>3rd Qrt.</th>\n",
       "      <th>Max.</th>\n",
       "      <th>Std. Dev.</th>\n",
       "    </tr>\n",
       "    <tr>\n",
       "      <th>variable</th>\n",
       "      <th></th>\n",
       "      <th></th>\n",
       "      <th></th>\n",
       "      <th></th>\n",
       "      <th></th>\n",
       "      <th></th>\n",
       "      <th></th>\n",
       "      <th></th>\n",
       "      <th></th>\n",
       "      <th></th>\n",
       "    </tr>\n",
       "  </thead>\n",
       "  <tbody>\n",
       "    <tr>\n",
       "      <th>year</th>\n",
       "      <td>3000</td>\n",
       "      <td>0.0</td>\n",
       "      <td>7</td>\n",
       "      <td>2003.00</td>\n",
       "      <td>2004.00</td>\n",
       "      <td>2005.79</td>\n",
       "      <td>2006.00</td>\n",
       "      <td>2008.00</td>\n",
       "      <td>2009.00</td>\n",
       "      <td>2.03</td>\n",
       "    </tr>\n",
       "    <tr>\n",
       "      <th>age</th>\n",
       "      <td>3000</td>\n",
       "      <td>0.0</td>\n",
       "      <td>61</td>\n",
       "      <td>18.00</td>\n",
       "      <td>33.75</td>\n",
       "      <td>42.41</td>\n",
       "      <td>42.00</td>\n",
       "      <td>51.00</td>\n",
       "      <td>80.00</td>\n",
       "      <td>11.54</td>\n",
       "    </tr>\n",
       "    <tr>\n",
       "      <th>logwage</th>\n",
       "      <td>3000</td>\n",
       "      <td>0.0</td>\n",
       "      <td>508</td>\n",
       "      <td>3.00</td>\n",
       "      <td>4.45</td>\n",
       "      <td>4.65</td>\n",
       "      <td>4.65</td>\n",
       "      <td>4.86</td>\n",
       "      <td>5.76</td>\n",
       "      <td>0.35</td>\n",
       "    </tr>\n",
       "    <tr>\n",
       "      <th>wage</th>\n",
       "      <td>3000</td>\n",
       "      <td>0.0</td>\n",
       "      <td>508</td>\n",
       "      <td>20.09</td>\n",
       "      <td>85.38</td>\n",
       "      <td>111.70</td>\n",
       "      <td>104.92</td>\n",
       "      <td>128.68</td>\n",
       "      <td>318.34</td>\n",
       "      <td>41.73</td>\n",
       "    </tr>\n",
       "  </tbody>\n",
       "</table>\n",
       "</div>"
      ],
      "text/plain": [
       "          Count  Miss. (%)  Card.     Min.  1st Qrt.     Mean   Median  \\\n",
       "variable                                                                 \n",
       "year       3000        0.0      7  2003.00   2004.00  2005.79  2006.00   \n",
       "age        3000        0.0     61    18.00     33.75    42.41    42.00   \n",
       "logwage    3000        0.0    508     3.00      4.45     4.65     4.65   \n",
       "wage       3000        0.0    508    20.09     85.38   111.70   104.92   \n",
       "\n",
       "          3rd Qrt.     Max.  Std. Dev.  \n",
       "variable                                \n",
       "year       2008.00  2009.00       2.03  \n",
       "age          51.00    80.00      11.54  \n",
       "logwage       4.86     5.76       0.35  \n",
       "wage        128.68   318.34      41.73  "
      ]
     },
     "execution_count": 5,
     "metadata": {},
     "output_type": "execute_result"
    },
    {
     "data": {
      "text/plain": [
       "'Categorical Qualilty Report:'"
      ]
     },
     "execution_count": 5,
     "metadata": {},
     "output_type": "execute_result"
    },
    {
     "data": {
      "text/html": [
       "<div>\n",
       "<style scoped>\n",
       "    .dataframe tbody tr th:only-of-type {\n",
       "        vertical-align: middle;\n",
       "    }\n",
       "\n",
       "    .dataframe tbody tr th {\n",
       "        vertical-align: top;\n",
       "    }\n",
       "\n",
       "    .dataframe thead th {\n",
       "        text-align: right;\n",
       "    }\n",
       "</style>\n",
       "<table border=\"1\" class=\"dataframe\">\n",
       "  <thead>\n",
       "    <tr style=\"text-align: right;\">\n",
       "      <th></th>\n",
       "      <th>Count</th>\n",
       "      <th>Miss. (%)</th>\n",
       "      <th>Card.</th>\n",
       "      <th>Mode</th>\n",
       "      <th>Mode Freq.</th>\n",
       "      <th>Mode (%)</th>\n",
       "      <th>2nd Mode</th>\n",
       "      <th>2nd Mode Freq.</th>\n",
       "      <th>2nd Mode (%)</th>\n",
       "    </tr>\n",
       "    <tr>\n",
       "      <th>variable</th>\n",
       "      <th></th>\n",
       "      <th></th>\n",
       "      <th></th>\n",
       "      <th></th>\n",
       "      <th></th>\n",
       "      <th></th>\n",
       "      <th></th>\n",
       "      <th></th>\n",
       "      <th></th>\n",
       "    </tr>\n",
       "  </thead>\n",
       "  <tbody>\n",
       "    <tr>\n",
       "      <th>sex</th>\n",
       "      <td>3000</td>\n",
       "      <td>0.0</td>\n",
       "      <td>1</td>\n",
       "      <td>1. Male</td>\n",
       "      <td>3000</td>\n",
       "      <td>100.00</td>\n",
       "      <td>NaN</td>\n",
       "      <td>NaN</td>\n",
       "      <td>NaN</td>\n",
       "    </tr>\n",
       "    <tr>\n",
       "      <th>maritl</th>\n",
       "      <td>3000</td>\n",
       "      <td>0.0</td>\n",
       "      <td>5</td>\n",
       "      <td>2. Married</td>\n",
       "      <td>2074</td>\n",
       "      <td>69.13</td>\n",
       "      <td>1. Never Married</td>\n",
       "      <td>648.0</td>\n",
       "      <td>21.60</td>\n",
       "    </tr>\n",
       "    <tr>\n",
       "      <th>race</th>\n",
       "      <td>3000</td>\n",
       "      <td>0.0</td>\n",
       "      <td>4</td>\n",
       "      <td>1. White</td>\n",
       "      <td>2480</td>\n",
       "      <td>82.67</td>\n",
       "      <td>2. Black</td>\n",
       "      <td>293.0</td>\n",
       "      <td>9.77</td>\n",
       "    </tr>\n",
       "    <tr>\n",
       "      <th>education</th>\n",
       "      <td>3000</td>\n",
       "      <td>0.0</td>\n",
       "      <td>5</td>\n",
       "      <td>2. HS Grad</td>\n",
       "      <td>971</td>\n",
       "      <td>32.37</td>\n",
       "      <td>4. College Grad</td>\n",
       "      <td>685.0</td>\n",
       "      <td>22.83</td>\n",
       "    </tr>\n",
       "    <tr>\n",
       "      <th>region</th>\n",
       "      <td>3000</td>\n",
       "      <td>0.0</td>\n",
       "      <td>1</td>\n",
       "      <td>2. Middle Atlantic</td>\n",
       "      <td>3000</td>\n",
       "      <td>100.00</td>\n",
       "      <td>None</td>\n",
       "      <td>NaN</td>\n",
       "      <td>NaN</td>\n",
       "    </tr>\n",
       "    <tr>\n",
       "      <th>jobclass</th>\n",
       "      <td>3000</td>\n",
       "      <td>0.0</td>\n",
       "      <td>2</td>\n",
       "      <td>1. Industrial</td>\n",
       "      <td>1544</td>\n",
       "      <td>51.47</td>\n",
       "      <td>2. Information</td>\n",
       "      <td>1456.0</td>\n",
       "      <td>48.53</td>\n",
       "    </tr>\n",
       "    <tr>\n",
       "      <th>health</th>\n",
       "      <td>3000</td>\n",
       "      <td>0.0</td>\n",
       "      <td>2</td>\n",
       "      <td>2. &gt;=Very Good</td>\n",
       "      <td>2142</td>\n",
       "      <td>71.40</td>\n",
       "      <td>1. &lt;=Good</td>\n",
       "      <td>858.0</td>\n",
       "      <td>28.60</td>\n",
       "    </tr>\n",
       "    <tr>\n",
       "      <th>health_ins</th>\n",
       "      <td>3000</td>\n",
       "      <td>0.0</td>\n",
       "      <td>2</td>\n",
       "      <td>1. Yes</td>\n",
       "      <td>2083</td>\n",
       "      <td>69.43</td>\n",
       "      <td>2. No</td>\n",
       "      <td>917.0</td>\n",
       "      <td>30.57</td>\n",
       "    </tr>\n",
       "  </tbody>\n",
       "</table>\n",
       "</div>"
      ],
      "text/plain": [
       "            Count  Miss. (%)  Card.                Mode  Mode Freq.  Mode (%)  \\\n",
       "variable                                                                        \n",
       "sex          3000        0.0      1             1. Male        3000    100.00   \n",
       "maritl       3000        0.0      5          2. Married        2074     69.13   \n",
       "race         3000        0.0      4            1. White        2480     82.67   \n",
       "education    3000        0.0      5          2. HS Grad         971     32.37   \n",
       "region       3000        0.0      1  2. Middle Atlantic        3000    100.00   \n",
       "jobclass     3000        0.0      2       1. Industrial        1544     51.47   \n",
       "health       3000        0.0      2      2. >=Very Good        2142     71.40   \n",
       "health_ins   3000        0.0      2              1. Yes        2083     69.43   \n",
       "\n",
       "                    2nd Mode  2nd Mode Freq.  2nd Mode (%)  \n",
       "variable                                                    \n",
       "sex                      NaN             NaN           NaN  \n",
       "maritl      1. Never Married           648.0         21.60  \n",
       "race                2. Black           293.0          9.77  \n",
       "education    4. College Grad           685.0         22.83  \n",
       "region                  None             NaN           NaN  \n",
       "jobclass      2. Information          1456.0         48.53  \n",
       "health             1. <=Good           858.0         28.60  \n",
       "health_ins             2. No           917.0         30.57  "
      ]
     },
     "execution_count": 5,
     "metadata": {},
     "output_type": "execute_result"
    }
   ],
   "source": [
    "df_qr_quantitative, df_qr_categorical = createDataQualityReports(df)\n",
    "'Quantitative Qualilty Report:'\n",
    "df_qr_quantitative.round(2)\n",
    "'Categorical Qualilty Report:'\n",
    "df_qr_categorical.round(2)"
   ]
  },
  {
   "cell_type": "markdown",
   "metadata": {},
   "source": [
    "<p>To further gain insight into the data, we use the <code>plotQuantitativeVariables</code> and <code>plotCategoricalVariables</code> functions the produce the frequency plots for each (quantitative) variable.</p>"
   ]
  },
  {
   "cell_type": "code",
   "execution_count": 6,
   "metadata": {
    "ExecuteTime": {
     "end_time": "2020-01-26T15:39:42.529984Z",
     "start_time": "2020-01-26T15:39:41.578383Z"
    }
   },
   "outputs": [
    {
     "data": {
      "image/png": "[encoded data removed]",
      "text/plain": [
       "<Figure size 504x864 with 4 Axes>"
      ]
     },
     "metadata": {
      "needs_background": "light"
     },
     "output_type": "display_data"
    }
   ],
   "source": [
    "plotQuantitativeVariables(df.xs('quantitative', axis=1), height=3, width=7)"
   ]
  },
  {
   "cell_type": "code",
   "execution_count": 7,
   "metadata": {
    "ExecuteTime": {
     "end_time": "2020-01-26T15:39:43.872721Z",
     "start_time": "2020-01-26T15:39:42.531389Z"
    }
   },
   "outputs": [
    {
     "data": {
      "image/png": "[encoded data removed]",
      "text/plain": [
       "<Figure size 504x1728 with 8 Axes>"
      ]
     },
     "metadata": {
      "needs_background": "light"
     },
     "output_type": "display_data"
    }
   ],
   "source": [
    "plotCategoricalVariables(df.xs('categorical', axis=1), height=3, width=7)"
   ]
  },
  {
   "cell_type": "markdown",
   "metadata": {},
   "source": [
    "<p>We also compute the correlation matrix of the variables.</p>"
   ]
  },
  {
   "cell_type": "code",
   "execution_count": 8,
   "metadata": {
    "ExecuteTime": {
     "end_time": "2020-01-26T15:39:43.943516Z",
     "start_time": "2020-01-26T15:39:43.874447Z"
    }
   },
   "outputs": [
    {
     "data": {
      "text/html": [
       "<style  type=\"text/css\" >\n",
       "    #T_130ddeaa_4052_11ea_9b46_6f96fddb71barow0_col0 {\n",
       "            background-color:  #b40426;\n",
       "            color:  #f1f1f1;\n",
       "        }    #T_130ddeaa_4052_11ea_9b46_6f96fddb71barow0_col1 {\n",
       "            background-color:  #3b4cc0;\n",
       "            color:  #f1f1f1;\n",
       "        }    #T_130ddeaa_4052_11ea_9b46_6f96fddb71barow0_col2 {\n",
       "            background-color:  #3b4cc0;\n",
       "            color:  #f1f1f1;\n",
       "        }    #T_130ddeaa_4052_11ea_9b46_6f96fddb71barow0_col3 {\n",
       "            background-color:  #3b4cc0;\n",
       "            color:  #f1f1f1;\n",
       "        }    #T_130ddeaa_4052_11ea_9b46_6f96fddb71barow1_col0 {\n",
       "            background-color:  #3b4cc0;\n",
       "            color:  #f1f1f1;\n",
       "        }    #T_130ddeaa_4052_11ea_9b46_6f96fddb71barow1_col1 {\n",
       "            background-color:  #b40426;\n",
       "            color:  #f1f1f1;\n",
       "        }    #T_130ddeaa_4052_11ea_9b46_6f96fddb71barow1_col2 {\n",
       "            background-color:  #6b8df0;\n",
       "            color:  #000000;\n",
       "        }    #T_130ddeaa_4052_11ea_9b46_6f96fddb71barow1_col3 {\n",
       "            background-color:  #6687ed;\n",
       "            color:  #000000;\n",
       "        }    #T_130ddeaa_4052_11ea_9b46_6f96fddb71barow2_col0 {\n",
       "            background-color:  #465ecf;\n",
       "            color:  #f1f1f1;\n",
       "        }    #T_130ddeaa_4052_11ea_9b46_6f96fddb71barow2_col1 {\n",
       "            background-color:  #7699f6;\n",
       "            color:  #000000;\n",
       "        }    #T_130ddeaa_4052_11ea_9b46_6f96fddb71barow2_col2 {\n",
       "            background-color:  #b40426;\n",
       "            color:  #f1f1f1;\n",
       "        }    #T_130ddeaa_4052_11ea_9b46_6f96fddb71barow2_col3 {\n",
       "            background-color:  #c73635;\n",
       "            color:  #f1f1f1;\n",
       "        }    #T_130ddeaa_4052_11ea_9b46_6f96fddb71barow3_col0 {\n",
       "            background-color:  #4358cb;\n",
       "            color:  #f1f1f1;\n",
       "        }    #T_130ddeaa_4052_11ea_9b46_6f96fddb71barow3_col1 {\n",
       "            background-color:  #6e90f2;\n",
       "            color:  #000000;\n",
       "        }    #T_130ddeaa_4052_11ea_9b46_6f96fddb71barow3_col2 {\n",
       "            background-color:  #c73635;\n",
       "            color:  #f1f1f1;\n",
       "        }    #T_130ddeaa_4052_11ea_9b46_6f96fddb71barow3_col3 {\n",
       "            background-color:  #b40426;\n",
       "            color:  #f1f1f1;\n",
       "        }</style><table id=\"T_130ddeaa_4052_11ea_9b46_6f96fddb71ba\" ><thead>    <tr>        <th class=\"blank\" ></th>        <th class=\"index_name level0\" >type of variable</th>        <th class=\"col_heading level0 col0\" colspan=4>quantitative</th>    </tr>    <tr>        <th class=\"blank\" ></th>        <th class=\"index_name level1\" >variable</th>        <th class=\"col_heading level1 col0\" >year</th>        <th class=\"col_heading level1 col1\" >age</th>        <th class=\"col_heading level1 col2\" >logwage</th>        <th class=\"col_heading level1 col3\" >wage</th>    </tr>    <tr>        <th class=\"index_name level0\" >type of variable</th>        <th class=\"index_name level1\" >variable</th>        <th class=\"blank\" ></th>        <th class=\"blank\" ></th>        <th class=\"blank\" ></th>        <th class=\"blank\" ></th>    </tr></thead><tbody>\n",
       "                <tr>\n",
       "                        <th id=\"T_130ddeaa_4052_11ea_9b46_6f96fddb71balevel0_row0\" class=\"row_heading level0 row0\" rowspan=4>quantitative</th>\n",
       "                        <th id=\"T_130ddeaa_4052_11ea_9b46_6f96fddb71balevel1_row0\" class=\"row_heading level1 row0\" >year</th>\n",
       "                        <td id=\"T_130ddeaa_4052_11ea_9b46_6f96fddb71barow0_col0\" class=\"data row0 col0\" >1</td>\n",
       "                        <td id=\"T_130ddeaa_4052_11ea_9b46_6f96fddb71barow0_col1\" class=\"data row0 col1\" >0.038</td>\n",
       "                        <td id=\"T_130ddeaa_4052_11ea_9b46_6f96fddb71barow0_col2\" class=\"data row0 col2\" >0.076</td>\n",
       "                        <td id=\"T_130ddeaa_4052_11ea_9b46_6f96fddb71barow0_col3\" class=\"data row0 col3\" >0.066</td>\n",
       "            </tr>\n",
       "            <tr>\n",
       "                                <th id=\"T_130ddeaa_4052_11ea_9b46_6f96fddb71balevel1_row1\" class=\"row_heading level1 row1\" >age</th>\n",
       "                        <td id=\"T_130ddeaa_4052_11ea_9b46_6f96fddb71barow1_col0\" class=\"data row1 col0\" >0.038</td>\n",
       "                        <td id=\"T_130ddeaa_4052_11ea_9b46_6f96fddb71barow1_col1\" class=\"data row1 col1\" >1</td>\n",
       "                        <td id=\"T_130ddeaa_4052_11ea_9b46_6f96fddb71barow1_col2\" class=\"data row1 col2\" >0.22</td>\n",
       "                        <td id=\"T_130ddeaa_4052_11ea_9b46_6f96fddb71barow1_col3\" class=\"data row1 col3\" >0.2</td>\n",
       "            </tr>\n",
       "            <tr>\n",
       "                                <th id=\"T_130ddeaa_4052_11ea_9b46_6f96fddb71balevel1_row2\" class=\"row_heading level1 row2\" >logwage</th>\n",
       "                        <td id=\"T_130ddeaa_4052_11ea_9b46_6f96fddb71barow2_col0\" class=\"data row2 col0\" >0.076</td>\n",
       "                        <td id=\"T_130ddeaa_4052_11ea_9b46_6f96fddb71barow2_col1\" class=\"data row2 col1\" >0.22</td>\n",
       "                        <td id=\"T_130ddeaa_4052_11ea_9b46_6f96fddb71barow2_col2\" class=\"data row2 col2\" >1</td>\n",
       "                        <td id=\"T_130ddeaa_4052_11ea_9b46_6f96fddb71barow2_col3\" class=\"data row2 col3\" >0.95</td>\n",
       "            </tr>\n",
       "            <tr>\n",
       "                                <th id=\"T_130ddeaa_4052_11ea_9b46_6f96fddb71balevel1_row3\" class=\"row_heading level1 row3\" >wage</th>\n",
       "                        <td id=\"T_130ddeaa_4052_11ea_9b46_6f96fddb71barow3_col0\" class=\"data row3 col0\" >0.066</td>\n",
       "                        <td id=\"T_130ddeaa_4052_11ea_9b46_6f96fddb71barow3_col1\" class=\"data row3 col1\" >0.2</td>\n",
       "                        <td id=\"T_130ddeaa_4052_11ea_9b46_6f96fddb71barow3_col2\" class=\"data row3 col2\" >0.95</td>\n",
       "                        <td id=\"T_130ddeaa_4052_11ea_9b46_6f96fddb71barow3_col3\" class=\"data row3 col3\" >1</td>\n",
       "            </tr>\n",
       "    </tbody></table>"
      ],
      "text/plain": [
       "<pandas.io.formats.style.Styler at 0x7f92b17d6d10>"
      ]
     },
     "execution_count": 8,
     "metadata": {},
     "output_type": "execute_result"
    }
   ],
   "source": [
    "corr = df.corr()\n",
    "corr.style.background_gradient(cmap='coolwarm').set_precision(2)"
   ]
  }
 ],
 "metadata": {
  "kernelspec": {
   "display_name": "Python 3",
   "language": "python",
   "name": "python3"
  },
  "language_info": {
   "codemirror_mode": {
    "name": "ipython",
    "version": 3
   },
   "file_extension": ".py",
   "mimetype": "text/x-python",
   "name": "python",
   "nbconvert_exporter": "python",
   "pygments_lexer": "ipython3",
   "version": "3.7.5"
  }
 },
 "nbformat": 4,
 "nbformat_minor": 2
}
