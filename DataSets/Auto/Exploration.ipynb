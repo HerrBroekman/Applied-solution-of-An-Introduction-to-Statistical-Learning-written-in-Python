{
 "cells": [
  {
   "cell_type": "markdown",
   "metadata": {},
   "source": [
    "<h1>Data Exploration</h1>\n",
    "<p>In this notebook we will perform a broad data exploration on the <code>Auto</code> data set. Note that the aim of this exploratoin is not to be completely thorough; instead we would like to gain quick insights to help develop a first prototype. Upon analyzing the output of the prototype, we can analyze the data further to gain more insight.</p>"
   ]
  },
  {
   "cell_type": "code",
   "execution_count": 1,
   "metadata": {},
   "outputs": [],
   "source": [
    "import pandas as pd\n",
    "import numpy as np\n",
    "import matplotlib.pyplot as plt\n",
    "%matplotlib inline\n",
    "\n",
    "%run ../../customModules/DataQualityReports.ipynb\n",
    "# https://stackoverflow.com/questions/34398054/ipython-notebook-cell-multiple-outputs\n",
    "from IPython.core.interactiveshell import InteractiveShell\n",
    "InteractiveShell.ast_node_interactivity = \"all\""
   ]
  },
  {
   "cell_type": "markdown",
   "metadata": {},
   "source": [
    "<p>We first read the comma-separated values (csv) <code>Auto</code> file into a pandas DataFrame. To get a feeling for the data we display the top five rows of the DataFrame using the <code>head()</code> method and we show how many rows and columns the DataFrame has by using the <code>shape</code> attribute. We also show the <code>dtypes</code> attribute, which returns a pandas Series with the data type of each column.</p>"
   ]
  },
  {
   "cell_type": "code",
   "execution_count": 2,
   "metadata": {},
   "outputs": [
    {
     "data": {
      "text/html": [
       "<div>\n",
       "<style scoped>\n",
       "    .dataframe tbody tr th:only-of-type {\n",
       "        vertical-align: middle;\n",
       "    }\n",
       "\n",
       "    .dataframe tbody tr th {\n",
       "        vertical-align: top;\n",
       "    }\n",
       "\n",
       "    .dataframe thead th {\n",
       "        text-align: right;\n",
       "    }\n",
       "</style>\n",
       "<table border=\"1\" class=\"dataframe\">\n",
       "  <thead>\n",
       "    <tr style=\"text-align: right;\">\n",
       "      <th></th>\n",
       "      <th>mpg</th>\n",
       "      <th>cylinders</th>\n",
       "      <th>displacement</th>\n",
       "      <th>horsepower</th>\n",
       "      <th>weight</th>\n",
       "      <th>acceleration</th>\n",
       "      <th>year</th>\n",
       "      <th>origin</th>\n",
       "      <th>name</th>\n",
       "    </tr>\n",
       "  </thead>\n",
       "  <tbody>\n",
       "    <tr>\n",
       "      <th>0</th>\n",
       "      <td>18.0</td>\n",
       "      <td>8</td>\n",
       "      <td>307.0</td>\n",
       "      <td>130</td>\n",
       "      <td>3504</td>\n",
       "      <td>12.0</td>\n",
       "      <td>70</td>\n",
       "      <td>1</td>\n",
       "      <td>chevrolet chevelle malibu</td>\n",
       "    </tr>\n",
       "    <tr>\n",
       "      <th>1</th>\n",
       "      <td>15.0</td>\n",
       "      <td>8</td>\n",
       "      <td>350.0</td>\n",
       "      <td>165</td>\n",
       "      <td>3693</td>\n",
       "      <td>11.5</td>\n",
       "      <td>70</td>\n",
       "      <td>1</td>\n",
       "      <td>buick skylark 320</td>\n",
       "    </tr>\n",
       "    <tr>\n",
       "      <th>2</th>\n",
       "      <td>18.0</td>\n",
       "      <td>8</td>\n",
       "      <td>318.0</td>\n",
       "      <td>150</td>\n",
       "      <td>3436</td>\n",
       "      <td>11.0</td>\n",
       "      <td>70</td>\n",
       "      <td>1</td>\n",
       "      <td>plymouth satellite</td>\n",
       "    </tr>\n",
       "    <tr>\n",
       "      <th>3</th>\n",
       "      <td>16.0</td>\n",
       "      <td>8</td>\n",
       "      <td>304.0</td>\n",
       "      <td>150</td>\n",
       "      <td>3433</td>\n",
       "      <td>12.0</td>\n",
       "      <td>70</td>\n",
       "      <td>1</td>\n",
       "      <td>amc rebel sst</td>\n",
       "    </tr>\n",
       "    <tr>\n",
       "      <th>4</th>\n",
       "      <td>17.0</td>\n",
       "      <td>8</td>\n",
       "      <td>302.0</td>\n",
       "      <td>140</td>\n",
       "      <td>3449</td>\n",
       "      <td>10.5</td>\n",
       "      <td>70</td>\n",
       "      <td>1</td>\n",
       "      <td>ford torino</td>\n",
       "    </tr>\n",
       "  </tbody>\n",
       "</table>\n",
       "</div>"
      ],
      "text/plain": [
       "    mpg  cylinders  displacement horsepower  weight  acceleration  year  \\\n",
       "0  18.0          8         307.0        130    3504          12.0    70   \n",
       "1  15.0          8         350.0        165    3693          11.5    70   \n",
       "2  18.0          8         318.0        150    3436          11.0    70   \n",
       "3  16.0          8         304.0        150    3433          12.0    70   \n",
       "4  17.0          8         302.0        140    3449          10.5    70   \n",
       "\n",
       "   origin                       name  \n",
       "0       1  chevrolet chevelle malibu  \n",
       "1       1          buick skylark 320  \n",
       "2       1         plymouth satellite  \n",
       "3       1              amc rebel sst  \n",
       "4       1                ford torino  "
      ]
     },
     "execution_count": 2,
     "metadata": {},
     "output_type": "execute_result"
    },
    {
     "data": {
      "text/plain": [
       "(397, 9)"
      ]
     },
     "execution_count": 2,
     "metadata": {},
     "output_type": "execute_result"
    },
    {
     "data": {
      "text/plain": [
       "mpg             float64\n",
       "cylinders         int64\n",
       "displacement    float64\n",
       "horsepower       object\n",
       "weight            int64\n",
       "acceleration    float64\n",
       "year              int64\n",
       "origin            int64\n",
       "name             object\n",
       "dtype: object"
      ]
     },
     "execution_count": 2,
     "metadata": {},
     "output_type": "execute_result"
    }
   ],
   "source": [
    "df = pd.read_csv(\"Auto.csv\")\n",
    "df.head()\n",
    "df.shape\n",
    "df.dtypes"
   ]
  },
  {
   "cell_type": "markdown",
   "metadata": {},
   "source": [
    "<p>We see that most of the columns have the expected data type, except for the column associated with $\\mathrm{horsepower}$. (Note that the dtype <code>object</code>  can contain the <code>str</code> Python type or multiple different Python types.) To further investigate why it has the dtype <code>object</code>, we use the <code>unique()</code> method to show the unique values in the $\\mathrm{horsepower}$ column (and we also sort the returned <code>np.ndarray</code> using the <code>np.sort()</code> method for convenience).</p>"
   ]
  },
  {
   "cell_type": "code",
   "execution_count": 3,
   "metadata": {},
   "outputs": [
    {
     "data": {
      "text/plain": [
       "array(['100', '102', '103', '105', '107', '108', '110', '112', '113',\n",
       "       '115', '116', '120', '122', '125', '129', '130', '132', '133',\n",
       "       '135', '137', '138', '139', '140', '142', '145', '148', '149',\n",
       "       '150', '152', '153', '155', '158', '160', '165', '167', '170',\n",
       "       '175', '180', '190', '193', '198', '200', '208', '210', '215',\n",
       "       '220', '225', '230', '46', '48', '49', '52', '53', '54', '58',\n",
       "       '60', '61', '62', '63', '64', '65', '66', '67', '68', '69', '70',\n",
       "       '71', '72', '74', '75', '76', '77', '78', '79', '80', '81', '82',\n",
       "       '83', '84', '85', '86', '87', '88', '89', '90', '91', '92', '93',\n",
       "       '94', '95', '96', '97', '98', '?'], dtype=object)"
      ]
     },
     "execution_count": 3,
     "metadata": {},
     "output_type": "execute_result"
    }
   ],
   "source": [
    "np.sort(df['horsepower'].unique())"
   ]
  },
  {
   "cell_type": "markdown",
   "metadata": {},
   "source": [
    "<p>A careful examination shows that at least one the elements in the $\\mathrm{horsepower}$ column stores a <code>'?'</code> string. These question marks indicate missing values, and to see how many total missing values there are we use <a href=\"https://pandas.pydata.org/pandas-docs/stable/user_guide/indexing.html#boolean-indexing\">boolean indexing</a> and the <code>shape</code> attribute.\n",
    "</p>"
   ]
  },
  {
   "cell_type": "code",
   "execution_count": 4,
   "metadata": {},
   "outputs": [
    {
     "data": {
      "text/plain": [
       "32     ?\n",
       "126    ?\n",
       "330    ?\n",
       "336    ?\n",
       "354    ?\n",
       "Name: horsepower, dtype: object"
      ]
     },
     "execution_count": 4,
     "metadata": {},
     "output_type": "execute_result"
    },
    {
     "data": {
      "text/plain": [
       "(5,)"
      ]
     },
     "execution_count": 4,
     "metadata": {},
     "output_type": "execute_result"
    },
    {
     "data": {
      "text/plain": [
       "(397,)"
      ]
     },
     "execution_count": 4,
     "metadata": {},
     "output_type": "execute_result"
    }
   ],
   "source": [
    "df['horsepower'][df['horsepower'] == '?']\n",
    "df['horsepower'][df['horsepower'] == '?'].shape\n",
    "df['horsepower'].shape"
   ]
  },
  {
   "cell_type": "markdown",
   "metadata": {},
   "source": [
    "<p>This shows that there are $5$ missing values in total that seem pretty randomly distributed accross the $397$ total rows. We can deal with these missing values by converting the type of the $\\mathrm{horsepower}$ column from <code>object</code> to a <code>numeric</code> type by using the <code>to_numeric()</code> method. Setting the <code>errors</code> argument to <code>'coerce'</code> ensures that when pandas encounters invalid parsing, the associated value will be set as <code>NaN</code>. In other words, by <i>coercing</i> the conversion of the $\\mathrm{horsepower}$ column to a <code>numeric</code> type, the <code>'?'</code> values get converted to <code>NaN</code> values. Finally, we alse use the <code>set_index()</code> method to set the DataFrame index using the $\\mathrm{name}$ column.</p>"
   ]
  },
  {
   "cell_type": "code",
   "execution_count": 5,
   "metadata": {},
   "outputs": [
    {
     "data": {
      "text/plain": [
       "dtype('float64')"
      ]
     },
     "execution_count": 5,
     "metadata": {},
     "output_type": "execute_result"
    },
    {
     "data": {
      "text/plain": [
       "array([ 46.,  48.,  49.,  52.,  53.,  54.,  58.,  60.,  61.,  62.,  63.,\n",
       "        64.,  65.,  66.,  67.,  68.,  69.,  70.,  71.,  72.,  74.,  75.,\n",
       "        76.,  77.,  78.,  79.,  80.,  81.,  82.,  83.,  84.,  85.,  86.,\n",
       "        87.,  88.,  89.,  90.,  91.,  92.,  93.,  94.,  95.,  96.,  97.,\n",
       "        98., 100., 102., 103., 105., 107., 108., 110., 112., 113., 115.,\n",
       "       116., 120., 122., 125., 129., 130., 132., 133., 135., 137., 138.,\n",
       "       139., 140., 142., 145., 148., 149., 150., 152., 153., 155., 158.,\n",
       "       160., 165., 167., 170., 175., 180., 190., 193., 198., 200., 208.,\n",
       "       210., 215., 220., 225., 230.,  nan])"
      ]
     },
     "execution_count": 5,
     "metadata": {},
     "output_type": "execute_result"
    },
    {
     "data": {
      "text/html": [
       "<div>\n",
       "<style scoped>\n",
       "    .dataframe tbody tr th:only-of-type {\n",
       "        vertical-align: middle;\n",
       "    }\n",
       "\n",
       "    .dataframe tbody tr th {\n",
       "        vertical-align: top;\n",
       "    }\n",
       "\n",
       "    .dataframe thead th {\n",
       "        text-align: right;\n",
       "    }\n",
       "</style>\n",
       "<table border=\"1\" class=\"dataframe\">\n",
       "  <thead>\n",
       "    <tr style=\"text-align: right;\">\n",
       "      <th></th>\n",
       "      <th>mpg</th>\n",
       "      <th>cylinders</th>\n",
       "      <th>displacement</th>\n",
       "      <th>horsepower</th>\n",
       "      <th>weight</th>\n",
       "      <th>acceleration</th>\n",
       "      <th>year</th>\n",
       "      <th>origin</th>\n",
       "    </tr>\n",
       "    <tr>\n",
       "      <th>name</th>\n",
       "      <th></th>\n",
       "      <th></th>\n",
       "      <th></th>\n",
       "      <th></th>\n",
       "      <th></th>\n",
       "      <th></th>\n",
       "      <th></th>\n",
       "      <th></th>\n",
       "    </tr>\n",
       "  </thead>\n",
       "  <tbody>\n",
       "    <tr>\n",
       "      <th>chevrolet chevelle malibu</th>\n",
       "      <td>18.0</td>\n",
       "      <td>8</td>\n",
       "      <td>307.0</td>\n",
       "      <td>130.0</td>\n",
       "      <td>3504</td>\n",
       "      <td>12.0</td>\n",
       "      <td>70</td>\n",
       "      <td>1</td>\n",
       "    </tr>\n",
       "    <tr>\n",
       "      <th>buick skylark 320</th>\n",
       "      <td>15.0</td>\n",
       "      <td>8</td>\n",
       "      <td>350.0</td>\n",
       "      <td>165.0</td>\n",
       "      <td>3693</td>\n",
       "      <td>11.5</td>\n",
       "      <td>70</td>\n",
       "      <td>1</td>\n",
       "    </tr>\n",
       "    <tr>\n",
       "      <th>plymouth satellite</th>\n",
       "      <td>18.0</td>\n",
       "      <td>8</td>\n",
       "      <td>318.0</td>\n",
       "      <td>150.0</td>\n",
       "      <td>3436</td>\n",
       "      <td>11.0</td>\n",
       "      <td>70</td>\n",
       "      <td>1</td>\n",
       "    </tr>\n",
       "    <tr>\n",
       "      <th>amc rebel sst</th>\n",
       "      <td>16.0</td>\n",
       "      <td>8</td>\n",
       "      <td>304.0</td>\n",
       "      <td>150.0</td>\n",
       "      <td>3433</td>\n",
       "      <td>12.0</td>\n",
       "      <td>70</td>\n",
       "      <td>1</td>\n",
       "    </tr>\n",
       "    <tr>\n",
       "      <th>ford torino</th>\n",
       "      <td>17.0</td>\n",
       "      <td>8</td>\n",
       "      <td>302.0</td>\n",
       "      <td>140.0</td>\n",
       "      <td>3449</td>\n",
       "      <td>10.5</td>\n",
       "      <td>70</td>\n",
       "      <td>1</td>\n",
       "    </tr>\n",
       "  </tbody>\n",
       "</table>\n",
       "</div>"
      ],
      "text/plain": [
       "                            mpg  cylinders  displacement  horsepower  weight  \\\n",
       "name                                                                           \n",
       "chevrolet chevelle malibu  18.0          8         307.0       130.0    3504   \n",
       "buick skylark 320          15.0          8         350.0       165.0    3693   \n",
       "plymouth satellite         18.0          8         318.0       150.0    3436   \n",
       "amc rebel sst              16.0          8         304.0       150.0    3433   \n",
       "ford torino                17.0          8         302.0       140.0    3449   \n",
       "\n",
       "                           acceleration  year  origin  \n",
       "name                                                   \n",
       "chevrolet chevelle malibu          12.0    70       1  \n",
       "buick skylark 320                  11.5    70       1  \n",
       "plymouth satellite                 11.0    70       1  \n",
       "amc rebel sst                      12.0    70       1  \n",
       "ford torino                        10.5    70       1  "
      ]
     },
     "execution_count": 5,
     "metadata": {},
     "output_type": "execute_result"
    }
   ],
   "source": [
    "df['horsepower'] = pd.to_numeric(df['horsepower'], errors='coerce')\n",
    "df['horsepower'].dtype\n",
    "np.sort(df['horsepower'].unique())\n",
    "df = df.set_index('name')\n",
    "df.head()"
   ]
  },
  {
   "cell_type": "markdown",
   "metadata": {},
   "source": [
    "<p>Now that we have cleaned our DataFrame a little bit, we would like to organize our DataFrame into two groups defined by whether the variable is <i>quantitative</i> or <i>categorical</i>. We can achieve this by <a href=\"https://pandas.pydata.org/pandas-docs/stable/user_guide/advanced.html#hierarchical-indexing-multiindex\">hierarchical indexing</a>, which incorporates <i>multiple-index levels</i> within a single index or column.</p>"
   ]
  },
  {
   "cell_type": "code",
   "execution_count": 6,
   "metadata": {},
   "outputs": [
    {
     "data": {
      "text/html": [
       "<div>\n",
       "<style scoped>\n",
       "    .dataframe tbody tr th:only-of-type {\n",
       "        vertical-align: middle;\n",
       "    }\n",
       "\n",
       "    .dataframe tbody tr th {\n",
       "        vertical-align: top;\n",
       "    }\n",
       "\n",
       "    .dataframe thead tr th {\n",
       "        text-align: left;\n",
       "    }\n",
       "\n",
       "    .dataframe thead tr:last-of-type th {\n",
       "        text-align: right;\n",
       "    }\n",
       "</style>\n",
       "<table border=\"1\" class=\"dataframe\">\n",
       "  <thead>\n",
       "    <tr>\n",
       "      <th>type of variable</th>\n",
       "      <th colspan=\"2\" halign=\"left\">categorical</th>\n",
       "      <th colspan=\"6\" halign=\"left\">quantitative</th>\n",
       "    </tr>\n",
       "    <tr>\n",
       "      <th>variable</th>\n",
       "      <th>origin</th>\n",
       "      <th>year</th>\n",
       "      <th>acceleration</th>\n",
       "      <th>cylinders</th>\n",
       "      <th>displacement</th>\n",
       "      <th>horsepower</th>\n",
       "      <th>mpg</th>\n",
       "      <th>weight</th>\n",
       "    </tr>\n",
       "    <tr>\n",
       "      <th>name</th>\n",
       "      <th></th>\n",
       "      <th></th>\n",
       "      <th></th>\n",
       "      <th></th>\n",
       "      <th></th>\n",
       "      <th></th>\n",
       "      <th></th>\n",
       "      <th></th>\n",
       "    </tr>\n",
       "  </thead>\n",
       "  <tbody>\n",
       "    <tr>\n",
       "      <th>chevrolet chevelle malibu</th>\n",
       "      <td>1</td>\n",
       "      <td>70</td>\n",
       "      <td>12.0</td>\n",
       "      <td>8</td>\n",
       "      <td>307.0</td>\n",
       "      <td>130.0</td>\n",
       "      <td>18.0</td>\n",
       "      <td>3504</td>\n",
       "    </tr>\n",
       "    <tr>\n",
       "      <th>buick skylark 320</th>\n",
       "      <td>1</td>\n",
       "      <td>70</td>\n",
       "      <td>11.5</td>\n",
       "      <td>8</td>\n",
       "      <td>350.0</td>\n",
       "      <td>165.0</td>\n",
       "      <td>15.0</td>\n",
       "      <td>3693</td>\n",
       "    </tr>\n",
       "    <tr>\n",
       "      <th>plymouth satellite</th>\n",
       "      <td>1</td>\n",
       "      <td>70</td>\n",
       "      <td>11.0</td>\n",
       "      <td>8</td>\n",
       "      <td>318.0</td>\n",
       "      <td>150.0</td>\n",
       "      <td>18.0</td>\n",
       "      <td>3436</td>\n",
       "    </tr>\n",
       "    <tr>\n",
       "      <th>amc rebel sst</th>\n",
       "      <td>1</td>\n",
       "      <td>70</td>\n",
       "      <td>12.0</td>\n",
       "      <td>8</td>\n",
       "      <td>304.0</td>\n",
       "      <td>150.0</td>\n",
       "      <td>16.0</td>\n",
       "      <td>3433</td>\n",
       "    </tr>\n",
       "    <tr>\n",
       "      <th>ford torino</th>\n",
       "      <td>1</td>\n",
       "      <td>70</td>\n",
       "      <td>10.5</td>\n",
       "      <td>8</td>\n",
       "      <td>302.0</td>\n",
       "      <td>140.0</td>\n",
       "      <td>17.0</td>\n",
       "      <td>3449</td>\n",
       "    </tr>\n",
       "  </tbody>\n",
       "</table>\n",
       "</div>"
      ],
      "text/plain": [
       "type of variable          categorical      quantitative            \\\n",
       "variable                       origin year acceleration cylinders   \n",
       "name                                                                \n",
       "chevrolet chevelle malibu           1   70         12.0         8   \n",
       "buick skylark 320                   1   70         11.5         8   \n",
       "plymouth satellite                  1   70         11.0         8   \n",
       "amc rebel sst                       1   70         12.0         8   \n",
       "ford torino                         1   70         10.5         8   \n",
       "\n",
       "type of variable                                                \n",
       "variable                  displacement horsepower   mpg weight  \n",
       "name                                                            \n",
       "chevrolet chevelle malibu        307.0      130.0  18.0   3504  \n",
       "buick skylark 320                350.0      165.0  15.0   3693  \n",
       "plymouth satellite               318.0      150.0  18.0   3436  \n",
       "amc rebel sst                    304.0      150.0  16.0   3433  \n",
       "ford torino                      302.0      140.0  17.0   3449  "
      ]
     },
     "execution_count": 6,
     "metadata": {},
     "output_type": "execute_result"
    }
   ],
   "source": [
    "df.columns = pd.MultiIndex.from_tuples([('quantitative', 'mpg'), ('quantitative', 'cylinders'), \n",
    "                          ('quantitative', 'displacement'), ('quantitative', 'horsepower'),\n",
    "                         ('quantitative', 'weight'), ('quantitative', 'acceleration'),\n",
    "                         ('categorical', 'year'), ('categorical', 'origin')],\n",
    "                        names=['type of variable', 'variable'])\n",
    "df.sort_index(axis=1, level='type of variable', inplace=True)\n",
    "df.head()"
   ]
  },
  {
   "cell_type": "markdown",
   "metadata": {},
   "source": [
    "<p>We are now in the position to use our own <code>createDataQualityReports</code> function to create a data quality report for both the categorical and the quantitative variables.</p>"
   ]
  },
  {
   "cell_type": "code",
   "execution_count": 7,
   "metadata": {},
   "outputs": [
    {
     "data": {
      "text/plain": [
       "'Quantitative Qualilty Report:'"
      ]
     },
     "execution_count": 7,
     "metadata": {},
     "output_type": "execute_result"
    },
    {
     "data": {
      "text/html": [
       "<div>\n",
       "<style scoped>\n",
       "    .dataframe tbody tr th:only-of-type {\n",
       "        vertical-align: middle;\n",
       "    }\n",
       "\n",
       "    .dataframe tbody tr th {\n",
       "        vertical-align: top;\n",
       "    }\n",
       "\n",
       "    .dataframe thead th {\n",
       "        text-align: right;\n",
       "    }\n",
       "</style>\n",
       "<table border=\"1\" class=\"dataframe\">\n",
       "  <thead>\n",
       "    <tr style=\"text-align: right;\">\n",
       "      <th></th>\n",
       "      <th>Count</th>\n",
       "      <th>Miss. (%)</th>\n",
       "      <th>Card.</th>\n",
       "      <th>Min.</th>\n",
       "      <th>1st Qrt.</th>\n",
       "      <th>Mean</th>\n",
       "      <th>Median</th>\n",
       "      <th>3rd Qrt.</th>\n",
       "      <th>Max.</th>\n",
       "      <th>Std. Dev.</th>\n",
       "    </tr>\n",
       "    <tr>\n",
       "      <th>variable</th>\n",
       "      <th></th>\n",
       "      <th></th>\n",
       "      <th></th>\n",
       "      <th></th>\n",
       "      <th></th>\n",
       "      <th></th>\n",
       "      <th></th>\n",
       "      <th></th>\n",
       "      <th></th>\n",
       "      <th></th>\n",
       "    </tr>\n",
       "  </thead>\n",
       "  <tbody>\n",
       "    <tr>\n",
       "      <th>acceleration</th>\n",
       "      <td>397</td>\n",
       "      <td>0.00</td>\n",
       "      <td>95</td>\n",
       "      <td>8.0</td>\n",
       "      <td>13.8</td>\n",
       "      <td>15.56</td>\n",
       "      <td>15.5</td>\n",
       "      <td>17.1</td>\n",
       "      <td>24.8</td>\n",
       "      <td>2.75</td>\n",
       "    </tr>\n",
       "    <tr>\n",
       "      <th>cylinders</th>\n",
       "      <td>397</td>\n",
       "      <td>0.00</td>\n",
       "      <td>5</td>\n",
       "      <td>3.0</td>\n",
       "      <td>4.0</td>\n",
       "      <td>5.46</td>\n",
       "      <td>4.0</td>\n",
       "      <td>8.0</td>\n",
       "      <td>8.0</td>\n",
       "      <td>1.70</td>\n",
       "    </tr>\n",
       "    <tr>\n",
       "      <th>displacement</th>\n",
       "      <td>397</td>\n",
       "      <td>0.00</td>\n",
       "      <td>82</td>\n",
       "      <td>68.0</td>\n",
       "      <td>104.0</td>\n",
       "      <td>193.53</td>\n",
       "      <td>146.0</td>\n",
       "      <td>262.0</td>\n",
       "      <td>455.0</td>\n",
       "      <td>104.38</td>\n",
       "    </tr>\n",
       "    <tr>\n",
       "      <th>horsepower</th>\n",
       "      <td>397</td>\n",
       "      <td>1.26</td>\n",
       "      <td>93</td>\n",
       "      <td>46.0</td>\n",
       "      <td>75.0</td>\n",
       "      <td>104.47</td>\n",
       "      <td>93.5</td>\n",
       "      <td>126.0</td>\n",
       "      <td>230.0</td>\n",
       "      <td>38.49</td>\n",
       "    </tr>\n",
       "    <tr>\n",
       "      <th>mpg</th>\n",
       "      <td>397</td>\n",
       "      <td>0.00</td>\n",
       "      <td>129</td>\n",
       "      <td>9.0</td>\n",
       "      <td>17.5</td>\n",
       "      <td>23.52</td>\n",
       "      <td>23.0</td>\n",
       "      <td>29.0</td>\n",
       "      <td>46.6</td>\n",
       "      <td>7.83</td>\n",
       "    </tr>\n",
       "    <tr>\n",
       "      <th>weight</th>\n",
       "      <td>397</td>\n",
       "      <td>0.00</td>\n",
       "      <td>350</td>\n",
       "      <td>1613.0</td>\n",
       "      <td>2223.0</td>\n",
       "      <td>2970.26</td>\n",
       "      <td>2800.0</td>\n",
       "      <td>3609.0</td>\n",
       "      <td>5140.0</td>\n",
       "      <td>847.90</td>\n",
       "    </tr>\n",
       "  </tbody>\n",
       "</table>\n",
       "</div>"
      ],
      "text/plain": [
       "              Count  Miss. (%)  Card.    Min.  1st Qrt.     Mean  Median  \\\n",
       "variable                                                                   \n",
       "acceleration    397       0.00     95     8.0      13.8    15.56    15.5   \n",
       "cylinders       397       0.00      5     3.0       4.0     5.46     4.0   \n",
       "displacement    397       0.00     82    68.0     104.0   193.53   146.0   \n",
       "horsepower      397       1.26     93    46.0      75.0   104.47    93.5   \n",
       "mpg             397       0.00    129     9.0      17.5    23.52    23.0   \n",
       "weight          397       0.00    350  1613.0    2223.0  2970.26  2800.0   \n",
       "\n",
       "              3rd Qrt.    Max.  Std. Dev.  \n",
       "variable                                   \n",
       "acceleration      17.1    24.8       2.75  \n",
       "cylinders          8.0     8.0       1.70  \n",
       "displacement     262.0   455.0     104.38  \n",
       "horsepower       126.0   230.0      38.49  \n",
       "mpg               29.0    46.6       7.83  \n",
       "weight          3609.0  5140.0     847.90  "
      ]
     },
     "execution_count": 7,
     "metadata": {},
     "output_type": "execute_result"
    },
    {
     "data": {
      "text/plain": [
       "'Categorical Qualilty Report:'"
      ]
     },
     "execution_count": 7,
     "metadata": {},
     "output_type": "execute_result"
    },
    {
     "data": {
      "text/html": [
       "<div>\n",
       "<style scoped>\n",
       "    .dataframe tbody tr th:only-of-type {\n",
       "        vertical-align: middle;\n",
       "    }\n",
       "\n",
       "    .dataframe tbody tr th {\n",
       "        vertical-align: top;\n",
       "    }\n",
       "\n",
       "    .dataframe thead th {\n",
       "        text-align: right;\n",
       "    }\n",
       "</style>\n",
       "<table border=\"1\" class=\"dataframe\">\n",
       "  <thead>\n",
       "    <tr style=\"text-align: right;\">\n",
       "      <th></th>\n",
       "      <th>Count</th>\n",
       "      <th>Miss. (%)</th>\n",
       "      <th>Card.</th>\n",
       "      <th>Mode</th>\n",
       "      <th>Mode Freq.</th>\n",
       "      <th>Mode (%)</th>\n",
       "      <th>2nd Mode</th>\n",
       "      <th>2nd Mode Freq.</th>\n",
       "      <th>2nd Mode (%)</th>\n",
       "    </tr>\n",
       "    <tr>\n",
       "      <th>variable</th>\n",
       "      <th></th>\n",
       "      <th></th>\n",
       "      <th></th>\n",
       "      <th></th>\n",
       "      <th></th>\n",
       "      <th></th>\n",
       "      <th></th>\n",
       "      <th></th>\n",
       "      <th></th>\n",
       "    </tr>\n",
       "  </thead>\n",
       "  <tbody>\n",
       "    <tr>\n",
       "      <th>origin</th>\n",
       "      <td>397</td>\n",
       "      <td>0.0</td>\n",
       "      <td>3</td>\n",
       "      <td>1</td>\n",
       "      <td>248</td>\n",
       "      <td>62.47</td>\n",
       "      <td>3</td>\n",
       "      <td>79</td>\n",
       "      <td>19.90</td>\n",
       "    </tr>\n",
       "    <tr>\n",
       "      <th>year</th>\n",
       "      <td>397</td>\n",
       "      <td>0.0</td>\n",
       "      <td>13</td>\n",
       "      <td>73</td>\n",
       "      <td>40</td>\n",
       "      <td>10.08</td>\n",
       "      <td>78</td>\n",
       "      <td>36</td>\n",
       "      <td>9.07</td>\n",
       "    </tr>\n",
       "  </tbody>\n",
       "</table>\n",
       "</div>"
      ],
      "text/plain": [
       "          Count  Miss. (%)  Card.  Mode  Mode Freq.  Mode (%)  2nd Mode  \\\n",
       "variable                                                                  \n",
       "origin      397        0.0      3     1         248     62.47         3   \n",
       "year        397        0.0     13    73          40     10.08        78   \n",
       "\n",
       "          2nd Mode Freq.  2nd Mode (%)  \n",
       "variable                                \n",
       "origin                79         19.90  \n",
       "year                  36          9.07  "
      ]
     },
     "execution_count": 7,
     "metadata": {},
     "output_type": "execute_result"
    }
   ],
   "source": [
    "df_qr_quantitative, df_qr_categorical = createDataQualityReports(df)\n",
    "df_qr_quantitative.name + ':'\n",
    "df_qr_quantitative.round(2)\n",
    "df_qr_categorical.name + ':'\n",
    "df_qr_categorical.round(2)\n"
   ]
  },
  {
   "cell_type": "markdown",
   "metadata": {},
   "source": [
    "<p>To further gain insight into the data, we use the <code>plotQuantitativeVariables</code> and <code>plotCategoricalVariables</code> function the produce the frequency plots for each quantitative and categorical variable.</p>"
   ]
  },
  {
   "cell_type": "code",
   "execution_count": 8,
   "metadata": {
    "scrolled": false
   },
   "outputs": [
    {
     "data": {
      "image/png": "[encoded data removed]",
      "text/plain": [
       "<Figure size 504x1296 with 6 Axes>"
      ]
     },
     "metadata": {
      "needs_background": "light"
     },
     "output_type": "display_data"
    }
   ],
   "source": [
    "plotQuantitativeVariables(df, height=3, width=7)\n"
   ]
  },
  {
   "cell_type": "code",
   "execution_count": 9,
   "metadata": {},
   "outputs": [
    {
     "data": {
      "image/png": "[encoded data removed]",
      "text/plain": [
       "<Figure size 504x432 with 2 Axes>"
      ]
     },
     "metadata": {
      "needs_background": "light"
     },
     "output_type": "display_data"
    }
   ],
   "source": [
    "plotCategoricalVariables(df, height=3, width=7)"
   ]
  },
  {
   "cell_type": "code",
   "execution_count": null,
   "metadata": {},
   "outputs": [],
   "source": []
  }
 ],
 "metadata": {
  "kernelspec": {
   "display_name": "Python 3",
   "language": "python",
   "name": "python3"
  },
  "language_info": {
   "codemirror_mode": {
    "name": "ipython",
    "version": 3
   },
   "file_extension": ".py",
   "mimetype": "text/x-python",
   "name": "python",
   "nbconvert_exporter": "python",
   "pygments_lexer": "ipython3",
   "version": "3.7.5"
  }
 },
 "nbformat": 4,
 "nbformat_minor": 2
}
